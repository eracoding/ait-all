{
 "cells": [
  {
   "attachments": {},
   "cell_type": "markdown",
   "metadata": {},
   "source": [
    "## Mini-Batch Gradient Descent\n",
    "\n",
    "Recall **batch gradient descent** formula as follows:\n",
    "\n",
    "$$\\theta_j := \\theta_j - \\alpha * \\sum_{i=1}^m(h_\\theta(x^{(i)}) - y^{(i)})x_j^{(i)} \\tag{for every $j$}$$  \n",
    "\n",
    "While it is perfect, estimating the gradient using **all samples** can be slow.  Instead we can use **mini-batch**\n",
    "\n",
    "$$\\frac{\\partial J}{\\partial \\theta_j} = \\sum_{i=start}^{batch}(h^{(i)}-y^{(i)})x_j$$\n",
    "\n",
    "$$\\theta_j := \\theta_j - \\alpha * \\sum_{i=start}^{batchsize}(h_\\theta(x^{(i)}) - y^{(i)})x_j^{(i)} \\tag{for every $j$}$$"
   ]
  },
  {
   "cell_type": "markdown",
   "metadata": {},
   "source": [
    "## Previous code"
   ]
  },
  {
   "cell_type": "code",
   "execution_count": 1,
   "metadata": {},
   "outputs": [
    {
     "name": "stdout",
     "output_type": "stream",
     "text": [
      "Features:  ['age', 'sex', 'bmi', 'bp', 's1', 's2', 's3', 's4', 's5', 's6']\n"
     ]
    }
   ],
   "source": [
    "from sklearn.datasets import load_diabetes\n",
    "from sklearn.preprocessing import StandardScaler\n",
    "from sklearn.model_selection import train_test_split\n",
    "import numpy as np\n",
    "from time import time\n",
    "\n",
    "diabetes = load_diabetes()\n",
    "print(\"Features: \", diabetes.feature_names)\n",
    "X = diabetes.data\n",
    "y = diabetes.target\n",
    "m = X.shape[0]  #number of samples\n",
    "n = X.shape[1]  #number of features\n",
    "\n",
    "#polynomial transformation\n",
    "# X   = PolynomialFeatures(degree = 3, include_bias=False).fit_transform(X)\n",
    "\n",
    "X_train, X_test, y_train, y_test = train_test_split(X, y, test_size = 0.3)\n",
    "\n",
    "scaler = StandardScaler()\n",
    "X_train = scaler.fit_transform(X_train)\n",
    "X_test  = scaler.transform(X_test)\n",
    "\n",
    "# actually you can do like this too\n",
    "# X = np.insert(X, 0, 1, axis=1)\n",
    "intercept = np.ones((X_train.shape[0], 1))\n",
    "X_train   = np.concatenate((intercept, X_train), axis=1)\n",
    "intercept = np.ones((X_test.shape[0], 1))\n",
    "X_test    = np.concatenate((intercept, X_test), axis=1)"
   ]
  },
  {
   "cell_type": "markdown",
   "metadata": {},
   "source": [
    "## Extras:\n",
    "\n",
    "- Class\n",
    "- Early stopping\n",
    "- Cross validation\n",
    "- Epoch - one epoch refers to a training and validation process with all the training data with one model."
   ]
  },
  {
   "cell_type": "markdown",
   "metadata": {},
   "source": [
    "## Let's start"
   ]
  },
  {
   "cell_type": "code",
   "execution_count": 19,
   "metadata": {},
   "outputs": [],
   "source": [
    "from sklearn.model_selection import KFold\n",
    "\n",
    "#Class\n",
    "class LinearRegression(object):\n",
    "    \n",
    "    kfold = KFold(n_splits=5)\n",
    "\n",
    "    #init\n",
    "    def __init__(self, lr=0.001, num_epochs=500, bs = 50, method='batch', cv=kfold):\n",
    "        self.lr         = lr\n",
    "        self.num_epochs = num_epochs\n",
    "        self.bs         = bs\n",
    "        self.method     = method\n",
    "        self.cv         = cv\n",
    "    \n",
    "    #mse\n",
    "    def mse(self, ytrue, ypred):\n",
    "        #ytrue shape:  (m, )  ==> m = number of samples\n",
    "        return ((ypred - ytrue) ** 2).sum() / ytrue.shape[0]\n",
    "    \n",
    "    #fit\n",
    "    def fit(self, X_train, y_train):\n",
    "        \n",
    "        #create a list for keeping kfold scores\n",
    "        self.kfold_scores = list()\n",
    "        \n",
    "        #variable to know our loss is not improving anymore\n",
    "        #if the new loss !< old loss,  we stop!  (0.01 -> tolerance - tol)\n",
    "        self.val_loss_old = np.infty\n",
    "        \n",
    "        #cross validation\n",
    "        for fold, (train_idx, val_idx) in enumerate(self.cv.split(X_train)):\n",
    "            \n",
    "            X_cross_train = X_train[train_idx]\n",
    "            y_cross_train = y_train[train_idx]\n",
    "            X_cross_val   = X_train[val_idx]\n",
    "            y_cross_val   = y_train[val_idx]\n",
    "            \n",
    "            self.theta = np.zeros(X_cross_train.shape[1])\n",
    "            \n",
    "            for epoch in range(self.num_epochs):\n",
    "                \n",
    "                #Shuffle the data a little so that order does not impact our model\n",
    "                perm = np.random.permutation(X_cross_train.shape[0]) #perm = [2 50 67 1 .... ]\n",
    "                \n",
    "                X_cross_train = X_cross_train[perm]\n",
    "                y_cross_train = y_cross_train[perm]\n",
    "                \n",
    "                if self.method == 'mini':\n",
    "                    for batch_idx in range(0, X_cross_train.shape[0], self.bs):\n",
    "                        X_method_train = X_cross_train[batch_idx:batch_idx+self.bs, :]\n",
    "                        y_method_train = y_cross_train[batch_idx:batch_idx+self.bs]\n",
    "                        train_loss = self._train(X_method_train, y_method_train)\n",
    "                else:\n",
    "                    X_method_train = X_cross_train\n",
    "                    y_method_train = y_cross_train\n",
    "                    train_loss = self._train(X_method_train, y_method_train)\n",
    "                    \n",
    "                yhat_val = self.predict(X_cross_val)\n",
    "                val_loss_new = self.mse(y_cross_val, yhat_val)\n",
    "                \n",
    "                #early stopping\n",
    "                if np.allclose(val_loss_new, self.val_loss_old):\n",
    "                    break\n",
    "                self.val_loss_old = val_loss_new\n",
    "                \n",
    "            self.kfold_scores.append(val_loss_new)\n",
    "            print(f\"Fold {fold}: {val_loss_new}\")\n",
    "        \n",
    "    \n",
    "    #train\n",
    "    def _train(self, X, y):\n",
    "        #X shape: (m, n)\n",
    "        #y shape: (m, )\n",
    "        #theta shape: (n, )\n",
    "        \n",
    "        #1. predict\n",
    "        yhat = self.predict(X)\n",
    "\n",
    "        #2. grad\n",
    "        m = X.shape[0]\n",
    "        grad = (1/m) * X.T @ (yhat - y)  # (n, m) @ (m, ) - (m, ) = (m, ) ===> (n, )\n",
    "                \n",
    "        #3. update\n",
    "        self.theta = self.theta - self.lr * grad\n",
    "        \n",
    "        #return\n",
    "        return self.mse(y, yhat)\n",
    "    \n",
    "    \n",
    "    #predict\n",
    "    def predict(self, X):\n",
    "        return X @ self.theta  #(m, n) @ (n, ) = (m, )  <===== y\n",
    "    \n",
    "    #get theta\n",
    "    def _coef(self):\n",
    "        return self.theta[1:]\n",
    "    \n",
    "    #get bias\n",
    "    def _bias(self):\n",
    "        return self.theta[0]"
   ]
  },
  {
   "cell_type": "markdown",
   "metadata": {},
   "source": [
    "## Testing"
   ]
  },
  {
   "cell_type": "code",
   "execution_count": 20,
   "metadata": {},
   "outputs": [],
   "source": [
    "#def __init__(self, lr=0.001, num_epochs=500, bs = 50, method='batch', cv=kfold):\n",
    "model = LinearRegression(method=\"mini\")"
   ]
  },
  {
   "cell_type": "code",
   "execution_count": 21,
   "metadata": {},
   "outputs": [
    {
     "name": "stdout",
     "output_type": "stream",
     "text": [
      "Fold 0: 3267.5006451756576\n",
      "Fold 1: 2996.5820136565644\n",
      "Fold 2: 3426.267245483871\n",
      "Fold 3: 3496.341573552392\n",
      "Fold 4: 3705.522536380533\n"
     ]
    }
   ],
   "source": [
    "model.fit(X_train, y_train)"
   ]
  },
  {
   "cell_type": "code",
   "execution_count": 22,
   "metadata": {},
   "outputs": [],
   "source": [
    "yhat = model.predict(X_test)"
   ]
  },
  {
   "cell_type": "code",
   "execution_count": 23,
   "metadata": {},
   "outputs": [],
   "source": [
    "mse = model.mse(yhat, y_test)"
   ]
  },
  {
   "cell_type": "code",
   "execution_count": 25,
   "metadata": {},
   "outputs": [
    {
     "name": "stdout",
     "output_type": "stream",
     "text": [
      "Test MSE: 3147.2398366221414\n"
     ]
    }
   ],
   "source": [
    "print(\"Test MSE:\", mse)"
   ]
  }
 ],
 "metadata": {
  "kernelspec": {
   "display_name": "Python 3.8.6 ('teaching_env')",
   "language": "python",
   "name": "python3"
  },
  "language_info": {
   "codemirror_mode": {
    "name": "ipython",
    "version": 3
   },
   "file_extension": ".py",
   "mimetype": "text/x-python",
   "name": "python",
   "nbconvert_exporter": "python",
   "pygments_lexer": "ipython3",
   "version": "3.11.2"
  },
  "vscode": {
   "interpreter": {
    "hash": "becc4c8e5ad229b2591d820334d85e3db0111492344629bf57f272470dce75a5"
   }
  }
 },
 "nbformat": 4,
 "nbformat_minor": 4
}
