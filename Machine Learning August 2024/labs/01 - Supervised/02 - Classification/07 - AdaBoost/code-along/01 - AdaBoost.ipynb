{
 "cells": [
  {
   "attachments": {},
   "cell_type": "markdown",
   "metadata": {},
   "source": [
    "# AdaBoost"
   ]
  },
  {
   "cell_type": "code",
   "execution_count": 1,
   "metadata": {},
   "outputs": [],
   "source": [
    "from sklearn.model_selection import train_test_split\n",
    "from sklearn.datasets import make_moons\n",
    "import numpy as np\n",
    "import matplotlib.pyplot as plt"
   ]
  },
  {
   "attachments": {},
   "cell_type": "markdown",
   "metadata": {},
   "source": [
    "<img src = \"../figures/ada2.png\" />\n",
    "\n",
    "## Hypothesis function\n",
    "\n",
    "$$\n",
    "\\begin{aligned}\n",
    "h(\\mathbf{x}^{(i)}) & = \\text{sign}\\big(\\alpha_1h_1(\\mathbf{x}^{(i)}) + \\alpha_2h_2(\\mathbf{x}^{(i)}) + \\cdots + \\alpha_sh_s(\\mathbf{x}^{(i)}) )\\big) \\\\\n",
    "& = \\text{sign}\\big(\\sum_{s=1}^{S}\\alpha_sh_s(\\mathbf{x}^{(i)})\\big)\n",
    "\\end{aligned}\n",
    "$$\n",
    "\n"
   ]
  },
  {
   "cell_type": "markdown",
   "metadata": {},
   "source": [
    "## Define what is a good classifier\n",
    "\n",
    "\n",
    "Our job is to find the optimal $\\alpha_s$, so we can know which classifier we should give more weightage (i.e., believe more).  To get this alpha, we should first define what is \"good\" classifier.  This is simple, since good classifier should simply has the minimum weighted errors as:\n",
    "\n",
    "$$\\epsilon_s = \\frac{\\sum_{i=1}^m w_s^{(i)}I(h_s(\\mathbf{x}^{(i)}) \\neq y^{(i)})}{\\sum_{i=1}^m w_s^{(i)}}$$\n",
    "\n",
    "where\n",
    "\n",
    "$$\\text{range}(\\epsilon_s) = [0, 1]$$\n",
    "\n",
    "in which the weights are initialized in the beginning as\n",
    "\n",
    "$$w_s^{(i)} = \\frac{1}{m}$$ \n",
    "\n",
    "where\n",
    "\n",
    "$$\\sum_{i=1}^m w_s^{(i)} = 1$$"
   ]
  },
  {
   "cell_type": "markdown",
   "metadata": {},
   "source": [
    "For example, given $h(\\mathbf{x})$ as <code>yhat</code> and <code>y</code> as the real y, we get:"
   ]
  },
  {
   "cell_type": "code",
   "execution_count": 3,
   "metadata": {},
   "outputs": [
    {
     "data": {
      "text/plain": [
       "2"
      ]
     },
     "execution_count": 3,
     "metadata": {},
     "output_type": "execute_result"
    }
   ],
   "source": [
    "yhat = np.array([-1, 1, -1, 1, 1])\n",
    "y    = np.array([1, 1, 1, 1 ,1])\n",
    "(yhat!=y).sum()"
   ]
  },
  {
   "cell_type": "markdown",
   "metadata": {},
   "source": [
    "We can calculate its weighted errors"
   ]
  },
  {
   "cell_type": "code",
   "execution_count": 4,
   "metadata": {},
   "outputs": [],
   "source": [
    "m = 5\n",
    "\n",
    "w = np.full(m, 1/m)"
   ]
  },
  {
   "cell_type": "code",
   "execution_count": 5,
   "metadata": {},
   "outputs": [
    {
     "data": {
      "text/plain": [
       "array([0.2, 0.2, 0.2, 0.2, 0.2])"
      ]
     },
     "execution_count": 5,
     "metadata": {},
     "output_type": "execute_result"
    }
   ],
   "source": [
    "w"
   ]
  },
  {
   "cell_type": "code",
   "execution_count": 6,
   "metadata": {},
   "outputs": [],
   "source": [
    "e = w[(yhat!=y)].sum() / sum(w)"
   ]
  },
  {
   "cell_type": "code",
   "execution_count": 7,
   "metadata": {},
   "outputs": [
    {
     "data": {
      "text/plain": [
       "0.4"
      ]
     },
     "execution_count": 7,
     "metadata": {},
     "output_type": "execute_result"
    }
   ],
   "source": [
    "e"
   ]
  },
  {
   "cell_type": "markdown",
   "metadata": {},
   "source": [
    "If we try to change our weight bigger for the first one, you will see that the final error is enlarged.  (Please don't mind why it became 0.7 or 0.05; this is just example.)"
   ]
  },
  {
   "cell_type": "markdown",
   "metadata": {},
   "source": [
    "## Updating the weights\n",
    "\n",
    "Our goal is that once we got the error, we need to emphasize the incorrectly classified sample, so the next classifier will focus on making them right.  Thus we need a weight update rule.  The formula is as follows:\n",
    "\n",
    "$$w_{s+1}^{(i)} = w_s^{(i)}e^{ -\\alpha_sh_s(\\mathbf{x^{(i)}}) y^{(i)}}$$\n",
    "\n",
    "which then need to renormalize \n",
    "\n",
    "$$w_{s+1}^{(i)} = \\frac{w_{s+1}^{(i)}}{{\\displaystyle\\sum_{i=1}^m w_{s+1}^{(i)}}} $$\n",
    "\n",
    "so that\n",
    "\n",
    "$$\\sum_{i=1}^m w_s^{(i)} = 1$$\n",
    "\n",
    "Here $\\alpha_s$ is:\n",
    "\n",
    "$$\\alpha_s = \\frac{1}{2}\\ln\\frac{1-\\epsilon_s}{\\epsilon_s}$$\n",
    "\n",
    "where \n",
    "\n",
    "$$\\text{range}(\\alpha_s) = (-\\infty, \\infty)$$\n",
    "\n",
    "\n",
    "## Relationship between alpha and errors\n",
    "\n",
    "Here, higher the error, lower is alpha, which means we don't trust that classifier.  And vice versa.   If e is close to 0 (the classifier performs well), alpha will be positive, indicating that the classifier's predictions should have more influence on the final ensemble. If e is close to 0.5 (the classifier performs worst than random guessing), alpha will be negative, indicating that the classifier's predictions should have less influence, and they will be \"flipped\" in the ensemble.   Of course, if e is 1, then we should NOT even use this classifier!!\n",
    "\n",
    "First, to see why this formula works, let's plot alpha against errors:"
   ]
  },
  {
   "cell_type": "code",
   "execution_count": 8,
   "metadata": {},
   "outputs": [
    {
     "data": {
      "text/plain": [
       "Text(0, 0.5, 'Alpha')"
      ]
     },
     "execution_count": 8,
     "metadata": {},
     "output_type": "execute_result"
    },
    {
     "data": {
      "image/png": "[encoded data removed]",
      "text/plain": [
       "<Figure size 640x480 with 1 Axes>"
      ]
     },
     "metadata": {},
     "output_type": "display_data"
    }
   ],
   "source": [
    "e = np.linspace(0, 0.99, 10000) #select only 0.99 not 1 because np.log(1-1=0) = inf\n",
    "e = e + 0.00001 #prevent divide by zero\n",
    "a_j = np.log ((1 - e) / e) * 0.5  #np.log is ln by default\n",
    "\n",
    "plt.plot(e, a_j)\n",
    "plt.xlabel(\"Error\")\n",
    "plt.ylabel(\"Alpha\")"
   ]
  },
  {
   "cell_type": "markdown",
   "metadata": {},
   "source": [
    "## How this weight update rule works?\n",
    "\n",
    "$$w_{s+1}^{(i)} = w_s^{(i)}e^{ -\\alpha_sh_s(\\mathbf{x^{(i)}}) y^{(i)}}$$\n",
    "\n",
    "Let's first find the alpha.  Recall that:\n",
    "\n",
    "$$\\alpha_s = \\frac{1}{2}\\ln\\frac{1-\\epsilon_s}{\\epsilon_s}$$\n",
    "\n",
    "where\n",
    "\n",
    "$$\\epsilon_s = \\frac{\\sum_{i=1}^m w_s^{(i)}I(h_s(\\mathbf{x}^{(i)}) \\neq y^{(i)})}{\\sum_{i=1}^m w_s^{(i)}}$$"
   ]
  },
  {
   "cell_type": "markdown",
   "metadata": {},
   "source": [
    "After we find the initial alpha, let's plug everthing into the weight update rule, starting from this component:\n",
    "\n",
    "$$h_s(\\mathbf{x^{(i)}}) y^{(i)} $$"
   ]
  },
  {
   "cell_type": "code",
   "execution_count": 9,
   "metadata": {},
   "outputs": [
    {
     "name": "stdout",
     "output_type": "stream",
     "text": [
      "[1 1 1 1 1] [-1  1 -1  1  1]\n"
     ]
    }
   ],
   "source": [
    "print(y, yhat)"
   ]
  },
  {
   "cell_type": "code",
   "execution_count": 11,
   "metadata": {},
   "outputs": [],
   "source": [
    "w = np.full(m, 1/m)"
   ]
  },
  {
   "cell_type": "code",
   "execution_count": 12,
   "metadata": {},
   "outputs": [
    {
     "data": {
      "text/plain": [
       "array([0.2, 0.2, 0.2, 0.2, 0.2])"
      ]
     },
     "execution_count": 12,
     "metadata": {},
     "output_type": "execute_result"
    }
   ],
   "source": [
    "w"
   ]
  },
  {
   "cell_type": "code",
   "execution_count": 13,
   "metadata": {},
   "outputs": [
    {
     "name": "stdout",
     "output_type": "stream",
     "text": [
      "0.4\n"
     ]
    }
   ],
   "source": [
    "e = w[(yhat!=y)].sum()/sum(w)\n",
    "print(e)"
   ]
  },
  {
   "cell_type": "code",
   "execution_count": 14,
   "metadata": {},
   "outputs": [
    {
     "name": "stdout",
     "output_type": "stream",
     "text": [
      "0.2027325540540821\n"
     ]
    }
   ],
   "source": [
    "a_j = np.log ((1 - e) / e) * 0.5\n",
    "print(a_j)"
   ]
  },
  {
   "cell_type": "code",
   "execution_count": 15,
   "metadata": {},
   "outputs": [
    {
     "data": {
      "text/plain": [
       "array([-1,  1, -1,  1,  1])"
      ]
     },
     "execution_count": 15,
     "metadata": {},
     "output_type": "execute_result"
    }
   ],
   "source": [
    "yhat * y"
   ]
  },
  {
   "cell_type": "markdown",
   "metadata": {},
   "source": [
    "Try to understand what multiplying actually means.  Notice that negative means the answer is wrong.\n",
    "\n",
    "We multiply negative alpha so that incorrectly classified sample will have bigger value.\n",
    "\n",
    "Why do we need to make the incorrectly classified sample have bigger value?  Well, because we want incorrectly classified sample to have bigger weight so the next classifier can focus on it.\n",
    "\n",
    "$$-\\alpha_sh_s(\\mathbf{x^{(i)}}) y^{(i)} $$"
   ]
  },
  {
   "cell_type": "code",
   "execution_count": 16,
   "metadata": {},
   "outputs": [
    {
     "data": {
      "text/plain": [
       "0.2027325540540821"
      ]
     },
     "execution_count": 16,
     "metadata": {},
     "output_type": "execute_result"
    }
   ],
   "source": [
    "a_j"
   ]
  },
  {
   "cell_type": "code",
   "execution_count": 17,
   "metadata": {},
   "outputs": [
    {
     "data": {
      "text/plain": [
       "array([ 0.20273255, -0.20273255,  0.20273255, -0.20273255, -0.20273255])"
      ]
     },
     "execution_count": 17,
     "metadata": {},
     "output_type": "execute_result"
    }
   ],
   "source": [
    "-a_j * (yhat * y)"
   ]
  },
  {
   "cell_type": "markdown",
   "metadata": {},
   "source": [
    "Next, since we will multiply this with the weight, we perform exp to make sure that the resulting number is positive."
   ]
  },
  {
   "cell_type": "markdown",
   "metadata": {},
   "source": [
    "$$e^{ -\\alpha_sh_s(\\mathbf{x^{(i)}}) y^{(i)}} $$"
   ]
  },
  {
   "cell_type": "code",
   "execution_count": 18,
   "metadata": {},
   "outputs": [
    {
     "data": {
      "text/plain": [
       "array([1.22474487, 0.81649658, 1.22474487, 0.81649658, 0.81649658])"
      ]
     },
     "execution_count": 18,
     "metadata": {},
     "output_type": "execute_result"
    }
   ],
   "source": [
    "np.exp(-a_j * yhat * y)  "
   ]
  },
  {
   "cell_type": "markdown",
   "metadata": {},
   "source": [
    "Last, we calculate everything.\n",
    "\n",
    "$$w_{s+1}^{(i)} = w_s^{(i)}e^{ -\\alpha_sh_s(\\mathbf{x^{(i)}}) y^{(i)}}$$\n",
    "\n",
    "which then need to renormalize \n",
    "\n",
    "$$w_{s+1}^{(i)} = \\frac{w_{s+1}^{(i)}}{{\\displaystyle\\sum_{i=1}^m w_{s+1}^{(i)}}} $$"
   ]
  },
  {
   "cell_type": "code",
   "execution_count": 19,
   "metadata": {},
   "outputs": [
    {
     "data": {
      "text/plain": [
       "array([0.2, 0.2, 0.2, 0.2, 0.2])"
      ]
     },
     "execution_count": 19,
     "metadata": {},
     "output_type": "execute_result"
    }
   ],
   "source": [
    "w"
   ]
  },
  {
   "cell_type": "code",
   "execution_count": 20,
   "metadata": {},
   "outputs": [
    {
     "data": {
      "text/plain": [
       "(array([-1,  1, -1,  1,  1]), array([1, 1, 1, 1, 1]))"
      ]
     },
     "execution_count": 20,
     "metadata": {},
     "output_type": "execute_result"
    }
   ],
   "source": [
    "yhat, y"
   ]
  },
  {
   "cell_type": "code",
   "execution_count": 21,
   "metadata": {},
   "outputs": [],
   "source": [
    "w = w * np.exp(-a_j * yhat * y)  "
   ]
  },
  {
   "cell_type": "code",
   "execution_count": 22,
   "metadata": {},
   "outputs": [
    {
     "data": {
      "text/plain": [
       "array([0.24494897, 0.16329932, 0.24494897, 0.16329932, 0.16329932])"
      ]
     },
     "execution_count": 22,
     "metadata": {},
     "output_type": "execute_result"
    }
   ],
   "source": [
    "w"
   ]
  },
  {
   "cell_type": "code",
   "execution_count": 23,
   "metadata": {},
   "outputs": [
    {
     "data": {
      "text/plain": [
       "array([0.25      , 0.16666667, 0.25      , 0.16666667, 0.16666667])"
      ]
     },
     "execution_count": 23,
     "metadata": {},
     "output_type": "execute_result"
    }
   ],
   "source": [
    "w = w / sum(w)\n",
    "w"
   ]
  },
  {
   "cell_type": "markdown",
   "metadata": {},
   "source": [
    "**So what does this number means?**\n",
    "\n",
    "Well, notice that the incorrectly classified samples are #1 and #3, and they both have bigger weights than others.   This will make sure next classifier will focus on solving it."
   ]
  },
  {
   "attachments": {},
   "cell_type": "markdown",
   "metadata": {},
   "source": [
    "## 1. Scratch"
   ]
  },
  {
   "cell_type": "code",
   "execution_count": 24,
   "metadata": {},
   "outputs": [],
   "source": [
    "from sklearn.datasets import make_classification\n",
    "\n",
    "X, y = make_classification(n_samples=500, random_state=1)\n",
    "y = np.where(y==0,-1,1)  #change our y to be -1 if it is 0, otherwise 1\n",
    "\n",
    "X_train, X_test, y_train, y_test = train_test_split(\n",
    "    X, y, test_size=0.3, random_state=42)"
   ]
  },
  {
   "cell_type": "code",
   "execution_count": 25,
   "metadata": {},
   "outputs": [],
   "source": [
    "from sklearn.metrics import accuracy_score\n",
    "from sklearn.tree import DecisionTreeClassifier\n",
    "from sklearn.metrics import classification_report\n"
   ]
  },
  {
   "cell_type": "code",
   "execution_count": 26,
   "metadata": {},
   "outputs": [],
   "source": [
    "m = X_train.shape[0]\n",
    "S = 20\n",
    "stump_params = {'max_depth': 1, 'max_leaf_nodes': 2}\n",
    "models = [DecisionTreeClassifier(**stump_params) for _ in range(S)]"
   ]
  },
  {
   "cell_type": "code",
   "execution_count": 27,
   "metadata": {},
   "outputs": [],
   "source": [
    "#initially, we set our weight to 1/m\n",
    "w = np.full(m, 1/m)\n",
    "\n",
    "#keep collection of a_j\n",
    "a_js = np.zeros(S)"
   ]
  },
  {
   "cell_type": "code",
   "execution_count": 28,
   "metadata": {},
   "outputs": [
    {
     "name": "stdout",
     "output_type": "stream",
     "text": [
      "a_0: 1.4573816055101643\n",
      "a_1: 0.4861280111506205\n",
      "a_2: 0.2585364906779028\n",
      "a_3: 0.5638365346080928\n",
      "a_4: 0.47162902784400756\n",
      "a_5: 0.28504868984885795\n",
      "a_6: 0.23151576673325486\n",
      "a_7: 0.3518645068326187\n",
      "a_8: 0.3605190018519204\n",
      "a_9: 0.3147970623243156\n",
      "a_10: 0.3702580922616173\n",
      "a_11: 0.38906768724141066\n",
      "a_12: 0.38029109425895147\n",
      "a_13: 0.30624491550448657\n",
      "a_14: 0.4736826102203567\n",
      "a_15: 0.38344932944148\n",
      "a_16: 0.3951664184073484\n",
      "a_17: 0.4072703833775688\n",
      "a_18: 0.2930361975822689\n",
      "a_19: 0.40154165674893993\n"
     ]
    }
   ],
   "source": [
    "for j, model in enumerate(models):\n",
    "    \n",
    "    #train weak learner\n",
    "    model.fit(X_train, y_train, sample_weight = w)\n",
    "    \n",
    "    #compute the errors\n",
    "    yhat = model.predict(X_train) \n",
    "    \n",
    "    e = w[(yhat != y_train)].sum() / sum(w)\n",
    "    \n",
    "    a_j = np.log ((1 - e) / e) / 2\n",
    "    a_js[j] = a_j\n",
    "    \n",
    "    print(f\"a_{j}: {a_j}\")\n",
    "    \n",
    "    w = (w * np.exp(-a_j * y_train * yhat))\n",
    "    w = w / sum(w)"
   ]
  },
  {
   "cell_type": "code",
   "execution_count": 29,
   "metadata": {},
   "outputs": [
    {
     "name": "stdout",
     "output_type": "stream",
     "text": [
      "              precision    recall  f1-score   support\n",
      "\n",
      "          -1       0.96      0.97      0.97        79\n",
      "           1       0.97      0.96      0.96        71\n",
      "\n",
      "    accuracy                           0.97       150\n",
      "   macro avg       0.97      0.97      0.97       150\n",
      "weighted avg       0.97      0.97      0.97       150\n",
      "\n"
     ]
    }
   ],
   "source": [
    "#make weighted predictions\n",
    "h = 0\n",
    "for i, model in enumerate(models):\n",
    "    yhat = model.predict(X_test)\n",
    "    h += a_js[i] * yhat\n",
    "    \n",
    "yhat = np.sign(h)\n",
    "\n",
    "print(classification_report(y_test, yhat))"
   ]
  },
  {
   "cell_type": "code",
   "execution_count": null,
   "metadata": {},
   "outputs": [],
   "source": []
  }
 ],
 "metadata": {
  "kernelspec": {
   "display_name": "Python 3",
   "language": "python",
   "name": "python3"
  },
  "language_info": {
   "codemirror_mode": {
    "name": "ipython",
    "version": 3
   },
   "file_extension": ".py",
   "mimetype": "text/x-python",
   "name": "python",
   "nbconvert_exporter": "python",
   "pygments_lexer": "ipython3",
   "version": "3.11.2"
  }
 },
 "nbformat": 4,
 "nbformat_minor": 1
}
