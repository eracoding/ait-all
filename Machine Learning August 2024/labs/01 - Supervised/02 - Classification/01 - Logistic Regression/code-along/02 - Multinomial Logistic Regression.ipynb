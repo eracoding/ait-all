{
 "cells": [
  {
   "attachments": {},
   "cell_type": "markdown",
   "metadata": {},
   "source": [
    "# Multinomial Logistic Regression\n",
    "\n",
    "This is logistic regression when number of classes are more than 2."
   ]
  },
  {
   "cell_type": "code",
   "execution_count": 1,
   "metadata": {},
   "outputs": [],
   "source": [
    "import numpy as np\n",
    "import matplotlib.pyplot as plt"
   ]
  },
  {
   "attachments": {},
   "cell_type": "markdown",
   "metadata": {},
   "source": [
    "## Softmax Function\n",
    "\n",
    "   $$ h = P(y = c \\mid \\boldsymbol{\\theta}) = \\frac{e^{\\boldsymbol{\\theta}^{T}_c\\mathbf{x}}}{\\Sigma_{i=1}^{k} e^{\\boldsymbol{\\theta}_k^{T}\\mathbf{x}}}$$\n",
    "   where c is the class"
   ]
  },
  {
   "cell_type": "code",
   "execution_count": 2,
   "metadata": {},
   "outputs": [
    {
     "name": "stdout",
     "output_type": "stream",
     "text": [
      "(2, 3)\n"
     ]
    }
   ],
   "source": [
    "X = np.array([[1, 2, 3], [2, 4, 5]])  #(m, n) = (2, 3)\n",
    "print(X.shape)"
   ]
  },
  {
   "cell_type": "code",
   "execution_count": 3,
   "metadata": {},
   "outputs": [
    {
     "name": "stdout",
     "output_type": "stream",
     "text": [
      "(2, 4)\n"
     ]
    }
   ],
   "source": [
    "Y = np.array([[0, 0, 1, 0], [1, 0, 0, 0]]) #np.array([[2], [0]]); k = 4;  (m, k) = (2, 4)\n",
    "print(Y.shape)"
   ]
  },
  {
   "cell_type": "code",
   "execution_count": 4,
   "metadata": {},
   "outputs": [
    {
     "name": "stdout",
     "output_type": "stream",
     "text": [
      "(3, 4)\n"
     ]
    }
   ],
   "source": [
    "W = np.array([    [1, 2, 3, 4],    [2, 3, 1, 0],    [1, 2, 5, 1]    ])  #(n, k)\n",
    "print(W.shape)"
   ]
  },
  {
   "cell_type": "code",
   "execution_count": 5,
   "metadata": {},
   "outputs": [
    {
     "name": "stdout",
     "output_type": "stream",
     "text": [
      "[[ 8 14 20  7]\n",
      " [15 26 35 13]]\n",
      "(2, 4)\n"
     ]
    }
   ],
   "source": [
    "print(X @ W) #(m, n) @ (n, k) = (m, k)\n",
    "print((X @ W).shape)"
   ]
  },
  {
   "cell_type": "code",
   "execution_count": 6,
   "metadata": {},
   "outputs": [],
   "source": [
    "def softmax(x):\n",
    "    return np.exp(x) / np.sum(np.exp(x), axis = 1, keepdims=True)\n",
    "\n",
    "# np.exp(8) / 4.86371877e+08"
   ]
  },
  {
   "cell_type": "code",
   "execution_count": 7,
   "metadata": {},
   "outputs": [
    {
     "data": {
      "text/plain": [
       "array([[4.86371877e+08],\n",
       "       [1.58620919e+15]])"
      ]
     },
     "execution_count": 7,
     "metadata": {},
     "output_type": "execute_result"
    }
   ],
   "source": [
    "np.sum(np.exp(X @ W), axis = 1, keepdims=True)"
   ]
  },
  {
   "cell_type": "code",
   "execution_count": 8,
   "metadata": {},
   "outputs": [
    {
     "data": {
      "text/plain": [
       "6.128968651371527e-06"
      ]
     },
     "execution_count": 8,
     "metadata": {},
     "output_type": "execute_result"
    }
   ],
   "source": [
    "np.exp(8) / 4.86371877e+08"
   ]
  },
  {
   "cell_type": "code",
   "execution_count": 9,
   "metadata": {},
   "outputs": [
    {
     "name": "stdout",
     "output_type": "stream",
     "text": [
      "[[6.12896865e-06 2.47260243e-03 9.97519014e-01 2.25472156e-06]\n",
      " [2.06089928e-09 1.23394576e-04 9.99876603e-01 2.78912388e-10]]\n",
      "(2, 4)\n"
     ]
    }
   ],
   "source": [
    "print(softmax(X @ W))\n",
    "print((softmax(X @ W)).shape)"
   ]
  },
  {
   "cell_type": "code",
   "execution_count": 10,
   "metadata": {},
   "outputs": [
    {
     "data": {
      "text/plain": [
       "array([1., 1.])"
      ]
     },
     "execution_count": 10,
     "metadata": {},
     "output_type": "execute_result"
    }
   ],
   "source": [
    "softmax(X@W).sum(axis=1)"
   ]
  },
  {
   "cell_type": "code",
   "execution_count": 11,
   "metadata": {},
   "outputs": [
    {
     "data": {
      "text/plain": [
       "array([2, 2])"
      ]
     },
     "execution_count": 11,
     "metadata": {},
     "output_type": "execute_result"
    }
   ],
   "source": [
    "#inference\n",
    "np.argmax(softmax(X@W), axis=1)"
   ]
  },
  {
   "attachments": {},
   "cell_type": "markdown",
   "metadata": {},
   "source": [
    "## Cross entropy loss"
   ]
  },
  {
   "cell_type": "markdown",
   "metadata": {},
   "source": [
    "$$J = -\\sum_{i=1}^m y^{(i)}\\log(h^{(i)})$$"
   ]
  },
  {
   "cell_type": "code",
   "execution_count": 12,
   "metadata": {},
   "outputs": [
    {
     "data": {
      "text/plain": [
       "array([[0, 0, 1, 0],\n",
       "       [1, 0, 0, 0]])"
      ]
     },
     "execution_count": 12,
     "metadata": {},
     "output_type": "execute_result"
    }
   ],
   "source": [
    "Y"
   ]
  },
  {
   "cell_type": "code",
   "execution_count": 13,
   "metadata": {},
   "outputs": [
    {
     "data": {
      "text/plain": [
       "array([[6.12896865e-06, 2.47260243e-03, 9.97519014e-01, 2.25472156e-06],\n",
       "       [2.06089928e-09, 1.23394576e-04, 9.99876603e-01, 2.78912388e-10]])"
      ]
     },
     "execution_count": 13,
     "metadata": {},
     "output_type": "execute_result"
    }
   ],
   "source": [
    "h = softmax(X @ W)\n",
    "h"
   ]
  },
  {
   "cell_type": "code",
   "execution_count": 14,
   "metadata": {},
   "outputs": [],
   "source": [
    "ce = np.sum(-(Y * np.log(h)))"
   ]
  },
  {
   "cell_type": "code",
   "execution_count": 15,
   "metadata": {},
   "outputs": [
    {
     "data": {
      "text/plain": [
       "20.00260747339262"
      ]
     },
     "execution_count": 15,
     "metadata": {},
     "output_type": "execute_result"
    }
   ],
   "source": [
    "ce"
   ]
  },
  {
   "attachments": {},
   "cell_type": "markdown",
   "metadata": {},
   "source": [
    "## Gradient"
   ]
  },
  {
   "cell_type": "markdown",
   "metadata": {},
   "source": [
    "$$ \\frac{\\partial J}{\\partial \\theta} = \\mathbf{X}^\\top (\\mathbf{H} - \\mathbf{Y})$$"
   ]
  },
  {
   "attachments": {},
   "cell_type": "markdown",
   "metadata": {},
   "source": [
    "## Let's start!"
   ]
  },
  {
   "cell_type": "code",
   "execution_count": 16,
   "metadata": {},
   "outputs": [],
   "source": [
    "import numpy as np\n",
    "import matplotlib.pyplot as plt\n",
    "from sklearn import datasets\n",
    "from sklearn.preprocessing import StandardScaler\n",
    "import numpy as np\n",
    "import matplotlib.pyplot as plt\n",
    "from sklearn.metrics import classification_report\n",
    "import time\n",
    "\n",
    "#Step 1: Prepare data\n",
    "\n",
    "# import some data to play with\n",
    "iris = datasets.load_iris()\n",
    "X = iris.data[:, 2:]  # we only take the first two features.\n",
    "y = iris.target  #now our y is three classes thus require multinomial\n",
    "\n",
    "# Split data into training and test datasets\n",
    "idx = np.arange(0,len(X),1)\n",
    "np.random.shuffle(idx)\n",
    "idx_train = idx[0:int(.7*len(X))]\n",
    "idx_test = idx[len(idx_train):len(idx)]\n",
    "\n",
    "X_train = X[idx_train]\n",
    "X_test = X[idx_test]\n",
    "y_train = y[idx_train]\n",
    "y_test = y[idx_test]\n",
    "\n",
    "# feature scaling helps improve reach convergence faster\n",
    "scaler = StandardScaler()\n",
    "X_train = scaler.fit_transform(X_train)\n",
    "X_test = scaler.transform(X_test)\n",
    "\n",
    "# add intercept to our X\n",
    "intercept = np.ones((X_train.shape[0], 1))\n",
    "X_train   = np.concatenate((intercept, X_train), axis=1)  #add intercept\n",
    "intercept = np.ones((X_test.shape[0], 1))\n",
    "X_test    = np.concatenate((intercept, X_test), axis=1)  #add intercept"
   ]
  },
  {
   "cell_type": "markdown",
   "metadata": {},
   "source": [
    "## 1. Change our target to one-hot"
   ]
  },
  {
   "cell_type": "code",
   "execution_count": 17,
   "metadata": {},
   "outputs": [
    {
     "data": {
      "text/plain": [
       "(3, 105, 3)"
      ]
     },
     "execution_count": 17,
     "metadata": {},
     "output_type": "execute_result"
    }
   ],
   "source": [
    "k = len(set(y))\n",
    "m = X_train.shape[0]\n",
    "n = X_train.shape[1]\n",
    "k, m, n"
   ]
  },
  {
   "cell_type": "code",
   "execution_count": 18,
   "metadata": {},
   "outputs": [],
   "source": [
    "Y_train_encoded = np.zeros((m, k))"
   ]
  },
  {
   "cell_type": "code",
   "execution_count": 19,
   "metadata": {},
   "outputs": [],
   "source": [
    "for each_class in range(k):\n",
    "    cond = y_train==each_class\n",
    "    Y_train_encoded[np.where(cond), each_class] = 1"
   ]
  },
  {
   "cell_type": "code",
   "execution_count": 20,
   "metadata": {},
   "outputs": [
    {
     "data": {
      "text/plain": [
       "(105, 3)"
      ]
     },
     "execution_count": 20,
     "metadata": {},
     "output_type": "execute_result"
    }
   ],
   "source": [
    "Y_train_encoded.shape  #(m, k)"
   ]
  },
  {
   "cell_type": "markdown",
   "metadata": {},
   "source": [
    "## 2. Algorithm"
   ]
  },
  {
   "cell_type": "code",
   "execution_count": 21,
   "metadata": {},
   "outputs": [],
   "source": [
    "class LogisticRegression:\n",
    "    \n",
    "    def __init__(self, k, n, lr=0.01, max_iter=1000):\n",
    "        self.k  = k\n",
    "        self.n  = n\n",
    "        self.lr = lr\n",
    "        self.max_iter = max_iter\n",
    "    \n",
    "    def fit(self, X, Y):\n",
    "        self.W = np.random.rand(self.n, self.k)\n",
    "        self.losses = []\n",
    "        \n",
    "        #mini-batch\n",
    "        start_time = time.time()\n",
    "        \n",
    "        batch_size = int(0.3 * X.shape[0])\n",
    "        for i in range(self.max_iter):\n",
    "            ix = np.random.randint(0, X.shape[0])  #<====with replacement\n",
    "            batch_X = X[ix:ix+batch_size]\n",
    "            batch_Y = Y[ix:ix+batch_size]\n",
    "            loss, grad = self.gradient(batch_X, batch_Y)\n",
    "            self.losses.append(loss)\n",
    "            self.W = self.W - self.lr * grad\n",
    "            if (i % 100) == 0:\n",
    "                print(f\"Loss at iteration {i}: {loss}\")    \n",
    "        print(f\"Time taken: {time.time() - start_time}\")\n",
    "    \n",
    "    def gradient(self, X, Y):\n",
    "        m = X.shape[0]\n",
    "        H = self._predict(X, self.W)\n",
    "        loss = -np.sum(Y*np.log(H)) / m\n",
    "        grad = X.T @ (H - Y)\n",
    "        return loss, grad\n",
    "    \n",
    "    def softmax(self, h_theta):\n",
    "        return np.exp(h_theta) / np.sum(np.exp(h_theta), axis=1, keepdims=True)\n",
    "    \n",
    "    def _predict(self, X, W):\n",
    "        return self.softmax(X @ W)\n",
    "    \n",
    "    def predict(self, X_test):\n",
    "        return np.argmax(self._predict(X_test, self.W), axis=1)\n",
    "    \n",
    "    def plot(self):\n",
    "        plt.plot(np.arange(len(self.losses)) , self.losses, label = \"Train Losses\")\n",
    "        plt.title(\"Losses\")\n",
    "        plt.xlabel(\"Iteration\")\n",
    "        plt.ylabel(\"Losses\")\n",
    "        plt.legend()"
   ]
  },
  {
   "cell_type": "markdown",
   "metadata": {},
   "source": [
    "## 3. Running the algorithm"
   ]
  },
  {
   "cell_type": "code",
   "execution_count": 22,
   "metadata": {},
   "outputs": [
    {
     "name": "stdout",
     "output_type": "stream",
     "text": [
      "Loss at iteration 0: 1.5660800218919102\n",
      "Loss at iteration 100: 0.23451816182686464\n",
      "Loss at iteration 200: 0.16187108317512222\n",
      "Loss at iteration 300: 0.15680400131899533\n",
      "Loss at iteration 400: 0.1392816498873947\n",
      "Loss at iteration 500: 0.15986641666083912\n",
      "Loss at iteration 600: 0.11472042983697112\n",
      "Loss at iteration 700: 0.12554567733505662\n",
      "Loss at iteration 800: 0.11475548897306088\n",
      "Loss at iteration 900: 0.10065584517292238\n",
      "Time taken: 0.062178611755371094\n"
     ]
    }
   ],
   "source": [
    "#define the model\n",
    "#k, n, lr=0.01, max_iter=1000)\n",
    "model = LogisticRegression(k, n)\n",
    "\n",
    "#fit\n",
    "model.fit(X_train, Y_train_encoded)"
   ]
  },
  {
   "cell_type": "code",
   "execution_count": 23,
   "metadata": {},
   "outputs": [],
   "source": [
    "#predict the X_test\n",
    "yhat = model.predict(X_test)"
   ]
  },
  {
   "cell_type": "code",
   "execution_count": 24,
   "metadata": {},
   "outputs": [
    {
     "data": {
      "text/plain": [
       "array([2, 1, 0, 1, 2, 2, 1, 1, 2, 1, 0, 1, 2, 0, 2, 1, 0, 1, 0, 1, 2, 2,\n",
       "       1, 1, 2, 0, 0, 0, 2, 1, 1, 1, 1, 0, 2, 1, 1, 0, 1, 1, 1, 0, 2, 0,\n",
       "       2])"
      ]
     },
     "execution_count": 24,
     "metadata": {},
     "output_type": "execute_result"
    }
   ],
   "source": [
    "yhat"
   ]
  },
  {
   "cell_type": "code",
   "execution_count": 25,
   "metadata": {},
   "outputs": [
    {
     "data": {
      "image/png": "[encoded data removed]",
      "text/plain": [
       "<Figure size 640x480 with 1 Axes>"
      ]
     },
     "metadata": {},
     "output_type": "display_data"
    }
   ],
   "source": [
    "model.plot()"
   ]
  },
  {
   "cell_type": "code",
   "execution_count": 26,
   "metadata": {},
   "outputs": [
    {
     "name": "stdout",
     "output_type": "stream",
     "text": [
      "Report:               precision    recall  f1-score   support\n",
      "\n",
      "           0       1.00      1.00      1.00        12\n",
      "           1       0.95      0.95      0.95        20\n",
      "           2       0.92      0.92      0.92        13\n",
      "\n",
      "    accuracy                           0.96        45\n",
      "   macro avg       0.96      0.96      0.96        45\n",
      "weighted avg       0.96      0.96      0.96        45\n",
      "\n"
     ]
    }
   ],
   "source": [
    "print(\"Report:\", classification_report(y_test, yhat))"
   ]
  },
  {
   "cell_type": "markdown",
   "metadata": {},
   "source": [
    "## 4. Inference"
   ]
  }
 ],
 "metadata": {
  "kernelspec": {
   "display_name": "Python 3.8.6 ('teaching_env')",
   "language": "python",
   "name": "python3"
  },
  "language_info": {
   "codemirror_mode": {
    "name": "ipython",
    "version": 3
   },
   "file_extension": ".py",
   "mimetype": "text/x-python",
   "name": "python",
   "nbconvert_exporter": "python",
   "pygments_lexer": "ipython3",
   "version": "3.11.2"
  },
  "vscode": {
   "interpreter": {
    "hash": "becc4c8e5ad229b2591d820334d85e3db0111492344629bf57f272470dce75a5"
   }
  }
 },
 "nbformat": 4,
 "nbformat_minor": 4
}
