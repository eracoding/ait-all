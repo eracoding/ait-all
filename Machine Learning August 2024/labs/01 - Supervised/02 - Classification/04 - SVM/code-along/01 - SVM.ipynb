{
 "cells": [
  {
   "attachments": {},
   "cell_type": "markdown",
   "metadata": {},
   "source": [
    "# Support Vector Machine"
   ]
  },
  {
   "cell_type": "code",
   "execution_count": 1,
   "metadata": {},
   "outputs": [],
   "source": [
    "import numpy as np\n",
    "import matplotlib.pyplot as plt\n",
    "\n",
    "from cvxopt import matrix as cvxopt_matrix\n",
    "from cvxopt import solvers as cvxopt_solvers"
   ]
  },
  {
   "cell_type": "markdown",
   "metadata": {},
   "source": [
    "<img src=\"figures/output.png\">"
   ]
  },
  {
   "attachments": {},
   "cell_type": "markdown",
   "metadata": {},
   "source": [
    "## Problem Definition\n",
    "\n",
    "$$h^{(i)} = \\hat{y}^{(i)} = \\text{sign}(\\mathbf{w^{\\top}}x^{(i)}+b)$$\n",
    "\n",
    "The constraint is as follows:\n",
    "\n",
    "$$\n",
    "y^{(i)}=\\left\\{\n",
    "                \\begin{array}{ll}\n",
    "                  -1 &\\text{ if } \\mathbf{w^{\\top}} x^{(i)}+b \\leq -1 \\\\\n",
    "                  1 &\\text{ if } \\mathbf{w^{\\top}} x^{(i)}+b \\ge 1 \\\\\n",
    "                \\end{array}\n",
    "              \\right.\n",
    "$$\n",
    "\n",
    "If we multiply $y$ on both equations, the constraint function can then be more concisely written as \n",
    "\n",
    "$$y^{(i)} (\\mathbf{w^{\\top}} x^{(i)}+b) \\ge 1$$\n",
    "\n",
    "The optimization problem can be summarized as:\n",
    "\n",
    "$$\n",
    "\\begin{aligned}\n",
    "\t\\min_{w, b} f(\\mathbf{w},b) &= \\min_{\\mathbf{w}, b}  \\  \\frac{1}{2} ||\\mathbf{w}||^2\n",
    "\t\\\\\n",
    "\ts.t. \\ \\  g_i(\\mathbf{w},b) &= - (y^{(i)} (\\mathbf{w}^{\\top} x^{(i)} + b) - 1) \\leq 0 \n",
    "\\end{aligned}\n",
    "$$\n",
    "\n",
    "## Lagrange Method\n",
    "\n",
    "For SVM, we can write the equation as \n",
    "\n",
    "$$\\mathcal{L}(\\mathbf{w}, b, \\alpha) =   \\frac{1}{2} ||\\mathbf{w}||^2 - \\sum_i^m \\alpha^{(i)} [y^{(i)} (\\mathbf{w}^{\\top} x^{(i)} + b) - 1]$$\n",
    "\n",
    "We take the partial derivatives of $\\mathcal{L}(\\mathbf{w}, b, \\alpha)$ with respect to $w$ and $b$, equate to zero and then plug the results back into the original equation of the Lagrangian\n",
    "\n",
    "$$\\min_{\\mathbf{w},b} \\mathcal{L}(\\mathbf{w}, b, \\alpha) =   \\frac{1}{2} ||\\mathbf{w}||^2 - \\sum_i^m \\alpha^{(i)} [y^{(i)} (\\mathbf{w}^{\\top} x^{(i)} + b) - 1]$$\n",
    "\n",
    "$$\\frac{\\partial \\mathcal{L}}{\\partial {\\mathbf w} }= {\\mathbf w} - \\sum \\alpha^{(i)} \\; y^{(i)} \\; x^{(i)} = 0$$\n",
    "\n",
    "$${\\mathbf w} = \\sum \\alpha^{(i)} \\; y^{(i)} \\; x^{(i)}\\tag{6}$$\n",
    "\n",
    "$$\\frac{\\partial \\mathcal{L}}{\\partial b}=-\\sum \\alpha^{(i)} y^{(i)} = 0,$$\n",
    "\n",
    "$$\\sum \\alpha^{(i)} \\, y^{(i)} = 0\\tag{7}$$\n",
    "\n",
    "Plugging the ${\\mathbf w} = \\sum \\alpha^{(i)} \\; y^{(i)} \\; x^{(i)}$ back to the original equation, as well as the fact that $\\sum \\alpha^{(i)} y^{(i)} = 0$, we got that \n",
    "\n",
    "$$\n",
    "\\begin{aligned}\n",
    "\t&\\max_{\\alpha} \\min_{\\mathbf{w},b} \\mathcal{L}(\\mathbf{w},b,\\alpha)\n",
    "\t\\\\\n",
    "\t& \\max_{\\alpha} \\sum_i^m \\alpha^{(i)} - \\frac{1}{2} \\sum_{i,j}^m y^{(i)}y^{(j)} \\alpha^{(i)} \\alpha^{(j)} x^{(i)} x^{(j)} \n",
    "\t\\\\\n",
    "\t& s.t. \\ \\alpha^{(i)} \\geq 0 \n",
    "\t\\\\\n",
    "\t& s.t. \\ \\sum_i^m \\alpha^{(i)}y^{(i)} = 0\t\n",
    "\\end{aligned}\n",
    "$$\n",
    "## Soft margin \n",
    "\n",
    "$$\n",
    "\\begin{aligned}\n",
    "\\min_{\\mathbf{w},b}\\quad &\\frac{\\|\\mathbf{w}\\|}{2}^{2}+ C \\sum_{i=1}^{m} \\xi^{(i)}, \\\\\n",
    "s.t.\\quad&y^{(i)} (\\mathbf{w^{\\top}}x^{(i)}+b) \\ge 1 - \\xi^{(i)},&\\forall i \\in \\{1,\\dots,m\\} \\\\\n",
    "\\quad&\\xi^{(i)}\\ge0, &\\forall i \\in \\{1,\\dots,m\\} \n",
    "\\end{aligned}\n",
    "$$\n",
    "\n",
    "$$\n",
    "\\begin{aligned}\n",
    "\t&\\max_{\\alpha} \\min_{\\mathbf{w},b, \\xi} \\mathcal{L}(\\mathbf{w}, b, \\xi, \\alpha, \\alpha')\n",
    "\t\\\\\n",
    "\t& \\max_{\\alpha} \\sum_i^m \\alpha^{(i)} - \\frac{1}{2} \\sum_{i,j}^m y^{(i)}y^{(j)} \\alpha^{(i)} \\alpha^{(j)} x^{(i)} x^{(j)}\n",
    "\t\\\\\n",
    "\t& s.t. \\ C \\geq \\alpha^{(i)} \\geq 0  \\tag{8}\n",
    "\t\\\\\n",
    "\t& s.t. \\ \\sum_i^m \\alpha^{(i)} y^{(i)} = 0\t\n",
    "\\end{aligned}\n",
    "$$\n",
    "\n",
    "#### Kernels\n",
    "\n",
    "$$\n",
    "\\begin{aligned}\n",
    "\t&\\max_{\\alpha} \\min_{\\mathbf{w},b, \\xi} \\mathcal{L}(\\mathbf{w}, b, \\xi, \\alpha, \\alpha')\n",
    "\t\\\\\n",
    "\t& \\max_{\\alpha} \\sum_i^m \\alpha^{(i)} - \\frac{1}{2} \\sum_{i,j}^m y^{(i)}y^{(j)} \\alpha^{(i)} \\alpha^{(j)} \\varphi(x^{(i)})\\varphi(x^{(j)}) \n",
    "\t\\\\\n",
    "\t& s.t. \\ C \\geq \\alpha^{(i)} \\geq 0 \n",
    "\t\\\\\n",
    "\t& s.t. \\ \\sum_i^m \\alpha^{(i)} y^{(i)} = 0\t\n",
    "\\end{aligned}\n",
    "$$\n",
    "\n",
    "#### Making a prediction\n",
    "Once the $\\alpha^{(i)}$ are learned, one can predict the class of a new sample with the feature vector <code>X_test</code> as follows:\n",
    "\n",
    "$$\n",
    "\\begin{aligned}\n",
    "\\hat{y}^{\\text {test sample}}&=\\text {sign}\\left(\\mathbf{w^{\\top}}\\phi\\left(x^{\\text {test sample}}\\right)+b\\right) \\\\\n",
    "&= \\text {sign}\\left(\\sum_{i =1}^{m}\\alpha^{(i)}y^{(i)}\\phi\\left(x^{(i)}\\right)^{\\top}\\phi\\left(x^{\\text {test sample}}\\right)+b \\right)\n",
    "\\end{aligned}\n",
    "$$"
   ]
  },
  {
   "attachments": {},
   "cell_type": "markdown",
   "metadata": {},
   "source": [
    "## Let's start with a simple dataset that is linearly separable"
   ]
  },
  {
   "cell_type": "code",
   "execution_count": 2,
   "metadata": {},
   "outputs": [
    {
     "data": {
      "image/png": "[encoded data removed]",
      "text/plain": [
       "<Figure size 500x500 with 1 Axes>"
      ]
     },
     "metadata": {},
     "output_type": "display_data"
    }
   ],
   "source": [
    "#Data set\n",
    "x_neg = np.array([[3,4],[1,4],[2,3]])\n",
    "y_neg = np.array([-1,-1,-1])\n",
    "x_pos = np.array([[6,-1],[7,-1],[5,-3]])\n",
    "y_pos = np.array([1,1,1])\n",
    "x1 = np.linspace(-10,10)\n",
    "x = np.vstack((np.linspace(-10,10),np.linspace(-10,10)))\n",
    "\n",
    "#Data for the next section\n",
    "X = np.vstack((x_pos, x_neg))\n",
    "y = np.concatenate((y_pos,y_neg))\n",
    "\n",
    "#Parameters guessed by inspection\n",
    "w = np.array([1,-1]).reshape(-1,1)\n",
    "b = -3\n",
    "\n",
    "#Plot\n",
    "fig = plt.figure(figsize = (5,5))\n",
    "plt.scatter(x_neg[:,0], x_neg[:,1], marker = 'x', color = 'r', label = 'Negative -1')\n",
    "plt.scatter(x_pos[:,0], x_pos[:,1], marker = 'o', color = 'b',label = 'Positive +1')\n",
    "plt.plot(x1, x1  - 3, color = 'darkblue')\n",
    "plt.plot(x1, x1  - 7, linestyle = '--', alpha = .3, color = 'b')\n",
    "plt.plot(x1, x1  + 1, linestyle = '--', alpha = .3, color = 'r')\n",
    "plt.xlim(0,10)\n",
    "plt.ylim(-5,5)\n",
    "plt.xticks(np.arange(0, 10, step=1))\n",
    "plt.yticks(np.arange(-5, 5, step=1))\n",
    "\n",
    "#Lines\n",
    "plt.axvline(0, color = 'black', alpha = .5)\n",
    "plt.axhline(0,color = 'black', alpha = .5)\n",
    "plt.plot([2,6],[3,-1], linestyle = '-', color = 'darkblue', alpha = .5 )\n",
    "plt.plot([4,6],[1,1],[6,6],[1,-1], linestyle = ':', color = 'darkblue', alpha = .5 )\n",
    "\n",
    "#Annotations\n",
    "plt.annotate(text = '$A \\ (6,-1)$', xy = (5,-1), xytext = (6,-1.5))\n",
    "plt.annotate(text = '$B \\ (2,3)$', xy = (2,3), xytext = (2,3.5))#, arrowprops = {'width':.2, 'headwidth':8})\n",
    "plt.annotate(text = '$2$', xy = (5,1.2), xytext = (5,1.2) )\n",
    "plt.annotate(text = '$2$', xy = (6.2,.5), xytext = (6.2,.5))\n",
    "plt.annotate(text = '$2\\sqrt{2}$', xy = (4.5,-.5), xytext = (4.5,-.5))\n",
    "plt.annotate(text = '$2\\sqrt{2}$', xy = (2.5,1.5), xytext = (2.5,1.5))\n",
    "plt.annotate(text = '$w^{\\top}x + b = 0$', xy = (8,4.5), xytext = (8,4.5))\n",
    "plt.annotate(text = '$(\\\\frac{1}{4},-\\\\frac{1}{4}) \\\\binom{x_1}{x_2}- \\\\frac{3}{4} = 0$', xy = (7.5,4), xytext = (7.5,4))\n",
    "\n",
    "#Labels and show\n",
    "plt.xlabel('$x_1$')\n",
    "plt.ylabel('$x_2$')\n",
    "plt.legend(loc = 'lower right')\n",
    "plt.grid()"
   ]
  },
  {
   "attachments": {},
   "cell_type": "markdown",
   "metadata": {},
   "source": [
    "## 1. Scratch: SVM with Hard Margin\n",
    "\n",
    "Since we will solve this optimization problem using the **CVXOPT** library in python, we will need to match the solver's API which, according to the documentation is of the form:\n",
    "\n",
    "$$\n",
    "\\begin{aligned}\n",
    "    & \\min \\frac{1}{2} \\mathbf{x}^{\\top}\\mathbf{P}\\mathbf{x} + \\mathbf{q}^{\\top}\\mathbf{x}\n",
    "    \\\\\n",
    "     s.t. \\ & \\ \\mathbf{G}\\mathbf{x} \\leq \\mathbf{h} \n",
    "    \\\\\n",
    "    & \\ \\mathbf{A}\\mathbf{x} = \\mathbf{b}\n",
    "\\end{aligned}\n",
    "$$\n",
    "\n",
    "Recall that the dual problem is expressed as:\n",
    "\n",
    "$$\n",
    "\\max_{\\alpha} \\sum_i^m \\alpha^{(i)} - \\frac{1}{2} \\sum_{i,j}^m y^{(i)}y^{(j)} \\alpha^{(i)} \\alpha^{(j)} x^{(i)} x^{(j)}\n",
    "$$\n",
    "\n",
    "Let $\\mathbf{H}$ be a matrix such that \n",
    "\n",
    "$$\\mathbf{H}_{ij} = y^{(i)}y^{(j)} x^{(i)} x^{(j)} $$\n",
    "\n",
    "Then the optimization becomes:\n",
    "\n",
    "$$\n",
    "\\begin{aligned}\n",
    "    & \\max_{\\alpha} \\sum_i^m \\alpha^{(i)} - \\frac{1}{2}  \\alpha^{\\top} \\mathbf{H}  \\alpha\n",
    "    \\\\\n",
    "     s.t. & \\ \\alpha^{(i)} \\geq 0 \n",
    "    \\\\\n",
    "    &  \\ \\sum_i^m \\alpha^{(i)} y^{(i)} = 0  \n",
    "\\end{aligned}\n",
    "$$\n",
    "\n",
    "We convert the sums into vector form and multiply both the objective and the constraint by −1\n",
    "which turns this into a minimization problem and reverses the inequality\n",
    "\n",
    "$$\n",
    "\\begin{aligned}\n",
    "    & \\min_{\\alpha}  \\frac{1}{2}  \\alpha^{\\top} \\mathbf{H}  \\alpha - 1^{\\top} \\alpha\n",
    "    \\\\\n",
    "    & s.t. \\ - \\alpha^{(i)} \\leq 0 \n",
    "    \\\\\n",
    "    & s.t. \\ y^{\\top}\\alpha = 0 \n",
    "\\end{aligned}\n",
    "$$\n",
    "\n",
    "We have that strange <code>1.T</code> just for the sake of matching with <code>CVXOPT</code> solver API.\n",
    "\n",
    "We are now ready to convert our numpy arrays into the cvxopt format, using the same notations as in the documentation.  \n",
    "\n",
    "- $\\mathbf{P} = \\mathbf{H}$ a matrix of size $(m, m)$\n",
    "- $\\mathbf{q} = \\mathbf{-1}$ a matrix of size $(m, 1)$\n",
    "- $\\mathbf{G} = \\mathbf{-diag[1]}$ a diagonal matrix of $-1s$ size $(m, m)$\n",
    "- $\\mathbf{h} = \\mathbf{0}$ a vector of size $(m,1)$\n",
    "- $\\mathbf{A} = \\mathbf{y}$ a vector of size $(m,1)$\n",
    "- $\\mathbf{b} = \\mathbf{0}$ a vector\n",
    "\n",
    "\n",
    "Note that in the simple example of $m=2$ the matrix $\\mathbf{G}$ and vector $\\mathbf{h}$ which define the constraint are\n",
    "\n",
    "$$\n",
    "\\mathbf{G} = \\begin{bmatrix} -1 & 0 \\\\ 0 & -1 \\end{bmatrix}\n",
    "$$\n",
    "\n",
    "$$\n",
    "\\mathbf{h} = \\begin{bmatrix} 0 \\\\ 0  \\end{bmatrix}\n",
    "$$\n"
   ]
  },
  {
   "cell_type": "code",
   "execution_count": 3,
   "metadata": {},
   "outputs": [
    {
     "data": {
      "text/plain": [
       "array([[ 6, -1],\n",
       "       [ 7, -1],\n",
       "       [ 5, -3],\n",
       "       [ 3,  4],\n",
       "       [ 1,  4],\n",
       "       [ 2,  3]])"
      ]
     },
     "execution_count": 3,
     "metadata": {},
     "output_type": "execute_result"
    }
   ],
   "source": [
    "X"
   ]
  },
  {
   "cell_type": "code",
   "execution_count": 4,
   "metadata": {},
   "outputs": [
    {
     "data": {
      "text/plain": [
       "array([ 1,  1,  1, -1, -1, -1])"
      ]
     },
     "execution_count": 4,
     "metadata": {},
     "output_type": "execute_result"
    }
   ],
   "source": [
    "y"
   ]
  },
  {
   "cell_type": "code",
   "execution_count": 5,
   "metadata": {},
   "outputs": [
    {
     "data": {
      "text/plain": [
       "(6, 2)"
      ]
     },
     "execution_count": 5,
     "metadata": {},
     "output_type": "execute_result"
    }
   ],
   "source": [
    "#what we need to find - w, b, S\n",
    "\n",
    "m, n = X.shape\n",
    "m, n"
   ]
  },
  {
   "cell_type": "code",
   "execution_count": 6,
   "metadata": {},
   "outputs": [
    {
     "data": {
      "text/plain": [
       "array([[ 1.],\n",
       "       [ 1.],\n",
       "       [ 1.],\n",
       "       [-1.],\n",
       "       [-1.],\n",
       "       [-1.]])"
      ]
     },
     "execution_count": 6,
     "metadata": {},
     "output_type": "execute_result"
    }
   ],
   "source": [
    "y = y.reshape(-1, 1) * 1.\n",
    "y"
   ]
  },
  {
   "cell_type": "code",
   "execution_count": 7,
   "metadata": {},
   "outputs": [
    {
     "data": {
      "text/plain": [
       "(6, 6)"
      ]
     },
     "execution_count": 7,
     "metadata": {},
     "output_type": "execute_result"
    }
   ],
   "source": [
    "#compute H = yyxx\n",
    "X_dash = y * X\n",
    "H = np.dot(X_dash, X_dash.T) * 1.\n",
    "H.shape"
   ]
  },
  {
   "cell_type": "code",
   "execution_count": 8,
   "metadata": {},
   "outputs": [],
   "source": [
    "P = cvxopt_matrix(H)\n",
    "q = cvxopt_matrix(-np.ones((m, 1)))\n",
    "G = cvxopt_matrix(-np.eye(m))\n",
    "h = cvxopt_matrix(np.zeros(m))\n",
    "A = cvxopt_matrix(y.reshape(1, -1))\n",
    "b = cvxopt_matrix(np.zeros(1))"
   ]
  },
  {
   "cell_type": "code",
   "execution_count": 9,
   "metadata": {},
   "outputs": [],
   "source": [
    "cvxopt_solvers.options['show_progress'] = False\n",
    "cvxopt_solvers.options['abstol'] = 1e-10\n",
    "cvxopt_solvers.options['reltol'] = 1e-10\n",
    "cvxopt_solvers.options['feastol'] = 1e-10"
   ]
  },
  {
   "cell_type": "code",
   "execution_count": 10,
   "metadata": {},
   "outputs": [
    {
     "data": {
      "text/plain": [
       "{'x': <6x1 matrix, tc='d'>,\n",
       " 'y': <1x1 matrix, tc='d'>,\n",
       " 's': <6x1 matrix, tc='d'>,\n",
       " 'z': <6x1 matrix, tc='d'>,\n",
       " 'status': 'optimal',\n",
       " 'gap': 8.942629520421064e-11,\n",
       " 'relative gap': 1.4308207243060007e-09,\n",
       " 'primal objective': -0.06249999995463135,\n",
       " 'dual objective': -0.06250000004405763,\n",
       " 'primal infeasibility': 1.5515838457795457e-17,\n",
       " 'dual infeasibility': 2.7701289870538194e-16,\n",
       " 'primal slack': 2.6221768203213863e-12,\n",
       " 'dual slack': 2.0977414634194414e-11,\n",
       " 'iterations': 11}"
      ]
     },
     "execution_count": 10,
     "metadata": {},
     "output_type": "execute_result"
    }
   ],
   "source": [
    "sol = cvxopt_solvers.qp(P, q, G, h, A, b)\n",
    "sol"
   ]
  },
  {
   "cell_type": "code",
   "execution_count": 11,
   "metadata": {},
   "outputs": [],
   "source": [
    "alphas = np.array(sol['x'])"
   ]
  },
  {
   "cell_type": "code",
   "execution_count": 12,
   "metadata": {},
   "outputs": [
    {
     "data": {
      "text/plain": [
       "array([[6.25000000e-02],\n",
       "       [5.24439796e-12],\n",
       "       [5.24422116e-12],\n",
       "       [6.43702943e-06],\n",
       "       [2.62217682e-12],\n",
       "       [6.24935630e-02]])"
      ]
     },
     "execution_count": 12,
     "metadata": {},
     "output_type": "execute_result"
    }
   ],
   "source": [
    "alphas"
   ]
  },
  {
   "cell_type": "code",
   "execution_count": 13,
   "metadata": {},
   "outputs": [],
   "source": [
    "S = (alphas > 1e-4).flatten()"
   ]
  },
  {
   "cell_type": "code",
   "execution_count": 14,
   "metadata": {},
   "outputs": [
    {
     "data": {
      "text/plain": [
       "array([ True, False, False, False, False,  True])"
      ]
     },
     "execution_count": 14,
     "metadata": {},
     "output_type": "execute_result"
    }
   ],
   "source": [
    "S"
   ]
  },
  {
   "cell_type": "code",
   "execution_count": 15,
   "metadata": {},
   "outputs": [
    {
     "data": {
      "text/plain": [
       "array([[ 6, -1],\n",
       "       [ 7, -1],\n",
       "       [ 5, -3],\n",
       "       [ 3,  4],\n",
       "       [ 1,  4],\n",
       "       [ 2,  3]])"
      ]
     },
     "execution_count": 15,
     "metadata": {},
     "output_type": "execute_result"
    }
   ],
   "source": [
    "X"
   ]
  },
  {
   "cell_type": "code",
   "execution_count": 16,
   "metadata": {},
   "outputs": [
    {
     "data": {
      "text/plain": [
       "(6, 1)"
      ]
     },
     "execution_count": 16,
     "metadata": {},
     "output_type": "execute_result"
    }
   ],
   "source": [
    "y.shape"
   ]
  },
  {
   "cell_type": "code",
   "execution_count": 17,
   "metadata": {},
   "outputs": [
    {
     "data": {
      "text/plain": [
       "(6, 1)"
      ]
     },
     "execution_count": 17,
     "metadata": {},
     "output_type": "execute_result"
    }
   ],
   "source": [
    "alphas.shape"
   ]
  },
  {
   "cell_type": "code",
   "execution_count": 18,
   "metadata": {},
   "outputs": [
    {
     "data": {
      "text/plain": [
       "array([[ 6.25000000e-02],\n",
       "       [ 5.24439796e-12],\n",
       "       [ 5.24422116e-12],\n",
       "       [-6.43702943e-06],\n",
       "       [-2.62217682e-12],\n",
       "       [-6.24935630e-02]])"
      ]
     },
     "execution_count": 18,
     "metadata": {},
     "output_type": "execute_result"
    }
   ],
   "source": [
    "y * alphas"
   ]
  },
  {
   "cell_type": "code",
   "execution_count": 19,
   "metadata": {},
   "outputs": [
    {
     "data": {
      "text/plain": [
       "(6, 2)"
      ]
     },
     "execution_count": 19,
     "metadata": {},
     "output_type": "execute_result"
    }
   ],
   "source": [
    "X.shape"
   ]
  },
  {
   "cell_type": "code",
   "execution_count": 20,
   "metadata": {},
   "outputs": [],
   "source": [
    "w = ((y[S] * alphas[S]).T @ X[S]).reshape(-1, 1)"
   ]
  },
  {
   "cell_type": "code",
   "execution_count": 21,
   "metadata": {},
   "outputs": [
    {
     "data": {
      "text/plain": [
       "array([[ 0.25001287],\n",
       "       [-0.24998069]])"
      ]
     },
     "execution_count": 21,
     "metadata": {},
     "output_type": "execute_result"
    }
   ],
   "source": [
    "w"
   ]
  },
  {
   "cell_type": "code",
   "execution_count": 22,
   "metadata": {},
   "outputs": [],
   "source": [
    "# y = w @ x + b\n",
    "b = y[S] - np.dot(X[S], w)"
   ]
  },
  {
   "cell_type": "code",
   "execution_count": 23,
   "metadata": {},
   "outputs": [
    {
     "data": {
      "text/plain": [
       "array([[-0.75005793],\n",
       "       [-0.75008368]])"
      ]
     },
     "execution_count": 23,
     "metadata": {},
     "output_type": "execute_result"
    }
   ],
   "source": [
    "b"
   ]
  },
  {
   "cell_type": "code",
   "execution_count": 24,
   "metadata": {},
   "outputs": [],
   "source": [
    "sample  = np.array([  [1, 3]   ]) #neg\n",
    "sample2 = np.array([  [7, -3]])   #pos"
   ]
  },
  {
   "cell_type": "code",
   "execution_count": 25,
   "metadata": {},
   "outputs": [],
   "source": [
    "yhat = np.sign(sample @ w + b)"
   ]
  },
  {
   "cell_type": "code",
   "execution_count": 26,
   "metadata": {},
   "outputs": [
    {
     "data": {
      "text/plain": [
       "array([[-1.],\n",
       "       [-1.]])"
      ]
     },
     "execution_count": 26,
     "metadata": {},
     "output_type": "execute_result"
    }
   ],
   "source": [
    "yhat"
   ]
  },
  {
   "cell_type": "code",
   "execution_count": 27,
   "metadata": {},
   "outputs": [],
   "source": [
    "yhat = np.sign(sample2 @ w + b)"
   ]
  },
  {
   "cell_type": "code",
   "execution_count": 28,
   "metadata": {},
   "outputs": [
    {
     "data": {
      "text/plain": [
       "array([[1.],\n",
       "       [1.]])"
      ]
     },
     "execution_count": 28,
     "metadata": {},
     "output_type": "execute_result"
    }
   ],
   "source": [
    "yhat"
   ]
  },
  {
   "cell_type": "markdown",
   "metadata": {},
   "source": [
    "## 2. Scratch: SVM with Soft Margin\n",
    "\n",
    "To make the data no longer linearly separable, we shall add a positive point in the middle of the negative cluster:"
   ]
  },
  {
   "cell_type": "code",
   "execution_count": 29,
   "metadata": {},
   "outputs": [
    {
     "data": {
      "image/png": "[encoded data removed]",
      "text/plain": [
       "<Figure size 500x500 with 1 Axes>"
      ]
     },
     "metadata": {},
     "output_type": "display_data"
    }
   ],
   "source": [
    "import numpy as np\n",
    "import matplotlib.pyplot as plt\n",
    "\n",
    "x_neg = np.array([[3,4],[1,4],[2,3]])\n",
    "y_neg = np.array([-1,-1,-1])\n",
    "x_pos = np.array([[6,-1],[7,-1],[5,-3],[3,1]])\n",
    "y_pos = np.array([1,1,1,1])\n",
    "x1 = np.linspace(-10,10)\n",
    "x = np.vstack((np.linspace(-10,10),np.linspace(-10,10)))\n",
    "\n",
    "fig = plt.figure(figsize = (5,5))\n",
    "plt.scatter(x_neg[:,0], x_neg[:,1], marker = 'x', color = 'r', label = 'Negative -1')\n",
    "plt.scatter(x_pos[:,0], x_pos[:,1], marker = 'o', color = 'b',label = 'Positive +1')\n",
    "# plt.plot(x1, x1  - 3, color = 'darkblue', alpha = .6)\n",
    "plt.xlim(0,10)\n",
    "plt.ylim(-5,5)\n",
    "plt.xticks(np.arange(0, 10, step=1))\n",
    "plt.yticks(np.arange(-5, 5, step=1))\n",
    "\n",
    "#Lines\n",
    "plt.axvline(0, color = 'black', alpha = .5)\n",
    "plt.axhline(0,color = 'black', alpha = .5)\n",
    "\n",
    "\n",
    "plt.xlabel('$x_1$')\n",
    "plt.ylabel('$x_2$')\n",
    "\n",
    "plt.legend(loc = 'lower right')\n",
    "plt.grid()\n",
    "\n",
    "#New dataset (for later)\n",
    "X = np.array([[3,4],[1,4],[2,3],[6,-1],[7,-1],[5,-3],[3,1]] )\n",
    "y = np.array([-1,-1, -1, 1, 1 , 1, 1])"
   ]
  },
  {
   "cell_type": "markdown",
   "metadata": {},
   "source": [
    "For the soft margin SVM, the optimization problem can be slightly revised and be expressed as \n",
    "\n",
    "$$\n",
    "\\begin{aligned}\n",
    "    & \\max_{\\alpha} \\sum_i^m \\alpha^{(i)}  - \\frac{1}{2}  \\alpha^{\\top} \\mathbf{H}  \\alpha\n",
    "    \\\\\n",
    "     s.t. \\ \\ & 0 \\leq \\alpha^{(i)} \\leq C \n",
    "    \\\\\n",
    "    &  \\ \\sum_i^m \\alpha^{(i)} y^{(i)} = 0  \n",
    "\\end{aligned}\n",
    "$$\n",
    "\n",
    "which can be written in standard form as\n",
    "\n",
    "$$\n",
    "\\begin{aligned}\n",
    "    & \\min_{\\alpha}  \\frac{1}{2}  \\alpha^{\\top} \\mathbf{H}  \\alpha - 1^{\\top} \\alpha\n",
    "    \\\\\n",
    "     s.t. & \\ - \\alpha^{(i)} \\leq 0 \n",
    "    \\\\\n",
    "     & \\alpha^{(i)} \\leq C\n",
    "     \\\\\n",
    "     &\\ y^{\\top} \\alpha = 0  \n",
    "\\end{aligned}\n",
    "$$\n",
    "\n",
    "We translate this new constraint into standard form by concatenating below matrix $\\mathbf{G}$ a diagonal matrix of 1s of size $(m, m)$. Similarly for the vector $\\mathbf{h}$ to which the value of $\\mathbf{C}$ is added $m$ times.\n",
    "\n",
    "Note that in the simple example of $m=2$ the matrix $\\mathbf{G}$ and vector $\\mathbf{h}$ which define the constraint are:\n",
    "\n",
    "$$\n",
    "\\mathbf{G} = \\begin{bmatrix} -1 & 0 \\\\ 0 & -1 \\\\ 1 & 0 \\\\ 0 & 1\\end{bmatrix}\n",
    "$$\n",
    "\n",
    "$$\n",
    "\\mathbf{h} = \\begin{bmatrix} 0 \\\\ 0 \\\\ C \\\\ C \\end{bmatrix}\n",
    "$$\n",
    "\n"
   ]
  },
  {
   "cell_type": "code",
   "execution_count": 30,
   "metadata": {},
   "outputs": [
    {
     "name": "stdout",
     "output_type": "stream",
     "text": [
      "X:  [[ 3  4]\n",
      " [ 1  4]\n",
      " [ 2  3]\n",
      " [ 6 -1]\n",
      " [ 7 -1]\n",
      " [ 5 -3]\n",
      " [ 3  1]]\n",
      "Alphas:  [[3.31724130e-11]\n",
      " [1.67086585e-12]\n",
      " [4.00000000e-01]\n",
      " [2.92952486e-13]\n",
      " [2.51838723e-13]\n",
      " [5.22845095e-13]\n",
      " [4.00000000e-01]]\n",
      "X with alpha > 0:  [[2 3]\n",
      " [3 1]]\n",
      "w =  [ 0.4 -0.8]\n",
      "b =  [0.6]\n"
     ]
    }
   ],
   "source": [
    "from cvxopt import matrix as cvxopt_matrix\n",
    "from cvxopt import solvers as cvxopt_solvers\n",
    "\n",
    "#Initializing values and computing H. Note the 1. to force to float type\n",
    "C = 10\n",
    "m,n = X.shape\n",
    "y = y.reshape(-1,1) * 1.\n",
    "X_dash = y * X\n",
    "H = np.dot(X_dash , X_dash.T) * 1.\n",
    "\n",
    "#Converting into cvxopt format - as previously\n",
    "P = cvxopt_matrix(H)\n",
    "q = cvxopt_matrix(-np.ones((m, 1)))\n",
    "G = cvxopt_matrix(np.vstack((np.eye(m)*-1,np.eye(m))))\n",
    "h = cvxopt_matrix(np.hstack((np.zeros(m), np.ones(m) * C)))\n",
    "A = cvxopt_matrix(y.reshape(1, -1))\n",
    "b = cvxopt_matrix(np.zeros(1))\n",
    "\n",
    "#Run solver\n",
    "sol = cvxopt_solvers.qp(P, q, G, h, A, b)\n",
    "alphas = np.array(sol['x'])\n",
    "\n",
    "#==================Computing and printing parameters===============================#\n",
    "w = ((y * alphas).T @ X).reshape(-1,1)\n",
    "S = (alphas > 1e-4).flatten()\n",
    "b = y[S] - np.dot(X[S], w)\n",
    "\n",
    "#Display results\n",
    "print('X: ', X)\n",
    "print('Alphas: ', alphas)\n",
    "alphas_ix = alphas.reshape(-1, )\n",
    "print('X with alpha > 0: ', X[alphas_ix > 1e-4])\n",
    "print('w = ', w.flatten())\n",
    "print('b = ', b[0])"
   ]
  },
  {
   "cell_type": "markdown",
   "metadata": {},
   "source": [
    "## 3. Scratch: Implementing Kernels"
   ]
  },
  {
   "cell_type": "code",
   "execution_count": 31,
   "metadata": {},
   "outputs": [
    {
     "name": "stdout",
     "output_type": "stream",
     "text": [
      "Accuracy: 1.0\n"
     ]
    },
    {
     "data": {
      "image/png": "[encoded data removed]",
      "text/plain": [
       "<Figure size 640x480 with 1 Axes>"
      ]
     },
     "metadata": {},
     "output_type": "display_data"
    }
   ],
   "source": [
    "import cvxopt\n",
    "from sklearn import datasets\n",
    "\n",
    "#here I use z instead of xprime since I don't know how to write prime in code....\n",
    "def linear(x, z):\n",
    "    return np.dot(x, z.T)\n",
    "\n",
    "def polynomial(x, z, p=5):\n",
    "    return (1 + np.dot(x, z.T)) ** p\n",
    "\n",
    "def gaussian(x, z, sigma=0.1):\n",
    "    return np.exp(-np.linalg.norm(x - z, axis=1) ** 2 / (2 * (sigma ** 2)))\n",
    "\n",
    "def plot_contour(X, y, svm):\n",
    "    # plot the resulting classifier\n",
    "    h = 0.01\n",
    "    x_min, x_max = X[:, 0].min() - 1, X[:, 0].max() + 1\n",
    "    y_min, y_max = X[:, 1].min() - 1, X[:, 1].max() + 1\n",
    "\n",
    "    xx, yy = np.meshgrid(np.arange(x_min, x_max, h), np.arange(y_min, y_max, h))\n",
    "\n",
    "    points = np.c_[xx.ravel(), yy.ravel()]\n",
    "\n",
    "    Z = svm.predict(points)\n",
    "    Z = Z.reshape(xx.shape)\n",
    "    plt.contourf(xx, yy, Z, cmap=plt.cm.Spectral, alpha=0.8)\n",
    "\n",
    "    # plt the points\n",
    "    plt.scatter(X[:, 0], X[:, 1], c=y, s=40, cmap=plt.cm.Spectral)\n",
    "\n",
    "\n",
    "class SVM:\n",
    "    def __init__(self, kernel=gaussian, C=1):\n",
    "        self.kernel = kernel\n",
    "        self.C = C\n",
    "\n",
    "    def fit(self, X, y):\n",
    "        self.y = y\n",
    "        self.X = X\n",
    "        m, n = X.shape\n",
    "\n",
    "        # Calculate Kernel\n",
    "        self.K = np.zeros((m, m))\n",
    "        for i in range(m):\n",
    "            self.K[i, :] = self.kernel(X[i, np.newaxis], self.X)\n",
    "\n",
    "        # Solve with cvxopt final QP needs to be reformulated\n",
    "        # to match the input form for cvxopt.solvers.qp\n",
    "        P = cvxopt.matrix(np.outer(y, y) * self.K)\n",
    "        q = cvxopt.matrix(-np.ones((m, 1)))\n",
    "        G = cvxopt.matrix(np.vstack((np.eye(m) * -1, np.eye(m))))\n",
    "        h = cvxopt.matrix(np.hstack((np.zeros(m), np.ones(m) * self.C)))\n",
    "        A = cvxopt.matrix(y, (1, m), \"d\")\n",
    "        b = cvxopt.matrix(np.zeros(1))\n",
    "        cvxopt.solvers.options[\"show_progress\"] = False\n",
    "        sol = cvxopt.solvers.qp(P, q, G, h, A, b)\n",
    "        self.alphas = np.array(sol[\"x\"])\n",
    "\n",
    "    def predict(self, X):  #<----this is X_test\n",
    "        y_predict = np.zeros((X.shape[0]))\n",
    "        sv = self.get_parameters(self.alphas)\n",
    "\n",
    "        for i in range(X.shape[0]):\n",
    "            y_predict[i] = np.sum(\n",
    "                self.alphas[sv]\n",
    "                * self.y[sv, np.newaxis]\n",
    "                * self.kernel(X[i], self.X[sv])[:, np.newaxis]\n",
    "            )\n",
    "\n",
    "        return np.sign(y_predict + self.b)\n",
    "\n",
    "    def get_parameters(self, alphas):\n",
    "        threshold = 1e-5\n",
    "\n",
    "        sv = ((alphas > threshold) * (alphas < self.C)).flatten()\n",
    "        self.w = np.dot(self.X[sv].T, alphas[sv] * self.y[sv, np.newaxis])\n",
    "        self.b = np.mean(\n",
    "            self.y[sv, np.newaxis]\n",
    "            - self.alphas[sv] * self.y[sv, np.newaxis] * self.K[sv, sv][:, np.newaxis]\n",
    "        )\n",
    "        return sv\n",
    "    \n",
    "if __name__ == \"__main__\":\n",
    "    X, y = datasets.make_moons(50)\n",
    "    \n",
    "    #transform our y to be -1 and 1 to meet svm purpose\n",
    "    y[y==0] = -1\n",
    "    \n",
    "    svm = SVM(kernel=gaussian)\n",
    "    svm.fit(X, y)\n",
    "    y_pred = svm.predict(X)\n",
    "    plot_contour(X, y, svm)\n",
    "\n",
    "    print(f\"Accuracy: {sum(y==y_pred)/y.shape[0]}\")"
   ]
  }
 ],
 "metadata": {
  "kernelspec": {
   "display_name": "Python 3",
   "language": "python",
   "name": "python3"
  },
  "language_info": {
   "codemirror_mode": {
    "name": "ipython",
    "version": 3
   },
   "file_extension": ".py",
   "mimetype": "text/x-python",
   "name": "python",
   "nbconvert_exporter": "python",
   "pygments_lexer": "ipython3",
   "version": "3.11.2"
  }
 },
 "nbformat": 4,
 "nbformat_minor": 4
}
