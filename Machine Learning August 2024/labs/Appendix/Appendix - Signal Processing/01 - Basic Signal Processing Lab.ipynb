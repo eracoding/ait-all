{
 "cells": [
  {
   "cell_type": "markdown",
   "metadata": {},
   "source": [
    "# Lab: Basic Signal Processing\n",
    "\n",
    "Now that you are all understand sine wave, let's get started the lab.\n",
    "\n",
    "<u>Objective</u>\n",
    "1. To get you familiar with basic of signal\n",
    "2. To play with the fundamental/theory of signal"
   ]
  },
  {
   "cell_type": "code",
   "execution_count": null,
   "metadata": {},
   "outputs": [],
   "source": [
    "import numpy as np\n",
    "import matplotlib.pyplot as plt\n",
    "plt.style.use('seaborn-whitegrid')"
   ]
  },
  {
   "cell_type": "markdown",
   "metadata": {},
   "source": [
    "## Task 1\n",
    "\n",
    "Create a 5-cycle 5Hz sine wave using a sampling rate of 100 Hz. Plot the result with appropriate axis."
   ]
  },
  {
   "cell_type": "markdown",
   "metadata": {},
   "source": [
    "## Task 2\n",
    "\n",
    "Create another 3-cycle of 5Hz sine wave using a sampling rate of 100 Hz.\n",
    "\n",
    "Perform an addition with the 5-cycle sine wave from task 1.\n",
    "\n",
    "Plot the result.\n",
    "\n",
    "*Hint: The array size of 3-cycle and 5-cycle is not equal. You may need to extend the array size of 3-cycle with zeros.*"
   ]
  },
  {
   "cell_type": "markdown",
   "metadata": {},
   "source": [
    "## Task 3\n",
    "\n",
    "Create the same 5-cycle 5 Hz sine wave using a sampling rate of 100 Hz (like task 1) but this time, it has a phase of 180 degree.\n",
    "\n",
    "Like Task 2, perform an addition between task-1 sine wave and task-3 sine wave.\n",
    "\n",
    "Plot the result."
   ]
  },
  {
   "cell_type": "markdown",
   "metadata": {},
   "source": [
    "## Task 4\n",
    "\n",
    "Explain what happen in the last 3 tasks.\n",
    "\n",
    "*Hint: Wave interference*"
   ]
  },
  {
   "cell_type": "markdown",
   "metadata": {},
   "source": [
    "## Task 5\n",
    "\n",
    "Create a 0 Hz sine wave using a sampling rate of 100 Hz.\n",
    "\n",
    "Plot the result."
   ]
  },
  {
   "cell_type": "markdown",
   "metadata": {},
   "source": [
    "## Task 6\n",
    "\n",
    "What is 0 Hz sine wave?"
   ]
  },
  {
   "cell_type": "markdown",
   "metadata": {},
   "source": [
    "## Task 7\n",
    "\n",
    "Add 5 to the task-1 sine wave.\n",
    "\n",
    "Plot the result."
   ]
  },
  {
   "cell_type": "markdown",
   "metadata": {},
   "source": [
    "## Task 8\n",
    "\n",
    "What is `5`?"
   ]
  },
  {
   "cell_type": "markdown",
   "metadata": {},
   "source": [
    "## Task 9\n",
    "\n",
    "Create a 95 Hz sine wave using a sampling rate of 100 Hz. The range of the sampling is 1 second."
   ]
  },
  {
   "cell_type": "markdown",
   "metadata": {},
   "source": [
    "## Task 10\n",
    "\n",
    "Create a 105 Hz sine wave using a sampling rate of 100 Hz. The range of the sampling is 1 second."
   ]
  },
  {
   "cell_type": "markdown",
   "metadata": {},
   "source": [
    "## Task 11\n",
    "\n",
    "Explain Task 9 and 10.\n",
    "\n",
    "*Hint: signal aliasing*"
   ]
  },
  {
   "cell_type": "markdown",
   "metadata": {},
   "source": [
    "## Task 12\n",
    "\n",
    "The code below is a function to generate any list/array into a `.wav` file which you can listen to.\n",
    "\n",
    "This task is easy, run the code and open the `440Hz.wav` and listen to the 440Hz sound."
   ]
  },
  {
   "cell_type": "code",
   "execution_count": null,
   "metadata": {},
   "outputs": [],
   "source": [
    "#!/usr/bin/python \n",
    "# based on : www.daniweb.com/code/snippet263775.html\n",
    "import wave\n",
    "import struct\n",
    "\n",
    "def save_wav(audio, file_name, fs=8000):\n",
    "    # Open up a wav file\n",
    "    wav_file=wave.open(file_name,\"w\")\n",
    "\n",
    "    # wav params\n",
    "    nchannels = 1\n",
    "    sampwidth = 2\n",
    "    # 44100 is the industry standard sample rate - CD quality.  If you need to\n",
    "    # save on file size you can adjust it downwards. The stanard for low quality\n",
    "    # is 8000 or 8kHz.\n",
    "    nframes = len(audio)\n",
    "    comptype = \"NONE\"\n",
    "    compname = \"not compressed\"\n",
    "    wav_file.setparams((nchannels, sampwidth, fs, nframes, comptype, compname))\n",
    "\n",
    "    # WAV files here are using short, 16 bit, signed integers for the \n",
    "    # sample size.  So we multiply the floating point data we have by 32767, the\n",
    "    # maximum value for a short integer.  NOTE: It is theortically possible to\n",
    "    # use the floating point -1.0 to 1.0 data directly in a WAV file but not\n",
    "    # obvious how to do that using the wave module in python.\n",
    "    for sample in audio:\n",
    "        wav_file.writeframes(struct.pack('h', int( sample * 32767.0 )))\n",
    "    wav_file.close()\n",
    "    return"
   ]
  },
  {
   "cell_type": "code",
   "execution_count": null,
   "metadata": {},
   "outputs": [],
   "source": [
    "fs = 8000 #Hz\n",
    "t = np.arange(start=0, stop=1 + 1/fs, step=1/fs)\n",
    "x = np.sin(2 * np.pi * 440 * t + 0)\n",
    "\n",
    "save_wav(x, './sound/sine_440hz.wav',fs=fs)"
   ]
  },
  {
   "cell_type": "markdown",
   "metadata": {},
   "source": [
    "## Task 13\n",
    "\n",
    "Now, use the lecture file as a guide to create a 440Hz of triangle wave for 1 second with sampling rate of 8000 Hz.\n",
    "\n",
    "Plot the triangle, create a wav file and listen to it. (be careful with the amplitude, make sure you are not exceeding 1)\n",
    "\n",
    "*Tip: When plot, use plt.xlim(0, 10/440) to zoom into the first 10 triangles.*"
   ]
  },
  {
   "cell_type": "markdown",
   "metadata": {},
   "source": [
    "## Task 14\n",
    "\n",
    "Repeat the task 13, but, this time, create a square wave.\n",
    "\n",
    "Be careful with the frequency of the harmonic, make sure it does not exceed the fs/2\n",
    "\n",
    "Limit the peak of the square to 0.2. It is quite loud."
   ]
  },
  {
   "cell_type": "markdown",
   "metadata": {},
   "source": [
    "## Task 15\n",
    "\n",
    "Finally, we can kind of mimic the square wave by limit the peak of the sine wave.\n",
    "\n",
    "Create a 440 Hz sine wave with a sampling rate of 8000 Hz (just like Task 12).\n",
    "\n",
    "Then, limit the amplitude to $\\pm$ 0.2.\n",
    "\n",
    "Does it sound like the square wave we create earlier?"
   ]
  }
 ],
 "metadata": {
  "kernelspec": {
   "display_name": "Python 3.8.10 ('.venv': pipenv)",
   "language": "python",
   "name": "python3"
  },
  "language_info": {
   "codemirror_mode": {
    "name": "ipython",
    "version": 3
   },
   "file_extension": ".py",
   "mimetype": "text/x-python",
   "name": "python",
   "nbconvert_exporter": "python",
   "pygments_lexer": "ipython3",
   "version": "3.8.10"
  },
  "orig_nbformat": 4,
  "vscode": {
   "interpreter": {
    "hash": "27768773b483d82a9b2b839e3fa80b1be5789db7fd78df4eedef2df266871616"
   }
  }
 },
 "nbformat": 4,
 "nbformat_minor": 2
}
