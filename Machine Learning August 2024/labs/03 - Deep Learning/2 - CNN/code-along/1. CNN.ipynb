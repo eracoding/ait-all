{
 "cells": [
  {
   "cell_type": "markdown",
   "metadata": {},
   "source": [
    "# PyTorch - CNN"
   ]
  },
  {
   "cell_type": "code",
   "execution_count": 1,
   "metadata": {},
   "outputs": [],
   "source": [
    "import torch\n",
    "import torch.nn as nn #defining neural network\n",
    "import torch.nn.functional as F #helper\n",
    "from torch.utils.data import DataLoader #batching\n",
    "from torchvision import datasets, transforms #loading datasets\n",
    "from torchvision.utils import make_grid  #for visualization\n",
    "\n",
    "import numpy as np\n",
    "import pandas as pd\n",
    "from sklearn.metrics import confusion_matrix\n",
    "import matplotlib.pyplot as plt"
   ]
  },
  {
   "cell_type": "code",
   "execution_count": 2,
   "metadata": {},
   "outputs": [
    {
     "data": {
      "text/plain": [
       "'0.16.0'"
      ]
     },
     "execution_count": 2,
     "metadata": {},
     "output_type": "execute_result"
    }
   ],
   "source": [
    "# !pip install torchvision\n",
    "import torchvision\n",
    "torchvision.__version__"
   ]
  },
  {
   "cell_type": "code",
   "execution_count": 3,
   "metadata": {},
   "outputs": [
    {
     "data": {
      "text/plain": [
       "<torch._C.Generator at 0x10afe2150>"
      ]
     },
     "execution_count": 3,
     "metadata": {},
     "output_type": "execute_result"
    }
   ],
   "source": [
    "#to help serve as \"alternative\" cross-validation in deep learning\n",
    "torch.manual_seed(22)"
   ]
  },
  {
   "cell_type": "markdown",
   "metadata": {},
   "source": [
    "## 1. Load the dataset"
   ]
  },
  {
   "cell_type": "code",
   "execution_count": 4,
   "metadata": {},
   "outputs": [],
   "source": [
    "#define some transforms (convert 0-255 to 0-1)\n",
    "transform = transforms.ToTensor()\n",
    "#if you want to crop the image, rotate the image; they are all done in this transform\n",
    "\n",
    "#use pytorch datasets to load MNIST - dataset of digit images\n",
    "#train\n",
    "train_data = datasets.MNIST(root='data', train=True, download=True, transform=transform)\n",
    "\n",
    "#validation set\n",
    "train_set, val_set = torch.utils.data.random_split(train_data, [50000, 10000])\n",
    "\n",
    "#test\n",
    "test_data  = datasets.MNIST(root='data', train=False, download=True, transform=transform)"
   ]
  },
  {
   "cell_type": "code",
   "execution_count": 5,
   "metadata": {},
   "outputs": [
    {
     "data": {
      "text/plain": [
       "<torch.utils.data.dataset.Subset at 0x157c57910>"
      ]
     },
     "execution_count": 5,
     "metadata": {},
     "output_type": "execute_result"
    }
   ],
   "source": [
    "val_set"
   ]
  },
  {
   "cell_type": "markdown",
   "metadata": {},
   "source": [
    "## 2. Dataloaders"
   ]
  },
  {
   "cell_type": "code",
   "execution_count": 6,
   "metadata": {},
   "outputs": [],
   "source": [
    "#CUDA out of memory"
   ]
  },
  {
   "cell_type": "code",
   "execution_count": 7,
   "metadata": {},
   "outputs": [],
   "source": [
    "train_loader = DataLoader(train_set, batch_size=64, shuffle=True)  #this shuffle will depend on our seed\n",
    "val_loader   = DataLoader(val_set,   batch_size=64, shuffle=True)\n",
    "test_loader  = DataLoader(test_data, batch_size=10000, shuffle=False) #because no training"
   ]
  },
  {
   "cell_type": "code",
   "execution_count": 8,
   "metadata": {},
   "outputs": [
    {
     "data": {
      "text/plain": [
       "782"
      ]
     },
     "execution_count": 8,
     "metadata": {},
     "output_type": "execute_result"
    }
   ],
   "source": [
    "len(train_loader)  #782 * 64 = 50,048 = 50000 + 48"
   ]
  },
  {
   "cell_type": "code",
   "execution_count": 9,
   "metadata": {},
   "outputs": [
    {
     "data": {
      "text/plain": [
       "3"
      ]
     },
     "execution_count": 9,
     "metadata": {},
     "output_type": "execute_result"
    },
    {
     "data": {
      "image/png": "[encoded data removed]",
      "text/plain": [
       "<Figure size 200x200 with 1 Axes>"
      ]
     },
     "metadata": {},
     "output_type": "display_data"
    }
   ],
   "source": [
    "for images, labels in train_loader:  #taking 64 images, corresponding 64 labels\n",
    "    break\n",
    "\n",
    "images.shape #(64 images, 1 channel, height, width)\n",
    "labels.shape #(class for the 64 images)\n",
    "\n",
    "the_image = images[0]\n",
    "the_image = np.transpose(the_image, (1, 2, 0))\n",
    "the_image.shape\n",
    "plt.figure(figsize=(2, 2))\n",
    "plt.imshow(the_image) #(h, w, c)\n",
    "\n",
    "labels[0].item()"
   ]
  },
  {
   "cell_type": "markdown",
   "metadata": {},
   "source": [
    "## 3. Define the network"
   ]
  },
  {
   "cell_type": "code",
   "execution_count": 10,
   "metadata": {},
   "outputs": [
    {
     "data": {
      "text/plain": [
       "torch.Size([64, 1, 28, 28])"
      ]
     },
     "execution_count": 10,
     "metadata": {},
     "output_type": "execute_result"
    }
   ],
   "source": [
    "images.shape #input (bs, ch, h, w)"
   ]
  },
  {
   "cell_type": "code",
   "execution_count": 11,
   "metadata": {},
   "outputs": [],
   "source": [
    "#understanding the relationship between the input and convolutional layer -> output\n",
    "#conv1d = time series, language, signal\n",
    "#conv2d = images, spectrograms\n",
    "# layer1 = nn.Con\n",
    "# nn.Conv2d(in_channels=1, out_channels=3, kernel_size=3, stride=1, padding=1)\n",
    "layer1 = nn.Conv2d(1, 1, 3, 1, 1)"
   ]
  },
  {
   "cell_type": "markdown",
   "metadata": {},
   "source": [
    "$$O = \\frac{I-F+2P}{S} + 1$$\n",
    "\n",
    "I = image width/height, F = filter size, P = padding, S = stride, O = output width/height"
   ]
  },
  {
   "cell_type": "code",
   "execution_count": 12,
   "metadata": {},
   "outputs": [
    {
     "data": {
      "text/plain": [
       "torch.Size([64, 1, 28, 28])"
      ]
     },
     "execution_count": 12,
     "metadata": {},
     "output_type": "execute_result"
    }
   ],
   "source": [
    "#how to pass something into this layer\n",
    "output = layer1(images)\n",
    "output.shape #(bs, out_channel, h, w)"
   ]
  },
  {
   "cell_type": "code",
   "execution_count": 13,
   "metadata": {},
   "outputs": [
    {
     "data": {
      "text/plain": [
       "torch.Size([64, 120])"
      ]
     },
     "execution_count": 13,
     "metadata": {},
     "output_type": "execute_result"
    }
   ],
   "source": [
    "layer1 = nn.Conv2d(1, 5, 3, 1, 1)\n",
    "layer2 = nn.Conv2d(5, 10, 3, 1, 1)\n",
    "layer3 = nn.Linear(10 * 28 * 28, 120)\n",
    "out = layer2(layer1(images))\n",
    "out = out.reshape((-1, 10*28*28))\n",
    "out2 = layer3(out)\n",
    "out2.shape"
   ]
  },
  {
   "cell_type": "code",
   "execution_count": 14,
   "metadata": {},
   "outputs": [],
   "source": [
    "class Chaky_CNN(nn.Module):\n",
    "    \n",
    "    def __init__(self): #init all hyperparameters and layers\n",
    "        super().__init__() #inherit everything from nn.Module\n",
    "        self.layer1 = nn.Conv2d(1, 5, 3, 1, 1) \n",
    "        self.layer2 = nn.Conv2d(5, 10, 3, 1, 1)\n",
    "        self.layer3 = nn.Linear(10 * 28 * 28, 120)\n",
    "        self.layer4 = nn.Linear(120, 84) #why 120, 84 - chaky examples\n",
    "        self.layer5 = nn.Linear(84, 10)  #why 10, 10 classes\n",
    "        \n",
    "    def forward(self, images):  #performing the forward pass through all layers\n",
    "        out = F.relu(self.layer1(images))\n",
    "        out = F.relu(self.layer2(out))\n",
    "        out = out.reshape((-1, 10*28*28))\n",
    "        out = F.relu(self.layer3(out))\n",
    "        out = F.relu(self.layer4(out))\n",
    "        out = self.layer5(out)\n",
    "        return out        "
   ]
  },
  {
   "cell_type": "code",
   "execution_count": 15,
   "metadata": {},
   "outputs": [
    {
     "data": {
      "text/plain": [
       "torch.Size([64, 10])"
      ]
     },
     "execution_count": 15,
     "metadata": {},
     "output_type": "execute_result"
    }
   ],
   "source": [
    "#test first\n",
    "chaky_model = Chaky_CNN()\n",
    "output      = chaky_model(images)\n",
    "output.shape"
   ]
  },
  {
   "cell_type": "code",
   "execution_count": 16,
   "metadata": {},
   "outputs": [],
   "source": [
    "#skip counting the parameters"
   ]
  },
  {
   "cell_type": "markdown",
   "metadata": {},
   "source": [
    "## 4. Define the loss and optimizer"
   ]
  },
  {
   "cell_type": "code",
   "execution_count": 20,
   "metadata": {},
   "outputs": [],
   "source": [
    "criterion = nn.CrossEntropyLoss()\n",
    "optimizer = torch.optim.Adam(chaky_model.parameters(), lr=0.01)"
   ]
  },
  {
   "cell_type": "markdown",
   "metadata": {},
   "source": [
    "## 5. Train!!"
   ]
  },
  {
   "cell_type": "code",
   "execution_count": 24,
   "metadata": {},
   "outputs": [],
   "source": [
    "num_epochs = 1\n",
    "for i in range(num_epochs):\n",
    "    for images, labels in train_loader:\n",
    "        y_hat = chaky_model(images)\n",
    "        loss  = criterion(y_hat, labels)\n",
    "        optimizer.zero_grad()\n",
    "        loss.backward()\n",
    "        optimizer.step()"
   ]
  },
  {
   "cell_type": "code",
   "execution_count": 26,
   "metadata": {},
   "outputs": [
    {
     "data": {
      "text/plain": [
       "0.01282444130629301"
      ]
     },
     "execution_count": 26,
     "metadata": {},
     "output_type": "execute_result"
    }
   ],
   "source": [
    "loss.item()"
   ]
  },
  {
   "cell_type": "markdown",
   "metadata": {},
   "source": [
    "## 6. Testing"
   ]
  },
  {
   "cell_type": "code",
   "execution_count": 27,
   "metadata": {},
   "outputs": [
    {
     "name": "stdout",
     "output_type": "stream",
     "text": [
      "Cross Entrophy Loss:  0.08785514533519745\n"
     ]
    }
   ],
   "source": [
    "chaky_model.eval() #this will turn off dropout, batch norm\n",
    "with torch.no_grad():  #this will turn off gradient calculations\n",
    "    for images, labels in test_loader:\n",
    "        y_hat = chaky_model(images)\n",
    "        loss = criterion(y_hat, labels)\n",
    "        \n",
    "print(\"Cross Entrophy Loss: \", loss.item())"
   ]
  },
  {
   "cell_type": "markdown",
   "metadata": {},
   "source": [
    "## 7. Analysis"
   ]
  },
  {
   "cell_type": "code",
   "execution_count": 34,
   "metadata": {},
   "outputs": [
    {
     "data": {
      "text/plain": [
       "torch.Size([10000])"
      ]
     },
     "execution_count": 34,
     "metadata": {},
     "output_type": "execute_result"
    }
   ],
   "source": [
    "y_hat_pred = torch.max(y_hat, 1)[1]\n",
    "y_hat_pred.shape"
   ]
  },
  {
   "cell_type": "code",
   "execution_count": 35,
   "metadata": {},
   "outputs": [
    {
     "data": {
      "text/plain": [
       "array([[ 969,    0,   14,    1,    0,    3,    8,    1,    4,    6],\n",
       "       [   0, 1127,    1,    0,    0,    0,    6,    5,    1,    1],\n",
       "       [   3,    1,  995,    2,    1,    0,    0,    6,    6,    0],\n",
       "       [   0,    2,    4,  997,    0,   11,    1,    2,    1,    1],\n",
       "       [   1,    1,    2,    0,  974,    0,   17,    0,    9,   24],\n",
       "       [   3,    0,    0,    0,    0,  867,    6,    0,    2,    2],\n",
       "       [   1,    0,    0,    0,    0,    5,  918,    0,    0,    0],\n",
       "       [   2,    2,   15,    6,    3,    4,    0, 1013,    8,   22],\n",
       "       [   1,    2,    1,    3,    1,    0,    2,    0,  933,    0],\n",
       "       [   0,    0,    0,    1,    3,    2,    0,    1,   10,  953]])"
      ]
     },
     "execution_count": 35,
     "metadata": {},
     "output_type": "execute_result"
    }
   ],
   "source": [
    "#confusion matrix\n",
    "confusion_matrix(y_hat_pred, labels)"
   ]
  },
  {
   "cell_type": "markdown",
   "metadata": {},
   "source": [
    "## 8. Inference"
   ]
  },
  {
   "cell_type": "code",
   "execution_count": 39,
   "metadata": {},
   "outputs": [
    {
     "data": {
      "text/plain": [
       "7"
      ]
     },
     "execution_count": 39,
     "metadata": {},
     "output_type": "execute_result"
    }
   ],
   "source": [
    "test_data[0][0].shape\n",
    "test_data[0][1]"
   ]
  },
  {
   "cell_type": "code",
   "execution_count": 41,
   "metadata": {},
   "outputs": [],
   "source": [
    "# plt.imshow(np.transpose(test_data[0][0], (1, 2, 0)))"
   ]
  },
  {
   "cell_type": "code",
   "execution_count": 42,
   "metadata": {},
   "outputs": [],
   "source": [
    "pred = chaky_model(test_data[0][0])"
   ]
  },
  {
   "cell_type": "code",
   "execution_count": 45,
   "metadata": {},
   "outputs": [
    {
     "data": {
      "text/plain": [
       "tensor([[-11.9412,  -2.8596,   3.3668,  -1.0450,  -6.3315,  -8.5397, -27.3065,\n",
       "          18.4977,  -8.6600,  -0.6668]], grad_fn=<AddmmBackward0>)"
      ]
     },
     "execution_count": 45,
     "metadata": {},
     "output_type": "execute_result"
    }
   ],
   "source": [
    "pred"
   ]
  }
 ],
 "metadata": {
  "kernelspec": {
   "display_name": ".venv",
   "language": "python",
   "name": "python3"
  },
  "language_info": {
   "codemirror_mode": {
    "name": "ipython",
    "version": 3
   },
   "file_extension": ".py",
   "mimetype": "text/x-python",
   "name": "python",
   "nbconvert_exporter": "python",
   "pygments_lexer": "ipython3",
   "version": "3.11.2"
  }
 },
 "nbformat": 4,
 "nbformat_minor": 2
}
