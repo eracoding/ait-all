{
 "cells": [
  {
   "attachments": {},
   "cell_type": "markdown",
   "metadata": {},
   "source": [
    "# Datasets with PyTorch"
   ]
  },
  {
   "cell_type": "code",
   "execution_count": 1,
   "metadata": {},
   "outputs": [],
   "source": [
    "import torch\n",
    "import numpy as np\n",
    "import pandas as pd\n",
    "import matplotlib.pyplot as plt\n",
    "%matplotlib inline"
   ]
  },
  {
   "cell_type": "markdown",
   "metadata": {},
   "source": [
    "## Loading data from files\n",
    "We've seen how to load NumPy arrays into PyTorch, and anyone familiar with <tt>pandas.read_csv()</tt> can use it to prepare data before forming tensors."
   ]
  },
  {
   "cell_type": "code",
   "execution_count": 2,
   "metadata": {},
   "outputs": [
    {
     "data": {
      "text/html": [
       "<div>\n",
       "<style scoped>\n",
       "    .dataframe tbody tr th:only-of-type {\n",
       "        vertical-align: middle;\n",
       "    }\n",
       "\n",
       "    .dataframe tbody tr th {\n",
       "        vertical-align: top;\n",
       "    }\n",
       "\n",
       "    .dataframe thead th {\n",
       "        text-align: right;\n",
       "    }\n",
       "</style>\n",
       "<table border=\"1\" class=\"dataframe\">\n",
       "  <thead>\n",
       "    <tr style=\"text-align: right;\">\n",
       "      <th></th>\n",
       "      <th>Id</th>\n",
       "      <th>SepalLengthCm</th>\n",
       "      <th>SepalWidthCm</th>\n",
       "      <th>PetalLengthCm</th>\n",
       "      <th>PetalWidthCm</th>\n",
       "      <th>Species</th>\n",
       "    </tr>\n",
       "  </thead>\n",
       "  <tbody>\n",
       "    <tr>\n",
       "      <th>0</th>\n",
       "      <td>1</td>\n",
       "      <td>5.1</td>\n",
       "      <td>3.5</td>\n",
       "      <td>1.4</td>\n",
       "      <td>0.2</td>\n",
       "      <td>Iris-setosa</td>\n",
       "    </tr>\n",
       "    <tr>\n",
       "      <th>1</th>\n",
       "      <td>2</td>\n",
       "      <td>4.9</td>\n",
       "      <td>3.0</td>\n",
       "      <td>1.4</td>\n",
       "      <td>0.2</td>\n",
       "      <td>Iris-setosa</td>\n",
       "    </tr>\n",
       "    <tr>\n",
       "      <th>2</th>\n",
       "      <td>3</td>\n",
       "      <td>4.7</td>\n",
       "      <td>3.2</td>\n",
       "      <td>1.3</td>\n",
       "      <td>0.2</td>\n",
       "      <td>Iris-setosa</td>\n",
       "    </tr>\n",
       "    <tr>\n",
       "      <th>3</th>\n",
       "      <td>4</td>\n",
       "      <td>4.6</td>\n",
       "      <td>3.1</td>\n",
       "      <td>1.5</td>\n",
       "      <td>0.2</td>\n",
       "      <td>Iris-setosa</td>\n",
       "    </tr>\n",
       "    <tr>\n",
       "      <th>4</th>\n",
       "      <td>5</td>\n",
       "      <td>5.0</td>\n",
       "      <td>3.6</td>\n",
       "      <td>1.4</td>\n",
       "      <td>0.2</td>\n",
       "      <td>Iris-setosa</td>\n",
       "    </tr>\n",
       "  </tbody>\n",
       "</table>\n",
       "</div>"
      ],
      "text/plain": [
       "   Id  SepalLengthCm  SepalWidthCm  PetalLengthCm  PetalWidthCm      Species\n",
       "0   1            5.1           3.5            1.4           0.2  Iris-setosa\n",
       "1   2            4.9           3.0            1.4           0.2  Iris-setosa\n",
       "2   3            4.7           3.2            1.3           0.2  Iris-setosa\n",
       "3   4            4.6           3.1            1.5           0.2  Iris-setosa\n",
       "4   5            5.0           3.6            1.4           0.2  Iris-setosa"
      ]
     },
     "execution_count": 2,
     "metadata": {},
     "output_type": "execute_result"
    }
   ],
   "source": [
    "df = pd.read_csv('data/iris.csv')\n",
    "df.head()"
   ]
  },
  {
   "cell_type": "code",
   "execution_count": 3,
   "metadata": {},
   "outputs": [
    {
     "data": {
      "text/plain": [
       "(100, 6)"
      ]
     },
     "execution_count": 3,
     "metadata": {},
     "output_type": "execute_result"
    }
   ],
   "source": [
    "df.shape"
   ]
  },
  {
   "cell_type": "markdown",
   "metadata": {},
   "source": [
    "The iris dataset consists of 50 samples each from three species of Iris (<em>Iris setosa</em>, <em>Iris virginica</em> and <em>Iris versicolor</em>), for 150 total samples. We have four features (sepal length & width, petal length & width) and three unique labels:\n",
    "0. <em>Iris setosa</em>\n",
    "1. <em>Iris virginica</em>\n",
    "2. <em>Iris versicolor</em>\n",
    "\n",
    "### The classic method for building train/test split tensors\n",
    "Before introducing PyTorch's Dataset and DataLoader classes, we'll take a quick look at the alternative."
   ]
  },
  {
   "cell_type": "code",
   "execution_count": 4,
   "metadata": {},
   "outputs": [],
   "source": [
    "from sklearn.model_selection import train_test_split\n",
    "from sklearn.preprocessing import LabelEncoder\n",
    "\n",
    "le = LabelEncoder()\n",
    "\n",
    "df = pd.read_csv('data/iris.csv')\n",
    "X = df.drop(['Id', 'Species'],axis=1).values\n",
    "y = le.fit_transform(df['Species'].values)\n",
    "train_X, test_X, train_y, test_y = train_test_split(X,y,test_size=0.2,random_state=33)\n",
    "\n",
    "X_train = torch.FloatTensor(train_X)\n",
    "X_test  = torch.FloatTensor(test_X)\n",
    "y_train = torch.LongTensor(train_y).reshape(-1, 1)\n",
    "y_test  = torch.LongTensor(test_y).reshape(-1, 1)"
   ]
  },
  {
   "cell_type": "code",
   "execution_count": 5,
   "metadata": {},
   "outputs": [
    {
     "name": "stdout",
     "output_type": "stream",
     "text": [
      "Training size: 80\n",
      "Labels: tensor([0, 1])\n",
      "Counts: tensor([44, 36])\n"
     ]
    }
   ],
   "source": [
    "print(f'Training size: {len(y_train)}')\n",
    "labels, counts = y_train.unique(return_counts=True)\n",
    "print(f'Labels: {labels}\\nCounts: {counts}')"
   ]
  },
  {
   "cell_type": "markdown",
   "metadata": {},
   "source": [
    "## Using PyTorch's Dataset and DataLoader classes\n",
    "A far better alternative is to leverage PyTorch's <a href='https://pytorch.org/docs/stable/data.html'><strong><tt>Dataset</tt></strong></a> and <a href='https://pytorch.org/docs/stable/data.html#torch.utils.data.DataLoader'><strong><tt>DataLoader</strong></tt></a> classes.\n",
    "\n",
    "Usually, to set up a Dataset specific to our investigation we would define our own custom class that inherits from <tt>torch.utils.data.Dataset</tt> (we'll do this in the CNN section). For now, we can use the built-in <a href='https://pytorch.org/docs/stable/data.html#torch.utils.data.TensorDataset'><strong><tt>TensorDataset</tt></strong></a> class."
   ]
  },
  {
   "cell_type": "code",
   "execution_count": 6,
   "metadata": {},
   "outputs": [],
   "source": [
    "from torch.utils.data import TensorDataset, DataLoader\n",
    "\n",
    "data = df.drop(['Id', 'Species'],axis=1).values\n",
    "labels = le.fit_transform(df['Species'].values)\n",
    "\n",
    "iris = TensorDataset(torch.FloatTensor(data),torch.LongTensor(labels))"
   ]
  },
  {
   "cell_type": "code",
   "execution_count": 7,
   "metadata": {},
   "outputs": [
    {
     "data": {
      "text/plain": [
       "100"
      ]
     },
     "execution_count": 7,
     "metadata": {},
     "output_type": "execute_result"
    }
   ],
   "source": [
    "len(iris)"
   ]
  },
  {
   "cell_type": "code",
   "execution_count": 8,
   "metadata": {},
   "outputs": [
    {
     "data": {
      "text/plain": [
       "torch.utils.data.dataset.TensorDataset"
      ]
     },
     "execution_count": 8,
     "metadata": {},
     "output_type": "execute_result"
    }
   ],
   "source": [
    "type(iris)"
   ]
  },
  {
   "cell_type": "code",
   "execution_count": 9,
   "metadata": {},
   "outputs": [
    {
     "name": "stdout",
     "output_type": "stream",
     "text": [
      "(tensor([5.1000, 3.5000, 1.4000, 0.2000]), tensor(0))\n",
      "(tensor([4.9000, 3.0000, 1.4000, 0.2000]), tensor(0))\n",
      "(tensor([4.7000, 3.2000, 1.3000, 0.2000]), tensor(0))\n",
      "(tensor([4.6000, 3.1000, 1.5000, 0.2000]), tensor(0))\n",
      "(tensor([5.0000, 3.6000, 1.4000, 0.2000]), tensor(0))\n",
      "(tensor([5.4000, 3.9000, 1.7000, 0.4000]), tensor(0))\n",
      "(tensor([4.6000, 3.4000, 1.4000, 0.3000]), tensor(0))\n",
      "(tensor([5.0000, 3.4000, 1.5000, 0.2000]), tensor(0))\n",
      "(tensor([4.4000, 2.9000, 1.4000, 0.2000]), tensor(0))\n",
      "(tensor([4.9000, 3.1000, 1.5000, 0.1000]), tensor(0))\n",
      "(tensor([5.4000, 3.7000, 1.5000, 0.2000]), tensor(0))\n",
      "(tensor([4.8000, 3.4000, 1.6000, 0.2000]), tensor(0))\n",
      "(tensor([4.8000, 3.0000, 1.4000, 0.1000]), tensor(0))\n",
      "(tensor([4.3000, 3.0000, 1.1000, 0.1000]), tensor(0))\n",
      "(tensor([5.8000, 4.0000, 1.2000, 0.2000]), tensor(0))\n",
      "(tensor([5.7000, 4.4000, 1.5000, 0.4000]), tensor(0))\n",
      "(tensor([5.4000, 3.9000, 1.3000, 0.4000]), tensor(0))\n",
      "(tensor([5.1000, 3.5000, 1.4000, 0.3000]), tensor(0))\n",
      "(tensor([5.7000, 3.8000, 1.7000, 0.3000]), tensor(0))\n",
      "(tensor([5.1000, 3.8000, 1.5000, 0.3000]), tensor(0))\n",
      "(tensor([5.4000, 3.4000, 1.7000, 0.2000]), tensor(0))\n",
      "(tensor([5.1000, 3.7000, 1.5000, 0.4000]), tensor(0))\n",
      "(tensor([4.6000, 3.6000, 1.0000, 0.2000]), tensor(0))\n",
      "(tensor([5.1000, 3.3000, 1.7000, 0.5000]), tensor(0))\n",
      "(tensor([4.8000, 3.4000, 1.9000, 0.2000]), tensor(0))\n",
      "(tensor([5.0000, 3.0000, 1.6000, 0.2000]), tensor(0))\n",
      "(tensor([5.0000, 3.4000, 1.6000, 0.4000]), tensor(0))\n",
      "(tensor([5.2000, 3.5000, 1.5000, 0.2000]), tensor(0))\n",
      "(tensor([5.2000, 3.4000, 1.4000, 0.2000]), tensor(0))\n",
      "(tensor([4.7000, 3.2000, 1.6000, 0.2000]), tensor(0))\n",
      "(tensor([4.8000, 3.1000, 1.6000, 0.2000]), tensor(0))\n",
      "(tensor([5.4000, 3.4000, 1.5000, 0.4000]), tensor(0))\n",
      "(tensor([5.2000, 4.1000, 1.5000, 0.1000]), tensor(0))\n",
      "(tensor([5.5000, 4.2000, 1.4000, 0.2000]), tensor(0))\n",
      "(tensor([4.9000, 3.1000, 1.5000, 0.1000]), tensor(0))\n",
      "(tensor([5.0000, 3.2000, 1.2000, 0.2000]), tensor(0))\n",
      "(tensor([5.5000, 3.5000, 1.3000, 0.2000]), tensor(0))\n",
      "(tensor([4.9000, 3.1000, 1.5000, 0.1000]), tensor(0))\n",
      "(tensor([4.4000, 3.0000, 1.3000, 0.2000]), tensor(0))\n",
      "(tensor([5.1000, 3.4000, 1.5000, 0.2000]), tensor(0))\n",
      "(tensor([5.0000, 3.5000, 1.3000, 0.3000]), tensor(0))\n",
      "(tensor([4.5000, 2.3000, 1.3000, 0.3000]), tensor(0))\n",
      "(tensor([4.4000, 3.2000, 1.3000, 0.2000]), tensor(0))\n",
      "(tensor([5.0000, 3.5000, 1.6000, 0.6000]), tensor(0))\n",
      "(tensor([5.1000, 3.8000, 1.9000, 0.4000]), tensor(0))\n",
      "(tensor([4.8000, 3.0000, 1.4000, 0.3000]), tensor(0))\n",
      "(tensor([5.1000, 3.8000, 1.6000, 0.2000]), tensor(0))\n",
      "(tensor([4.6000, 3.2000, 1.4000, 0.2000]), tensor(0))\n",
      "(tensor([5.3000, 3.7000, 1.5000, 0.2000]), tensor(0))\n",
      "(tensor([5.0000, 3.3000, 1.4000, 0.2000]), tensor(0))\n",
      "(tensor([6.3000, 3.3000, 6.0000, 2.5000]), tensor(1))\n",
      "(tensor([5.8000, 2.7000, 5.1000, 1.9000]), tensor(1))\n",
      "(tensor([7.1000, 3.0000, 5.9000, 2.1000]), tensor(1))\n",
      "(tensor([6.3000, 2.9000, 5.6000, 1.8000]), tensor(1))\n",
      "(tensor([6.5000, 3.0000, 5.8000, 2.2000]), tensor(1))\n",
      "(tensor([7.6000, 3.0000, 6.6000, 2.1000]), tensor(1))\n",
      "(tensor([4.9000, 2.5000, 4.5000, 1.7000]), tensor(1))\n",
      "(tensor([7.3000, 2.9000, 6.3000, 1.8000]), tensor(1))\n",
      "(tensor([6.7000, 2.5000, 5.8000, 1.8000]), tensor(1))\n",
      "(tensor([7.2000, 3.6000, 6.1000, 2.5000]), tensor(1))\n",
      "(tensor([6.5000, 3.2000, 5.1000, 2.0000]), tensor(1))\n",
      "(tensor([6.4000, 2.7000, 5.3000, 1.9000]), tensor(1))\n",
      "(tensor([6.8000, 3.0000, 5.5000, 2.1000]), tensor(1))\n",
      "(tensor([5.7000, 2.5000, 5.0000, 2.0000]), tensor(1))\n",
      "(tensor([5.8000, 2.8000, 5.1000, 2.4000]), tensor(1))\n",
      "(tensor([6.4000, 3.2000, 5.3000, 2.3000]), tensor(1))\n",
      "(tensor([6.5000, 3.0000, 5.5000, 1.8000]), tensor(1))\n",
      "(tensor([7.7000, 3.8000, 6.7000, 2.2000]), tensor(1))\n",
      "(tensor([7.7000, 2.6000, 6.9000, 2.3000]), tensor(1))\n",
      "(tensor([6.0000, 2.2000, 5.0000, 1.5000]), tensor(1))\n",
      "(tensor([6.9000, 3.2000, 5.7000, 2.3000]), tensor(1))\n",
      "(tensor([5.6000, 2.8000, 4.9000, 2.0000]), tensor(1))\n",
      "(tensor([7.7000, 2.8000, 6.7000, 2.0000]), tensor(1))\n",
      "(tensor([6.3000, 2.7000, 4.9000, 1.8000]), tensor(1))\n",
      "(tensor([6.7000, 3.3000, 5.7000, 2.1000]), tensor(1))\n",
      "(tensor([7.2000, 3.2000, 6.0000, 1.8000]), tensor(1))\n",
      "(tensor([6.2000, 2.8000, 4.8000, 1.8000]), tensor(1))\n",
      "(tensor([6.1000, 3.0000, 4.9000, 1.8000]), tensor(1))\n",
      "(tensor([6.4000, 2.8000, 5.6000, 2.1000]), tensor(1))\n",
      "(tensor([7.2000, 3.0000, 5.8000, 1.6000]), tensor(1))\n",
      "(tensor([7.4000, 2.8000, 6.1000, 1.9000]), tensor(1))\n",
      "(tensor([7.9000, 3.8000, 6.4000, 2.0000]), tensor(1))\n",
      "(tensor([6.4000, 2.8000, 5.6000, 2.2000]), tensor(1))\n",
      "(tensor([6.3000, 2.8000, 5.1000, 1.5000]), tensor(1))\n",
      "(tensor([6.1000, 2.6000, 5.6000, 1.4000]), tensor(1))\n",
      "(tensor([7.7000, 3.0000, 6.1000, 2.3000]), tensor(1))\n",
      "(tensor([6.3000, 3.4000, 5.6000, 2.4000]), tensor(1))\n",
      "(tensor([6.4000, 3.1000, 5.5000, 1.8000]), tensor(1))\n",
      "(tensor([6.0000, 3.0000, 4.8000, 1.8000]), tensor(1))\n",
      "(tensor([6.9000, 3.1000, 5.4000, 2.1000]), tensor(1))\n",
      "(tensor([6.7000, 3.1000, 5.6000, 2.4000]), tensor(1))\n",
      "(tensor([6.9000, 3.1000, 5.1000, 2.3000]), tensor(1))\n",
      "(tensor([5.8000, 2.7000, 5.1000, 1.9000]), tensor(1))\n",
      "(tensor([6.8000, 3.2000, 5.9000, 2.3000]), tensor(1))\n",
      "(tensor([6.7000, 3.3000, 5.7000, 2.5000]), tensor(1))\n",
      "(tensor([6.7000, 3.0000, 5.2000, 2.3000]), tensor(1))\n",
      "(tensor([6.3000, 2.5000, 5.0000, 1.9000]), tensor(1))\n",
      "(tensor([6.5000, 3.0000, 5.2000, 2.0000]), tensor(1))\n",
      "(tensor([6.2000, 3.4000, 5.4000, 2.3000]), tensor(1))\n",
      "(tensor([5.9000, 3.0000, 5.1000, 1.8000]), tensor(1))\n"
     ]
    }
   ],
   "source": [
    "for i in iris:\n",
    "    print(i)"
   ]
  },
  {
   "cell_type": "markdown",
   "metadata": {},
   "source": [
    "Once we have a dataset we can wrap it with a DataLoader. This gives us a powerful sampler that provides single- or multi-process iterators over the dataset."
   ]
  },
  {
   "cell_type": "code",
   "execution_count": 10,
   "metadata": {},
   "outputs": [
    {
     "name": "stdout",
     "output_type": "stream",
     "text": [
      "<torch.utils.data.dataloader.DataLoader object at 0x17f3562d0>\n"
     ]
    }
   ],
   "source": [
    "iris_loader = DataLoader(iris, batch_size=15, shuffle=True)\n",
    "print(iris_loader)"
   ]
  },
  {
   "cell_type": "code",
   "execution_count": 11,
   "metadata": {
    "scrolled": false
   },
   "outputs": [
    {
     "name": "stdout",
     "output_type": "stream",
     "text": [
      "0 [tensor([[6.0000, 2.2000, 5.0000, 1.5000],\n",
      "        [6.5000, 3.0000, 5.8000, 2.2000],\n",
      "        [6.7000, 2.5000, 5.8000, 1.8000],\n",
      "        [5.5000, 4.2000, 1.4000, 0.2000],\n",
      "        [5.2000, 4.1000, 1.5000, 0.1000],\n",
      "        [4.7000, 3.2000, 1.6000, 0.2000],\n",
      "        [6.5000, 3.2000, 5.1000, 2.0000],\n",
      "        [6.2000, 3.4000, 5.4000, 2.3000],\n",
      "        [5.0000, 3.5000, 1.6000, 0.6000],\n",
      "        [7.3000, 2.9000, 6.3000, 1.8000],\n",
      "        [4.4000, 3.0000, 1.3000, 0.2000],\n",
      "        [6.3000, 2.8000, 5.1000, 1.5000],\n",
      "        [6.9000, 3.1000, 5.1000, 2.3000],\n",
      "        [6.2000, 2.8000, 4.8000, 1.8000],\n",
      "        [6.4000, 3.1000, 5.5000, 1.8000]]), tensor([1, 1, 1, 0, 0, 0, 1, 1, 0, 1, 0, 1, 1, 1, 1])]\n",
      "1 [tensor([[5.7000, 4.4000, 1.5000, 0.4000],\n",
      "        [4.6000, 3.4000, 1.4000, 0.3000],\n",
      "        [5.6000, 2.8000, 4.9000, 2.0000],\n",
      "        [6.7000, 3.3000, 5.7000, 2.1000],\n",
      "        [5.1000, 3.7000, 1.5000, 0.4000],\n",
      "        [4.5000, 2.3000, 1.3000, 0.3000],\n",
      "        [5.2000, 3.5000, 1.5000, 0.2000],\n",
      "        [6.8000, 3.2000, 5.9000, 2.3000],\n",
      "        [5.0000, 3.6000, 1.4000, 0.2000],\n",
      "        [4.9000, 3.1000, 1.5000, 0.1000],\n",
      "        [6.3000, 2.7000, 4.9000, 1.8000],\n",
      "        [5.8000, 2.7000, 5.1000, 1.9000],\n",
      "        [6.3000, 2.5000, 5.0000, 1.9000],\n",
      "        [6.1000, 2.6000, 5.6000, 1.4000],\n",
      "        [5.4000, 3.9000, 1.3000, 0.4000]]), tensor([0, 0, 1, 1, 0, 0, 0, 1, 0, 0, 1, 1, 1, 1, 0])]\n",
      "2 [tensor([[6.7000, 3.3000, 5.7000, 2.5000],\n",
      "        [6.9000, 3.2000, 5.7000, 2.3000],\n",
      "        [5.7000, 3.8000, 1.7000, 0.3000],\n",
      "        [5.3000, 3.7000, 1.5000, 0.2000],\n",
      "        [5.0000, 3.5000, 1.3000, 0.3000],\n",
      "        [4.9000, 2.5000, 4.5000, 1.7000],\n",
      "        [5.1000, 3.5000, 1.4000, 0.2000],\n",
      "        [5.0000, 3.0000, 1.6000, 0.2000],\n",
      "        [5.1000, 3.8000, 1.6000, 0.2000],\n",
      "        [4.9000, 3.1000, 1.5000, 0.1000],\n",
      "        [5.5000, 3.5000, 1.3000, 0.2000],\n",
      "        [5.1000, 3.8000, 1.5000, 0.3000],\n",
      "        [5.0000, 3.2000, 1.2000, 0.2000],\n",
      "        [6.4000, 2.7000, 5.3000, 1.9000],\n",
      "        [5.2000, 3.4000, 1.4000, 0.2000]]), tensor([1, 1, 0, 0, 0, 1, 0, 0, 0, 0, 0, 0, 0, 1, 0])]\n",
      "3 [tensor([[6.3000, 3.4000, 5.6000, 2.4000],\n",
      "        [4.4000, 2.9000, 1.4000, 0.2000],\n",
      "        [6.8000, 3.0000, 5.5000, 2.1000],\n",
      "        [6.3000, 3.3000, 6.0000, 2.5000],\n",
      "        [5.8000, 2.8000, 5.1000, 2.4000],\n",
      "        [6.3000, 2.9000, 5.6000, 1.8000],\n",
      "        [5.1000, 3.5000, 1.4000, 0.3000],\n",
      "        [4.4000, 3.2000, 1.3000, 0.2000],\n",
      "        [6.9000, 3.1000, 5.4000, 2.1000],\n",
      "        [5.1000, 3.3000, 1.7000, 0.5000],\n",
      "        [6.4000, 2.8000, 5.6000, 2.2000],\n",
      "        [5.4000, 3.7000, 1.5000, 0.2000],\n",
      "        [4.6000, 3.1000, 1.5000, 0.2000],\n",
      "        [4.8000, 3.1000, 1.6000, 0.2000],\n",
      "        [7.7000, 3.8000, 6.7000, 2.2000]]), tensor([1, 0, 1, 1, 1, 1, 0, 0, 1, 0, 1, 0, 0, 0, 1])]\n",
      "4 [tensor([[5.1000, 3.8000, 1.9000, 0.4000],\n",
      "        [5.7000, 2.5000, 5.0000, 2.0000],\n",
      "        [7.1000, 3.0000, 5.9000, 2.1000],\n",
      "        [5.9000, 3.0000, 5.1000, 1.8000],\n",
      "        [4.8000, 3.4000, 1.9000, 0.2000],\n",
      "        [7.6000, 3.0000, 6.6000, 2.1000],\n",
      "        [6.7000, 3.1000, 5.6000, 2.4000],\n",
      "        [5.0000, 3.3000, 1.4000, 0.2000],\n",
      "        [5.0000, 3.4000, 1.5000, 0.2000],\n",
      "        [6.5000, 3.0000, 5.5000, 1.8000],\n",
      "        [4.9000, 3.0000, 1.4000, 0.2000],\n",
      "        [7.7000, 3.0000, 6.1000, 2.3000],\n",
      "        [4.8000, 3.4000, 1.6000, 0.2000],\n",
      "        [7.2000, 3.6000, 6.1000, 2.5000],\n",
      "        [7.4000, 2.8000, 6.1000, 1.9000]]), tensor([0, 1, 1, 1, 0, 1, 1, 0, 0, 1, 0, 1, 0, 1, 1])]\n",
      "5 [tensor([[4.6000, 3.2000, 1.4000, 0.2000],\n",
      "        [4.9000, 3.1000, 1.5000, 0.1000],\n",
      "        [5.1000, 3.4000, 1.5000, 0.2000],\n",
      "        [5.4000, 3.4000, 1.5000, 0.4000],\n",
      "        [4.8000, 3.0000, 1.4000, 0.3000],\n",
      "        [4.3000, 3.0000, 1.1000, 0.1000],\n",
      "        [6.5000, 3.0000, 5.2000, 2.0000],\n",
      "        [7.9000, 3.8000, 6.4000, 2.0000],\n",
      "        [5.4000, 3.9000, 1.7000, 0.4000],\n",
      "        [6.0000, 3.0000, 4.8000, 1.8000],\n",
      "        [6.4000, 2.8000, 5.6000, 2.1000],\n",
      "        [5.0000, 3.4000, 1.6000, 0.4000],\n",
      "        [5.8000, 2.7000, 5.1000, 1.9000],\n",
      "        [6.7000, 3.0000, 5.2000, 2.3000],\n",
      "        [5.4000, 3.4000, 1.7000, 0.2000]]), tensor([0, 0, 0, 0, 0, 0, 1, 1, 0, 1, 1, 0, 1, 1, 0])]\n",
      "6 [tensor([[5.8000, 4.0000, 1.2000, 0.2000],\n",
      "        [7.7000, 2.8000, 6.7000, 2.0000],\n",
      "        [4.8000, 3.0000, 1.4000, 0.1000],\n",
      "        [6.1000, 3.0000, 4.9000, 1.8000],\n",
      "        [4.6000, 3.6000, 1.0000, 0.2000],\n",
      "        [7.2000, 3.2000, 6.0000, 1.8000],\n",
      "        [4.7000, 3.2000, 1.3000, 0.2000],\n",
      "        [7.2000, 3.0000, 5.8000, 1.6000],\n",
      "        [7.7000, 2.6000, 6.9000, 2.3000],\n",
      "        [6.4000, 3.2000, 5.3000, 2.3000]]), tensor([0, 1, 0, 1, 0, 1, 0, 1, 1, 1])]\n"
     ]
    }
   ],
   "source": [
    "for i_batch, sample_batched in enumerate(iris_loader):\n",
    "    print(i_batch, sample_batched)"
   ]
  },
  {
   "cell_type": "code",
   "execution_count": 12,
   "metadata": {},
   "outputs": [
    {
     "data": {
      "text/plain": [
       "tensor([10,  5])"
      ]
     },
     "execution_count": 12,
     "metadata": {},
     "output_type": "execute_result"
    }
   ],
   "source": [
    "list(iris_loader)[0][1].bincount()"
   ]
  },
  {
   "cell_type": "code",
   "execution_count": 13,
   "metadata": {},
   "outputs": [
    {
     "data": {
      "text/plain": [
       "[tensor([[4.9000, 3.0000, 1.4000, 0.2000],\n",
       "         [6.4000, 2.8000, 5.6000, 2.1000],\n",
       "         [5.0000, 3.2000, 1.2000, 0.2000],\n",
       "         [6.4000, 3.2000, 5.3000, 2.3000],\n",
       "         [7.4000, 2.8000, 6.1000, 1.9000],\n",
       "         [6.2000, 2.8000, 4.8000, 1.8000],\n",
       "         [6.4000, 3.1000, 5.5000, 1.8000],\n",
       "         [5.4000, 3.4000, 1.5000, 0.4000],\n",
       "         [6.3000, 3.4000, 5.6000, 2.4000],\n",
       "         [6.5000, 3.2000, 5.1000, 2.0000],\n",
       "         [5.0000, 3.4000, 1.6000, 0.4000],\n",
       "         [4.8000, 3.4000, 1.9000, 0.2000],\n",
       "         [6.8000, 3.2000, 5.9000, 2.3000],\n",
       "         [4.4000, 3.2000, 1.3000, 0.2000],\n",
       "         [6.7000, 3.3000, 5.7000, 2.5000]]),\n",
       " tensor([0, 1, 0, 1, 1, 1, 1, 0, 1, 1, 0, 0, 1, 0, 1])]"
      ]
     },
     "execution_count": 13,
     "metadata": {},
     "output_type": "execute_result"
    }
   ],
   "source": [
    "next(iter(iris_loader))"
   ]
  },
  {
   "cell_type": "code",
   "execution_count": 14,
   "metadata": {},
   "outputs": [
    {
     "data": {
      "text/plain": [
       "7"
      ]
     },
     "execution_count": 14,
     "metadata": {},
     "output_type": "execute_result"
    }
   ],
   "source": [
    "len(list(iris_loader))"
   ]
  },
  {
   "cell_type": "code",
   "execution_count": 15,
   "metadata": {},
   "outputs": [
    {
     "name": "stdout",
     "output_type": "stream",
     "text": [
      "[[tensor([[5.8000, 2.8000, 5.1000, 2.4000],\n",
      "        [5.5000, 4.2000, 1.4000, 0.2000],\n",
      "        [4.3000, 3.0000, 1.1000, 0.1000],\n",
      "        [7.2000, 3.0000, 5.8000, 1.6000],\n",
      "        [4.7000, 3.2000, 1.3000, 0.2000],\n",
      "        [7.7000, 2.8000, 6.7000, 2.0000],\n",
      "        [6.2000, 2.8000, 4.8000, 1.8000],\n",
      "        [5.9000, 3.0000, 5.1000, 1.8000],\n",
      "        [6.7000, 3.3000, 5.7000, 2.5000],\n",
      "        [4.8000, 3.1000, 1.6000, 0.2000],\n",
      "        [7.9000, 3.8000, 6.4000, 2.0000],\n",
      "        [4.9000, 3.1000, 1.5000, 0.1000],\n",
      "        [4.8000, 3.4000, 1.6000, 0.2000],\n",
      "        [6.3000, 3.4000, 5.6000, 2.4000],\n",
      "        [5.0000, 3.2000, 1.2000, 0.2000]]), tensor([1, 0, 0, 1, 0, 1, 1, 1, 1, 0, 1, 0, 0, 1, 0])], [tensor([[5.1000, 3.3000, 1.7000, 0.5000],\n",
      "        [6.1000, 2.6000, 5.6000, 1.4000],\n",
      "        [6.7000, 3.1000, 5.6000, 2.4000],\n",
      "        [6.4000, 2.7000, 5.3000, 1.9000],\n",
      "        [4.7000, 3.2000, 1.6000, 0.2000],\n",
      "        [5.0000, 3.4000, 1.5000, 0.2000],\n",
      "        [4.6000, 3.6000, 1.0000, 0.2000],\n",
      "        [5.4000, 3.4000, 1.7000, 0.2000],\n",
      "        [5.1000, 3.8000, 1.6000, 0.2000],\n",
      "        [5.0000, 3.6000, 1.4000, 0.2000],\n",
      "        [6.3000, 2.9000, 5.6000, 1.8000],\n",
      "        [5.0000, 3.4000, 1.6000, 0.4000],\n",
      "        [5.8000, 4.0000, 1.2000, 0.2000],\n",
      "        [6.3000, 2.5000, 5.0000, 1.9000],\n",
      "        [4.4000, 3.0000, 1.3000, 0.2000]]), tensor([0, 1, 1, 1, 0, 0, 0, 0, 0, 0, 1, 0, 0, 1, 0])], [tensor([[6.9000, 3.1000, 5.1000, 2.3000],\n",
      "        [4.8000, 3.0000, 1.4000, 0.1000],\n",
      "        [6.4000, 3.2000, 5.3000, 2.3000],\n",
      "        [6.4000, 2.8000, 5.6000, 2.1000],\n",
      "        [4.9000, 3.1000, 1.5000, 0.1000],\n",
      "        [5.0000, 3.5000, 1.6000, 0.6000],\n",
      "        [5.8000, 2.7000, 5.1000, 1.9000],\n",
      "        [6.8000, 3.2000, 5.9000, 2.3000],\n",
      "        [5.4000, 3.7000, 1.5000, 0.2000],\n",
      "        [6.0000, 3.0000, 4.8000, 1.8000],\n",
      "        [4.6000, 3.2000, 1.4000, 0.2000],\n",
      "        [6.3000, 2.8000, 5.1000, 1.5000],\n",
      "        [5.1000, 3.5000, 1.4000, 0.2000],\n",
      "        [4.6000, 3.1000, 1.5000, 0.2000],\n",
      "        [5.7000, 4.4000, 1.5000, 0.4000]]), tensor([1, 0, 1, 1, 0, 0, 1, 1, 0, 1, 0, 1, 0, 0, 0])], [tensor([[6.3000, 3.3000, 6.0000, 2.5000],\n",
      "        [6.9000, 3.1000, 5.4000, 2.1000],\n",
      "        [6.5000, 3.2000, 5.1000, 2.0000],\n",
      "        [5.7000, 3.8000, 1.7000, 0.3000],\n",
      "        [5.1000, 3.4000, 1.5000, 0.2000],\n",
      "        [6.1000, 3.0000, 4.9000, 1.8000],\n",
      "        [7.1000, 3.0000, 5.9000, 2.1000],\n",
      "        [7.7000, 2.6000, 6.9000, 2.3000],\n",
      "        [6.9000, 3.2000, 5.7000, 2.3000],\n",
      "        [4.6000, 3.4000, 1.4000, 0.3000],\n",
      "        [5.3000, 3.7000, 1.5000, 0.2000],\n",
      "        [5.1000, 3.7000, 1.5000, 0.4000],\n",
      "        [5.0000, 3.3000, 1.4000, 0.2000],\n",
      "        [4.8000, 3.0000, 1.4000, 0.3000],\n",
      "        [6.4000, 3.1000, 5.5000, 1.8000]]), tensor([1, 1, 1, 0, 0, 1, 1, 1, 1, 0, 0, 0, 0, 0, 1])], [tensor([[5.5000, 3.5000, 1.3000, 0.2000],\n",
      "        [7.7000, 3.0000, 6.1000, 2.3000],\n",
      "        [6.5000, 3.0000, 5.2000, 2.0000],\n",
      "        [7.2000, 3.6000, 6.1000, 2.5000],\n",
      "        [5.4000, 3.9000, 1.7000, 0.4000],\n",
      "        [6.7000, 2.5000, 5.8000, 1.8000],\n",
      "        [4.8000, 3.4000, 1.9000, 0.2000],\n",
      "        [6.7000, 3.3000, 5.7000, 2.1000],\n",
      "        [5.4000, 3.9000, 1.3000, 0.4000],\n",
      "        [6.4000, 2.8000, 5.6000, 2.2000],\n",
      "        [5.2000, 3.5000, 1.5000, 0.2000],\n",
      "        [7.6000, 3.0000, 6.6000, 2.1000],\n",
      "        [5.1000, 3.5000, 1.4000, 0.3000],\n",
      "        [5.6000, 2.8000, 4.9000, 2.0000],\n",
      "        [4.4000, 2.9000, 1.4000, 0.2000]]), tensor([0, 1, 1, 1, 0, 1, 0, 1, 0, 1, 0, 1, 0, 1, 0])], [tensor([[6.5000, 3.0000, 5.5000, 1.8000],\n",
      "        [7.4000, 2.8000, 6.1000, 1.9000],\n",
      "        [5.1000, 3.8000, 1.9000, 0.4000],\n",
      "        [7.2000, 3.2000, 6.0000, 1.8000],\n",
      "        [6.3000, 2.7000, 4.9000, 1.8000],\n",
      "        [5.4000, 3.4000, 1.5000, 0.4000],\n",
      "        [6.7000, 3.0000, 5.2000, 2.3000],\n",
      "        [5.0000, 3.0000, 1.6000, 0.2000],\n",
      "        [6.8000, 3.0000, 5.5000, 2.1000],\n",
      "        [5.2000, 3.4000, 1.4000, 0.2000],\n",
      "        [6.5000, 3.0000, 5.8000, 2.2000],\n",
      "        [4.5000, 2.3000, 1.3000, 0.3000],\n",
      "        [4.9000, 2.5000, 4.5000, 1.7000],\n",
      "        [5.2000, 4.1000, 1.5000, 0.1000],\n",
      "        [5.0000, 3.5000, 1.3000, 0.3000]]), tensor([1, 1, 0, 1, 1, 0, 1, 0, 1, 0, 1, 0, 1, 0, 0])], [tensor([[5.7000, 2.5000, 5.0000, 2.0000],\n",
      "        [4.9000, 3.1000, 1.5000, 0.1000],\n",
      "        [7.3000, 2.9000, 6.3000, 1.8000],\n",
      "        [5.8000, 2.7000, 5.1000, 1.9000],\n",
      "        [4.9000, 3.0000, 1.4000, 0.2000],\n",
      "        [5.1000, 3.8000, 1.5000, 0.3000],\n",
      "        [4.4000, 3.2000, 1.3000, 0.2000],\n",
      "        [7.7000, 3.8000, 6.7000, 2.2000],\n",
      "        [6.2000, 3.4000, 5.4000, 2.3000],\n",
      "        [6.0000, 2.2000, 5.0000, 1.5000]]), tensor([1, 0, 1, 1, 0, 0, 0, 1, 1, 1])]]\n"
     ]
    }
   ],
   "source": [
    "print(list(iris_loader))"
   ]
  },
  {
   "cell_type": "code",
   "execution_count": 16,
   "metadata": {},
   "outputs": [
    {
     "data": {
      "text/plain": [
       "7"
      ]
     },
     "execution_count": 16,
     "metadata": {},
     "output_type": "execute_result"
    }
   ],
   "source": [
    "len((list(iris_loader)))"
   ]
  },
  {
   "cell_type": "code",
   "execution_count": 17,
   "metadata": {},
   "outputs": [
    {
     "name": "stdout",
     "output_type": "stream",
     "text": [
      "<torch.utils.data.dataloader.DataLoader object at 0x17f3562d0>\n"
     ]
    }
   ],
   "source": [
    "print((iris_loader))"
   ]
  },
  {
   "cell_type": "markdown",
   "metadata": {},
   "source": [
    "## A Quick Note on Torchvision\n",
    "PyTorch offers another powerful dataset tool called <a href='https://pytorch.org/docs/stable/torchvision/index.html'><tt><strong>torchvision</strong></tt></a>, which is useful when working with image data. We'll go into a lot more detail in the Convolutional Neural Network (CNN) section. For now, just know that torchvision offers built-in image datasets like <a href='https://en.wikipedia.org/wiki/MNIST_database'>MNIST</a> and <a href='https://en.wikipedia.org/wiki/CIFAR-10'>CIFAR-10</a>, as well as tools for transforming images into tensors."
   ]
  }
 ],
 "metadata": {
  "kernelspec": {
   "display_name": "Python 3.8.6 ('teaching_env')",
   "language": "python",
   "name": "python3"
  },
  "language_info": {
   "codemirror_mode": {
    "name": "ipython",
    "version": 3
   },
   "file_extension": ".py",
   "mimetype": "text/x-python",
   "name": "python",
   "nbconvert_exporter": "python",
   "pygments_lexer": "ipython3",
   "version": "3.11.2"
  },
  "vscode": {
   "interpreter": {
    "hash": "becc4c8e5ad229b2591d820334d85e3db0111492344629bf57f272470dce75a5"
   }
  }
 },
 "nbformat": 4,
 "nbformat_minor": 2
}
