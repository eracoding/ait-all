{
 "cells": [
  {
   "attachments": {},
   "cell_type": "markdown",
   "metadata": {},
   "source": [
    "# Gaussian Mixture Models Clustering"
   ]
  },
  {
   "cell_type": "code",
   "execution_count": 1,
   "metadata": {},
   "outputs": [],
   "source": [
    "import numpy as np\n",
    "import matplotlib.pyplot as plt"
   ]
  },
  {
   "attachments": {},
   "cell_type": "markdown",
   "metadata": {},
   "source": [
    "## Problem definition\n",
    "\n",
    "$$\\mathcal{N} (\\mathbf{x} | \\mathbf{\\mu}^{(c)}, \\Sigma^{(c)})= \\frac{1}{(2\\pi)^\\frac{n}{2}\\lvert{\\Sigma^{(c)}}\\rvert^\\frac{1}{2}}e^{(-\\frac{1}{2}(\\mathbf{x} -\\mathbf{\\mu}^{(c)})^T\\Sigma^{(c)-1}(\\mathbf{x} - \\mathbf{\\mu}^{(c)}))}$$\n",
    "\n",
    "<img src = \"../figures/em2.png\" height=400>\n",
    "\n",
    "We shall also further define $\\pi^{(c)}$, which is simply the probability of being in the cluster (think of it as $p(y)$).  Since $\\pi$ is the probability of each cluster, it should sum to 1.\n",
    "\n",
    "$$\\quad 0 \\leq \\pi^{(c)} \\leq 1 \\quad ; \\quad \\sum\\limits_{c=1}^k \\pi^{(c)}=1$$\n",
    "\n",
    "Then, using **Baye's theorem**, we can define the likelihood of a sample $\\mathbf{x}^{(i)}$ belong to a cluster $c$ as simply:\n",
    "\n",
    "$$p(y|x) = p(y) * p(x | y)$$\n",
    "$$p(c | \\mathbf{x}^{(i)}) = \\pi^{(c)} * \\mathcal{N} (\\mathbf{x}^{(i)} | \\mathbf{\\mu}^{(c)}, \\Sigma^{(c)}) $$\n",
    "\n",
    "Finally, based on all the information, GMM defines its objective, i.e., to maximize\n",
    "\n",
    "$$\\prod \\limits_{i=1}^m \\sum_{c=1}^k \\pi^{(c)} \\mathcal{N} (\\mathbf{x}^{(i)} | \\mathbf{\\mu}^{(c)}, \\Sigma^{(c)})$$\n",
    "\n",
    "## Derivatives\n",
    "\n",
    "Our objective function is to find $\\theta$ that maximize the log-likehood $\\mathcal{L}$.  (Here we apply $\\log$ for mathematical stability.)\n",
    "\n",
    "$$\\max_\\theta \\sum\\limits_{i=1}^m \\log \\sum\\limits_{c=1}^k \\pi^{(c)} \\mathcal{N}(\\mathbf{x} | \\mu^{(c)}, \\Sigma^{(c)})$$\n",
    "\n",
    "Our \"normal\" procedure would be to compute the gradient $\\frac{d\\mathcal{L}}{d\\theta}$ and set it to 0.  however, if you try this yourself at home, you will find that it is not possible to find the closed form.\n",
    "\n",
    "### Responsibilities $r$\n",
    "\n",
    "Before anything, let us introduce a quantity that will play a central role in this algorithm: **responsibilities**.  We define the quantity\n",
    "\n",
    "$$ r^{(i)}_{c} = \\frac{\\pi^{(c)}\\mathcal{N}(\\mathbf{x}^{(i)} \\mid \\mu^{(c)}, \\Sigma^{(c)})}{\\Sigma_{c=1}^{k} \\pi^{(c)}\\mathcal{N}(\\mathbf{x}^{(i)} \\mid \\mu^{(c)}, \\Sigma^{(c)})}$$ \n",
    "\n",
    "$r^{(i)}_{c}$ basically gives us $$ \\frac{\\text{Probability of $\\mathbf{x}^{(i)}$ belonging to cluster c}}{\\text{Probability of $\\mathbf{x}^{(i)}$ over all clusters}} $$\n",
    "\n",
    "Note that $r$ for a sample $i$ \n",
    "\n",
    "$$r^{(i)} = r^{(i)}_1, r^{(i)}_2, \\cdots, r^{(i)}_k \\in \\mathbb{R}^k$$\n",
    "\n",
    "$$\\sum\\limits_{c=1}^{k}r^{(i)}_c = 1$$\n",
    "\n",
    "$$ r^{(i)}_c \\geq 0 $$\n",
    "\n",
    "### EM algorithm\n",
    "\n",
    "Notice that $r$ actually depends on **mean, covariance and pi**.  But then, **mean, covariance, and pi** also depends on $r$.  Based on this, we can use EM algorithm, where we can (1) create a random mean, covariance, and pi, (2) calculate $r$, and then repeat 1 and 2 until certain stopping criteria.\n",
    "\n",
    "### Total responsibility $N^{(c)}$\n",
    "\n",
    "By summing all the total responsibility of the $c$ th cluster along all samples, we get $N^{(c)}$.\n",
    "\n",
    "$$N_c = \\sum\\limits_{i=1}^{m}r^{(i)}_c \\in \\mathbb{R}^k $$\n",
    "\n",
    "Note that this value does not necessarily sum to 1.\n",
    "\n",
    "### Updating the mean\n",
    "\n",
    "The update of the mean $\\mu^{(c)}$ is given by:\n",
    "\n",
    "$$ \\mu_\\text{new}^{(c)} = \\frac{\\sum\\limits_{i=1}^{m}r^{(i)}_{c}\\mathbf{x}^{(i)}}{\\sum\\limits_{i=1}^{m}r^{(i)}_{c}}$$"
   ]
  },
  {
   "cell_type": "markdown",
   "metadata": {},
   "source": [
    "### Updating the covariances\n",
    "\n",
    "The update of the covariance $\\Sigma^{(c)}$ is given by:\n",
    "\n",
    "$$ \\Sigma^{(c)}_\\text{new} = \\frac{1}{N^{(c)}} \\sum\\limits_{i=1}^{m}r^{(i)}_{c}(\\mathbf{x}^{(i)} - \\mu^{(c)})(\\mathbf{x}^{(i)} - \\mu^{(c)})^T $$"
   ]
  },
  {
   "cell_type": "markdown",
   "metadata": {},
   "source": [
    "### Updating the pi\n",
    "\n",
    "The update of the mixture weights $\\pi^{(c)}$:\n",
    "\n",
    "$$ \\pi^{(c)}_\\text{new} = \\frac{N^{(c)}}{m}$$"
   ]
  },
  {
   "cell_type": "markdown",
   "metadata": {},
   "source": [
    "## Let's code!\n",
    "\n",
    "### Step 1: Define k random clusters\n",
    "\n",
    "Define k clusters from k random number of gaussian distribution.  Specifically, for each cluster $c$, randomly initialize parameters mean $\\mathbf{\\mu}^{(c)}$, covariance $\\Sigma^{(c)}$, fraction per class $\\pi^{(c)}$ and responsiblities (likelihood) of each sample $r^{(i)}_{c}$ \n",
    "    \n",
    "Recall that gaussian distribution is parametrized by the mean $\\mathbf{\\mu}$ and the covariance $\\Sigma$\n"
   ]
  },
  {
   "cell_type": "code",
   "execution_count": 2,
   "metadata": {},
   "outputs": [
    {
     "data": {
      "image/png": "[encoded data removed]",
      "text/plain": [
       "<Figure size 640x480 with 1 Axes>"
      ]
     },
     "metadata": {},
     "output_type": "display_data"
    }
   ],
   "source": [
    "from sklearn.datasets import make_blobs\n",
    "X, y = make_blobs(n_samples=9, cluster_std=[1.0, 3.5, 0.5], random_state=42)\n",
    "plt.scatter(X[:, 0], X[:, 1], c =y);"
   ]
  },
  {
   "cell_type": "markdown",
   "metadata": {},
   "source": [
    "### 1.1 Define means"
   ]
  },
  {
   "cell_type": "code",
   "execution_count": 3,
   "metadata": {},
   "outputs": [],
   "source": [
    "#define number of cluster (use domain knowledge or elbow rule)\n",
    "k = 3\n",
    "\n",
    "#get m and n\n",
    "m, n = X.shape\n",
    "\n",
    "#first, initialize mean\n",
    "random_row = np.random.randint(low=0, high=m, size=k)\n",
    "mean = np.array([X[idx,:] for idx in random_row ]).T\n",
    "\n"
   ]
  },
  {
   "cell_type": "code",
   "execution_count": 4,
   "metadata": {},
   "outputs": [
    {
     "name": "stdout",
     "output_type": "stream",
     "text": [
      "X:  [[ 5.48674679e+00 -4.72331117e+00]\n",
      " [-2.97867201e+00  9.55684617e+00]\n",
      " [ 1.09496992e+00  3.07303535e+00]\n",
      " [-9.29984808e-01  9.78172086e+00]\n",
      " [-7.33363923e+00 -7.58626144e+00]\n",
      " [-6.14680281e+00 -6.99299774e+00]\n",
      " [-1.39733358e+00  5.16333160e-03]\n",
      " [-2.97261532e+00  8.54855637e+00]\n",
      " [-6.84586309e+00 -7.59248369e+00]]\n"
     ]
    }
   ],
   "source": [
    "print(\"X: \", X)"
   ]
  },
  {
   "cell_type": "code",
   "execution_count": 5,
   "metadata": {},
   "outputs": [
    {
     "name": "stdout",
     "output_type": "stream",
     "text": [
      "Mean:  [[-7.33363923e+00 -1.39733358e+00 -2.97261532e+00]\n",
      " [-7.58626144e+00  5.16333160e-03  8.54855637e+00]]\n"
     ]
    }
   ],
   "source": [
    "print(\"Mean: \", mean)  #shape: n, k  (mean for each feature for each cluster)"
   ]
  },
  {
   "cell_type": "markdown",
   "metadata": {},
   "source": [
    "### 1.2 Define covariance"
   ]
  },
  {
   "cell_type": "code",
   "execution_count": 6,
   "metadata": {},
   "outputs": [],
   "source": [
    "cov = np.array([np.cov(X.T) for _ in range (k)])"
   ]
  },
  {
   "cell_type": "code",
   "execution_count": 7,
   "metadata": {},
   "outputs": [
    {
     "name": "stdout",
     "output_type": "stream",
     "text": [
      "Cov:  [[[17.04621881  9.37794282]\n",
      "  [ 9.37794282 56.76310386]]\n",
      "\n",
      " [[17.04621881  9.37794282]\n",
      "  [ 9.37794282 56.76310386]]\n",
      "\n",
      " [[17.04621881  9.37794282]\n",
      "  [ 9.37794282 56.76310386]]]\n"
     ]
    }
   ],
   "source": [
    "print(\"Cov: \", cov) #shape: k, n, n (covriance matrix (n x n) for each cluster)"
   ]
  },
  {
   "cell_type": "markdown",
   "metadata": {},
   "source": [
    "For those who forget about covariance matrix, \n",
    "\n",
    "$$\\text{cov}(a) = \\text{var}(a) = \\sum_i^m \\frac{(a^i - \\mu)^2}{m}$$\n",
    "\n",
    "$$\\text{cov}(a, b) = \\sum_i^m \\frac{(a^i - \\mu)(b^i - \\mu)}{m}$$"
   ]
  },
  {
   "cell_type": "markdown",
   "metadata": {},
   "source": [
    "### 1.3 Define pi"
   ]
  },
  {
   "cell_type": "code",
   "execution_count": 8,
   "metadata": {},
   "outputs": [
    {
     "name": "stdout",
     "output_type": "stream",
     "text": [
      "PI (weights; must add up to 1):  [0.33333333 0.33333333 0.33333333]\n"
     ]
    }
   ],
   "source": [
    "#initialize the weights (here we called pi)\n",
    "pi = np.full((k, ), fill_value=1/k) #simply use 1/k for pi\n",
    "print(\"PI (weights; must add up to 1): \", pi)  #shape: (k, ) - similar to p(y) of each cluster"
   ]
  },
  {
   "cell_type": "markdown",
   "metadata": {},
   "source": [
    "### 1.4 Define responsibilities"
   ]
  },
  {
   "cell_type": "code",
   "execution_count": 9,
   "metadata": {},
   "outputs": [
    {
     "name": "stdout",
     "output_type": "stream",
     "text": [
      "Responsilibities (likelihood - add up to 1):  [[0.33333333 0.33333333 0.33333333]\n",
      " [0.33333333 0.33333333 0.33333333]\n",
      " [0.33333333 0.33333333 0.33333333]\n",
      " [0.33333333 0.33333333 0.33333333]\n",
      " [0.33333333 0.33333333 0.33333333]\n",
      " [0.33333333 0.33333333 0.33333333]\n",
      " [0.33333333 0.33333333 0.33333333]\n",
      " [0.33333333 0.33333333 0.33333333]\n",
      " [0.33333333 0.33333333 0.33333333]]\n"
     ]
    }
   ],
   "source": [
    "r = np.full(shape=(m, k), fill_value=1/k)\n",
    "print(\"Responsilibities (likelihood - add up to 1): \", r) #shape: (m, k) - the likelihood of each sample belonging to each cluster"
   ]
  },
  {
   "attachments": {},
   "cell_type": "markdown",
   "metadata": {},
   "source": [
    "## Step 2: EM-step\n",
    "\n",
    "Repeat until converged:\n",
    "\n",
    "   1. *E-step*: for each sample $\\mathbf{x}^{(i)}$, evaluate responsibilities $r^{(i)}_{c}$ for every data point $\\mathbf{x}^{(i)}$ using \n",
    "\n",
    "$$ r^{(i)}_{c} = \\frac{\\pi^{(c)}\\mathcal{N}(\\mathbf{x}^{(i)} \\mid \\mu^{(c)}, \\Sigma^{(c)})}{\\Sigma_{c=1}^{k} \\pi^{(c)}\\mathcal{N}(\\mathbf{x}^{(i)} \\mid \\mu^{(c)}, \\Sigma^{(c)})}$$\n",
    "\n",
    "   2. *M-step*: for each cluster, update the gaussian distribution of each cluster, i.e., restimate parameters $\\pi^{(c)}, \\mu^{(c)}, \\Sigma^{(c)}, N^{(c)}$ using the updated responsibilites $r^{(i)}_{c}$.\n",
    "\n",
    "$$N^{(c)} = \\sum\\limits_{i=1}^{m}r^{(i)}_c$$\n",
    "\n",
    "$$ \\mu^{(c)}_\\text{new} = \\frac{1}{N^{(c)}} \\sum\\limits_{i=1}^{m}r^{(i)}_{c}\\mathbf{x}^{(i)}$$\n",
    "\n",
    "$$ \\Sigma^{(c)}_\\text{new} = \\frac{1}{N^{(c)}} \\sum\\limits_{i=1}^{m}r^{(i)}_{c}(\\mathbf{x}^{(i)} - \\mu^{(c)})(\\mathbf{x}^{(i)} - \\mu^{(c)})^T$$\n",
    "\n",
    "$$ \\pi^{(c)}_\\text{new} = \\frac{N^{(c)}}{m}$$\n",
    "\n",
    "\n"
   ]
  },
  {
   "cell_type": "markdown",
   "metadata": {},
   "source": [
    "### 2.1 E-Step"
   ]
  },
  {
   "cell_type": "code",
   "execution_count": 10,
   "metadata": {},
   "outputs": [
    {
     "name": "stdout",
     "output_type": "stream",
     "text": [
      "Shape of r:  (9, 3)\n",
      "r:  [[0.05012958 0.90969232 0.04017811]\n",
      " [0.05035365 0.23436716 0.71527919]\n",
      " [0.07040582 0.65156893 0.27802525]\n",
      " [0.03486987 0.30712846 0.65800167]\n",
      " [0.72008005 0.21366709 0.06625286]\n",
      " [0.63733069 0.28447817 0.07819114]\n",
      " [0.17547592 0.5913719  0.23315218]\n",
      " [0.0619053  0.26526676 0.67282794]\n",
      " [0.69417744 0.23856359 0.06725897]]\n"
     ]
    }
   ],
   "source": [
    "from scipy.stats import multivariate_normal\n",
    "for i in range(m):\n",
    "    for c in range(k):\n",
    "        xi_pdf = multivariate_normal.pdf(X[i], mean=mean[:, c], cov=cov[c])\n",
    "        r[i, c] = pi[c] * xi_pdf\n",
    "    r[i] /= np.sum(r[i])\n",
    "\n",
    "print(\"Shape of r: \", r.shape)  #likelihood for each sample for each cluster\n",
    "print(\"r: \", r)"
   ]
  },
  {
   "cell_type": "markdown",
   "metadata": {},
   "source": [
    "### 2.2 M-Step"
   ]
  },
  {
   "cell_type": "code",
   "execution_count": 11,
   "metadata": {},
   "outputs": [
    {
     "data": {
      "text/plain": [
       "array([[0.05012958, 0.90969232, 0.04017811],\n",
       "       [0.05035365, 0.23436716, 0.71527919],\n",
       "       [0.07040582, 0.65156893, 0.27802525],\n",
       "       [0.03486987, 0.30712846, 0.65800167],\n",
       "       [0.72008005, 0.21366709, 0.06625286],\n",
       "       [0.63733069, 0.28447817, 0.07819114],\n",
       "       [0.17547592, 0.5913719 , 0.23315218],\n",
       "       [0.0619053 , 0.26526676, 0.67282794],\n",
       "       [0.69417744, 0.23856359, 0.06725897]])"
      ]
     },
     "execution_count": 11,
     "metadata": {},
     "output_type": "execute_result"
    }
   ],
   "source": [
    "r"
   ]
  },
  {
   "cell_type": "code",
   "execution_count": 12,
   "metadata": {},
   "outputs": [],
   "source": [
    "Nc = np.sum(r, axis=0)"
   ]
  },
  {
   "cell_type": "code",
   "execution_count": 13,
   "metadata": {},
   "outputs": [
    {
     "data": {
      "text/plain": [
       "array([2.49472832, 3.69610436, 2.80916731])"
      ]
     },
     "execution_count": 13,
     "metadata": {},
     "output_type": "execute_result"
    }
   ],
   "source": [
    "Nc"
   ]
  },
  {
   "cell_type": "markdown",
   "metadata": {},
   "source": [
    "### 2.3 Update Pi"
   ]
  },
  {
   "cell_type": "code",
   "execution_count": 14,
   "metadata": {},
   "outputs": [
    {
     "name": "stdout",
     "output_type": "stream",
     "text": [
      "Pi (before):  [0.33333333 0.33333333 0.33333333]\n",
      "Pi (after):  [0.27719204 0.41067826 0.3121297 ]\n"
     ]
    }
   ],
   "source": [
    "#Update pi\n",
    "print(\"Pi (before): \", pi)\n",
    "pi = Nc / m\n",
    "assert pi.shape == (k, )\n",
    "print(\"Pi (after): \", pi)"
   ]
  },
  {
   "cell_type": "markdown",
   "metadata": {},
   "source": [
    "### 2.4 Update mean"
   ]
  },
  {
   "cell_type": "code",
   "execution_count": 15,
   "metadata": {},
   "outputs": [
    {
     "name": "stdout",
     "output_type": "stream",
     "text": [
      "X.T:  [[ 5.48674679e+00 -2.97867201e+00  1.09496992e+00 -9.29984808e-01\n",
      "  -7.33363923e+00 -6.14680281e+00 -1.39733358e+00 -2.97261532e+00\n",
      "  -6.84586309e+00]\n",
      " [-4.72331117e+00  9.55684617e+00  3.07303535e+00  9.78172086e+00\n",
      "  -7.58626144e+00 -6.99299774e+00  5.16333160e-03  8.54855637e+00\n",
      "  -7.59248369e+00]]\n",
      "r:  [[0.05012958 0.90969232 0.04017811]\n",
      " [0.05035365 0.23436716 0.71527919]\n",
      " [0.07040582 0.65156893 0.27802525]\n",
      " [0.03486987 0.30712846 0.65800167]\n",
      " [0.72008005 0.21366709 0.06625286]\n",
      " [0.63733069 0.28447817 0.07819114]\n",
      " [0.17547592 0.5913719  0.23315218]\n",
      " [0.0619053  0.26526676 0.67282794]\n",
      " [0.69417744 0.23856359 0.06725897]]\n",
      "X.T @ r  [[-14.21009106  -1.84267     -5.97043306]\n",
      " [-13.85810007  -0.20128837  18.12965648]]\n",
      "Nc:  [2.49472832 3.69610436 2.80916731]\n",
      "Mean (before)  [[-7.33363923e+00 -1.39733358e+00 -2.97261532e+00]\n",
      " [-7.58626144e+00  5.16333160e-03  8.54855637e+00]]\n",
      "Mean (after)  [[-5.69604751 -0.49854382 -2.12533908]\n",
      " [-5.5549536  -0.0544596   6.45374748]]\n"
     ]
    }
   ],
   "source": [
    "#Update mean\n",
    "print(\"X.T: \", X.T) #(n, m)\n",
    "print(\"r: \", r) #(m, k)\n",
    "print(\"X.T @ r \", X.T @ r)\n",
    "print(\"Nc: \", Nc)\n",
    "print(\"Mean (before) \", mean) #(n, k)\n",
    "mean =  ( X.T @ r ) / Nc\n",
    "assert mean.shape == (n, k)\n",
    "print(\"Mean (after) \", mean) #(n, k)"
   ]
  },
  {
   "cell_type": "markdown",
   "metadata": {},
   "source": [
    "### 2.5 Update covariance"
   ]
  },
  {
   "cell_type": "code",
   "execution_count": 16,
   "metadata": {},
   "outputs": [
    {
     "name": "stdout",
     "output_type": "stream",
     "text": [
      "Cov (before)  [[[17.04621881  9.37794282]\n",
      "  [ 9.37794282 56.76310386]]\n",
      "\n",
      " [[17.04621881  9.37794282]\n",
      "  [ 9.37794282 56.76310386]]\n",
      "\n",
      " [[17.04621881  9.37794282]\n",
      "  [ 9.37794282 56.76310386]]]\n"
     ]
    }
   ],
   "source": [
    "print(\"Cov (before) \", cov) #(n, k)"
   ]
  },
  {
   "cell_type": "code",
   "execution_count": 17,
   "metadata": {},
   "outputs": [
    {
     "name": "stdout",
     "output_type": "stream",
     "text": [
      "Cov (after)  [[[13.79151953 11.86206835]\n",
      "  [11.86206835 42.74987185]]\n",
      "\n",
      " [[22.60723968  2.21841733]\n",
      "  [ 2.21841733 52.30862036]]\n",
      "\n",
      " [[10.28262929  5.30410461]\n",
      "  [ 5.30410461 47.07843598]]]\n"
     ]
    }
   ],
   "source": [
    "#covariance (also called Sigma)\n",
    "for c in range(k):\n",
    "    for i in range(m):\n",
    "        X_mean = (X[i]-mean[:, c]).reshape(-1, 1)\n",
    "        cov[c] += r[i, c] * (X_mean @ X_mean.T)\n",
    "    cov[c] /= Nc[c]\n",
    "assert cov.shape == (k, n, n)\n",
    "\n",
    "print(\"Cov (after) \", cov) #(n, k)"
   ]
  },
  {
   "attachments": {},
   "cell_type": "markdown",
   "metadata": {},
   "source": [
    "## Step 3: Predict"
   ]
  },
  {
   "cell_type": "code",
   "execution_count": 18,
   "metadata": {},
   "outputs": [
    {
     "data": {
      "text/plain": [
       "array([[0.05012958, 0.90969232, 0.04017811],\n",
       "       [0.05035365, 0.23436716, 0.71527919],\n",
       "       [0.07040582, 0.65156893, 0.27802525],\n",
       "       [0.03486987, 0.30712846, 0.65800167],\n",
       "       [0.72008005, 0.21366709, 0.06625286],\n",
       "       [0.63733069, 0.28447817, 0.07819114],\n",
       "       [0.17547592, 0.5913719 , 0.23315218],\n",
       "       [0.0619053 , 0.26526676, 0.67282794],\n",
       "       [0.69417744, 0.23856359, 0.06725897]])"
      ]
     },
     "execution_count": 18,
     "metadata": {},
     "output_type": "execute_result"
    }
   ],
   "source": [
    "r"
   ]
  },
  {
   "cell_type": "code",
   "execution_count": 19,
   "metadata": {},
   "outputs": [
    {
     "name": "stdout",
     "output_type": "stream",
     "text": [
      "[1 2 1 2 0 0 1 2 0]\n"
     ]
    }
   ],
   "source": [
    "yhat = np.argmax(r, axis=1)\n",
    "print(yhat)"
   ]
  },
  {
   "attachments": {},
   "cell_type": "markdown",
   "metadata": {},
   "source": [
    "## Putting everything together"
   ]
  },
  {
   "cell_type": "code",
   "execution_count": 20,
   "metadata": {},
   "outputs": [
    {
     "data": {
      "text/plain": [
       "Text(0.5, 1.0, 'Final')"
      ]
     },
     "execution_count": 20,
     "metadata": {},
     "output_type": "execute_result"
    },
    {
     "data": {
      "image/png": "[encoded data removed]",
      "text/plain": [
       "<Figure size 640x480 with 1 Axes>"
      ]
     },
     "metadata": {},
     "output_type": "display_data"
    }
   ],
   "source": [
    "from sklearn.cluster import KMeans\n",
    "from scipy.stats import multivariate_normal\n",
    "import math\n",
    "\n",
    "X, y = make_blobs(n_samples=1500, cluster_std=[1.0, 3.5, 0.5], random_state=42)\n",
    "\n",
    "#define basic params\n",
    "m, n = X.shape\n",
    "K = 3\n",
    "max_iter = 20\n",
    "\n",
    "#==initialization==\n",
    "\n",
    "#responsibliity\n",
    "r = np.full(shape=(m, K), fill_value=1/K)\n",
    "\n",
    "#pi\n",
    "pi = np.full((K, ), fill_value=1/K) #simply use 1/k for pi\n",
    "\n",
    "#mean\n",
    "random_row = np.random.randint(low=0, high=m, size=K)\n",
    "mean = np.array([X[idx,:] for idx in random_row ]).T #.T to make to shape (M, K)\n",
    "\n",
    "#covariance\n",
    "cov = np.array([np.cov(X.T) for _ in range (K)])\n",
    "\n",
    "for iteration in range(max_iter):\n",
    "    \n",
    "    #===E-Step=====\n",
    "    #Update r_ik of each sample\n",
    "    for i in range(m):\n",
    "        for c in range(K):\n",
    "            xi_pdf = multivariate_normal.pdf(X[i], mean=mean[:, c], cov=cov[c])\n",
    "            r[i, c] = pi[c] * xi_pdf\n",
    "        r[i] /= np.sum(r[i])\n",
    "    \n",
    "    #===M-Step====\n",
    "    # Find NK first for latter use\n",
    "    Nc = np.sum(r, axis=0)\n",
    "    assert Nc.shape == (K, )\n",
    "    \n",
    "    #PI\n",
    "    pi = Nc / m\n",
    "    assert pi.shape == (K, )\n",
    "    \n",
    "    #mean\n",
    "    mean =  ( X.T @ r ) / Nc\n",
    "    assert mean.shape == (n, K)\n",
    "    \n",
    "    #covariance (also called Sigma)\n",
    "    cov = np.zeros((K, n, n))\n",
    "    for k in range(K):\n",
    "        for i in range(m):\n",
    "            X_mean = (X[i]-mean[:, k]).reshape(-1, 1)\n",
    "            cov[k] += r[i, k] * (X_mean @ X_mean.T)\n",
    "        cov[k] /= Nc[k]\n",
    "    assert cov.shape == (K, n, n)\n",
    "        \n",
    "\n",
    "#get preds\n",
    "yhat = np.argmax(r, axis=1)\n",
    "\n",
    "#plot\n",
    "plt.figure()\n",
    "plt.scatter(X[:, 0], X[:, 1], c=yhat)\n",
    "plt.title(\"Final\")"
   ]
  },
  {
   "cell_type": "code",
   "execution_count": null,
   "metadata": {},
   "outputs": [],
   "source": []
  }
 ],
 "metadata": {
  "kernelspec": {
   "display_name": "Python 3",
   "language": "python",
   "name": "python3"
  },
  "language_info": {
   "codemirror_mode": {
    "name": "ipython",
    "version": 3
   },
   "file_extension": ".py",
   "mimetype": "text/x-python",
   "name": "python",
   "nbconvert_exporter": "python",
   "pygments_lexer": "ipython3",
   "version": "3.11.2"
  }
 },
 "nbformat": 4,
 "nbformat_minor": 1
}
