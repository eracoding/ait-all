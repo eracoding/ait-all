{
  "cells": [
    {
      "cell_type": "markdown",
      "metadata": {
        "id": "DQ1Ocq-23-7g"
      },
      "source": [
        "# 🌟 Machine Learning Assignment 3 - Predicting Car Prices! 🌟\n",
        "\n",
        "This Jupyter notebook is a template for solving the assignment problem, i.e., Chaky company makes some car but he has difficulty setting the price for the car. 🌞. Here, I will try to apply the skills I've learned over the past lectures. This notebook contains the following structure:\n",
        "- 🏢 **1. Setup**: Import block with all necessary imports (also provide some blocks with connection to drive, kaggle, and etc. for future use)\n",
        "- 📥 **2. Loading the Data**: Loading, EDA, data cleaning, feature selection, and preprocess the dataset.\n",
        "- 🧠 **3. Models**: Starter code for basic models to kickstart your experimentation.\n",
        "- 📊 **4. Evaluation Metrics**: Tools to evaluate your models using various metrics.\n",
        "- 📝 **5. Inference and Conclusion**: Testing the best model and generating Report.\n",
        "\n",
        "Let's start! 🚀\n"
      ]
    },
    {
      "cell_type": "markdown",
      "metadata": {
        "id": "wzW-CLHOVeyJ"
      },
      "source": [
        "## Some notes:\n",
        "The typical workflow of data science project is following:\n",
        "```\n",
        "1. Problem Definition\n",
        "- Objective: Clearly define the problem you're trying to solve. Understand the business or research goals and translate them into a data science problem.\n",
        "Tasks:\n",
        "- - Identify the key objectives and success metrics.\n",
        "- - Understand the constraints and resources available.\n",
        "- - Formulate hypotheses or research questions.\n",
        "2. Data Collection\n",
        "- Objective: Gather the necessary data from various sources, which could be internal databases, APIs, web scraping, or external datasets.\n",
        "Tasks:\n",
        "- - Identify data sources and acquire the data.\n",
        "- - Integrate data from multiple sources if needed.\n",
        "- - Ensure data privacy and compliance with regulations (e.g., GDPR).\n",
        "3. Data Exploration and Analysis (Exploratory Data Analysis - EDA)\n",
        "- Objective: Understand the data, its patterns, and any potential issues through visualization and basic statistical analysis.\n",
        "Tasks:\n",
        "- - Summarize the data using descriptive statistics.\n",
        "- - Visualize distributions, correlations, and trends.\n",
        "- - Identify patterns, outliers, and potential relationships between features.\n",
        "- - Formulate additional hypotheses based on the data.\n",
        "4. Data Preprocessing\n",
        "- Objective: Clean and prepare the data for modeling.\n",
        "Tasks:\n",
        "- - Handle missing values (imputation or removal).\n",
        "- - Handle outliers.\n",
        "- - Encode categorical variables.\n",
        "- - Normalize or standardize numerical features.\n",
        "- - Split the data into training, validation, and test sets.\n",
        "5. Feature Engineering\n",
        "- Objective: Create new features or modify existing ones to improve model performance.\n",
        "Tasks:\n",
        "- - Create new features from existing data (e.g., interaction terms, polynomial features).\n",
        "- - Apply feature scaling (normalization or standardization).\n",
        "- - Transform features to handle skewness (e.g., log transformations).\n",
        "- - Reduce dimensionality if necessary (e.g., PCA).\n",
        "6. Model Selection\n",
        "- Objective: Choose the appropriate machine learning models for the problem.\n",
        "Tasks:\n",
        "- - Compare different algorithms (e.g., linear models, decision trees, ensemble methods, neural networks).\n",
        "- - Consider baseline models for comparison.\n",
        "- - Choose models based on the problem type (e.g., classification, regression).\n",
        "7. Model Training\n",
        "- Objective: Train the chosen models on the preprocessed data.\n",
        "Tasks:\n",
        "- - Train the models using the training dataset.\n",
        "- - Perform hyperparameter tuning (e.g., using grid search or random search).\n",
        "- - Use cross-validation to evaluate model performance.\n",
        "8. Model Evaluation\n",
        "- Objective: Assess the model’s performance using relevant metrics and ensure it meets the project goals.\n",
        "Tasks:\n",
        "- - Evaluate model performance on the validation dataset.\n",
        "- - Use appropriate metrics (e.g., accuracy, precision, recall, F1-score, RMSE).\n",
        "- - Analyze model errors and refine the model if necessary.\n",
        "9. Model Deployment\n",
        "- Objective: Integrate the model into a production environment where it can be used to make predictions.\n",
        "Tasks:\n",
        "- - Deploy the model as a service (e.g., REST API, microservice).\n",
        "- - Ensure scalability and monitor the model’s performance in production.\n",
        "- - Handle model retraining as needed (e.g., with new data).\n",
        "10. Monitoring and Maintenance\n",
        "- Objective: Continuously monitor the model’s performance and maintain its accuracy over time.\n",
        "Tasks:\n",
        "- - Track model performance using key metrics.\n",
        "- - Monitor for data drift and update the model if necessary.\n",
        "- - Address any issues in production and ensure model reliability.\n",
        "11. Documentation and Reporting\n",
        "- Objective: Document the entire process and communicate the results to stakeholders.\n",
        "Tasks:\n",
        "- - Prepare detailed reports and visualizations.\n",
        "- - Document the data, model, and processes.\n",
        "- - Share insights and actionable recommendations with stakeholders.\n",
        "12. Iteration and Optimization\n",
        "- Objective: Refine the project by iterating over the steps to improve results.\n",
        "Tasks:\n",
        "- - Revisit earlier steps based on feedback and new insights.\n",
        "- - Optimize the model and the workflow for better performance.\n",
        "```\n"
      ]
    },
    {
      "cell_type": "markdown",
      "metadata": {
        "id": "YPvsc0eb2yNI"
      },
      "source": [
        "# 1. Setup"
      ]
    },
    {
      "cell_type": "markdown",
      "metadata": {
        "id": "U9xMqXwB2zgt"
      },
      "source": [
        "The following libraries are required to run this notebook. If you are running this on Colab it should be all smooth sailing. If you are running it locally please make sure you have all of these installed."
      ]
    },
    {
      "cell_type": "code",
      "execution_count": 4,
      "metadata": {
        "id": "sMtDNANJEbfs"
      },
      "outputs": [],
      "source": [
        "# Import section, basically importing everything what I need later + default imports\n",
        "import os\n",
        "import random\n",
        "\n",
        "%matplotlib inline\n",
        "import seaborn as sns\n",
        "import matplotlib.pyplot as plt\n",
        "import pandas as pd\n",
        "import numpy as np\n",
        "\n",
        "import mlflow\n",
        "\n",
        "# For sklearn imports I will import them in model sections for better explanation purposes\n",
        "from sklearn.metrics import classification_report\n",
        "\n",
        "from sklearn.metrics import mean_squared_error, r2_score"
      ]
    },
    {
      "cell_type": "markdown",
      "metadata": {
        "id": "UAZ1J4t_5laE"
      },
      "source": [
        "## 2.1 DataLoading\n"
      ]
    },
    {
      "cell_type": "markdown",
      "metadata": {
        "id": "rfouPkAX5ptp"
      },
      "source": [
        "First thing we need to do is load in the data. We will be looking at the cars dataset (shared for this assignment [cars](https://github.com/AIT-MachineLearning/a1-predicting-car-prices-eracoding)). This dataset is tabular and contains information regarding car details(year, brand, mileage, and etc.) and we need to predict the price of the car(regression)."
      ]
    },
    {
      "cell_type": "code",
      "execution_count": 5,
      "metadata": {
        "id": "HBo0auPwhvKK"
      },
      "outputs": [],
      "source": [
        "# Loading the data\n",
        "train_csv_path = '../dataset/cars.csv'\n",
        "df = pd.read_csv(train_csv_path)"
      ]
    },
    {
      "cell_type": "markdown",
      "metadata": {
        "id": "mRoam-HoUp7V"
      },
      "source": [
        "### Data Preprocessing and Label Encoding\n",
        "\n",
        "We need to represent categorical data into numerical form via encoding. This step should be done before EDA"
      ]
    },
    {
      "cell_type": "code",
      "execution_count": 6,
      "metadata": {
        "colab": {
          "base_uri": "https://localhost:8080/",
          "height": 491
        },
        "id": "1DljHSUtUyxP",
        "outputId": "9e9f63fa-2471-4fb3-e8f7-fcebfba02c98"
      },
      "outputs": [
        {
          "data": {
            "text/plain": [
              "name              object\n",
              "year               int64\n",
              "selling_price      int64\n",
              "km_driven          int64\n",
              "fuel              object\n",
              "seller_type       object\n",
              "transmission      object\n",
              "owner             object\n",
              "mileage           object\n",
              "engine            object\n",
              "max_power         object\n",
              "torque            object\n",
              "seats            float64\n",
              "dtype: object"
            ]
          },
          "execution_count": 6,
          "metadata": {},
          "output_type": "execute_result"
        }
      ],
      "source": [
        "# Let's observe what are columns and their data types\n",
        "df.dtypes"
      ]
    },
    {
      "cell_type": "markdown",
      "metadata": {
        "id": "uYRlg3ZVXQzO"
      },
      "source": [
        "The task is following (note: I will deal with nan valuese on the fly alongs tasks, I am thinking since its regression task our predictions is approximate (it is okay to change with mean/median based on distribution), but for classification tasks I think it is better to drop such rows. Therefore, I will keep them.):\n",
        "```\n",
        "1. Feature owner - map First owner to 1, ..., Test drive car to 5\n",
        "2. Feature fuel - remove all rows with CNG and LPG because CNG and LPG use a different mileage system (km/kg) which is different from kmpl for Diesel and Petrol\n",
        "3. Feature mileage - remove \"kmpl\" and convert to float\n",
        "4. Feature engine - remove \"CC\" and convert to numerical\n",
        "5. Feature max power - same as engine\n",
        "6. Feature brand - take first word and remove other\n",
        "7. Drop feature torque\n",
        "8. Test Drive cars are expensive, so delete all samples\n",
        "```"
      ]
    },
    {
      "cell_type": "code",
      "execution_count": 7,
      "metadata": {
        "colab": {
          "base_uri": "https://localhost:8080/"
        },
        "id": "O9q-hR-OX4Nq",
        "outputId": "7d8602a1-9cea-49f0-9d20-b450346919b3"
      },
      "outputs": [
        {
          "name": "stdout",
          "output_type": "stream",
          "text": [
            "owner\n",
            "1    5289\n",
            "2    2105\n",
            "3     555\n",
            "4     174\n",
            "Name: count, dtype: int64\n"
          ]
        },
        {
          "name": "stderr",
          "output_type": "stream",
          "text": [
            "C:\\Users\\eraco\\AppData\\Local\\Temp\\ipykernel_22248\\1370062162.py:21: FutureWarning: Downcasting behavior in `replace` is deprecated and will be removed in a future version. To retain the old behavior, explicitly call `result.infer_objects(copy=False)`. To opt-in to the future behavior, set `pd.set_option('future.no_silent_downcasting', True)`\n",
            "  df_copy.replace(owner_map, inplace=True)\n"
          ]
        }
      ],
      "source": [
        "# task 1 - Feature owner - map First owner to 1, ..., Test drive car to 5\n",
        "df_copy = df.copy()\n",
        "\n",
        "# First Owner\t5289\n",
        "# Second Owner\t2105\n",
        "# Third Owner\t555\n",
        "# Fourth & Above Owner\t174\n",
        "# Test Drive Car 5\n",
        "\n",
        "# Better to use one-hot encoding, but as per hw instructions doing mapping.\n",
        "owner_map = {\n",
        "    'owner': {\n",
        "        \"First Owner\": 1,\n",
        "        \"Second Owner\": 2,\n",
        "        \"Third Owner\": 3,\n",
        "        \"Fourth & Above Owner\": 4,\n",
        "        \"Test Drive Car\": 5,\n",
        "    }\n",
        "}\n",
        "\n",
        "df_copy.replace(owner_map, inplace=True)\n",
        "\n",
        "# task8 - Test Drive cars are expensive, so delete all samples\n",
        "df_copy = df_copy[df_copy.owner != 5]\n",
        "print(df_copy.owner.value_counts())\n",
        "\n",
        "# doing in such a sandwich way for testing purposes on the fly\n",
        "df = df_copy.copy()"
      ]
    },
    {
      "cell_type": "code",
      "execution_count": 8,
      "metadata": {
        "id": "DH-L0Er2Y7YA"
      },
      "outputs": [],
      "source": [
        "# Encoder for binary categorical values\n",
        "from sklearn.preprocessing import LabelEncoder\n",
        "\n",
        "# defining encoder\n",
        "le = LabelEncoder()"
      ]
    },
    {
      "cell_type": "code",
      "execution_count": 9,
      "metadata": {
        "colab": {
          "base_uri": "https://localhost:8080/"
        },
        "id": "lvbQMOXWX4JH",
        "outputId": "585ef320-4467-420a-ecb4-9564fe4a6239"
      },
      "outputs": [
        {
          "name": "stdout",
          "output_type": "stream",
          "text": [
            "(8123, 13)\n",
            "(8028, 13)\n",
            "fuel\n",
            "0    4401\n",
            "1    3627\n",
            "Name: count, dtype: int64\n"
          ]
        }
      ],
      "source": [
        "# task2 Feature fuel - remove all rows with CNG and LPG\n",
        "df_copy = df.copy()\n",
        "\n",
        "# df_copy['fuel'].value_counts()\n",
        "# CNG\t57\n",
        "# LPG\t38\n",
        "\n",
        "print(df_copy.shape)\n",
        "df_copy = df_copy[~df_copy.fuel.isin(['CNG', 'LPG'])]\n",
        "\n",
        "print(df_copy.shape)\n",
        "df_copy.fuel.value_counts()\n",
        "\n",
        "# And also let's encode it\n",
        "df_copy.fuel = le.fit_transform(df_copy.fuel)\n",
        "print(df_copy.fuel.value_counts())\n",
        "\n",
        "\n",
        "df = df_copy.copy()"
      ]
    },
    {
      "cell_type": "code",
      "execution_count": 10,
      "metadata": {
        "colab": {
          "base_uri": "https://localhost:8080/"
        },
        "id": "AQFJf2gqduS2",
        "outputId": "a091ed96-4ead-4a26-c527-bf974fdd9b76"
      },
      "outputs": [
        {
          "name": "stdout",
          "output_type": "stream",
          "text": [
            "0\n"
          ]
        }
      ],
      "source": [
        "# task6 - Feature brand - take first word and remove other\n",
        "# same approach\n",
        "\n",
        "df_copy = df.copy()\n",
        "\n",
        "# Changing name to brand\n",
        "df_copy.rename(columns = {'name': 'brand'}, inplace=True)\n",
        "df_copy.brand = df_copy.brand.str.split().str[0]\n",
        "\n",
        "print(df_copy.brand.isna().sum())\n",
        "\n",
        "# Doing mapping\n",
        "\n",
        "# Bad choice, I will proceed with one-hot encoding (though too much values)\n",
        "# brand_name_map = {'brand': {v:k for k, v in zip(range(1, 33),\n",
        "#         ['Maruti', 'Skoda', 'Honda', 'Hyundai', 'Toyota', 'Ford', 'Renault',\n",
        "#        'Mahindra', 'Tata', 'Chevrolet', 'Fiat', 'Datsun', 'Jeep',\n",
        "#        'Mercedes-Benz', 'Mitsubishi', 'Audi', 'Volkswagen', 'BMW',\n",
        "#        'Nissan', 'Lexus', 'Jaguar', 'Land', 'MG', 'Volvo', 'Daewoo',\n",
        "#        'Kia', 'Force', 'Ambassador', 'Ashok', 'Isuzu', 'Opel', 'Peugeot'])\n",
        "#     }\n",
        "# }\n",
        "\n",
        "# I will proceed with groupped one-hot encoding\n",
        "group_map = {\n",
        "    'Economy': ['Maruti', 'Tata', 'Hyundai', 'Datsun', 'Renault', 'Ford', 'Chevrolet', 'Fiat'],\n",
        "    'Midrange': ['Honda', 'Toyota', 'Mahindra', 'Nissan', 'Skoda', 'Mitsubishi', 'Kia', 'MG'],\n",
        "    'Luxury': ['Audi', 'BMW', 'Mercedes-Benz', 'Volvo', 'Jaguar', 'Lexus', 'Jeep', 'Land'],\n",
        "    'Others': ['Daewoo', 'Ambassador', 'Ashok', 'Isuzu', 'Opel', 'Peugeot', 'Force']\n",
        "}\n",
        "\n",
        "# local mapper - later maybe need to define this in backend code\n",
        "brand_to_group = {brand: group for group, brands in group_map.items() for brand in brands}\n",
        "\n",
        "# mapping cars to its groups\n",
        "df_copy.brand = df_copy.brand.map(brand_to_group)\n",
        "\n",
        "# creating columns of brand groupping\n",
        "df_encoded = pd.get_dummies(df_copy, columns=['brand'], drop_first=True)\n",
        "\n",
        "df_encoded.head()\n",
        "\n",
        "df = df_encoded.copy()"
      ]
    },
    {
      "cell_type": "code",
      "execution_count": 11,
      "metadata": {
        "colab": {
          "base_uri": "https://localhost:8080/"
        },
        "id": "TqyIn08YVM1h",
        "outputId": "23601e46-885e-4378-8249-480ca27fc71f"
      },
      "outputs": [
        {
          "name": "stdout",
          "output_type": "stream",
          "text": [
            "transmission\n",
            "1    6982\n",
            "0    1046\n",
            "Name: count, dtype: int64\n"
          ]
        }
      ],
      "source": [
        "# Transmission feature has 2 classes only, so use LabelEncoder\n",
        "df_copy = df.copy()\n",
        "\n",
        "df_copy.transmission = le.fit_transform(df_copy.transmission)\n",
        "print(df_copy.transmission.value_counts())\n",
        "\n",
        "df = df_copy.copy()"
      ]
    },
    {
      "cell_type": "code",
      "execution_count": 12,
      "metadata": {
        "id": "0NnsTGiLVMzN"
      },
      "outputs": [],
      "source": [
        "# seller_type feature has 3 classes: individual,  dealer, trustmark dealer -> use one-hot encoding\n",
        "df_copy = df.copy()\n",
        "\n",
        "# one-hot encoding, drop_first=True to drop one not required column\n",
        "df_copy = pd.get_dummies(df_copy, columns=['seller_type'], drop_first=True)\n",
        "df_copy.head()\n",
        "\n",
        "df = df_copy.copy()"
      ]
    },
    {
      "cell_type": "code",
      "execution_count": 13,
      "metadata": {
        "id": "8ze2EA61X4DO"
      },
      "outputs": [],
      "source": [
        "# task3 - Feature mileage - remove \"kmpl\" and convert to float\n",
        "# Hint: use df_copy.mileage.str.split\n",
        "\n",
        "df.mileage = df.mileage.str.split().str[0].astype(float)"
      ]
    },
    {
      "cell_type": "code",
      "execution_count": 14,
      "metadata": {
        "id": "nYqGn6gSdubm"
      },
      "outputs": [],
      "source": [
        "# task4 - Feature engine - remove \"CC\" and convert to numerical\n",
        "# Same as task3\n",
        "\n",
        "df.engine = df.engine.str.split().str[0].astype(float)"
      ]
    },
    {
      "cell_type": "code",
      "execution_count": 15,
      "metadata": {
        "id": "vXrzlWURduW8"
      },
      "outputs": [],
      "source": [
        "# task5 - Feature max power - same as engine\n",
        "\n",
        "df.max_power = df.max_power.str.split().str[0].astype(float)"
      ]
    },
    {
      "cell_type": "code",
      "execution_count": 16,
      "metadata": {
        "id": "c9B5rdgbTa9f"
      },
      "outputs": [],
      "source": [
        "# task7 - dropping torque column\n",
        "# so that it would not have impact on EDA - even though its bad practice\n",
        "\n",
        "df.drop(columns=['torque'], inplace=True)"
      ]
    },
    {
      "cell_type": "code",
      "execution_count": 17,
      "metadata": {
        "colab": {
          "base_uri": "https://localhost:8080/",
          "height": 554
        },
        "id": "0MzNIDp01MAc",
        "outputId": "9cf0f46c-2a89-4aa2-ab78-61b4f8257923"
      },
      "outputs": [
        {
          "data": {
            "text/plain": [
              "year                              int64\n",
              "selling_price                     int64\n",
              "km_driven                         int64\n",
              "fuel                              int32\n",
              "transmission                      int32\n",
              "owner                             int64\n",
              "mileage                         float64\n",
              "engine                          float64\n",
              "max_power                       float64\n",
              "seats                           float64\n",
              "brand_Luxury                       bool\n",
              "brand_Midrange                     bool\n",
              "brand_Others                       bool\n",
              "seller_type_Individual             bool\n",
              "seller_type_Trustmark Dealer       bool\n",
              "dtype: object"
            ]
          },
          "execution_count": 17,
          "metadata": {},
          "output_type": "execute_result"
        }
      ],
      "source": [
        "# Checking if everything is fine\n",
        "# But probably, it would be better to keep torque and transfer for numerical form for the EDA basis\n",
        "# I will test it in next iteration\n",
        "df.dtypes"
      ]
    },
    {
      "cell_type": "markdown",
      "metadata": {
        "id": "WxG1T0H21Swt"
      },
      "source": [
        "### Now we can proceed with EDA"
      ]
    },
    {
      "cell_type": "markdown",
      "metadata": {
        "id": "Cj8obiD7YUgp"
      },
      "source": [
        "# 2.2 Exploratory Data Analysis (EDA)\n",
        "DataFrame columns:\n",
        "```\n",
        " #   Column         Non-Null Count  Dtype  \n",
        "---  ------         --------------  -----  \n",
        " 0   name           8128 non-null   object\n",
        " 1   year           8128 non-null   int64  \n",
        " 2   selling_price  8128 non-null   int64  \n",
        " 3   km_driven      8128 non-null   int64  \n",
        " 4   fuel           8128 non-null   object\n",
        " 5   seller_type    8128 non-null   object\n",
        " 6   transmission   8128 non-null   object\n",
        " 7   owner          8128 non-null   object\n",
        " 8   mileage        7907 non-null   object\n",
        " 9   engine         7907 non-null   object\n",
        " 10  max_power      7913 non-null   object\n",
        " 11  torque         7906 non-null   object\n",
        " 12  seats          7907 non-null   float64\n",
        " ```\n",
        "\n",
        "### General Notes about EDA:\n",
        "```\n",
        "value_counts(): Frequency counts\n",
        "outliers: the value that is considerably higher or lower from rest of the data\n",
        "\n",
        "Value at 75% is Q3 and value at 25% is Q1 -> Q stands for \"quartile\"\n",
        "Outlier are smaller than Q1 - 1.5(Q3-Q1) and bigger than Q3 + 1.5(Q3-Q1). (Q3-Q1) = IQR\n",
        "IQR stands for \"interquartile range\"\n",
        "\n",
        "We will use describe() method. Describe method includes:\n",
        "count: number of entries\n",
        "mean: average of entries\n",
        "std: standart deviation\n",
        "min: minimum entry\n",
        "25%: first quantile\n",
        "50%: median or second quantile\n",
        "75%: third quantile\n",
        "max: maximum entry\n",
        "```"
      ]
    },
    {
      "cell_type": "code",
      "execution_count": 18,
      "metadata": {
        "colab": {
          "base_uri": "https://localhost:8080/"
        },
        "id": "tlPzHxMShvMw",
        "outputId": "4ca76937-cf40-4fb5-c776-153251e5d836"
      },
      "outputs": [
        {
          "data": {
            "text/plain": [
              "Index(['year', 'selling_price', 'km_driven', 'fuel', 'transmission', 'owner',\n",
              "       'mileage', 'engine', 'max_power', 'seats', 'brand_Luxury',\n",
              "       'brand_Midrange', 'brand_Others', 'seller_type_Individual',\n",
              "       'seller_type_Trustmark Dealer'],\n",
              "      dtype='object')"
            ]
          },
          "execution_count": 18,
          "metadata": {},
          "output_type": "execute_result"
        }
      ],
      "source": [
        "# Let's see all columns\n",
        "df.columns"
      ]
    },
    {
      "cell_type": "code",
      "execution_count": 19,
      "metadata": {
        "colab": {
          "base_uri": "https://localhost:8080/"
        },
        "id": "xo5YmGn0hvPd",
        "outputId": "e0ceb2dd-262c-4c9d-af55-a4e11111b2da"
      },
      "outputs": [
        {
          "name": "stdout",
          "output_type": "stream",
          "text": [
            "<class 'pandas.core.frame.DataFrame'>\n",
            "Index: 8028 entries, 0 to 8127\n",
            "Data columns (total 15 columns):\n",
            " #   Column                        Non-Null Count  Dtype  \n",
            "---  ------                        --------------  -----  \n",
            " 0   year                          8028 non-null   int64  \n",
            " 1   selling_price                 8028 non-null   int64  \n",
            " 2   km_driven                     8028 non-null   int64  \n",
            " 3   fuel                          8028 non-null   int32  \n",
            " 4   transmission                  8028 non-null   int32  \n",
            " 5   owner                         8028 non-null   int64  \n",
            " 6   mileage                       7814 non-null   float64\n",
            " 7   engine                        7814 non-null   float64\n",
            " 8   max_power                     7820 non-null   float64\n",
            " 9   seats                         7814 non-null   float64\n",
            " 10  brand_Luxury                  8028 non-null   bool   \n",
            " 11  brand_Midrange                8028 non-null   bool   \n",
            " 12  brand_Others                  8028 non-null   bool   \n",
            " 13  seller_type_Individual        8028 non-null   bool   \n",
            " 14  seller_type_Trustmark Dealer  8028 non-null   bool   \n",
            "dtypes: bool(5), float64(4), int32(2), int64(4)\n",
            "memory usage: 666.4 KB\n"
          ]
        }
      ],
      "source": [
        "# Some basic info about each column\n",
        "# We see there are null values\n",
        "df.info()"
      ]
    },
    {
      "cell_type": "markdown",
      "metadata": {
        "id": "BO5pe0ZzQ1li"
      },
      "source": [
        "## Plotting:\n"
      ]
    },
    {
      "cell_type": "code",
      "execution_count": 20,
      "metadata": {
        "colab": {
          "base_uri": "https://localhost:8080/"
        },
        "id": "gKt9x6KhhvRb",
        "outputId": "d81c081a-7a5d-4283-ec2a-49151c3fecce"
      },
      "outputs": [
        {
          "data": {
            "image/png": "[encoded data removed]",
            "text/plain": [
              "<Figure size 1500x1500 with 2 Axes>"
            ]
          },
          "metadata": {},
          "output_type": "display_data"
        }
      ],
      "source": [
        "# # lets drop for now not number columns\n",
        "# df_only_nums = df[['year', 'selling_price', 'km_driven', 'seats']]\n",
        "# #only numbers\n",
        "\n",
        "# previously was keeping categorical as categorical, but now we can plot all features\n",
        "# print(df.corr())\n",
        "\n",
        "# #correlation map\n",
        "f, ax = plt.subplots(figsize=(15, 15))\n",
        "sns.heatmap(df.corr(), annot=True, linewidths=.5, fmt= '.1f',ax=ax, cmap=\"coolwarm\")\n",
        "\n",
        "# So the more red color, the more correlation\n",
        "plt.show()"
      ]
    },
    {
      "cell_type": "code",
      "execution_count": 21,
      "metadata": {
        "colab": {
          "base_uri": "https://localhost:8080/"
        },
        "id": "ZKfwJE8ghvUK",
        "outputId": "ce980175-1998-41b1-cd0d-bf4fbbc88467"
      },
      "outputs": [
        {
          "data": {
            "text/html": [
              "<div>\n",
              "<style scoped>\n",
              "    .dataframe tbody tr th:only-of-type {\n",
              "        vertical-align: middle;\n",
              "    }\n",
              "\n",
              "    .dataframe tbody tr th {\n",
              "        vertical-align: top;\n",
              "    }\n",
              "\n",
              "    .dataframe thead th {\n",
              "        text-align: right;\n",
              "    }\n",
              "</style>\n",
              "<table border=\"1\" class=\"dataframe\">\n",
              "  <thead>\n",
              "    <tr style=\"text-align: right;\">\n",
              "      <th></th>\n",
              "      <th>year</th>\n",
              "      <th>selling_price</th>\n",
              "      <th>km_driven</th>\n",
              "      <th>fuel</th>\n",
              "      <th>transmission</th>\n",
              "      <th>owner</th>\n",
              "      <th>mileage</th>\n",
              "      <th>engine</th>\n",
              "      <th>max_power</th>\n",
              "      <th>seats</th>\n",
              "      <th>brand_Luxury</th>\n",
              "      <th>brand_Midrange</th>\n",
              "      <th>brand_Others</th>\n",
              "      <th>seller_type_Individual</th>\n",
              "      <th>seller_type_Trustmark Dealer</th>\n",
              "    </tr>\n",
              "  </thead>\n",
              "  <tbody>\n",
              "    <tr>\n",
              "      <th>0</th>\n",
              "      <td>2014</td>\n",
              "      <td>450000</td>\n",
              "      <td>145500</td>\n",
              "      <td>0</td>\n",
              "      <td>1</td>\n",
              "      <td>1</td>\n",
              "      <td>23.40</td>\n",
              "      <td>1248.0</td>\n",
              "      <td>74.00</td>\n",
              "      <td>5.0</td>\n",
              "      <td>False</td>\n",
              "      <td>False</td>\n",
              "      <td>False</td>\n",
              "      <td>True</td>\n",
              "      <td>False</td>\n",
              "    </tr>\n",
              "    <tr>\n",
              "      <th>1</th>\n",
              "      <td>2014</td>\n",
              "      <td>370000</td>\n",
              "      <td>120000</td>\n",
              "      <td>0</td>\n",
              "      <td>1</td>\n",
              "      <td>2</td>\n",
              "      <td>21.14</td>\n",
              "      <td>1498.0</td>\n",
              "      <td>103.52</td>\n",
              "      <td>5.0</td>\n",
              "      <td>False</td>\n",
              "      <td>True</td>\n",
              "      <td>False</td>\n",
              "      <td>True</td>\n",
              "      <td>False</td>\n",
              "    </tr>\n",
              "    <tr>\n",
              "      <th>2</th>\n",
              "      <td>2006</td>\n",
              "      <td>158000</td>\n",
              "      <td>140000</td>\n",
              "      <td>1</td>\n",
              "      <td>1</td>\n",
              "      <td>3</td>\n",
              "      <td>17.70</td>\n",
              "      <td>1497.0</td>\n",
              "      <td>78.00</td>\n",
              "      <td>5.0</td>\n",
              "      <td>False</td>\n",
              "      <td>True</td>\n",
              "      <td>False</td>\n",
              "      <td>True</td>\n",
              "      <td>False</td>\n",
              "    </tr>\n",
              "    <tr>\n",
              "      <th>3</th>\n",
              "      <td>2010</td>\n",
              "      <td>225000</td>\n",
              "      <td>127000</td>\n",
              "      <td>0</td>\n",
              "      <td>1</td>\n",
              "      <td>1</td>\n",
              "      <td>23.00</td>\n",
              "      <td>1396.0</td>\n",
              "      <td>90.00</td>\n",
              "      <td>5.0</td>\n",
              "      <td>False</td>\n",
              "      <td>False</td>\n",
              "      <td>False</td>\n",
              "      <td>True</td>\n",
              "      <td>False</td>\n",
              "    </tr>\n",
              "    <tr>\n",
              "      <th>4</th>\n",
              "      <td>2007</td>\n",
              "      <td>130000</td>\n",
              "      <td>120000</td>\n",
              "      <td>1</td>\n",
              "      <td>1</td>\n",
              "      <td>1</td>\n",
              "      <td>16.10</td>\n",
              "      <td>1298.0</td>\n",
              "      <td>88.20</td>\n",
              "      <td>5.0</td>\n",
              "      <td>False</td>\n",
              "      <td>False</td>\n",
              "      <td>False</td>\n",
              "      <td>True</td>\n",
              "      <td>False</td>\n",
              "    </tr>\n",
              "  </tbody>\n",
              "</table>\n",
              "</div>"
            ],
            "text/plain": [
              "   year  selling_price  km_driven  fuel  transmission  owner  mileage  engine  \\\n",
              "0  2014         450000     145500     0             1      1    23.40  1248.0   \n",
              "1  2014         370000     120000     0             1      2    21.14  1498.0   \n",
              "2  2006         158000     140000     1             1      3    17.70  1497.0   \n",
              "3  2010         225000     127000     0             1      1    23.00  1396.0   \n",
              "4  2007         130000     120000     1             1      1    16.10  1298.0   \n",
              "\n",
              "   max_power  seats  brand_Luxury  brand_Midrange  brand_Others  \\\n",
              "0      74.00    5.0         False           False         False   \n",
              "1     103.52    5.0         False            True         False   \n",
              "2      78.00    5.0         False            True         False   \n",
              "3      90.00    5.0         False           False         False   \n",
              "4      88.20    5.0         False           False         False   \n",
              "\n",
              "   seller_type_Individual  seller_type_Trustmark Dealer  \n",
              "0                    True                         False  \n",
              "1                    True                         False  \n",
              "2                    True                         False  \n",
              "3                    True                         False  \n",
              "4                    True                         False  "
            ]
          },
          "execution_count": 21,
          "metadata": {},
          "output_type": "execute_result"
        }
      ],
      "source": [
        "# Observing first 5 data\n",
        "df.head(5)\n",
        "\n",
        "# Observing last 5 data\n",
        "#df.tail()"
      ]
    },
    {
      "cell_type": "markdown",
      "metadata": {
        "id": "FqPcgaYnhI_W"
      },
      "source": [
        "Let's try to plot some line, scatter and histogram plots. To choose between, there are some differences in plots:\n",
        "- Line plot is better when x axis is time.\n",
        "- Box plots: visualize basic statistics like outliers, min/max or quantiles\n",
        "- Scatter is better when there is correlation between two variables\n",
        "- Histogram is better when we need to see distribution of numerical data.\n",
        "- Customization: Colors,labels,thickness of line, title, opacity, grid, figsize, ticks of axis and linestyle"
      ]
    },
    {
      "cell_type": "code",
      "execution_count": 22,
      "metadata": {
        "colab": {
          "base_uri": "https://localhost:8080/"
        },
        "id": "hp1VVamHhvW5",
        "outputId": "d66a614b-036f-4652-db62-12063d6fa9ef"
      },
      "outputs": [
        {
          "data": {
            "image/png": "[encoded data removed]",
            "text/plain": [
              "<Figure size 640x480 with 1 Axes>"
            ]
          },
          "metadata": {},
          "output_type": "display_data"
        }
      ],
      "source": [
        "# Line plot\n",
        "# It might be seen there is no correlation between features,\n",
        "# but basically I am just exploring type of plots\n",
        "\n",
        "# Line plot is better when x axis is time\n",
        "df['selling_price'].plot(kind = 'line', color = 'g',label = 'Price',linewidth=1,alpha = 0.5,grid = True,linestyle = ':')\n",
        "df['km_driven'].plot(color = 'r',label = 'Driven',linewidth=1, alpha = 0.5,grid = True,linestyle = '-.')\n",
        "plt.legend(loc='upper right')     # legend = puts label into plot\n",
        "plt.xlabel('x axis')              # label = name of label\n",
        "plt.ylabel('y axis')\n",
        "plt.title('Line Plot')            # title = title of plot\n",
        "plt.show()"
      ]
    },
    {
      "cell_type": "code",
      "execution_count": 23,
      "metadata": {
        "colab": {
          "base_uri": "https://localhost:8080/"
        },
        "id": "y_J4YpklhvZR",
        "outputId": "16aa96da-a7cf-4fc2-ef65-71dcbb54eb24"
      },
      "outputs": [
        {
          "data": {
            "text/plain": [
              "Text(0.5, 1.0, 'Scatter Plot')"
            ]
          },
          "execution_count": 23,
          "metadata": {},
          "output_type": "execute_result"
        },
        {
          "data": {
            "image/png": "[encoded data removed]",
            "text/plain": [
              "<Figure size 640x480 with 1 Axes>"
            ]
          },
          "metadata": {},
          "output_type": "display_data"
        }
      ],
      "source": [
        "# Scatter plot\n",
        "# Scatter is better when there is correlation between two variables\n",
        "\n",
        "df.plot(kind='scatter', x='selling_price', y='km_driven',alpha = 0.5,color = 'red')\n",
        "plt.xlabel('Price')              # label = name of label\n",
        "plt.ylabel('Driven')\n",
        "plt.title('Scatter Plot')"
      ]
    },
    {
      "cell_type": "code",
      "execution_count": 24,
      "metadata": {
        "colab": {
          "base_uri": "https://localhost:8080/"
        },
        "id": "GnrSIbv8hvb6",
        "outputId": "5477dbad-c55b-4ba5-bd74-c70728335297"
      },
      "outputs": [
        {
          "data": {
            "image/png": "[encoded data removed]",
            "text/plain": [
              "<Figure size 400x400 with 1 Axes>"
            ]
          },
          "metadata": {},
          "output_type": "display_data"
        }
      ],
      "source": [
        "# Histogram\n",
        "# bins = number of bar in figure\n",
        "# Histogram is better when we need to see distribution of numerical data.\n",
        "\n",
        "df['selling_price'].plot(kind = 'hist',bins = 50,figsize = (4,4))\n",
        "plt.show()"
      ]
    },
    {
      "cell_type": "code",
      "execution_count": 25,
      "metadata": {
        "colab": {
          "base_uri": "https://localhost:8080/"
        },
        "id": "MlsFsyE4JyJM",
        "outputId": "d5be62c8-5420-4cf7-9c79-5ebfd7337368"
      },
      "outputs": [
        {
          "data": {
            "text/plain": [
              "<seaborn.axisgrid.PairGrid at 0x2252c9d3af0>"
            ]
          },
          "execution_count": 25,
          "metadata": {},
          "output_type": "execute_result"
        },
        {
          "data": {
            "image/png": "[encoded data removed]",
            "text/plain": [
              "<Figure size 1000x1000 with 20 Axes>"
            ]
          },
          "metadata": {},
          "output_type": "display_data"
        }
      ],
      "source": [
        "sns.pairplot(df[['selling_price', 'year', 'seats', 'km_driven']])\n",
        "\n",
        "# From the result we can see that we need to normalize features"
      ]
    },
    {
      "cell_type": "markdown",
      "metadata": {
        "id": "OLLgi_rLLRZD"
      },
      "source": [
        "# 2.3 Feature Engineering\n",
        "\n",
        "[08/18/2024] 1st attempt: I think there is no need to create new features, I will try with existing ones (created this section for future use - will require this)"
      ]
    },
    {
      "cell_type": "markdown",
      "metadata": {
        "id": "49YXntIxLhom"
      },
      "source": [
        "# 2.4 Feature Selection\n",
        "```\n",
        "[08/18/2024] 1st attempt: I am thinking taking all features except the ones that we need to drop: torque\n",
        "[08/20/2024] 2nd attempt: I will choose 5 features that are most important: max_power, engine, km_driven, mileage, and year\n",
        "```"
      ]
    },
    {
      "cell_type": "code",
      "execution_count": 26,
      "metadata": {
        "colab": {
          "base_uri": "https://localhost:8080/"
        },
        "id": "tPbZsH_J5nXB",
        "outputId": "f00f8666-3853-4d65-cc87-8863aae923e2"
      },
      "outputs": [
        {
          "data": {
            "text/plain": [
              "Index(['year', 'selling_price', 'km_driven', 'fuel', 'transmission', 'owner',\n",
              "       'mileage', 'engine', 'max_power', 'seats', 'brand_Luxury',\n",
              "       'brand_Midrange', 'brand_Others', 'seller_type_Individual',\n",
              "       'seller_type_Trustmark Dealer'],\n",
              "      dtype='object')"
            ]
          },
          "execution_count": 26,
          "metadata": {},
          "output_type": "execute_result"
        }
      ],
      "source": [
        "# Just to remind what are columns\n",
        "df.columns"
      ]
    },
    {
      "cell_type": "markdown",
      "metadata": {
        "id": "ao9GzyVqGpCH"
      },
      "source": [
        "### Outliers\n",
        "\n",
        "I want to handle them before proceeding to training ['year', 'km_driven', 'mileage', 'engine', 'max_power'] - will chose those only\n",
        "\n",
        "[08/21/2024] 3rd attempt - trying with outliers before splitting the dataset"
      ]
    },
    {
      "cell_type": "code",
      "execution_count": 27,
      "metadata": {
        "id": "A9D4Kkv8sh81"
      },
      "outputs": [],
      "source": [
        "# To see all outliers\n",
        "\n",
        "def outlier_count(col, data = df):\n",
        "    # calculate your 25% quatile and 75% quatile\n",
        "    q75, q25 = np.percentile(data[col], [75, 25])\n",
        "\n",
        "    # calculate your inter quatile\n",
        "    iqr = q75 - q25\n",
        "\n",
        "    # min_val and max_val\n",
        "    min_val = q25 - (iqr*1.5)\n",
        "    max_val = q75 + (iqr*1.5)\n",
        "\n",
        "    # count number of outliers, which are the data that are less than min_val or more than max_val calculated above\n",
        "    outlier_count = len(np.where((data[col] > max_val) | (data[col] < min_val))[0])\n",
        "\n",
        "    # calculate the percentage of the outliers\n",
        "    outlier_percent = round(outlier_count/len(data[col])*100, 2)\n",
        "\n",
        "    if(outlier_count > 0):\n",
        "        print(\"\\n\"+15*'-' + col + 15*'-'+\"\\n\")\n",
        "        print('Number of outliers: {}'.format(outlier_count))\n",
        "        print('Percent of data that is outlier: {}%'.format(outlier_percent))"
      ]
    },
    {
      "cell_type": "code",
      "execution_count": 28,
      "metadata": {
        "colab": {
          "base_uri": "https://localhost:8080/"
        },
        "id": "337h-gR_sh6S",
        "outputId": "c1ddb67b-41d1-4f55-ac00-def6766f6c3a"
      },
      "outputs": [
        {
          "name": "stdout",
          "output_type": "stream",
          "text": [
            "\n",
            "---------------year---------------\n",
            "\n",
            "Number of outliers: 78\n",
            "Percent of data that is outlier: 0.97%\n",
            "\n",
            "---------------km_driven---------------\n",
            "\n",
            "Number of outliers: 168\n",
            "Percent of data that is outlier: 2.09%\n"
          ]
        }
      ],
      "source": [
        "# Printing outliers per column\n",
        "for col in ['year', 'km_driven', 'mileage', 'engine', 'max_power']:\n",
        "    outlier_count(col)"
      ]
    },
    {
      "cell_type": "markdown",
      "metadata": {
        "id": "zWeVfIycIiCm"
      },
      "source": [
        "Let's not remove them, but cap them to a fixed value (5th or 95th percentile) - reduce impact of extreme values"
      ]
    },
    {
      "cell_type": "code",
      "execution_count": 29,
      "metadata": {
        "id": "t11r9N7sIhP9"
      },
      "outputs": [],
      "source": [
        "# Capping outliers\n",
        "def cap_outliers(df, column):\n",
        "    lower_limit = df[column].quantile(0.05)\n",
        "    upper_limit = df[column].quantile(0.95)\n",
        "    df[column] = np.where(df[column] < lower_limit, lower_limit, df[column])\n",
        "    df[column] = np.where(df[column] > upper_limit, upper_limit, df[column])\n",
        "    return df\n",
        "\n",
        "# applying for 'year' and 'km_driven' since there are only two outliers\n",
        "# for chosen set of features\n",
        "df = cap_outliers(df, 'year')\n",
        "df = cap_outliers(df, 'km_driven')"
      ]
    },
    {
      "cell_type": "code",
      "execution_count": 30,
      "metadata": {
        "id": "3aedy0ocI38N"
      },
      "outputs": [],
      "source": [
        "# Printing outliers per column\n",
        "for col in ['year', 'km_driven', 'mileage', 'engine', 'max_power']:\n",
        "    outlier_count(col)"
      ]
    },
    {
      "cell_type": "code",
      "execution_count": 31,
      "metadata": {
        "colab": {
          "base_uri": "https://localhost:8080/"
        },
        "id": "9mRy-vNYLQvT",
        "outputId": "7c7f7572-a3b4-4f70-cfe8-54d6bb321704"
      },
      "outputs": [
        {
          "name": "stdout",
          "output_type": "stream",
          "text": [
            "(8028,)\n",
            "(8028, 5)\n"
          ]
        }
      ],
      "source": [
        "# Same approach as in label encoding\n",
        "df_copy = df.copy()\n",
        "\n",
        "# shape (m,)\n",
        "y = df_copy['selling_price']\n",
        "# df_copy = df_copy.drop(columns=['selling_price'])\n",
        "print(y.shape)\n",
        "assert len(y.shape) == 1\n",
        "\n",
        "# Taking shape (m, n)\n",
        "X = df_copy[['year', 'km_driven', 'mileage', 'engine', 'max_power']]\n",
        "print(X.shape)\n",
        "assert len(X.shape) == 2"
      ]
    },
    {
      "cell_type": "markdown",
      "metadata": {
        "id": "jbPSy2_c_4Vo"
      },
      "source": [
        "Converting the regression problem into classification problem:"
      ]
    },
    {
      "cell_type": "code",
      "execution_count": 32,
      "metadata": {
        "id": "zdlAV9mZ_4Vp"
      },
      "outputs": [],
      "source": [
        "test = y.copy()"
      ]
    },
    {
      "cell_type": "code",
      "execution_count": 33,
      "metadata": {
        "id": "rL_pKPeP_4Vp"
      },
      "outputs": [],
      "source": [
        "q25 = y.quantile(0.25)\n",
        "q50 = y.quantile(0.50)\n",
        "q75 = y.quantile(0.75)\n",
        "\n",
        "def regr_to_class(val):\n",
        "    return 0 if val < q25 else 1 if q25 <= val < q50 else 2 if q50 <= val < q75 else 3\n",
        "\n",
        "y = y.apply(regr_to_class)"
      ]
    },
    {
      "cell_type": "code",
      "execution_count": 35,
      "metadata": {},
      "outputs": [
        {
          "data": {
            "text/plain": [
              "(260000.0, 450000.0, 680000.0)"
            ]
          },
          "execution_count": 35,
          "metadata": {},
          "output_type": "execute_result"
        }
      ],
      "source": [
        "q25, q50, q75"
      ]
    },
    {
      "cell_type": "code",
      "execution_count": 36,
      "metadata": {},
      "outputs": [
        {
          "data": {
            "text/plain": [
              "selling_price\n",
              "2    2113\n",
              "3    2013\n",
              "0    2003\n",
              "1    1899\n",
              "Name: count, dtype: int64"
            ]
          },
          "execution_count": 36,
          "metadata": {},
          "output_type": "execute_result"
        }
      ],
      "source": [
        "y.value_counts()"
      ]
    },
    {
      "cell_type": "code",
      "execution_count": null,
      "metadata": {
        "id": "jMMGR39dSzTS"
      },
      "outputs": [],
      "source": [
        "from sklearn.model_selection import train_test_split\n",
        "\n",
        "# Splitting the dataset, will proceed with processing it\n",
        "X_train, X_test, y_train, y_test = train_test_split(X, y, test_size=0.13, random_state=42)"
      ]
    },
    {
      "cell_type": "markdown",
      "metadata": {
        "id": "JyfUXG6jJn2I"
      },
      "source": [
        "# 2.5 Preprocessing"
      ]
    },
    {
      "cell_type": "code",
      "execution_count": null,
      "metadata": {
        "colab": {
          "base_uri": "https://localhost:8080/"
        },
        "id": "4JW2z_jjhvkr",
        "outputId": "a4b4213c-0f4d-4632-9b15-2810314b522e"
      },
      "outputs": [
        {
          "data": {
            "text/plain": [
              "(6984, 5)"
            ]
          },
          "execution_count": 33,
          "metadata": {},
          "output_type": "execute_result"
        }
      ],
      "source": [
        "# Let's see what is the train dataset size\n",
        "X_train.shape"
      ]
    },
    {
      "cell_type": "code",
      "execution_count": null,
      "metadata": {
        "colab": {
          "base_uri": "https://localhost:8080/"
        },
        "id": "IiESZUc9hvna",
        "outputId": "2e0a40d8-5039-43a0-9f57-b647d7c48ab7"
      },
      "outputs": [
        {
          "data": {
            "text/plain": [
              "(1044, 5)"
            ]
          },
          "execution_count": 34,
          "metadata": {},
          "output_type": "execute_result"
        }
      ],
      "source": [
        "# Same for test\n",
        "X_test.shape"
      ]
    },
    {
      "cell_type": "markdown",
      "metadata": {
        "id": "0XhYLSdg-z8a"
      },
      "source": [
        "### NUll values"
      ]
    },
    {
      "cell_type": "code",
      "execution_count": null,
      "metadata": {
        "colab": {
          "base_uri": "https://localhost:8080/",
          "height": 241
        },
        "id": "fHC9Z5QshvqH",
        "outputId": "7a7b5e81-6e01-4853-a086-917a3b42b9b4"
      },
      "outputs": [
        {
          "data": {
            "text/html": [
              "<div>\n",
              "<style scoped>\n",
              "    .dataframe tbody tr th:only-of-type {\n",
              "        vertical-align: middle;\n",
              "    }\n",
              "\n",
              "    .dataframe tbody tr th {\n",
              "        vertical-align: top;\n",
              "    }\n",
              "\n",
              "    .dataframe thead th {\n",
              "        text-align: right;\n",
              "    }\n",
              "</style>\n",
              "<table border=\"1\" class=\"dataframe\">\n",
              "  <thead>\n",
              "    <tr style=\"text-align: right;\">\n",
              "      <th></th>\n",
              "      <th>0</th>\n",
              "    </tr>\n",
              "  </thead>\n",
              "  <tbody>\n",
              "    <tr>\n",
              "      <th>year</th>\n",
              "      <td>0</td>\n",
              "    </tr>\n",
              "    <tr>\n",
              "      <th>km_driven</th>\n",
              "      <td>0</td>\n",
              "    </tr>\n",
              "    <tr>\n",
              "      <th>mileage</th>\n",
              "      <td>187</td>\n",
              "    </tr>\n",
              "    <tr>\n",
              "      <th>engine</th>\n",
              "      <td>187</td>\n",
              "    </tr>\n",
              "    <tr>\n",
              "      <th>max_power</th>\n",
              "      <td>181</td>\n",
              "    </tr>\n",
              "  </tbody>\n",
              "</table>\n",
              "</div><br><label><b>dtype:</b> int64</label>"
            ],
            "text/plain": [
              "year           0\n",
              "km_driven      0\n",
              "mileage      187\n",
              "engine       187\n",
              "max_power    181\n",
              "dtype: int64"
            ]
          },
          "execution_count": 35,
          "metadata": {},
          "output_type": "execute_result"
        }
      ],
      "source": [
        "# Let's observe all null values in training set (did not deal with them - to avoid data leakage)\n",
        "X_train.isna().sum()"
      ]
    },
    {
      "cell_type": "code",
      "execution_count": null,
      "metadata": {
        "colab": {
          "base_uri": "https://localhost:8080/",
          "height": 241
        },
        "id": "aAA-x1Y58WXG",
        "outputId": "f1dbf728-48a9-404a-b0bb-d9147413b4f4"
      },
      "outputs": [
        {
          "data": {
            "text/html": [
              "<div>\n",
              "<style scoped>\n",
              "    .dataframe tbody tr th:only-of-type {\n",
              "        vertical-align: middle;\n",
              "    }\n",
              "\n",
              "    .dataframe tbody tr th {\n",
              "        vertical-align: top;\n",
              "    }\n",
              "\n",
              "    .dataframe thead th {\n",
              "        text-align: right;\n",
              "    }\n",
              "</style>\n",
              "<table border=\"1\" class=\"dataframe\">\n",
              "  <thead>\n",
              "    <tr style=\"text-align: right;\">\n",
              "      <th></th>\n",
              "      <th>0</th>\n",
              "    </tr>\n",
              "  </thead>\n",
              "  <tbody>\n",
              "    <tr>\n",
              "      <th>year</th>\n",
              "      <td>0</td>\n",
              "    </tr>\n",
              "    <tr>\n",
              "      <th>km_driven</th>\n",
              "      <td>0</td>\n",
              "    </tr>\n",
              "    <tr>\n",
              "      <th>mileage</th>\n",
              "      <td>27</td>\n",
              "    </tr>\n",
              "    <tr>\n",
              "      <th>engine</th>\n",
              "      <td>27</td>\n",
              "    </tr>\n",
              "    <tr>\n",
              "      <th>max_power</th>\n",
              "      <td>27</td>\n",
              "    </tr>\n",
              "  </tbody>\n",
              "</table>\n",
              "</div><br><label><b>dtype:</b> int64</label>"
            ],
            "text/plain": [
              "year          0\n",
              "km_driven     0\n",
              "mileage      27\n",
              "engine       27\n",
              "max_power    27\n",
              "dtype: int64"
            ]
          },
          "execution_count": 36,
          "metadata": {},
          "output_type": "execute_result"
        }
      ],
      "source": [
        "# Same for the testing dataset\n",
        "X_test.isna().sum()"
      ]
    },
    {
      "cell_type": "code",
      "execution_count": null,
      "metadata": {
        "colab": {
          "base_uri": "https://localhost:8080/"
        },
        "id": "8bHJN9x_9CSL",
        "outputId": "6495ac1f-eda8-4dfd-9a2d-18cb2ce3fae4"
      },
      "outputs": [
        {
          "name": "stdout",
          "output_type": "stream",
          "text": [
            "19.38204354862439 19.3\n"
          ]
        },
        {
          "name": "stderr",
          "output_type": "stream",
          "text": [
            "<ipython-input-37-4dc187eca875>:7: FutureWarning: A value is trying to be set on a copy of a DataFrame or Series through chained assignment using an inplace method.\n",
            "The behavior will change in pandas 3.0. This inplace method will never work because the intermediate object on which we are setting values always behaves as a copy.\n",
            "\n",
            "For example, when doing 'df[col].method(value, inplace=True)', try using 'df.method({col: value}, inplace=True)' or df[col] = df[col].method(value) instead, to perform the operation inplace on the original object.\n",
            "\n",
            "\n",
            "  X_train.mileage.fillna(X_train.mileage.mean(), inplace=True)\n",
            "<ipython-input-37-4dc187eca875>:8: FutureWarning: A value is trying to be set on a copy of a DataFrame or Series through chained assignment using an inplace method.\n",
            "The behavior will change in pandas 3.0. This inplace method will never work because the intermediate object on which we are setting values always behaves as a copy.\n",
            "\n",
            "For example, when doing 'df[col].method(value, inplace=True)', try using 'df.method({col: value}, inplace=True)' or df[col] = df[col].method(value) instead, to perform the operation inplace on the original object.\n",
            "\n",
            "\n",
            "  X_test.mileage.fillna(X_train.mileage.mean(), inplace=True)\n"
          ]
        }
      ],
      "source": [
        "# Removing null values for mileage\n",
        "print(X_train.mileage.mean(), X_train.mileage.median())\n",
        "\n",
        "# sns.distplot(X_train, x=X_train.mileage)\n",
        "\n",
        "# Interchanging nan values with mean - the distribution is normal\n",
        "X_train.mileage.fillna(X_train.mileage.mean(), inplace=True)\n",
        "X_test.mileage.fillna(X_train.mileage.mean(), inplace=True)"
      ]
    },
    {
      "cell_type": "code",
      "execution_count": null,
      "metadata": {
        "colab": {
          "base_uri": "https://localhost:8080/"
        },
        "id": "syiVG-u69W2g",
        "outputId": "f3204121-3d76-4476-b301-6907ecf2c5a4"
      },
      "outputs": [
        {
          "name": "stdout",
          "output_type": "stream",
          "text": [
            "1463.756068853906 1248.0\n"
          ]
        },
        {
          "name": "stderr",
          "output_type": "stream",
          "text": [
            "<ipython-input-38-9d9e8b96bc3f>:7: FutureWarning: A value is trying to be set on a copy of a DataFrame or Series through chained assignment using an inplace method.\n",
            "The behavior will change in pandas 3.0. This inplace method will never work because the intermediate object on which we are setting values always behaves as a copy.\n",
            "\n",
            "For example, when doing 'df[col].method(value, inplace=True)', try using 'df.method({col: value}, inplace=True)' or df[col] = df[col].method(value) instead, to perform the operation inplace on the original object.\n",
            "\n",
            "\n",
            "  X_train.engine.fillna(X_train.engine.mean(), inplace=True)\n",
            "<ipython-input-38-9d9e8b96bc3f>:8: FutureWarning: A value is trying to be set on a copy of a DataFrame or Series through chained assignment using an inplace method.\n",
            "The behavior will change in pandas 3.0. This inplace method will never work because the intermediate object on which we are setting values always behaves as a copy.\n",
            "\n",
            "For example, when doing 'df[col].method(value, inplace=True)', try using 'df.method({col: value}, inplace=True)' or df[col] = df[col].method(value) instead, to perform the operation inplace on the original object.\n",
            "\n",
            "\n",
            "  X_test.engine.fillna(X_train.engine.mean(), inplace=True)\n"
          ]
        }
      ],
      "source": [
        "# df_copy.engine.isna().sum() # 214\n",
        "print(X_train.engine.mean(), X_train.engine.median())\n",
        "\n",
        "# sns.distplot(X_train, x=X_train['engine'])\n",
        "\n",
        "# Interchanging nan values with median - the distribution is skewed\n",
        "X_train.engine.fillna(X_train.engine.mean(), inplace=True)\n",
        "X_test.engine.fillna(X_train.engine.mean(), inplace=True)"
      ]
    },
    {
      "cell_type": "code",
      "execution_count": null,
      "metadata": {
        "colab": {
          "base_uri": "https://localhost:8080/"
        },
        "id": "vRgaIQu39gEt",
        "outputId": "4b46f826-29af-40d5-c20f-b04d0e1f55b2"
      },
      "outputs": [
        {
          "name": "stdout",
          "output_type": "stream",
          "text": [
            "91.74543877701014 82.85\n"
          ]
        },
        {
          "name": "stderr",
          "output_type": "stream",
          "text": [
            "<ipython-input-39-9d3173a3f2c6>:7: FutureWarning: A value is trying to be set on a copy of a DataFrame or Series through chained assignment using an inplace method.\n",
            "The behavior will change in pandas 3.0. This inplace method will never work because the intermediate object on which we are setting values always behaves as a copy.\n",
            "\n",
            "For example, when doing 'df[col].method(value, inplace=True)', try using 'df.method({col: value}, inplace=True)' or df[col] = df[col].method(value) instead, to perform the operation inplace on the original object.\n",
            "\n",
            "\n",
            "  X_train.max_power.fillna(X_train.max_power.mean(), inplace=True)\n",
            "<ipython-input-39-9d3173a3f2c6>:8: FutureWarning: A value is trying to be set on a copy of a DataFrame or Series through chained assignment using an inplace method.\n",
            "The behavior will change in pandas 3.0. This inplace method will never work because the intermediate object on which we are setting values always behaves as a copy.\n",
            "\n",
            "For example, when doing 'df[col].method(value, inplace=True)', try using 'df.method({col: value}, inplace=True)' or df[col] = df[col].method(value) instead, to perform the operation inplace on the original object.\n",
            "\n",
            "\n",
            "  X_test.max_power.fillna(X_train.max_power.mean(), inplace=True)\n"
          ]
        }
      ],
      "source": [
        "# df_copy.max_power.isna().sum() # 208\n",
        "print(X_train.max_power.mean(), X_train.max_power.median())\n",
        "\n",
        "# sns.distplot(X_train, x=X_train.max_power) # distribution is skewed a little\n",
        "\n",
        "# Interchanging nan values with median - the distribution is skewed\n",
        "X_train.max_power.fillna(X_train.max_power.mean(), inplace=True)\n",
        "X_test.max_power.fillna(X_train.max_power.mean(), inplace=True)"
      ]
    },
    {
      "cell_type": "code",
      "execution_count": null,
      "metadata": {
        "id": "XU4lcGYW9qkS"
      },
      "outputs": [],
      "source": [
        "# # And we want to remove all null values from seats feature - 214 rows\n",
        "# print(X_train.seats.mean(), X_train.seats.median())\n",
        "\n",
        "# # sns.distplot(X_train, x=X_train.seats) # distribution is skewed a little\n",
        "\n",
        "# # Interchanging nan values with median - the distribution is skewed\n",
        "# X_train.seats.fillna(X_train.seats.mean(), inplace=True)\n",
        "# X_test.seats.fillna(X_train.seats.mean(), inplace=True)"
      ]
    },
    {
      "cell_type": "code",
      "execution_count": null,
      "metadata": {
        "colab": {
          "base_uri": "https://localhost:8080/",
          "height": 241
        },
        "id": "WnJbAwFT1PsX",
        "outputId": "0de853e3-5d18-45e4-ae6e-1ea1b3d3c950"
      },
      "outputs": [
        {
          "data": {
            "text/html": [
              "<div>\n",
              "<style scoped>\n",
              "    .dataframe tbody tr th:only-of-type {\n",
              "        vertical-align: middle;\n",
              "    }\n",
              "\n",
              "    .dataframe tbody tr th {\n",
              "        vertical-align: top;\n",
              "    }\n",
              "\n",
              "    .dataframe thead th {\n",
              "        text-align: right;\n",
              "    }\n",
              "</style>\n",
              "<table border=\"1\" class=\"dataframe\">\n",
              "  <thead>\n",
              "    <tr style=\"text-align: right;\">\n",
              "      <th></th>\n",
              "      <th>0</th>\n",
              "    </tr>\n",
              "  </thead>\n",
              "  <tbody>\n",
              "    <tr>\n",
              "      <th>year</th>\n",
              "      <td>0</td>\n",
              "    </tr>\n",
              "    <tr>\n",
              "      <th>km_driven</th>\n",
              "      <td>0</td>\n",
              "    </tr>\n",
              "    <tr>\n",
              "      <th>mileage</th>\n",
              "      <td>0</td>\n",
              "    </tr>\n",
              "    <tr>\n",
              "      <th>engine</th>\n",
              "      <td>0</td>\n",
              "    </tr>\n",
              "    <tr>\n",
              "      <th>max_power</th>\n",
              "      <td>0</td>\n",
              "    </tr>\n",
              "  </tbody>\n",
              "</table>\n",
              "</div><br><label><b>dtype:</b> int64</label>"
            ],
            "text/plain": [
              "year         0\n",
              "km_driven    0\n",
              "mileage      0\n",
              "engine       0\n",
              "max_power    0\n",
              "dtype: int64"
            ]
          },
          "execution_count": 41,
          "metadata": {},
          "output_type": "execute_result"
        }
      ],
      "source": [
        "# Now verify if everything is fine\n",
        "X_train.isna().sum()"
      ]
    },
    {
      "cell_type": "code",
      "execution_count": null,
      "metadata": {
        "colab": {
          "base_uri": "https://localhost:8080/",
          "height": 241
        },
        "id": "SyU_MxwwTz_m",
        "outputId": "0b86460d-7505-40aa-febc-4c28cca26387"
      },
      "outputs": [
        {
          "data": {
            "text/html": [
              "<div>\n",
              "<style scoped>\n",
              "    .dataframe tbody tr th:only-of-type {\n",
              "        vertical-align: middle;\n",
              "    }\n",
              "\n",
              "    .dataframe tbody tr th {\n",
              "        vertical-align: top;\n",
              "    }\n",
              "\n",
              "    .dataframe thead th {\n",
              "        text-align: right;\n",
              "    }\n",
              "</style>\n",
              "<table border=\"1\" class=\"dataframe\">\n",
              "  <thead>\n",
              "    <tr style=\"text-align: right;\">\n",
              "      <th></th>\n",
              "      <th>0</th>\n",
              "    </tr>\n",
              "  </thead>\n",
              "  <tbody>\n",
              "    <tr>\n",
              "      <th>year</th>\n",
              "      <td>0</td>\n",
              "    </tr>\n",
              "    <tr>\n",
              "      <th>km_driven</th>\n",
              "      <td>0</td>\n",
              "    </tr>\n",
              "    <tr>\n",
              "      <th>mileage</th>\n",
              "      <td>0</td>\n",
              "    </tr>\n",
              "    <tr>\n",
              "      <th>engine</th>\n",
              "      <td>0</td>\n",
              "    </tr>\n",
              "    <tr>\n",
              "      <th>max_power</th>\n",
              "      <td>0</td>\n",
              "    </tr>\n",
              "  </tbody>\n",
              "</table>\n",
              "</div><br><label><b>dtype:</b> int64</label>"
            ],
            "text/plain": [
              "year         0\n",
              "km_driven    0\n",
              "mileage      0\n",
              "engine       0\n",
              "max_power    0\n",
              "dtype: int64"
            ]
          },
          "execution_count": 42,
          "metadata": {},
          "output_type": "execute_result"
        }
      ],
      "source": [
        "# Same for test set\n",
        "X_test.isna().sum()"
      ]
    },
    {
      "cell_type": "code",
      "execution_count": null,
      "metadata": {
        "colab": {
          "base_uri": "https://localhost:8080/"
        },
        "id": "jt58uh7-Tz83",
        "outputId": "facc1cee-da46-422f-c054-eecc77b9ed8d"
      },
      "outputs": [
        {
          "data": {
            "text/plain": [
              "0"
            ]
          },
          "execution_count": 43,
          "metadata": {},
          "output_type": "execute_result"
        }
      ],
      "source": [
        "# Just to be sure\n",
        "y_train.isna().sum()"
      ]
    },
    {
      "cell_type": "code",
      "execution_count": null,
      "metadata": {
        "colab": {
          "base_uri": "https://localhost:8080/"
        },
        "id": "4_UcW9vwTz5I",
        "outputId": "4be716fc-12b5-4025-bffb-f50c3eef0dd5"
      },
      "outputs": [
        {
          "data": {
            "text/plain": [
              "0"
            ]
          },
          "execution_count": 44,
          "metadata": {},
          "output_type": "execute_result"
        }
      ],
      "source": [
        "# Now we can proceed\n",
        "y_test.isna().sum()"
      ]
    },
    {
      "cell_type": "markdown",
      "metadata": {
        "id": "xsRmYG5K_Aan"
      },
      "source": [
        "## Scaling"
      ]
    },
    {
      "cell_type": "code",
      "execution_count": null,
      "metadata": {
        "colab": {
          "base_uri": "https://localhost:8080/",
          "height": 206
        },
        "id": "rkXq06tQTz1z",
        "outputId": "328ec348-8344-4ef9-9983-cee2bd8780cf"
      },
      "outputs": [
        {
          "data": {
            "application/vnd.google.colaboratory.intrinsic+json": {
              "summary": "{\n  \"name\": \"X_train\",\n  \"rows\": 6984,\n  \"fields\": [\n    {\n      \"column\": \"year\",\n      \"properties\": {\n        \"dtype\": \"number\",\n        \"std\": 3.659587820815049,\n        \"min\": 2006.0,\n        \"max\": 2019.0,\n        \"num_unique_values\": 14,\n        \"samples\": [\n          2015.0,\n          2008.0,\n          2016.0\n        ],\n        \"semantic_type\": \"\",\n        \"description\": \"\"\n      }\n    },\n    {\n      \"column\": \"km_driven\",\n      \"properties\": {\n        \"dtype\": \"number\",\n        \"std\": 39989.47692044393,\n        \"min\": 9000.0,\n        \"max\": 150000.0,\n        \"num_unique_values\": 665,\n        \"samples\": [\n          36521.0,\n          37161.0,\n          61260.0\n        ],\n        \"semantic_type\": \"\",\n        \"description\": \"\"\n      }\n    },\n    {\n      \"column\": \"mileage\",\n      \"properties\": {\n        \"dtype\": \"number\",\n        \"std\": 3.9576013127302363,\n        \"min\": 0.0,\n        \"max\": 28.4,\n        \"num_unique_values\": 355,\n        \"samples\": [\n          13.73,\n          18.9,\n          24.04\n        ],\n        \"semantic_type\": \"\",\n        \"description\": \"\"\n      }\n    },\n    {\n      \"column\": \"engine\",\n      \"properties\": {\n        \"dtype\": \"number\",\n        \"std\": 499.16548108958705,\n        \"min\": 624.0,\n        \"max\": 3604.0,\n        \"num_unique_values\": 121,\n        \"samples\": [\n          1495.0,\n          793.0,\n          1197.0\n        ],\n        \"semantic_type\": \"\",\n        \"description\": \"\"\n      }\n    },\n    {\n      \"column\": \"max_power\",\n      \"properties\": {\n        \"dtype\": \"number\",\n        \"std\": 34.9886826570998,\n        \"min\": 0.0,\n        \"max\": 282.0,\n        \"num_unique_values\": 300,\n        \"samples\": [\n          187.4,\n          194.0,\n          184.0\n        ],\n        \"semantic_type\": \"\",\n        \"description\": \"\"\n      }\n    }\n  ]\n}",
              "type": "dataframe",
              "variable_name": "X_train"
            },
            "text/html": [
              "\n",
              "  <div id=\"df-81e3d317-49a3-4300-9b5a-14e12f09aa82\" class=\"colab-df-container\">\n",
              "    <div>\n",
              "<style scoped>\n",
              "    .dataframe tbody tr th:only-of-type {\n",
              "        vertical-align: middle;\n",
              "    }\n",
              "\n",
              "    .dataframe tbody tr th {\n",
              "        vertical-align: top;\n",
              "    }\n",
              "\n",
              "    .dataframe thead th {\n",
              "        text-align: right;\n",
              "    }\n",
              "</style>\n",
              "<table border=\"1\" class=\"dataframe\">\n",
              "  <thead>\n",
              "    <tr style=\"text-align: right;\">\n",
              "      <th></th>\n",
              "      <th>year</th>\n",
              "      <th>km_driven</th>\n",
              "      <th>mileage</th>\n",
              "      <th>engine</th>\n",
              "      <th>max_power</th>\n",
              "    </tr>\n",
              "  </thead>\n",
              "  <tbody>\n",
              "    <tr>\n",
              "      <th>4419</th>\n",
              "      <td>2016.0</td>\n",
              "      <td>68089.0</td>\n",
              "      <td>19.16</td>\n",
              "      <td>2494.0</td>\n",
              "      <td>157.70</td>\n",
              "    </tr>\n",
              "    <tr>\n",
              "      <th>6103</th>\n",
              "      <td>2011.0</td>\n",
              "      <td>81500.0</td>\n",
              "      <td>14.84</td>\n",
              "      <td>2143.0</td>\n",
              "      <td>167.62</td>\n",
              "    </tr>\n",
              "    <tr>\n",
              "      <th>7893</th>\n",
              "      <td>2011.0</td>\n",
              "      <td>140000.0</td>\n",
              "      <td>14.40</td>\n",
              "      <td>1598.0</td>\n",
              "      <td>103.60</td>\n",
              "    </tr>\n",
              "    <tr>\n",
              "      <th>7427</th>\n",
              "      <td>2016.0</td>\n",
              "      <td>120000.0</td>\n",
              "      <td>13.58</td>\n",
              "      <td>2499.0</td>\n",
              "      <td>72.40</td>\n",
              "    </tr>\n",
              "    <tr>\n",
              "      <th>1448</th>\n",
              "      <td>2018.0</td>\n",
              "      <td>30000.0</td>\n",
              "      <td>18.60</td>\n",
              "      <td>1197.0</td>\n",
              "      <td>81.83</td>\n",
              "    </tr>\n",
              "  </tbody>\n",
              "</table>\n",
              "</div>\n",
              "    <div class=\"colab-df-buttons\">\n",
              "\n",
              "  <div class=\"colab-df-container\">\n",
              "    <button class=\"colab-df-convert\" onclick=\"convertToInteractive('df-81e3d317-49a3-4300-9b5a-14e12f09aa82')\"\n",
              "            title=\"Convert this dataframe to an interactive table.\"\n",
              "            style=\"display:none;\">\n",
              "\n",
              "  <svg xmlns=\"http://www.w3.org/2000/svg\" height=\"24px\" viewBox=\"0 -960 960 960\">\n",
              "    <path d=\"M120-120v-720h720v720H120Zm60-500h600v-160H180v160Zm220 220h160v-160H400v160Zm0 220h160v-160H400v160ZM180-400h160v-160H180v160Zm440 0h160v-160H620v160ZM180-180h160v-160H180v160Zm440 0h160v-160H620v160Z\"/>\n",
              "  </svg>\n",
              "    </button>\n",
              "\n",
              "  <style>\n",
              "    .colab-df-container {\n",
              "      display:flex;\n",
              "      gap: 12px;\n",
              "    }\n",
              "\n",
              "    .colab-df-convert {\n",
              "      background-color: #E8F0FE;\n",
              "      border: none;\n",
              "      border-radius: 50%;\n",
              "      cursor: pointer;\n",
              "      display: none;\n",
              "      fill: #1967D2;\n",
              "      height: 32px;\n",
              "      padding: 0 0 0 0;\n",
              "      width: 32px;\n",
              "    }\n",
              "\n",
              "    .colab-df-convert:hover {\n",
              "      background-color: #E2EBFA;\n",
              "      box-shadow: 0px 1px 2px rgba(60, 64, 67, 0.3), 0px 1px 3px 1px rgba(60, 64, 67, 0.15);\n",
              "      fill: #174EA6;\n",
              "    }\n",
              "\n",
              "    .colab-df-buttons div {\n",
              "      margin-bottom: 4px;\n",
              "    }\n",
              "\n",
              "    [theme=dark] .colab-df-convert {\n",
              "      background-color: #3B4455;\n",
              "      fill: #D2E3FC;\n",
              "    }\n",
              "\n",
              "    [theme=dark] .colab-df-convert:hover {\n",
              "      background-color: #434B5C;\n",
              "      box-shadow: 0px 1px 3px 1px rgba(0, 0, 0, 0.15);\n",
              "      filter: drop-shadow(0px 1px 2px rgba(0, 0, 0, 0.3));\n",
              "      fill: #FFFFFF;\n",
              "    }\n",
              "  </style>\n",
              "\n",
              "    <script>\n",
              "      const buttonEl =\n",
              "        document.querySelector('#df-81e3d317-49a3-4300-9b5a-14e12f09aa82 button.colab-df-convert');\n",
              "      buttonEl.style.display =\n",
              "        google.colab.kernel.accessAllowed ? 'block' : 'none';\n",
              "\n",
              "      async function convertToInteractive(key) {\n",
              "        const element = document.querySelector('#df-81e3d317-49a3-4300-9b5a-14e12f09aa82');\n",
              "        const dataTable =\n",
              "          await google.colab.kernel.invokeFunction('convertToInteractive',\n",
              "                                                    [key], {});\n",
              "        if (!dataTable) return;\n",
              "\n",
              "        const docLinkHtml = 'Like what you see? Visit the ' +\n",
              "          '<a target=\"_blank\" href=https://colab.research.google.com/notebooks/data_table.ipynb>data table notebook</a>'\n",
              "          + ' to learn more about interactive tables.';\n",
              "        element.innerHTML = '';\n",
              "        dataTable['output_type'] = 'display_data';\n",
              "        await google.colab.output.renderOutput(dataTable, element);\n",
              "        const docLink = document.createElement('div');\n",
              "        docLink.innerHTML = docLinkHtml;\n",
              "        element.appendChild(docLink);\n",
              "      }\n",
              "    </script>\n",
              "  </div>\n",
              "\n",
              "\n",
              "<div id=\"df-eb661e66-0c4d-40b5-b5cc-964d1e3156e0\">\n",
              "  <button class=\"colab-df-quickchart\" onclick=\"quickchart('df-eb661e66-0c4d-40b5-b5cc-964d1e3156e0')\"\n",
              "            title=\"Suggest charts\"\n",
              "            style=\"display:none;\">\n",
              "\n",
              "<svg xmlns=\"http://www.w3.org/2000/svg\" height=\"24px\"viewBox=\"0 0 24 24\"\n",
              "     width=\"24px\">\n",
              "    <g>\n",
              "        <path d=\"M19 3H5c-1.1 0-2 .9-2 2v14c0 1.1.9 2 2 2h14c1.1 0 2-.9 2-2V5c0-1.1-.9-2-2-2zM9 17H7v-7h2v7zm4 0h-2V7h2v10zm4 0h-2v-4h2v4z\"/>\n",
              "    </g>\n",
              "</svg>\n",
              "  </button>\n",
              "\n",
              "<style>\n",
              "  .colab-df-quickchart {\n",
              "      --bg-color: #E8F0FE;\n",
              "      --fill-color: #1967D2;\n",
              "      --hover-bg-color: #E2EBFA;\n",
              "      --hover-fill-color: #174EA6;\n",
              "      --disabled-fill-color: #AAA;\n",
              "      --disabled-bg-color: #DDD;\n",
              "  }\n",
              "\n",
              "  [theme=dark] .colab-df-quickchart {\n",
              "      --bg-color: #3B4455;\n",
              "      --fill-color: #D2E3FC;\n",
              "      --hover-bg-color: #434B5C;\n",
              "      --hover-fill-color: #FFFFFF;\n",
              "      --disabled-bg-color: #3B4455;\n",
              "      --disabled-fill-color: #666;\n",
              "  }\n",
              "\n",
              "  .colab-df-quickchart {\n",
              "    background-color: var(--bg-color);\n",
              "    border: none;\n",
              "    border-radius: 50%;\n",
              "    cursor: pointer;\n",
              "    display: none;\n",
              "    fill: var(--fill-color);\n",
              "    height: 32px;\n",
              "    padding: 0;\n",
              "    width: 32px;\n",
              "  }\n",
              "\n",
              "  .colab-df-quickchart:hover {\n",
              "    background-color: var(--hover-bg-color);\n",
              "    box-shadow: 0 1px 2px rgba(60, 64, 67, 0.3), 0 1px 3px 1px rgba(60, 64, 67, 0.15);\n",
              "    fill: var(--button-hover-fill-color);\n",
              "  }\n",
              "\n",
              "  .colab-df-quickchart-complete:disabled,\n",
              "  .colab-df-quickchart-complete:disabled:hover {\n",
              "    background-color: var(--disabled-bg-color);\n",
              "    fill: var(--disabled-fill-color);\n",
              "    box-shadow: none;\n",
              "  }\n",
              "\n",
              "  .colab-df-spinner {\n",
              "    border: 2px solid var(--fill-color);\n",
              "    border-color: transparent;\n",
              "    border-bottom-color: var(--fill-color);\n",
              "    animation:\n",
              "      spin 1s steps(1) infinite;\n",
              "  }\n",
              "\n",
              "  @keyframes spin {\n",
              "    0% {\n",
              "      border-color: transparent;\n",
              "      border-bottom-color: var(--fill-color);\n",
              "      border-left-color: var(--fill-color);\n",
              "    }\n",
              "    20% {\n",
              "      border-color: transparent;\n",
              "      border-left-color: var(--fill-color);\n",
              "      border-top-color: var(--fill-color);\n",
              "    }\n",
              "    30% {\n",
              "      border-color: transparent;\n",
              "      border-left-color: var(--fill-color);\n",
              "      border-top-color: var(--fill-color);\n",
              "      border-right-color: var(--fill-color);\n",
              "    }\n",
              "    40% {\n",
              "      border-color: transparent;\n",
              "      border-right-color: var(--fill-color);\n",
              "      border-top-color: var(--fill-color);\n",
              "    }\n",
              "    60% {\n",
              "      border-color: transparent;\n",
              "      border-right-color: var(--fill-color);\n",
              "    }\n",
              "    80% {\n",
              "      border-color: transparent;\n",
              "      border-right-color: var(--fill-color);\n",
              "      border-bottom-color: var(--fill-color);\n",
              "    }\n",
              "    90% {\n",
              "      border-color: transparent;\n",
              "      border-bottom-color: var(--fill-color);\n",
              "    }\n",
              "  }\n",
              "</style>\n",
              "\n",
              "  <script>\n",
              "    async function quickchart(key) {\n",
              "      const quickchartButtonEl =\n",
              "        document.querySelector('#' + key + ' button');\n",
              "      quickchartButtonEl.disabled = true;  // To prevent multiple clicks.\n",
              "      quickchartButtonEl.classList.add('colab-df-spinner');\n",
              "      try {\n",
              "        const charts = await google.colab.kernel.invokeFunction(\n",
              "            'suggestCharts', [key], {});\n",
              "      } catch (error) {\n",
              "        console.error('Error during call to suggestCharts:', error);\n",
              "      }\n",
              "      quickchartButtonEl.classList.remove('colab-df-spinner');\n",
              "      quickchartButtonEl.classList.add('colab-df-quickchart-complete');\n",
              "    }\n",
              "    (() => {\n",
              "      let quickchartButtonEl =\n",
              "        document.querySelector('#df-eb661e66-0c4d-40b5-b5cc-964d1e3156e0 button');\n",
              "      quickchartButtonEl.style.display =\n",
              "        google.colab.kernel.accessAllowed ? 'block' : 'none';\n",
              "    })();\n",
              "  </script>\n",
              "</div>\n",
              "\n",
              "    </div>\n",
              "  </div>\n"
            ],
            "text/plain": [
              "        year  km_driven  mileage  engine  max_power\n",
              "4419  2016.0    68089.0    19.16  2494.0     157.70\n",
              "6103  2011.0    81500.0    14.84  2143.0     167.62\n",
              "7893  2011.0   140000.0    14.40  1598.0     103.60\n",
              "7427  2016.0   120000.0    13.58  2499.0      72.40\n",
              "1448  2018.0    30000.0    18.60  1197.0      81.83"
            ]
          },
          "execution_count": 45,
          "metadata": {},
          "output_type": "execute_result"
        }
      ],
      "source": [
        "# Observing what need to be scaled\n",
        "X_train.head()"
      ]
    },
    {
      "cell_type": "code",
      "execution_count": null,
      "metadata": {
        "id": "JzqZRIBZ_jcU"
      },
      "outputs": [],
      "source": [
        "# We need to scale all numerics whose difference is large\n",
        "from sklearn.preprocessing import StandardScaler\n",
        "\n",
        "# After observing above, we can proceed with the following columns\n",
        "col_names = ['year', 'km_driven', 'mileage', 'engine', 'max_power']\n",
        "\n",
        "# Defining Scaler\n",
        "sc = StandardScaler()\n",
        "\n",
        "# Scaling is performed\n",
        "X_train[col_names] = sc.fit_transform(X_train[col_names])\n",
        "X_test[col_names] = sc.transform(X_test[col_names])"
      ]
    },
    {
      "cell_type": "code",
      "execution_count": null,
      "metadata": {
        "colab": {
          "base_uri": "https://localhost:8080/",
          "height": 206
        },
        "id": "UYs4zZ4LBGg9",
        "outputId": "d612577d-48b5-4d64-b242-a96d9645f35a"
      },
      "outputs": [
        {
          "data": {
            "application/vnd.google.colaboratory.intrinsic+json": {
              "summary": "{\n  \"name\": \"X_train\",\n  \"rows\": 6984,\n  \"fields\": [\n    {\n      \"column\": \"year\",\n      \"properties\": {\n        \"dtype\": \"number\",\n        \"std\": 1.0000715998998428,\n        \"min\": -2.1732826062264547,\n        \"max\": 1.379284359034276,\n        \"num_unique_values\": 14,\n        \"samples\": [\n          0.28618683126174344,\n          -1.6267338423401885,\n          0.5594612132048765\n        ],\n        \"semantic_type\": \"\",\n        \"description\": \"\"\n      }\n    },\n    {\n      \"column\": \"km_driven\",\n      \"properties\": {\n        \"dtype\": \"number\",\n        \"std\": 1.000071599899853,\n        \"min\": -1.448991818002361,\n        \"max\": 2.07718822847358,\n        \"num_unique_values\": 665,\n        \"samples\": [\n          -0.76073649134233,\n          -0.7447311351030066,\n          -0.14205444758510796\n        ],\n        \"semantic_type\": \"\",\n        \"description\": \"\"\n      }\n    },\n    {\n      \"column\": \"mileage\",\n      \"properties\": {\n        \"dtype\": \"number\",\n        \"std\": 1.000071599899851,\n        \"min\": -4.897772607526585,\n        \"max\": 2.2788051204512874,\n        \"num_unique_values\": 355,\n        \"samples\": [\n          -1.4282510510077053,\n          -0.12181066883708584,\n          1.1770488213673604\n        ],\n        \"semantic_type\": \"\",\n        \"description\": \"\"\n      }\n    },\n    {\n      \"column\": \"engine\",\n      \"properties\": {\n        \"dtype\": \"number\",\n        \"std\": 1.0000715998998548,\n        \"min\": -1.6824404473465515,\n        \"max\": 4.287951097349699,\n        \"num_unique_values\": 121,\n        \"samples\": [\n          0.06259681286500324,\n          -1.343851128201026,\n          -0.5344423416046217\n        ],\n        \"semantic_type\": \"\",\n        \"description\": \"\"\n      }\n    },\n    {\n      \"column\": \"max_power\",\n      \"properties\": {\n        \"dtype\": \"number\",\n        \"std\": 1.0000715998998577,\n        \"min\": -2.622333874082587,\n        \"max\": 5.43799220151296,\n        \"num_unique_values\": 300,\n        \"samples\": [\n          2.734067213033035,\n          2.9227131424618666,\n          2.636885976660606\n        ],\n        \"semantic_type\": \"\",\n        \"description\": \"\"\n      }\n    }\n  ]\n}",
              "type": "dataframe",
              "variable_name": "X_train"
            },
            "text/html": [
              "\n",
              "  <div id=\"df-8268c0d2-f8a6-4590-acef-3917638b5ad0\" class=\"colab-df-container\">\n",
              "    <div>\n",
              "<style scoped>\n",
              "    .dataframe tbody tr th:only-of-type {\n",
              "        vertical-align: middle;\n",
              "    }\n",
              "\n",
              "    .dataframe tbody tr th {\n",
              "        vertical-align: top;\n",
              "    }\n",
              "\n",
              "    .dataframe thead th {\n",
              "        text-align: right;\n",
              "    }\n",
              "</style>\n",
              "<table border=\"1\" class=\"dataframe\">\n",
              "  <thead>\n",
              "    <tr style=\"text-align: right;\">\n",
              "      <th></th>\n",
              "      <th>year</th>\n",
              "      <th>km_driven</th>\n",
              "      <th>mileage</th>\n",
              "      <th>engine</th>\n",
              "      <th>max_power</th>\n",
              "    </tr>\n",
              "  </thead>\n",
              "  <tbody>\n",
              "    <tr>\n",
              "      <th>4419</th>\n",
              "      <td>0.559461</td>\n",
              "      <td>0.028728</td>\n",
              "      <td>-0.056110</td>\n",
              "      <td>2.064080</td>\n",
              "      <td>1.885161</td>\n",
              "    </tr>\n",
              "    <tr>\n",
              "      <th>6103</th>\n",
              "      <td>-0.806911</td>\n",
              "      <td>0.364115</td>\n",
              "      <td>-1.147758</td>\n",
              "      <td>1.360856</td>\n",
              "      <td>2.168701</td>\n",
              "    </tr>\n",
              "    <tr>\n",
              "      <th>7893</th>\n",
              "      <td>-0.806911</td>\n",
              "      <td>1.827105</td>\n",
              "      <td>-1.258944</td>\n",
              "      <td>0.268956</td>\n",
              "      <td>0.338836</td>\n",
              "    </tr>\n",
              "    <tr>\n",
              "      <th>7427</th>\n",
              "      <td>0.559461</td>\n",
              "      <td>1.326937</td>\n",
              "      <td>-1.466156</td>\n",
              "      <td>2.074098</td>\n",
              "      <td>-0.552945</td>\n",
              "    </tr>\n",
              "    <tr>\n",
              "      <th>1448</th>\n",
              "      <td>1.106010</td>\n",
              "      <td>-0.923816</td>\n",
              "      <td>-0.197620</td>\n",
              "      <td>-0.534442</td>\n",
              "      <td>-0.283410</td>\n",
              "    </tr>\n",
              "  </tbody>\n",
              "</table>\n",
              "</div>\n",
              "    <div class=\"colab-df-buttons\">\n",
              "\n",
              "  <div class=\"colab-df-container\">\n",
              "    <button class=\"colab-df-convert\" onclick=\"convertToInteractive('df-8268c0d2-f8a6-4590-acef-3917638b5ad0')\"\n",
              "            title=\"Convert this dataframe to an interactive table.\"\n",
              "            style=\"display:none;\">\n",
              "\n",
              "  <svg xmlns=\"http://www.w3.org/2000/svg\" height=\"24px\" viewBox=\"0 -960 960 960\">\n",
              "    <path d=\"M120-120v-720h720v720H120Zm60-500h600v-160H180v160Zm220 220h160v-160H400v160Zm0 220h160v-160H400v160ZM180-400h160v-160H180v160Zm440 0h160v-160H620v160ZM180-180h160v-160H180v160Zm440 0h160v-160H620v160Z\"/>\n",
              "  </svg>\n",
              "    </button>\n",
              "\n",
              "  <style>\n",
              "    .colab-df-container {\n",
              "      display:flex;\n",
              "      gap: 12px;\n",
              "    }\n",
              "\n",
              "    .colab-df-convert {\n",
              "      background-color: #E8F0FE;\n",
              "      border: none;\n",
              "      border-radius: 50%;\n",
              "      cursor: pointer;\n",
              "      display: none;\n",
              "      fill: #1967D2;\n",
              "      height: 32px;\n",
              "      padding: 0 0 0 0;\n",
              "      width: 32px;\n",
              "    }\n",
              "\n",
              "    .colab-df-convert:hover {\n",
              "      background-color: #E2EBFA;\n",
              "      box-shadow: 0px 1px 2px rgba(60, 64, 67, 0.3), 0px 1px 3px 1px rgba(60, 64, 67, 0.15);\n",
              "      fill: #174EA6;\n",
              "    }\n",
              "\n",
              "    .colab-df-buttons div {\n",
              "      margin-bottom: 4px;\n",
              "    }\n",
              "\n",
              "    [theme=dark] .colab-df-convert {\n",
              "      background-color: #3B4455;\n",
              "      fill: #D2E3FC;\n",
              "    }\n",
              "\n",
              "    [theme=dark] .colab-df-convert:hover {\n",
              "      background-color: #434B5C;\n",
              "      box-shadow: 0px 1px 3px 1px rgba(0, 0, 0, 0.15);\n",
              "      filter: drop-shadow(0px 1px 2px rgba(0, 0, 0, 0.3));\n",
              "      fill: #FFFFFF;\n",
              "    }\n",
              "  </style>\n",
              "\n",
              "    <script>\n",
              "      const buttonEl =\n",
              "        document.querySelector('#df-8268c0d2-f8a6-4590-acef-3917638b5ad0 button.colab-df-convert');\n",
              "      buttonEl.style.display =\n",
              "        google.colab.kernel.accessAllowed ? 'block' : 'none';\n",
              "\n",
              "      async function convertToInteractive(key) {\n",
              "        const element = document.querySelector('#df-8268c0d2-f8a6-4590-acef-3917638b5ad0');\n",
              "        const dataTable =\n",
              "          await google.colab.kernel.invokeFunction('convertToInteractive',\n",
              "                                                    [key], {});\n",
              "        if (!dataTable) return;\n",
              "\n",
              "        const docLinkHtml = 'Like what you see? Visit the ' +\n",
              "          '<a target=\"_blank\" href=https://colab.research.google.com/notebooks/data_table.ipynb>data table notebook</a>'\n",
              "          + ' to learn more about interactive tables.';\n",
              "        element.innerHTML = '';\n",
              "        dataTable['output_type'] = 'display_data';\n",
              "        await google.colab.output.renderOutput(dataTable, element);\n",
              "        const docLink = document.createElement('div');\n",
              "        docLink.innerHTML = docLinkHtml;\n",
              "        element.appendChild(docLink);\n",
              "      }\n",
              "    </script>\n",
              "  </div>\n",
              "\n",
              "\n",
              "<div id=\"df-2790588c-945d-40f2-95a1-789b679f7120\">\n",
              "  <button class=\"colab-df-quickchart\" onclick=\"quickchart('df-2790588c-945d-40f2-95a1-789b679f7120')\"\n",
              "            title=\"Suggest charts\"\n",
              "            style=\"display:none;\">\n",
              "\n",
              "<svg xmlns=\"http://www.w3.org/2000/svg\" height=\"24px\"viewBox=\"0 0 24 24\"\n",
              "     width=\"24px\">\n",
              "    <g>\n",
              "        <path d=\"M19 3H5c-1.1 0-2 .9-2 2v14c0 1.1.9 2 2 2h14c1.1 0 2-.9 2-2V5c0-1.1-.9-2-2-2zM9 17H7v-7h2v7zm4 0h-2V7h2v10zm4 0h-2v-4h2v4z\"/>\n",
              "    </g>\n",
              "</svg>\n",
              "  </button>\n",
              "\n",
              "<style>\n",
              "  .colab-df-quickchart {\n",
              "      --bg-color: #E8F0FE;\n",
              "      --fill-color: #1967D2;\n",
              "      --hover-bg-color: #E2EBFA;\n",
              "      --hover-fill-color: #174EA6;\n",
              "      --disabled-fill-color: #AAA;\n",
              "      --disabled-bg-color: #DDD;\n",
              "  }\n",
              "\n",
              "  [theme=dark] .colab-df-quickchart {\n",
              "      --bg-color: #3B4455;\n",
              "      --fill-color: #D2E3FC;\n",
              "      --hover-bg-color: #434B5C;\n",
              "      --hover-fill-color: #FFFFFF;\n",
              "      --disabled-bg-color: #3B4455;\n",
              "      --disabled-fill-color: #666;\n",
              "  }\n",
              "\n",
              "  .colab-df-quickchart {\n",
              "    background-color: var(--bg-color);\n",
              "    border: none;\n",
              "    border-radius: 50%;\n",
              "    cursor: pointer;\n",
              "    display: none;\n",
              "    fill: var(--fill-color);\n",
              "    height: 32px;\n",
              "    padding: 0;\n",
              "    width: 32px;\n",
              "  }\n",
              "\n",
              "  .colab-df-quickchart:hover {\n",
              "    background-color: var(--hover-bg-color);\n",
              "    box-shadow: 0 1px 2px rgba(60, 64, 67, 0.3), 0 1px 3px 1px rgba(60, 64, 67, 0.15);\n",
              "    fill: var(--button-hover-fill-color);\n",
              "  }\n",
              "\n",
              "  .colab-df-quickchart-complete:disabled,\n",
              "  .colab-df-quickchart-complete:disabled:hover {\n",
              "    background-color: var(--disabled-bg-color);\n",
              "    fill: var(--disabled-fill-color);\n",
              "    box-shadow: none;\n",
              "  }\n",
              "\n",
              "  .colab-df-spinner {\n",
              "    border: 2px solid var(--fill-color);\n",
              "    border-color: transparent;\n",
              "    border-bottom-color: var(--fill-color);\n",
              "    animation:\n",
              "      spin 1s steps(1) infinite;\n",
              "  }\n",
              "\n",
              "  @keyframes spin {\n",
              "    0% {\n",
              "      border-color: transparent;\n",
              "      border-bottom-color: var(--fill-color);\n",
              "      border-left-color: var(--fill-color);\n",
              "    }\n",
              "    20% {\n",
              "      border-color: transparent;\n",
              "      border-left-color: var(--fill-color);\n",
              "      border-top-color: var(--fill-color);\n",
              "    }\n",
              "    30% {\n",
              "      border-color: transparent;\n",
              "      border-left-color: var(--fill-color);\n",
              "      border-top-color: var(--fill-color);\n",
              "      border-right-color: var(--fill-color);\n",
              "    }\n",
              "    40% {\n",
              "      border-color: transparent;\n",
              "      border-right-color: var(--fill-color);\n",
              "      border-top-color: var(--fill-color);\n",
              "    }\n",
              "    60% {\n",
              "      border-color: transparent;\n",
              "      border-right-color: var(--fill-color);\n",
              "    }\n",
              "    80% {\n",
              "      border-color: transparent;\n",
              "      border-right-color: var(--fill-color);\n",
              "      border-bottom-color: var(--fill-color);\n",
              "    }\n",
              "    90% {\n",
              "      border-color: transparent;\n",
              "      border-bottom-color: var(--fill-color);\n",
              "    }\n",
              "  }\n",
              "</style>\n",
              "\n",
              "  <script>\n",
              "    async function quickchart(key) {\n",
              "      const quickchartButtonEl =\n",
              "        document.querySelector('#' + key + ' button');\n",
              "      quickchartButtonEl.disabled = true;  // To prevent multiple clicks.\n",
              "      quickchartButtonEl.classList.add('colab-df-spinner');\n",
              "      try {\n",
              "        const charts = await google.colab.kernel.invokeFunction(\n",
              "            'suggestCharts', [key], {});\n",
              "      } catch (error) {\n",
              "        console.error('Error during call to suggestCharts:', error);\n",
              "      }\n",
              "      quickchartButtonEl.classList.remove('colab-df-spinner');\n",
              "      quickchartButtonEl.classList.add('colab-df-quickchart-complete');\n",
              "    }\n",
              "    (() => {\n",
              "      let quickchartButtonEl =\n",
              "        document.querySelector('#df-2790588c-945d-40f2-95a1-789b679f7120 button');\n",
              "      quickchartButtonEl.style.display =\n",
              "        google.colab.kernel.accessAllowed ? 'block' : 'none';\n",
              "    })();\n",
              "  </script>\n",
              "</div>\n",
              "\n",
              "    </div>\n",
              "  </div>\n"
            ],
            "text/plain": [
              "          year  km_driven   mileage    engine  max_power\n",
              "4419  0.559461   0.028728 -0.056110  2.064080   1.885161\n",
              "6103 -0.806911   0.364115 -1.147758  1.360856   2.168701\n",
              "7893 -0.806911   1.827105 -1.258944  0.268956   0.338836\n",
              "7427  0.559461   1.326937 -1.466156  2.074098  -0.552945\n",
              "1448  1.106010  -0.923816 -0.197620 -0.534442  -0.283410"
            ]
          },
          "execution_count": 47,
          "metadata": {},
          "output_type": "execute_result"
        }
      ],
      "source": [
        "# Let's see if its fine\n",
        "X_train.head()"
      ]
    },
    {
      "cell_type": "code",
      "execution_count": null,
      "metadata": {
        "colab": {
          "base_uri": "https://localhost:8080/",
          "height": 206
        },
        "id": "Qc_0CPvoBJl3",
        "outputId": "6adbde32-a613-4e4a-d508-29d762d8a79f"
      },
      "outputs": [
        {
          "data": {
            "application/vnd.google.colaboratory.intrinsic+json": {
              "summary": "{\n  \"name\": \"X_test\",\n  \"rows\": 1044,\n  \"fields\": [\n    {\n      \"column\": \"year\",\n      \"properties\": {\n        \"dtype\": \"number\",\n        \"std\": 0.9773239645845788,\n        \"min\": -2.1732826062264547,\n        \"max\": 1.379284359034276,\n        \"num_unique_values\": 14,\n        \"samples\": [\n          -1.6267338423401885,\n          0.8327355951480097,\n          -0.8069106965107891\n        ],\n        \"semantic_type\": \"\",\n        \"description\": \"\"\n      }\n    },\n    {\n      \"column\": \"km_driven\",\n      \"properties\": {\n        \"dtype\": \"number\",\n        \"std\": 0.9870045152499459,\n        \"min\": -1.448991818002361,\n        \"max\": 2.07718822847358,\n        \"num_unique_values\": 189,\n        \"samples\": [\n          -0.43457734122786745,\n          0.03400447104744967,\n          -1.448991818002361\n        ],\n        \"semantic_type\": \"\",\n        \"description\": \"\"\n      }\n    },\n    {\n      \"column\": \"mileage\",\n      \"properties\": {\n        \"dtype\": \"number\",\n        \"std\": 0.9821024110837535,\n        \"min\": -2.4971568182382127,\n        \"max\": 5.715476145116748,\n        \"num_unique_values\": 239,\n        \"samples\": [\n          0.0601307383510862,\n          0.0,\n          -1.4611015828611253\n        ],\n        \"semantic_type\": \"\",\n        \"description\": \"\"\n      }\n    },\n    {\n      \"column\": \"engine\",\n      \"properties\": {\n        \"dtype\": \"number\",\n        \"std\": 0.9821540596402059,\n        \"min\": -1.343851128201026,\n        \"max\": 4.287951097349699,\n        \"num_unique_values\": 88,\n        \"samples\": [\n          -0.24594019984748752,\n          -0.19184604826802484,\n          -1.3318302056278122\n        ],\n        \"semantic_type\": \"\",\n        \"description\": \"\"\n      }\n    },\n    {\n      \"column\": \"max_power\",\n      \"properties\": {\n        \"dtype\": \"number\",\n        \"std\": 1.0747809681788745,\n        \"min\": -1.6448049670422762,\n        \"max\": 8.810752757967833,\n        \"num_unique_values\": 187,\n        \"samples\": [\n          8.810752757967833,\n          0.06444148444926165,\n          0.6646785326319087\n        ],\n        \"semantic_type\": \"\",\n        \"description\": \"\"\n      }\n    }\n  ]\n}",
              "type": "dataframe",
              "variable_name": "X_test"
            },
            "text/html": [
              "\n",
              "  <div id=\"df-a6d7bc7b-9bc2-45e5-b586-9f73378a6c9e\" class=\"colab-df-container\">\n",
              "    <div>\n",
              "<style scoped>\n",
              "    .dataframe tbody tr th:only-of-type {\n",
              "        vertical-align: middle;\n",
              "    }\n",
              "\n",
              "    .dataframe tbody tr th {\n",
              "        vertical-align: top;\n",
              "    }\n",
              "\n",
              "    .dataframe thead th {\n",
              "        text-align: right;\n",
              "    }\n",
              "</style>\n",
              "<table border=\"1\" class=\"dataframe\">\n",
              "  <thead>\n",
              "    <tr style=\"text-align: right;\">\n",
              "      <th></th>\n",
              "      <th>year</th>\n",
              "      <th>km_driven</th>\n",
              "      <th>mileage</th>\n",
              "      <th>engine</th>\n",
              "      <th>max_power</th>\n",
              "    </tr>\n",
              "  </thead>\n",
              "  <tbody>\n",
              "    <tr>\n",
              "      <th>5948</th>\n",
              "      <td>-0.806911</td>\n",
              "      <td>-0.798774</td>\n",
              "      <td>-1.107327</td>\n",
              "      <td>-0.191846</td>\n",
              "      <td>-0.049889</td>\n",
              "    </tr>\n",
              "    <tr>\n",
              "      <th>6039</th>\n",
              "      <td>0.559461</td>\n",
              "      <td>1.076853</td>\n",
              "      <td>0.072766</td>\n",
              "      <td>0.236900</td>\n",
              "      <td>0.984805</td>\n",
              "    </tr>\n",
              "    <tr>\n",
              "      <th>3069</th>\n",
              "      <td>0.286187</td>\n",
              "      <td>-0.173565</td>\n",
              "      <td>0.285031</td>\n",
              "      <td>-0.933136</td>\n",
              "      <td>-0.706149</td>\n",
              "    </tr>\n",
              "    <tr>\n",
              "      <th>6531</th>\n",
              "      <td>0.012912</td>\n",
              "      <td>0.326602</td>\n",
              "      <td>-0.094014</td>\n",
              "      <td>-0.005522</td>\n",
              "      <td>0.477462</td>\n",
              "    </tr>\n",
              "    <tr>\n",
              "      <th>322</th>\n",
              "      <td>1.106010</td>\n",
              "      <td>-0.948824</td>\n",
              "      <td>1.166941</td>\n",
              "      <td>-0.556481</td>\n",
              "      <td>-0.508070</td>\n",
              "    </tr>\n",
              "  </tbody>\n",
              "</table>\n",
              "</div>\n",
              "    <div class=\"colab-df-buttons\">\n",
              "\n",
              "  <div class=\"colab-df-container\">\n",
              "    <button class=\"colab-df-convert\" onclick=\"convertToInteractive('df-a6d7bc7b-9bc2-45e5-b586-9f73378a6c9e')\"\n",
              "            title=\"Convert this dataframe to an interactive table.\"\n",
              "            style=\"display:none;\">\n",
              "\n",
              "  <svg xmlns=\"http://www.w3.org/2000/svg\" height=\"24px\" viewBox=\"0 -960 960 960\">\n",
              "    <path d=\"M120-120v-720h720v720H120Zm60-500h600v-160H180v160Zm220 220h160v-160H400v160Zm0 220h160v-160H400v160ZM180-400h160v-160H180v160Zm440 0h160v-160H620v160ZM180-180h160v-160H180v160Zm440 0h160v-160H620v160Z\"/>\n",
              "  </svg>\n",
              "    </button>\n",
              "\n",
              "  <style>\n",
              "    .colab-df-container {\n",
              "      display:flex;\n",
              "      gap: 12px;\n",
              "    }\n",
              "\n",
              "    .colab-df-convert {\n",
              "      background-color: #E8F0FE;\n",
              "      border: none;\n",
              "      border-radius: 50%;\n",
              "      cursor: pointer;\n",
              "      display: none;\n",
              "      fill: #1967D2;\n",
              "      height: 32px;\n",
              "      padding: 0 0 0 0;\n",
              "      width: 32px;\n",
              "    }\n",
              "\n",
              "    .colab-df-convert:hover {\n",
              "      background-color: #E2EBFA;\n",
              "      box-shadow: 0px 1px 2px rgba(60, 64, 67, 0.3), 0px 1px 3px 1px rgba(60, 64, 67, 0.15);\n",
              "      fill: #174EA6;\n",
              "    }\n",
              "\n",
              "    .colab-df-buttons div {\n",
              "      margin-bottom: 4px;\n",
              "    }\n",
              "\n",
              "    [theme=dark] .colab-df-convert {\n",
              "      background-color: #3B4455;\n",
              "      fill: #D2E3FC;\n",
              "    }\n",
              "\n",
              "    [theme=dark] .colab-df-convert:hover {\n",
              "      background-color: #434B5C;\n",
              "      box-shadow: 0px 1px 3px 1px rgba(0, 0, 0, 0.15);\n",
              "      filter: drop-shadow(0px 1px 2px rgba(0, 0, 0, 0.3));\n",
              "      fill: #FFFFFF;\n",
              "    }\n",
              "  </style>\n",
              "\n",
              "    <script>\n",
              "      const buttonEl =\n",
              "        document.querySelector('#df-a6d7bc7b-9bc2-45e5-b586-9f73378a6c9e button.colab-df-convert');\n",
              "      buttonEl.style.display =\n",
              "        google.colab.kernel.accessAllowed ? 'block' : 'none';\n",
              "\n",
              "      async function convertToInteractive(key) {\n",
              "        const element = document.querySelector('#df-a6d7bc7b-9bc2-45e5-b586-9f73378a6c9e');\n",
              "        const dataTable =\n",
              "          await google.colab.kernel.invokeFunction('convertToInteractive',\n",
              "                                                    [key], {});\n",
              "        if (!dataTable) return;\n",
              "\n",
              "        const docLinkHtml = 'Like what you see? Visit the ' +\n",
              "          '<a target=\"_blank\" href=https://colab.research.google.com/notebooks/data_table.ipynb>data table notebook</a>'\n",
              "          + ' to learn more about interactive tables.';\n",
              "        element.innerHTML = '';\n",
              "        dataTable['output_type'] = 'display_data';\n",
              "        await google.colab.output.renderOutput(dataTable, element);\n",
              "        const docLink = document.createElement('div');\n",
              "        docLink.innerHTML = docLinkHtml;\n",
              "        element.appendChild(docLink);\n",
              "      }\n",
              "    </script>\n",
              "  </div>\n",
              "\n",
              "\n",
              "<div id=\"df-eba0431e-da16-4936-b52e-1d3b4896ba6c\">\n",
              "  <button class=\"colab-df-quickchart\" onclick=\"quickchart('df-eba0431e-da16-4936-b52e-1d3b4896ba6c')\"\n",
              "            title=\"Suggest charts\"\n",
              "            style=\"display:none;\">\n",
              "\n",
              "<svg xmlns=\"http://www.w3.org/2000/svg\" height=\"24px\"viewBox=\"0 0 24 24\"\n",
              "     width=\"24px\">\n",
              "    <g>\n",
              "        <path d=\"M19 3H5c-1.1 0-2 .9-2 2v14c0 1.1.9 2 2 2h14c1.1 0 2-.9 2-2V5c0-1.1-.9-2-2-2zM9 17H7v-7h2v7zm4 0h-2V7h2v10zm4 0h-2v-4h2v4z\"/>\n",
              "    </g>\n",
              "</svg>\n",
              "  </button>\n",
              "\n",
              "<style>\n",
              "  .colab-df-quickchart {\n",
              "      --bg-color: #E8F0FE;\n",
              "      --fill-color: #1967D2;\n",
              "      --hover-bg-color: #E2EBFA;\n",
              "      --hover-fill-color: #174EA6;\n",
              "      --disabled-fill-color: #AAA;\n",
              "      --disabled-bg-color: #DDD;\n",
              "  }\n",
              "\n",
              "  [theme=dark] .colab-df-quickchart {\n",
              "      --bg-color: #3B4455;\n",
              "      --fill-color: #D2E3FC;\n",
              "      --hover-bg-color: #434B5C;\n",
              "      --hover-fill-color: #FFFFFF;\n",
              "      --disabled-bg-color: #3B4455;\n",
              "      --disabled-fill-color: #666;\n",
              "  }\n",
              "\n",
              "  .colab-df-quickchart {\n",
              "    background-color: var(--bg-color);\n",
              "    border: none;\n",
              "    border-radius: 50%;\n",
              "    cursor: pointer;\n",
              "    display: none;\n",
              "    fill: var(--fill-color);\n",
              "    height: 32px;\n",
              "    padding: 0;\n",
              "    width: 32px;\n",
              "  }\n",
              "\n",
              "  .colab-df-quickchart:hover {\n",
              "    background-color: var(--hover-bg-color);\n",
              "    box-shadow: 0 1px 2px rgba(60, 64, 67, 0.3), 0 1px 3px 1px rgba(60, 64, 67, 0.15);\n",
              "    fill: var(--button-hover-fill-color);\n",
              "  }\n",
              "\n",
              "  .colab-df-quickchart-complete:disabled,\n",
              "  .colab-df-quickchart-complete:disabled:hover {\n",
              "    background-color: var(--disabled-bg-color);\n",
              "    fill: var(--disabled-fill-color);\n",
              "    box-shadow: none;\n",
              "  }\n",
              "\n",
              "  .colab-df-spinner {\n",
              "    border: 2px solid var(--fill-color);\n",
              "    border-color: transparent;\n",
              "    border-bottom-color: var(--fill-color);\n",
              "    animation:\n",
              "      spin 1s steps(1) infinite;\n",
              "  }\n",
              "\n",
              "  @keyframes spin {\n",
              "    0% {\n",
              "      border-color: transparent;\n",
              "      border-bottom-color: var(--fill-color);\n",
              "      border-left-color: var(--fill-color);\n",
              "    }\n",
              "    20% {\n",
              "      border-color: transparent;\n",
              "      border-left-color: var(--fill-color);\n",
              "      border-top-color: var(--fill-color);\n",
              "    }\n",
              "    30% {\n",
              "      border-color: transparent;\n",
              "      border-left-color: var(--fill-color);\n",
              "      border-top-color: var(--fill-color);\n",
              "      border-right-color: var(--fill-color);\n",
              "    }\n",
              "    40% {\n",
              "      border-color: transparent;\n",
              "      border-right-color: var(--fill-color);\n",
              "      border-top-color: var(--fill-color);\n",
              "    }\n",
              "    60% {\n",
              "      border-color: transparent;\n",
              "      border-right-color: var(--fill-color);\n",
              "    }\n",
              "    80% {\n",
              "      border-color: transparent;\n",
              "      border-right-color: var(--fill-color);\n",
              "      border-bottom-color: var(--fill-color);\n",
              "    }\n",
              "    90% {\n",
              "      border-color: transparent;\n",
              "      border-bottom-color: var(--fill-color);\n",
              "    }\n",
              "  }\n",
              "</style>\n",
              "\n",
              "  <script>\n",
              "    async function quickchart(key) {\n",
              "      const quickchartButtonEl =\n",
              "        document.querySelector('#' + key + ' button');\n",
              "      quickchartButtonEl.disabled = true;  // To prevent multiple clicks.\n",
              "      quickchartButtonEl.classList.add('colab-df-spinner');\n",
              "      try {\n",
              "        const charts = await google.colab.kernel.invokeFunction(\n",
              "            'suggestCharts', [key], {});\n",
              "      } catch (error) {\n",
              "        console.error('Error during call to suggestCharts:', error);\n",
              "      }\n",
              "      quickchartButtonEl.classList.remove('colab-df-spinner');\n",
              "      quickchartButtonEl.classList.add('colab-df-quickchart-complete');\n",
              "    }\n",
              "    (() => {\n",
              "      let quickchartButtonEl =\n",
              "        document.querySelector('#df-eba0431e-da16-4936-b52e-1d3b4896ba6c button');\n",
              "      quickchartButtonEl.style.display =\n",
              "        google.colab.kernel.accessAllowed ? 'block' : 'none';\n",
              "    })();\n",
              "  </script>\n",
              "</div>\n",
              "\n",
              "    </div>\n",
              "  </div>\n"
            ],
            "text/plain": [
              "          year  km_driven   mileage    engine  max_power\n",
              "5948 -0.806911  -0.798774 -1.107327 -0.191846  -0.049889\n",
              "6039  0.559461   1.076853  0.072766  0.236900   0.984805\n",
              "3069  0.286187  -0.173565  0.285031 -0.933136  -0.706149\n",
              "6531  0.012912   0.326602 -0.094014 -0.005522   0.477462\n",
              "322   1.106010  -0.948824  1.166941 -0.556481  -0.508070"
            ]
          },
          "execution_count": 48,
          "metadata": {},
          "output_type": "execute_result"
        }
      ],
      "source": [
        "# Same for test set\n",
        "X_test.head()"
      ]
    },
    {
      "cell_type": "code",
      "execution_count": null,
      "metadata": {
        "id": "_VmjYzZZTzxQ"
      },
      "outputs": [],
      "source": [
        "# Same for selling price, we want to do np.log transformation\n",
        "# y_train = np.log(y_train)\n",
        "# y_train\n",
        "\n",
        "# We dont need to log the actual target set - so leaving it\n",
        "# y_test = np.log(y_test)\n",
        "\n",
        "X_train = X_train.to_numpy()\n",
        "y_train = y_train.to_numpy()\n",
        "\n",
        "X_test = X_test.to_numpy()\n",
        "y_test = y_test.to_numpy()"
      ]
    },
    {
      "cell_type": "markdown",
      "metadata": {
        "id": "a0t-kIK6glVW"
      },
      "source": [
        "# 3. Modeling\n",
        "\n",
        "Configuring MlFlow workplace\n"
      ]
    },
    {
      "cell_type": "code",
      "execution_count": null,
      "metadata": {
        "id": "fLTOmp7n_4Vv"
      },
      "outputs": [],
      "source": [
        "# Task 3\n",
        "mlflow_url = 'https://mlflow.ml.brain.cs.ait.ac.th/'\n",
        "mlflow.set_tracking_uri(mlflow_url)\n",
        "\n",
        "os.environ[\"MLFLOW_TRACKING_USERNAME\"] = \"admin\"\n",
        "os.environ[\"MLFLOW_TRACKING_PASSWORD\"] = \"password\"\n",
        "\n",
        "os.environ[\"LOGNAME\"] = \"st125457-ulugbek\"\n",
        "\n",
        "mlflow.set_experiment(experiment_name=\"st125457-a3-ulugbek-experiment\")\n",
        "\n",
        "import logging\n",
        "\n",
        "# Setting only logging warning messages, later it would make output neat\n",
        "logging.getLogger(\"mlflow\").setLevel(logging.WARNING)"
      ]
    },
    {
      "cell_type": "code",
      "execution_count": null,
      "metadata": {
        "id": "xNycSyA9_4Vv"
      },
      "outputs": [],
      "source": [
        "import json\n",
        "\n",
        "# Task 2\n",
        "class RidgePenalty:\n",
        "\n",
        "    def __init__(self, l):\n",
        "        self.l = l\n",
        "\n",
        "    def __call__(self, theta): #__call__ allows us to call class as method\n",
        "        return self.l * np.sum(np.square(theta))\n",
        "\n",
        "    def derivation(self, theta):\n",
        "        return self.l * 2 * theta\n",
        "\n",
        "\n",
        "class LogisticRegression:\n",
        "\n",
        "    def __init__(self, k, n, method='batch', batch_size=512, alpha=0.001, max_iter=5000, regularization=True, l=0.1):\n",
        "        self.k = k\n",
        "        self.n = n\n",
        "        self.method = method\n",
        "        self.alpha = alpha\n",
        "        self.max_iter = max_iter\n",
        "        self.batch_size = batch_size\n",
        "\n",
        "        self.l = l\n",
        "\n",
        "        self.reg_flag = regularization\n",
        "        self.regularization = RidgePenalty(self.l) if self.reg_flag else None\n",
        "\n",
        "        self.W = None\n",
        "\n",
        "\n",
        "    def fit(self, X, Y):\n",
        "        if self.method not in [\"batch\", \"minibatch\", \"sto\"]:\n",
        "            raise ValueError('Method must be one of the followings: \"batch\", \"minibatch\" or \"sto\".')\n",
        "\n",
        "        # Creating new set of weights each time fit function is called is bad idea\n",
        "        # probably we do not want to do it that way -> initialization during init? - for kfold, introduce flag?\n",
        "        np.random.seed(42)\n",
        "        self.W = np.random.rand(self.n, self.k)\n",
        "\n",
        "        self.losses = []\n",
        "\n",
        "        Y = np.eye(self.k)[Y]\n",
        "        # with mlflow.start_run(run_name=f\"{type(self).__name__}\", nested=True):\n",
        "        #     params = {\"method\": self.method, \"lr\": self.alpha, \"reg\": type(self).__name__, \"regularization\": self.reg_flag}\n",
        "        #     mlflow.log_params(params=params)\n",
        "        self.val_loss_old = np.infty\n",
        "\n",
        "        if self.method == \"batch\":\n",
        "            for i in range(self.max_iter):\n",
        "                loss, grad = self.gradient(X, Y)\n",
        "                self.losses.append(loss)\n",
        "\n",
        "                self.W = self.W - self.alpha * grad\n",
        "\n",
        "                # if i % 10 == 0:\n",
        "                    # print(f\"Loss at iteration {i}\", loss)\n",
        "\n",
        "                    # if i == 30:\n",
        "                    #    self.alpha = 0.0009025\n",
        "                if i % 125 == 0:\n",
        "                    self.learning_rate_decay(i)\n",
        "\n",
        "                    # print(f'Learning rate: ', self.alpha)\n",
        "\n",
        "                mlflow.log_metric(key=\"train_loss\", value=loss, step=i)\n",
        "\n",
        "        elif self.method == \"minibatch\":\n",
        "            for i in range(self.max_iter):\n",
        "                ix = np.random.randint(0, X.shape[0]) #<----with replacement\n",
        "                batch_X = X[ix:ix+self.batch_size]\n",
        "                batch_Y = Y[ix:ix+self.batch_size]\n",
        "                loss, grad = self.gradient(batch_X, batch_Y)\n",
        "                self.losses.append(loss)\n",
        "                self.W = self.W - self.alpha * grad\n",
        "                if i % 10 == 0:\n",
        "                    # print(f\"Loss at iteration {i}\", loss)\n",
        "\n",
        "                    if i % 90 == 0:\n",
        "                        self.learning_rate_decay(i)\n",
        "                    # print(f'Learning rate: ', self.alpha)\n",
        "                mlflow.log_metric(key=\"train_loss\", value=loss, step=i)\n",
        "\n",
        "        elif self.method == \"sto\":\n",
        "            for i in range(self.max_iter):\n",
        "                idx = np.random.randint(X.shape[0])\n",
        "                X_train = X[idx, :].reshape(1, -1)\n",
        "                Y_train = Y[idx]\n",
        "\n",
        "                loss, grad = self.gradient(X_train, Y_train)\n",
        "                self.losses.append(loss)\n",
        "\n",
        "                self.W = self.W - self.alpha * grad\n",
        "\n",
        "                # if i % 500 == 0:\n",
        "                #     print(f\"Loss at iteration {i}\", loss)\n",
        "\n",
        "                mlflow.log_metric(key=\"train_loss\", value=loss, step=i)\n",
        "\n",
        "        return self\n",
        "\n",
        "\n",
        "        # if np.allclose(loss, self.val_loss_old):\n",
        "        #     print(f\"Break - Loss at iteration {i}\", loss)\n",
        "\n",
        "        # self.val_loss_old = loss\n",
        "\n",
        "        # print(f\"Time taken: {time.time() - start_time}\")\n",
        "\n",
        "    def learning_rate_decay(self, epoch, min_lr=1e-8):\n",
        "        new_alpha = self.alpha * (0.95 ** (epoch // 10))\n",
        "        # new_alpha = self.alpha * 0.1\n",
        "        self.alpha = max(new_alpha, min_lr)\n",
        "\n",
        "    def predict(self, X_test):\n",
        "        return np.argmax(self.h_theta(X_test, self.W), axis=1)\n",
        "\n",
        "    def score(self, X, Y):\n",
        "        \"\"\"Score method required by GridSearchCV.\"\"\"\n",
        "        Y_pred = self.predict(X)\n",
        "        accuracy = np.mean(Y_pred == Y)\n",
        "        return accuracy\n",
        "\n",
        "    def gradient(self, X, Y):\n",
        "        m = X.shape[0]\n",
        "        h = self.h_theta(X, self.W)\n",
        "\n",
        "        loss = - np.sum(Y * np.log(h)) / m\n",
        "\n",
        "        if self.reg_flag:\n",
        "            loss += self.regularization(self.W) / (m) # Divide by 2*m to normalize\n",
        "\n",
        "        error = h - Y\n",
        "\n",
        "        grad = self.softmax_grad(X, error)\n",
        "\n",
        "        if self.reg_flag:\n",
        "            grad += (self.regularization.derivation(self.W) / m)\n",
        "\n",
        "        return loss, grad\n",
        "\n",
        "    def softmax(self, theta_t_x):\n",
        "        return np.exp(theta_t_x) / np.sum(np.exp(theta_t_x), axis=1, keepdims=True)\n",
        "\n",
        "    def softmax_grad(self, X, error):\n",
        "        return X.T @ error\n",
        "\n",
        "    def h_theta(self, X, W):\n",
        "        return self.softmax(X @ W)\n",
        "\n",
        "    # For performing GridSearch\n",
        "    def get_params(self, deep=True):\n",
        "        \"\"\"Get the parameters for GridSearchCV.\"\"\"\n",
        "        return {\n",
        "            'k': self.k,\n",
        "            'n': self.n,\n",
        "            'method': self.method,\n",
        "            'batch_size': self.batch_size,\n",
        "            'alpha': self.alpha,\n",
        "            'max_iter': self.max_iter,\n",
        "            'regularization': self.reg_flag,\n",
        "            'l': self.l\n",
        "        }\n",
        "    # For performing GridSearch\n",
        "    def set_params(self, **params):\n",
        "        \"\"\"Set the parameters for GridSearchCV.\"\"\"\n",
        "        for key, value in params.items():\n",
        "            setattr(self, key, value)\n",
        "        return self\n",
        "\n",
        "    def plot(self):\n",
        "        plt.plot(np.arange(len(self.losses)), self.losses, label = \"Train Losses\")\n",
        "        plt.title(\"Losses\")\n",
        "        plt.xlabel(\"epoch\")\n",
        "        plt.ylabel(\"losses\")\n",
        "        plt.legend()\n",
        "\n",
        "    # Task 1\n",
        "    @staticmethod\n",
        "    def accuracy(y_true, y_pred):\n",
        "        correct_predictions = np.sum(y_true == y_pred)\n",
        "        total_predictions = len(y_true)\n",
        "\n",
        "        return correct_predictions / total_predictions\n",
        "\n",
        "    @staticmethod\n",
        "    def precision(y_true, y_pred, class_label):\n",
        "        TP = np.sum((y_true == class_label) & (y_pred == class_label))\n",
        "        FP = np.sum((y_true != class_label) & (y_pred == class_label))\n",
        "\n",
        "        return TP / (TP + FP) if TP + FP > 0 else 0.0\n",
        "\n",
        "    @staticmethod\n",
        "    def recall(y_true, y_pred, class_label):\n",
        "        TP = np.sum((y_true == class_label) & (y_pred == class_label))\n",
        "        FN = np.sum((y_true == class_label) & (y_pred != class_label))\n",
        "\n",
        "        return TP / (TP + FN) if TP + FN > 0 else 0.0\n",
        "\n",
        "    @staticmethod\n",
        "    def f1_score(y_true, y_pred, class_label):\n",
        "        P = LogisticRegression.precision(y_true, y_pred, class_label)\n",
        "        R = LogisticRegression.recall(y_true, y_pred, class_label)\n",
        "\n",
        "        return 2 * P * R / (P + R) if (P + R) > 0 else 0.0\n",
        "\n",
        "    @staticmethod\n",
        "    def macro_precision(y_true, y_pred):\n",
        "        classes = np.unique(y_true)\n",
        "        precisions = [LogisticRegression.precision(y_true, y_pred, class_label) for class_label in classes]\n",
        "\n",
        "        return np.mean(precisions)\n",
        "\n",
        "    @staticmethod\n",
        "    def macro_recall(y_true, y_pred):\n",
        "        classes = np.unique(y_true)\n",
        "        recalls = [LogisticRegression.recall(y_true, y_pred, class_label) for class_label in classes]\n",
        "\n",
        "        return np.mean(recalls)\n",
        "\n",
        "    @staticmethod\n",
        "    def macro_f1(y_true, y_pred):\n",
        "        classes = np.unique(y_true)\n",
        "        f1_scores = [LogisticRegression.f1_score(y_true, y_pred, class_label) for class_label in classes]\n",
        "\n",
        "        return np.mean(f1_scores)\n",
        "\n",
        "    @staticmethod\n",
        "    def weighted_precision(y_true, y_pred):\n",
        "        classes = np.unique(y_true)\n",
        "        total_samples = len(y_true)\n",
        "\n",
        "        weights = [(np.sum(y_true == class_label) / total_samples) for class_label in classes]\n",
        "        precisions = [LogisticRegression.precision(y_true, y_pred, class_label) for class_label in classes]\n",
        "\n",
        "        return np.sum([precision * w_coef for precision, w_coef in zip(precisions, weights)])\n",
        "\n",
        "    @staticmethod\n",
        "    def weighted_recall(y_true, y_pred):\n",
        "        classes = np.unique(y_true)\n",
        "        total_samples = len(y_true)\n",
        "\n",
        "        weights = [(np.sum(y_true == class_label) / total_samples) for class_label in classes]\n",
        "        recalls = [LogisticRegression.recall(y_true, y_pred, class_label) for class_label in classes]\n",
        "\n",
        "        return np.sum([recall * w_coef for recall, w_coef in zip(recalls, weights)])\n",
        "\n",
        "    @staticmethod\n",
        "    def weighted_f1(y_true, y_pred):\n",
        "        classes = np.unique(y_true)\n",
        "        total_samples = len(y_true)\n",
        "\n",
        "        weights = [(np.sum(y_true == class_label) / total_samples) for class_label in classes]\n",
        "        f1_scores = [LogisticRegression.f1_score(y_true, y_pred, class_label) for class_label in classes]\n",
        "\n",
        "        return np.sum([f1_score * w_coef for f1_score, w_coef in zip(f1_scores, weights)])\n",
        "\n",
        "    @staticmethod\n",
        "    def classification_report(y_true, y_pred):\n",
        "        classes = np.unique(y_true)\n",
        "        report = []\n",
        "        header = f\"{'Class':<16}{'Precision':<12}{'Recall':<12}{'F1-Score':<12}{'Support':<10}\"\n",
        "        report.append(header)\n",
        "        report.append(\"=\" * len(header))\n",
        "\n",
        "        for class_label in classes:\n",
        "            precision = LogisticRegression.precision(y_true, y_pred, class_label)\n",
        "            recall = LogisticRegression.recall(y_true, y_pred, class_label)\n",
        "            f1 = LogisticRegression.f1_score(y_true, y_pred, class_label)\n",
        "            support = np.sum(y_true == class_label)\n",
        "\n",
        "            report.append(\n",
        "                f\"{class_label:<16}{precision:<12.4f}{recall:<12.4f}{f1:<12.4f}{support:<10}\"\n",
        "            )\n",
        "\n",
        "        report.append(\"=\" * len(header))\n",
        "        macro_precision = LogisticRegression.macro_precision(y_true, y_pred)\n",
        "        macro_recall = LogisticRegression.macro_recall(y_true, y_pred)\n",
        "        macro_f1 = LogisticRegression.macro_f1(y_true, y_pred)\n",
        "\n",
        "        weighted_precision = LogisticRegression.weighted_precision(y_true, y_pred)\n",
        "        weighted_recall = LogisticRegression.weighted_recall(y_true, y_pred)\n",
        "        weighted_f1 = LogisticRegression.weighted_f1(y_true, y_pred)\n",
        "\n",
        "        accuracy = LogisticRegression.accuracy(y_true, y_pred)\n",
        "        total_support = len(y_true)\n",
        "\n",
        "        report.append(\n",
        "            f\"{'Accuracy':<16}{'':<12}{'':<12}{accuracy:<12.4f}{total_support:<10}\"\n",
        "        )\n",
        "\n",
        "        report.append(\n",
        "            f\"{'Macro Avg':<16}{macro_precision:<12.4f}{macro_recall:<12.4f}{macro_f1:<12.4f}{total_support:<10}\"\n",
        "        )\n",
        "        report.append(\n",
        "            f\"{'Weighted Avg':<16}{weighted_precision:<12.4f}{weighted_recall:<12.4f}{weighted_f1:<12.4f}{total_support:<10}\"\n",
        "        )\n",
        "\n",
        "        return \"\\n\".join(report)\n",
        "\n",
        "    # For understanding which feature is important\n",
        "    def plot_feature_importance(self, feature_names=None):\n",
        "        if not hasattr(self, 'W'):\n",
        "            raise ValueError(\"Model coefficients are not available. Fit the model first.\")\n",
        "\n",
        "        # Coefficients\n",
        "        coefficients = self._coef()\n",
        "        importance = np.abs(coefficients)\n",
        "\n",
        "        # Assign default names if feature_names are not provided\n",
        "        if feature_names is None:\n",
        "            feature_names = [f\"Feature {i}\" for i in range(1, len(coefficients) + 1)]\n",
        "\n",
        "        # Sort features by importance\n",
        "        mask = np.argsort(importance)[::-1]\n",
        "        sorted_importance = importance[mask]\n",
        "        sorted_feature_names = np.array(feature_names)[mask]\n",
        "\n",
        "        sorted_feature_names = sorted_feature_names.tolist() if isinstance(sorted_feature_names, np.ndarray) else sorted_feature_names\n",
        "        sorted_importance = sorted_importance.tolist() if isinstance(sorted_importance, np.ndarray) else sorted_importance\n",
        "\n",
        "        # Plotting\n",
        "        plt.figure(figsize=(10, 6))\n",
        "        plt.barh(sorted_feature_names, sorted_importance, color='skyblue')\n",
        "        plt.xlabel('Coefficient Magnitude (Absolute)')\n",
        "        plt.title('Feature Importance based on Coefficients')\n",
        "        plt.gca().invert_yaxis()  # To display the most important feature at the top\n",
        "        plt.show()\n",
        "\n",
        "    def _coef(self):\n",
        "        return self.W\n",
        "\n",
        "\n",
        "    def save(self, file_path):\n",
        "        with open(file_path, 'w') as f:\n",
        "            json.dump({'coefficients': self.W.tolist()}, f)\n",
        "\n",
        "    @classmethod\n",
        "    def load(cls, file_path):\n",
        "        with open(file_path, 'r') as f:\n",
        "            data = json.load(f)\n",
        "        return cls(theta=np.array(data['coefficients']))"
      ]
    },
    {
      "cell_type": "code",
      "execution_count": null,
      "metadata": {
        "colab": {
          "background_save": true
        },
        "id": "n_Spui0F_4Vx",
        "outputId": "6637550c-5a3d-41e0-e875-2be71ca0ba2f"
      },
      "outputs": [
        {
          "ename": "AttributeError",
          "evalue": "'GridSearchCV' object has no attribute 'plot'",
          "output_type": "error",
          "traceback": [
            "\u001b[0;31m---------------------------------------------------------------------------\u001b[0m",
            "\u001b[0;31mAttributeError\u001b[0m                            Traceback (most recent call last)",
            "\u001b[0;32m<ipython-input-54-f2177fc18a87>\u001b[0m in \u001b[0;36m<cell line: 19>\u001b[0;34m()\u001b[0m\n\u001b[1;32m     17\u001b[0m \u001b[0mbest_model\u001b[0m \u001b[0;34m=\u001b[0m \u001b[0mgrid_search\u001b[0m\u001b[0;34m.\u001b[0m\u001b[0mbest_estimator_\u001b[0m\u001b[0;34m\u001b[0m\u001b[0;34m\u001b[0m\u001b[0m\n\u001b[1;32m     18\u001b[0m \u001b[0mbest_params\u001b[0m \u001b[0;34m=\u001b[0m \u001b[0mgrid_search\u001b[0m\u001b[0;34m.\u001b[0m\u001b[0mbest_params_\u001b[0m\u001b[0;34m\u001b[0m\u001b[0;34m\u001b[0m\u001b[0m\n\u001b[0;32m---> 19\u001b[0;31m \u001b[0mgrid_search\u001b[0m\u001b[0;34m.\u001b[0m\u001b[0mplot\u001b[0m\u001b[0;34m(\u001b[0m\u001b[0;34m)\u001b[0m\u001b[0;34m\u001b[0m\u001b[0;34m\u001b[0m\u001b[0m\n\u001b[0m",
            "\u001b[0;31mAttributeError\u001b[0m: 'GridSearchCV' object has no attribute 'plot'"
          ]
        }
      ],
      "source": [
        "from sklearn.model_selection import GridSearchCV\n",
        "k = 4\n",
        "\n",
        "# Performing Gridsearch\n",
        "model = LogisticRegression(k=k, n=X_train.shape[1])\n",
        "\n",
        "param_grid = {\n",
        "    'alpha': [0.001, 0.01],    # Learning rates\n",
        "    'l': [0.01, 0.1, 1.0],          # Ridge regularization strengths\n",
        "    'batch_size': [32, 64],    # Batch sizes\n",
        "    'max_iter': [200],\n",
        "    'method': ['batch', 'minibatch', 'sto']\n",
        "}\n",
        "\n",
        "grid_search = GridSearchCV(estimator=model, param_grid=param_grid, cv=3, scoring='accuracy')\n",
        "grid_search.fit(X_train, y_train)\n",
        "best_model = grid_search.best_estimator_\n",
        "best_params = grid_search.best_params_"
      ]
    },
    {
      "cell_type": "markdown",
      "metadata": {
        "id": "EWjArUoT_4Vy"
      },
      "source": [
        "- What does support in the classification report means?\n",
        "\n",
        "Support refers to the number of actual occurrences of each class in the true labels. It helps to understand the distribution of classes in your dataset, which is particularly useful when dealing with imbalanced datasets. It doesn't affect metrics like precision, recall, or F1-score directly, but it provides context about how many instances of each class were present when calculating these metrics.\n"
      ]
    },
    {
      "cell_type": "code",
      "execution_count": null,
      "metadata": {
        "colab": {
          "base_uri": "https://localhost:8080/"
        },
        "id": "jYAiar2S_4Vy",
        "outputId": "c5222103-9463-4649-cc54-af241656d631"
      },
      "outputs": [
        {
          "name": "stdout",
          "output_type": "stream",
          "text": [
            "{'method': 'sto', 'reg': 'LogisticRegression', 'regularization': False}\n",
            "Class           Precision   Recall      F1-Score    Support   \n",
            "==============================================================\n",
            "0               0.4299      0.3446      0.3825      267       \n",
            "1               0.2840      0.2584      0.2706      267       \n",
            "2               0.2808      0.2840      0.2824      257       \n",
            "3               0.0856      0.1107      0.0966      253       \n",
            "==============================================================\n",
            "Accuracy                                0.2510      1044      \n",
            "Macro Avg       0.2701      0.2494      0.2580      1044      \n",
            "Weighted Avg    0.2724      0.2510      0.2600      1044      \n",
            "Report:                precision    recall  f1-score   support\n",
            "\n",
            "           0     0.4299    0.3446    0.3825       267\n",
            "           1     0.2840    0.2584    0.2706       267\n",
            "           2     0.2808    0.2840    0.2824       257\n",
            "           3     0.0856    0.1107    0.0966       253\n",
            "\n",
            "    accuracy                         0.2510      1044\n",
            "   macro avg     0.2701    0.2494    0.2580      1044\n",
            "weighted avg     0.2724    0.2510    0.2600      1044\n",
            "\n",
            "{'method': 'sto', 'reg': 'LogisticRegression', 'regularization': True}\n",
            "Class           Precision   Recall      F1-Score    Support   \n",
            "==============================================================\n",
            "0               0.4326      0.3483      0.3859      267       \n",
            "1               0.2869      0.2622      0.2740      267       \n",
            "2               0.2797      0.2840      0.2819      257       \n",
            "3               0.0864      0.1107      0.0971      253       \n",
            "==============================================================\n",
            "Accuracy                                0.2529      1044      \n",
            "Macro Avg       0.2714      0.2513      0.2597      1044      \n",
            "Weighted Avg    0.2738      0.2529      0.2617      1044      \n",
            "Report:                precision    recall  f1-score   support\n",
            "\n",
            "           0     0.4326    0.3483    0.3859       267\n",
            "           1     0.2869    0.2622    0.2740       267\n",
            "           2     0.2797    0.2840    0.2819       257\n",
            "           3     0.0864    0.1107    0.0971       253\n",
            "\n",
            "    accuracy                         0.2529      1044\n",
            "   macro avg     0.2714    0.2513    0.2597      1044\n",
            "weighted avg     0.2738    0.2529    0.2617      1044\n",
            "\n",
            "{'method': 'minibatch', 'reg': 'LogisticRegression', 'regularization': False}\n",
            "Class           Precision   Recall      F1-Score    Support   \n",
            "==============================================================\n",
            "0               0.5896      0.9363      0.7236      267       \n",
            "1               0.6623      0.1910      0.2965      267       \n",
            "2               0.5934      0.4202      0.4920      257       \n",
            "3               0.6094      0.8696      0.7166      253       \n",
            "==============================================================\n",
            "Accuracy                                0.6025      1044      \n",
            "Macro Avg       0.6137      0.6043      0.5572      1044      \n",
            "Weighted Avg    0.6139      0.6025      0.5557      1044      \n",
            "Report:                precision    recall  f1-score   support\n",
            "\n",
            "           0     0.5896    0.9363    0.7236       267\n",
            "           1     0.6623    0.1910    0.2965       267\n",
            "           2     0.5934    0.4202    0.4920       257\n",
            "           3     0.6094    0.8696    0.7166       253\n",
            "\n",
            "    accuracy                         0.6025      1044\n",
            "   macro avg     0.6137    0.6043    0.5572      1044\n",
            "weighted avg     0.6139    0.6025    0.5557      1044\n",
            "\n",
            "{'method': 'minibatch', 'reg': 'LogisticRegression', 'regularization': True}\n",
            "Class           Precision   Recall      F1-Score    Support   \n",
            "==============================================================\n",
            "0               0.5896      0.9363      0.7236      267       \n",
            "1               0.6623      0.1910      0.2965      267       \n",
            "2               0.5934      0.4202      0.4920      257       \n",
            "3               0.6094      0.8696      0.7166      253       \n",
            "==============================================================\n",
            "Accuracy                                0.6025      1044      \n",
            "Macro Avg       0.6137      0.6043      0.5572      1044      \n",
            "Weighted Avg    0.6139      0.6025      0.5557      1044      \n",
            "Report:                precision    recall  f1-score   support\n",
            "\n",
            "           0     0.5896    0.9363    0.7236       267\n",
            "           1     0.6623    0.1910    0.2965       267\n",
            "           2     0.5934    0.4202    0.4920       257\n",
            "           3     0.6094    0.8696    0.7166       253\n",
            "\n",
            "    accuracy                         0.6025      1044\n",
            "   macro avg     0.6137    0.6043    0.5572      1044\n",
            "weighted avg     0.6139    0.6025    0.5557      1044\n",
            "\n",
            "{'method': 'batch', 'reg': 'LogisticRegression', 'regularization': False}\n",
            "Class           Precision   Recall      F1-Score    Support   \n",
            "==============================================================\n",
            "0               0.5939      0.9476      0.7302      267       \n",
            "1               0.6500      0.1948      0.2997      267       \n",
            "2               0.5819      0.4008      0.4747      257       \n",
            "3               0.6094      0.8696      0.7166      253       \n",
            "==============================================================\n",
            "Accuracy                                0.6015      1044      \n",
            "Macro Avg       0.6088      0.6032      0.5553      1044      \n",
            "Weighted Avg    0.6091      0.6015      0.5539      1044      \n",
            "Report:                precision    recall  f1-score   support\n",
            "\n",
            "           0     0.5939    0.9476    0.7302       267\n",
            "           1     0.6500    0.1948    0.2997       267\n",
            "           2     0.5819    0.4008    0.4747       257\n",
            "           3     0.6094    0.8696    0.7166       253\n",
            "\n",
            "    accuracy                         0.6015      1044\n",
            "   macro avg     0.6088    0.6032    0.5553      1044\n",
            "weighted avg     0.6091    0.6015    0.5539      1044\n",
            "\n",
            "{'method': 'batch', 'reg': 'LogisticRegression', 'regularization': True}\n",
            "Class           Precision   Recall      F1-Score    Support   \n",
            "==============================================================\n",
            "0               0.5939      0.9476      0.7302      267       \n",
            "1               0.6500      0.1948      0.2997      267       \n",
            "2               0.5819      0.4008      0.4747      257       \n",
            "3               0.6094      0.8696      0.7166      253       \n",
            "==============================================================\n",
            "Accuracy                                0.6015      1044      \n",
            "Macro Avg       0.6088      0.6032      0.5553      1044      \n",
            "Weighted Avg    0.6091      0.6015      0.5539      1044      \n",
            "Report:                precision    recall  f1-score   support\n",
            "\n",
            "           0     0.5939    0.9476    0.7302       267\n",
            "           1     0.6500    0.1948    0.2997       267\n",
            "           2     0.5819    0.4008    0.4747       257\n",
            "           3     0.6094    0.8696    0.7166       253\n",
            "\n",
            "    accuracy                         0.6015      1044\n",
            "   macro avg     0.6088    0.6032    0.5553      1044\n",
            "weighted avg     0.6091    0.6015    0.5539      1044\n",
            "\n"
          ]
        }
      ],
      "source": [
        "# k, n, method, batch_size=32, alpha=0.001, max_iter=5000, regularization=True, l=0.1):\n",
        "methods = ['sto', 'minibatch', 'batch']\n",
        "regularization = [False, True]\n",
        "\n",
        "mlflow_params = []\n",
        "k = len(np.unique(y_train))\n",
        "\n",
        "for method in methods:\n",
        "    for reg in regularization:\n",
        "            mlflow_prm = f\"LogisticRegression_{k=}_{method=}_{reg=}\"\n",
        "            mlflow_params.append(mlflow_prm)\n",
        "\n",
        "            with mlflow.start_run(run_name=f\"{mlflow_prm}\", nested=True):\n",
        "                params = {\"method\": method, \"reg\": \"LogisticRegression\", \"regularization\": reg}\n",
        "                mlflow.log_params(params=params)\n",
        "                print(params)\n",
        "                model = LogisticRegression(k, X_train.shape[1], method=method, regularization=reg, max_iter=300, alpha=0.001)\n",
        "\n",
        "                model.fit(X_train, y_train)\n",
        "\n",
        "                signature = mlflow.models.infer_signature(X_train, model.predict(X_train))\n",
        "                mlflow.sklearn.log_model(model, artifact_path='model', signature=signature)\n",
        "\n",
        "                yhat = model.predict(X_test)\n",
        "                print(LogisticRegression.classification_report(y_test, yhat))\n",
        "                print(\"Report: \", classification_report(y_test, yhat, digits=4))\n"
      ]
    },
    {
      "cell_type": "code",
      "execution_count": null,
      "metadata": {
        "colab": {
          "base_uri": "https://localhost:8080/"
        },
        "id": "P6KiDyou_4Vy",
        "outputId": "86688f72-ee09-470b-d3f9-14d4a38899d3"
      },
      "outputs": [
        {
          "name": "stdout",
          "output_type": "stream",
          "text": [
            "{'method': 'minibatch', 'reg': 'LogisticRegression', 'regularization': True}\n",
            "Class           Precision   Recall      F1-Score    Support   \n",
            "==============================================================\n",
            "0               0.5896      0.9363      0.7236      267       \n",
            "1               0.6623      0.1910      0.2965      267       \n",
            "2               0.5934      0.4202      0.4920      257       \n",
            "3               0.6094      0.8696      0.7166      253       \n",
            "==============================================================\n",
            "Accuracy                                0.6025      1044      \n",
            "Macro Avg       0.6137      0.6043      0.5572      1044      \n",
            "Weighted Avg    0.6139      0.6025      0.5557      1044      \n",
            "Report:                precision    recall  f1-score   support\n",
            "\n",
            "           0     0.5896    0.9363    0.7236       267\n",
            "           1     0.6623    0.1910    0.2965       267\n",
            "           2     0.5934    0.4202    0.4920       257\n",
            "           3     0.6094    0.8696    0.7166       253\n",
            "\n",
            "    accuracy                         0.6025      1044\n",
            "   macro avg     0.6137    0.6043    0.5572      1044\n",
            "weighted avg     0.6139    0.6025    0.5557      1044\n",
            "\n"
          ]
        }
      ],
      "source": [
        "# So best model has the following params: {'method': 'minibatch', 'reg': 'LogisticRegression', 'regularization': True}\n",
        "k = 4\n",
        "method = 'minibatch'\n",
        "reg = True\n",
        "mlflow_prm = f\"LogisticRegression_{k=}_{method=}_{reg=}\"\n",
        "with mlflow.start_run(run_name=f\"{mlflow_prm}\", nested=True):\n",
        "    params = {\"method\": method, \"reg\": \"LogisticRegression\", \"regularization\": reg}\n",
        "    mlflow.log_params(params=params)\n",
        "    print(params)\n",
        "    model = LogisticRegression(k, X_train.shape[1], method=method, regularization=reg, max_iter=300, alpha=0.001)\n",
        "\n",
        "    model.fit(X_train, y_train)\n",
        "\n",
        "    signature = mlflow.models.infer_signature(X_train, model.predict(X_train))\n",
        "    mlflow.sklearn.log_model(model, artifact_path='model', signature=signature)\n",
        "\n",
        "    yhat = model.predict(X_test)\n",
        "    print(LogisticRegression.classification_report(y_test, yhat))\n",
        "    print(\"Report: \", classification_report(y_test, yhat, digits=4))"
      ]
    },
    {
      "cell_type": "code",
      "execution_count": null,
      "metadata": {
        "colab": {
          "base_uri": "https://localhost:8080/",
          "height": 472
        },
        "id": "I-AduLrlClB-",
        "outputId": "88accf69-1b32-4a00-a525-93a0c781fe7a"
      },
      "outputs": [
        {
          "data": {
            "image/png": "[encoded data removed]",
            "text/plain": [
              "<Figure size 640x480 with 1 Axes>"
            ]
          },
          "metadata": {},
          "output_type": "display_data"
        }
      ],
      "source": [
        "model.plot()"
      ]
    },
    {
      "cell_type": "code",
      "execution_count": 67,
      "metadata": {
        "id": "uBBETUEo_4Vz"
      },
      "outputs": [],
      "source": [
        "# Saving the model\n",
        "import joblib\n",
        "\n",
        "# save the model to disk\n",
        "model_name = 'Logistic_regression'\n",
        "filename = f'{model_name}_model.pkl'\n",
        "joblib.dump(model, filename)\n",
        "\n",
        "model.save(f'{model_name}_weights.json')\n",
        "# with open('polynomial_regression_model.pkl', 'wb') as file:\n",
        "#     pickle.dump(model, file)"
      ]
    },
    {
      "cell_type": "markdown",
      "metadata": {
        "id": "6mCdnsUeI50k"
      },
      "source": [
        "# Report - Conclusion\n",
        "\n",
        "So regarding the findings, let's break it down into parts:\n",
        "1. I have been using the same features\n",
        "2. The loss function's result is not the best, but since we are mapping range of values (wide range) into single class, I suppose this result is fine.\n",
        "3. Problem with dataset has arranged, since we mapped regression problem into classification - slight errors in prediction now cause to fall down into another class if the values of regression problem is at the border of the class.\n",
        "4. Possible understanding is choosing more features and feature engineering which will increase the results.\n",
        "5. Implemented also the possibility to run GridSearch on the model - was running like 10 hours based on the params provided above - and it still was running - infinite runner :)\n",
        "6. More details regarding scores can be found on ML Flow.\n",
        "7. Also implemented learning rate decay\n"
      ]
    }
  ],
  "metadata": {
    "colab": {
      "collapsed_sections": [
        "Cj8obiD7YUgp"
      ],
      "provenance": []
    },
    "kernelspec": {
      "display_name": "Python 3",
      "name": "python3"
    },
    "language_info": {
      "codemirror_mode": {
        "name": "ipython",
        "version": 3
      },
      "file_extension": ".py",
      "mimetype": "text/x-python",
      "name": "python",
      "nbconvert_exporter": "python",
      "pygments_lexer": "ipython3",
      "version": "3.9.19"
    }
  },
  "nbformat": 4,
  "nbformat_minor": 0
}
