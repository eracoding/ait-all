{
 "cells": [
  {
   "cell_type": "markdown",
   "id": "e1ebc915",
   "metadata": {},
   "source": [
    "## Python"
   ]
  },
  {
   "cell_type": "markdown",
   "id": "8020ae16",
   "metadata": {},
   "source": [
    "Python is a general-purpose, high-level and interpreted programming language and dynamically typed semantics. It is also an object-oriented programming languge. To run a simple Python program, you can simply run the following command in your Python interpreter.\n",
    "\n",
    "`print('Hello, World!')`\n",
    "\n",
    "**Bingo!!! Once you can run that simple program, you are ready to go!!!**"
   ]
  },
  {
   "cell_type": "markdown",
   "id": "a010d576",
   "metadata": {},
   "source": [
    "#### Example"
   ]
  },
  {
   "cell_type": "code",
   "execution_count": 1,
   "id": "aa9577c1",
   "metadata": {},
   "outputs": [
    {
     "name": "stdout",
     "output_type": "stream",
     "text": [
      "Hello, World!\n"
     ]
    }
   ],
   "source": [
    "print('Hello, World!')"
   ]
  },
  {
   "cell_type": "markdown",
   "id": "dc6f22a2",
   "metadata": {},
   "source": [
    "### Data Types\n",
    "\n",
    "1. [String](#string)\n",
    "2. [Integer](#integer)\n",
    "3. [Float](#float)\n",
    "4. [Complex](#complex)\n",
    "5. [Boolean](#boolean)\n",
    "6. [List](#list)\n",
    "7. [Set](#set)\n",
    "8. [Tuple](#tuple)\n",
    "9. [Dictionary](#dictionary)\n",
    "10. None"
   ]
  },
  {
   "cell_type": "markdown",
   "id": "cc6aae8f",
   "metadata": {},
   "source": [
    "#### 1. String <a id=\"string\"><a/>\n",
    "A string can be a single character or a sequence of characters.\n",
    "\n",
    "`x = \"a\"` \\\n",
    "`x = 'b'` \\\n",
    "`y = \"cat\"` \\\n",
    "`x = 'This is a sentence.'` \\\n",
    "`x = \"\"\"This is docstrings or multi-line comments\"\"\"`\n",
    "\n",
    "All the string values are assigned in `x` or `y` variables.\n",
    "\n",
    "<img src='img/operands.png' alt=\"Operator and Operands\" width=\"200px\" style=\"float: center\" />\n",
    "<br clear=\"left\" />"
   ]
  },
  {
   "cell_type": "markdown",
   "id": "bc45cc2c",
   "metadata": {},
   "source": [
    "#### Examples"
   ]
  },
  {
   "cell_type": "code",
   "execution_count": 2,
   "id": "0cc59f04",
   "metadata": {},
   "outputs": [
    {
     "name": "stdout",
     "output_type": "stream",
     "text": [
      "First x:  a\n",
      "Second x:  b\n",
      "cat\n",
      "Third x:  This is a sentence.\n",
      "Fourth x:  This is docstrings or multi-line comments\n"
     ]
    }
   ],
   "source": [
    "x = \"a\"\n",
    "print(\"First x: \", x)\n",
    "\n",
    "x = 'b'\n",
    "print(\"Second x: \", x)\n",
    "\n",
    "y = \"cat\"\n",
    "print(y)\n",
    "\n",
    "x = 'This is a sentence.'\n",
    "print(\"Third x: \", x)\n",
    "\n",
    "x = \"\"\"This is docstrings or multi-line comments\"\"\"\n",
    "print(\"Fourth x: \", x)\n",
    "\n",
    "# This is the comment in Python and it won't execute when you run the cell."
   ]
  },
  {
   "cell_type": "markdown",
   "id": "5426e9e7",
   "metadata": {},
   "source": [
    "#### 2. Integer <a id=\"integer\"><a/>\n",
    "An integer is a numeric data type that represents whole numbers. In other words, integers are numbers that have no fractional or decimal part. Integers can be positive, negative or zero.\n",
    "\n",
    "`x = 1` \\\n",
    "`negative_integer = -10` \\\n",
    "`y = 1009` \\\n",
    "`zeroValue = 0`\n",
    "\n",
    "When you combine an integer with any string or when you put an integer into `\"-\"` quotes, the data type is always changed to `string` value.\n",
    "\n",
    "`x = \"24\"` << this is a string \\\n",
    "`friday13 = \"Friday the 13.\"` \\\n",
    "`x = 13`, `y = \"Friday \"`, `z = x + y` << this will output `Friday 13` which is also a string. \\\n",
    "`concat_string = 'Friday' + \" \" + str(13)` << this is also a string\n",
    "\n",
    "That's why Python is called dynamically typed programming language."
   ]
  },
  {
   "cell_type": "markdown",
   "id": "d8c68bcb",
   "metadata": {},
   "source": [
    "#### Examples"
   ]
  },
  {
   "cell_type": "code",
   "execution_count": 3,
   "id": "35859cf2",
   "metadata": {},
   "outputs": [
    {
     "name": "stdout",
     "output_type": "stream",
     "text": [
      "1. First x:  1 and Type: <class 'int'>\n",
      "2. Second x:  24\n",
      "3. Type of x before:  <class 'str'>\n",
      "4. Type of x after:  <class 'str'>\n",
      "5. Type of friday13:  <class 'str'>\n",
      "6.  13\n",
      "7.  <class 'str'>\n",
      "8.  <class 'str'>\n"
     ]
    }
   ],
   "source": [
    "x = 1\n",
    "print(\"1. First x: \", x, \"and Type:\", type(x))\n",
    "\n",
    "negative_integer = -10\n",
    "y = 1009\n",
    "zeroValue = 0\n",
    "\n",
    "x = \"24\"  # this is a string\n",
    "print(\"2. Second x: \", x)\n",
    "print(\"3. Type of x before: \", type(x))\n",
    "print(\"4. Type of x after: \", type(str(x)))\n",
    "\n",
    "friday13 = \"Friday the 13.\"\n",
    "print(\"5. Type of friday13: \", type(friday13))\n",
    "\n",
    "x = 13\n",
    "y = \"Friday \"\n",
    "z = str(x) + y # this will output Friday 13 which is also a string.\n",
    "print(\"6. \", x)\n",
    "\n",
    "concat_string = 'Friday' + \" \" + str(13) # this is also a string\n",
    "print(\"7. \", type(str(13)))\n",
    "print(\"8. \", type(\"13\"))"
   ]
  },
  {
   "cell_type": "markdown",
   "id": "118c4ef2",
   "metadata": {},
   "source": [
    "#### 3. Float <a id=\"float\"><a/>\n",
    "\n",
    "A float data type is also a numeric type that has fractional or decimal part. Unlike other programming languages, Python float data type represents any precision number. \n",
    "\n",
    "$\\textit{PS. This is a different scenario when you use python library packages such as numpy or pytorch where we have precision sensitive data types}$\n",
    "\n",
    "`x = 3.14` \\\n",
    "`x = 3.1416` \\\n",
    "`pi = 3.1415926535` \\\n",
    "`npower = 1.7e-3` << this is equal to $1.7 x 10^{-3}$ or $0.0017$ \\\n",
    "`ppower = 1.7e3` << this is equal to $1.7 x 10^{3}$ or $1700$ "
   ]
  },
  {
   "cell_type": "markdown",
   "id": "144aeb0d",
   "metadata": {},
   "source": [
    "#### Examples"
   ]
  },
  {
   "cell_type": "code",
   "execution_count": 4,
   "id": "7d7c7a06",
   "metadata": {},
   "outputs": [
    {
     "name": "stdout",
     "output_type": "stream",
     "text": [
      "0.0017\n"
     ]
    }
   ],
   "source": [
    "npower = 1.7e-3\n",
    "print(npower)"
   ]
  },
  {
   "cell_type": "markdown",
   "id": "5e4a1781",
   "metadata": {},
   "source": [
    "#### 4. Complex <a id=\"complex\"><a/>\n",
    "\n",
    "A complex number is specified as real part and imginary part where the imaginary part is written with a `j` or `J`\n",
    "\n",
    "`x = 5j` \\\n",
    "`y = 3 + 5j`"
   ]
  },
  {
   "cell_type": "markdown",
   "id": "113061d0",
   "metadata": {},
   "source": [
    "#### Examples"
   ]
  },
  {
   "cell_type": "code",
   "execution_count": 5,
   "id": "64bcbc01",
   "metadata": {},
   "outputs": [
    {
     "name": "stdout",
     "output_type": "stream",
     "text": [
      "5.0\n",
      "3.0\n"
     ]
    }
   ],
   "source": [
    "y = 3 + 5j\n",
    "print(y.imag)\n",
    "print(y.real)"
   ]
  },
  {
   "cell_type": "markdown",
   "id": "1bc0b6e0",
   "metadata": {},
   "source": [
    "#### 5. Boolean <a id=\"boolean\"><a/>\n",
    "\n",
    "A boolean data type represents one of the two values from True and False.\n",
    "\n",
    "`x = True` \\\n",
    "`y = False`"
   ]
  },
  {
   "cell_type": "markdown",
   "id": "5451f52d",
   "metadata": {},
   "source": [
    "#### Examples"
   ]
  },
  {
   "cell_type": "code",
   "execution_count": 6,
   "id": "38d7711f",
   "metadata": {},
   "outputs": [
    {
     "name": "stdout",
     "output_type": "stream",
     "text": [
      "False\n",
      "True\n"
     ]
    }
   ],
   "source": [
    "x = True\n",
    "y = False\n",
    "\n",
    "print(y)\n",
    "print(x)"
   ]
  },
  {
   "cell_type": "markdown",
   "id": "e95e4c43",
   "metadata": {},
   "source": [
    "#### 6. List <a id=\"list\"><a/>\n",
    "\n",
    "A list in Python includes zero or more elements between square brackets. The elements can be of different data types such as strings, integers, booleans, objects or even lists. A list has some useful properties:\n",
    "- A list is ordered\n",
    "- Elements in a list can be accessed by index\n",
    "- A list can have any type of object\n",
    "- A list is mutable\n",
    "\n",
    "`empty_list = []` \\\n",
    "`x = ['a', 'cat', 12, 3.14]` \\\n",
    "`listy = [['a', 'cat', 12, 3.14], [\"This is a nested list\", 1995, True]]`"
   ]
  },
  {
   "cell_type": "markdown",
   "id": "ffffe93b",
   "metadata": {},
   "source": [
    "#### Examples"
   ]
  },
  {
   "cell_type": "code",
   "execution_count": 7,
   "id": "55f5c5e1",
   "metadata": {},
   "outputs": [
    {
     "name": "stdout",
     "output_type": "stream",
     "text": [
      "Empty list:  []\n",
      "Nested list:  [['a', 'cat', 12, 3.14], ['This is a nested list', 1995, '3.14', '0952345676', True]]\n"
     ]
    }
   ],
   "source": [
    "empty_list = []\n",
    "print(\"Empty list: \", empty_list)\n",
    "\n",
    "x = ['a', 'cat', 12, 3.14]\n",
    "listy = [['a', 'cat', 12, 3.14], [\"This is a nested list\", 1995, '3.14', '0952345676', True]]\n",
    "\n",
    "print(\"Nested list: \", listy)"
   ]
  },
  {
   "cell_type": "markdown",
   "id": "eecb2f3c",
   "metadata": {},
   "source": [
    "##### Indexing\n",
    "\n",
    "To extract a value from the list, you can access from the index number of the respective element.\n",
    "\n",
    "`x = ['a', 'cat', 12, 3.14]` \\\n",
    "`x[0]` << return 'a' \\\n",
    "`x[1]` << return 'cat' \\\n",
    "`x[2]` << return 12 \\\n",
    "`x[3]` << return 3.14\n",
    "\n",
    "When you are indexing nested list, you can use indexes inside multiple square brackets where the earlier one represents the outer list while the later one(s) represent(s) inner list(s) sequentially.\n",
    "\n",
    "Let's try the two examples below:  \n",
    "<img src=\"img/nested_list.png\" alt=\"Nested List\" width=\"500px\" style=\"float: center\" />\n",
    "<br clear=\"left\" />\n",
    "\n",
    "You can also use the negative indexing in a list or nested list.\n",
    "\n",
    "<img src=\"img/negative_index.png\" alt=\"Negative Index\" width=\"500px\" style=\"float: center\" />\n",
    "<br clear=\"left\" />"
   ]
  },
  {
   "cell_type": "markdown",
   "id": "2aa1d91a",
   "metadata": {},
   "source": [
    "#### Examples"
   ]
  },
  {
   "cell_type": "code",
   "execution_count": 8,
   "id": "13d10c25",
   "metadata": {},
   "outputs": [
    {
     "name": "stdout",
     "output_type": "stream",
     "text": [
      "Index 0:  a\n",
      "Index 1:  cat\n",
      "Index 2:  12\n",
      "Index 3:  3.14\n",
      "Reverse Index -3:  cat\n"
     ]
    }
   ],
   "source": [
    "x = ['a', 'cat', 12, 3.14]\n",
    "print(\"Index 0: \", x[0]) \n",
    "print(\"Index 1: \", x[1]) \n",
    "print(\"Index 2: \", x[2]) \n",
    "print(\"Index 3: \", x[3]) \n",
    "print(\"Reverse Index -3: \", x[-3])"
   ]
  },
  {
   "cell_type": "markdown",
   "id": "8eb122e9",
   "metadata": {},
   "source": [
    "##### Replacing values in a list\n",
    "\n",
    "You can replace any value in a list by accessing the index location and assign a new value. The replaced data type can be any type.\n",
    "\n",
    "`x = ['a', 'cat', 12, 3.14]` \\\n",
    "`x[0] = 'b'` << this replace the first element with a string value `'b'` \\\n",
    "`x[0] = 1` << this replace the first element with an integer value `1`"
   ]
  },
  {
   "cell_type": "markdown",
   "id": "92a07700",
   "metadata": {},
   "source": [
    "#### Examples"
   ]
  },
  {
   "cell_type": "code",
   "execution_count": 9,
   "id": "ac6ff3e8",
   "metadata": {},
   "outputs": [
    {
     "name": "stdout",
     "output_type": "stream",
     "text": [
      "Replaced value of x at index 0:  b\n",
      "Replaced value of x at index 1:  11\n",
      "['b', 11, 12, 3.14]\n"
     ]
    }
   ],
   "source": [
    "x = ['a', 'cat', 12, 3.14]\n",
    "x[0] = 'b'\n",
    "\n",
    "print(\"Replaced value of x at index 0: \", x[0])\n",
    "x[1] = 11\n",
    "print(\"Replaced value of x at index 1: \", x[1])\n",
    "print(x)"
   ]
  },
  {
   "cell_type": "markdown",
   "id": "47727b9e",
   "metadata": {},
   "source": [
    "##### Slicing a list\n",
    "\n",
    "`l = ['a', 'b', 'c', 'd', 'e', 'f']` \\\n",
    "`l[1:3]` << returns ['b', 'c'] \\\n",
    "`l[:3]` << returns ['a', 'b', 'c'] \\\n",
    "`l[3:5]` << returns ['d', 'e'] \\\n",
    "`l[3:6]` << returns ['d', 'e', 'f'] \\\n",
    "`l[3:]` << returns ['d', 'e', 'f'] \\\n",
    "`l[::2]` << returns ['a', 'c', 'e'] which is step=2 slicing"
   ]
  },
  {
   "cell_type": "markdown",
   "id": "bed35629",
   "metadata": {},
   "source": [
    "#### Examples"
   ]
  },
  {
   "cell_type": "code",
   "execution_count": 10,
   "id": "7935cff9",
   "metadata": {},
   "outputs": [
    {
     "name": "stdout",
     "output_type": "stream",
     "text": [
      "Slice l[1:3]:  ['b', 'c']\n",
      "Slice l[:3]:  ['a', 'b', 'c']\n",
      "Slice l[3:5]:  ['d', 'e']\n",
      "Slice l[3:6]:  ['d', 'e', 'f']\n",
      "Slice l[3:]:  ['d', 'e', 'f']\n",
      "Slice l[::2]:  ['a', 'c', 'e']\n",
      "Slice l[::2]:  ['a', 'c', 'e']\n"
     ]
    }
   ],
   "source": [
    "l = ['a', 'b', 'c', 'd', 'e', 'f']\n",
    "\n",
    "print(\"Slice l[1:3]: \", l[1:3]) # returns ['b', 'c']\n",
    "print(\"Slice l[:3]: \", l[:3]) # returns ['a', 'b', 'c']\n",
    "print(\"Slice l[3:5]: \", l[3:5]) # returns ['d', 'e']\n",
    "print(\"Slice l[3:6]: \", l[3:6]) # returns ['d', 'e', 'f']\n",
    "print(\"Slice l[3:]: \", l[3:]) # returns ['d', 'e', 'f']\n",
    "print(\"Slice l[::2]: \", l[::2]) # returns ['a', 'c', 'e'] which is step=2 slicing\n",
    "\n",
    "print(\"Slice l[::2]: \", l[::2]) # l[starts:ends:steps]"
   ]
  },
  {
   "cell_type": "markdown",
   "id": "96e706ea",
   "metadata": {},
   "source": [
    "##### Constructors and methods that can be applied in a list\n",
    "\n",
    "- `len()`\n",
    "- `append()`\n",
    "- `insert()`\n",
    "- `extend()`\n",
    "- `pop()`\n",
    "- `remove()`\n",
    "- `sorted()`\n",
    "- `sort()`\n",
    "- `reverse()`\n",
    "- `index()`\n",
    "- `count()`\n",
    "- `copy()`\n",
    "- `sum()`\n",
    "- `min()`, `max()`"
   ]
  },
  {
   "cell_type": "markdown",
   "id": "3dcd73e0",
   "metadata": {},
   "source": [
    "#### Examples"
   ]
  },
  {
   "cell_type": "code",
   "execution_count": 11,
   "id": "82e1ca40",
   "metadata": {},
   "outputs": [
    {
     "name": "stdout",
     "output_type": "stream",
     "text": [
      "Length of list l:  6\n",
      "Length of string s:  11\n",
      "List after appending s string ['a', 'b', 'c', 'd', 'e', 'f', 'Tanawin Two']\n",
      "List after inserting s string at index 1 ['a', 'Tanawin Two', 'b', 'c', 'd', 'e', 'f', 'Tanawin Two']\n"
     ]
    }
   ],
   "source": [
    "l = ['a', 'b', 'c', 'd', 'e', 'f']\n",
    "s = 'Tanawin Two'\n",
    "print(\"Length of list l: \", len(l))\n",
    "print(\"Length of string s: \", len(s))\n",
    "\n",
    "l.append(s)\n",
    "print(\"List after appending s string\", l)\n",
    "\n",
    "l.insert(1, s)\n",
    "print(\"List after inserting s string at index 1\", l)"
   ]
  },
  {
   "cell_type": "markdown",
   "id": "56469277",
   "metadata": {},
   "source": [
    "#### 7. Set <a id=\"set\"><a/>\n",
    "\n",
    "A set in Python is similar to a list however they have some different properties. \n",
    "- A set is written in a curly bracket  \n",
    "- A set is unordered\n",
    "- Elements in a set are unique\n",
    "- A set is mutable\n",
    "\n"
   ]
  },
  {
   "cell_type": "markdown",
   "id": "e8cda857",
   "metadata": {},
   "source": [
    "#### Examples"
   ]
  },
  {
   "cell_type": "code",
   "execution_count": 12,
   "id": "10c38321",
   "metadata": {},
   "outputs": [
    {
     "name": "stdout",
     "output_type": "stream",
     "text": [
      "Integer set_x:  {1, 2, 3}\n",
      "Unordered set_x:  {1, 2, 3, 4, 'b', 'c', 'a', 'd'}\n",
      "Unique set_x:  {1, 2, 3, 4, 'b', 'c', 'a'}\n",
      "########################\n",
      "Error while indexing set\n"
     ]
    },
    {
     "ename": "TypeError",
     "evalue": "'set' object is not subscriptable",
     "output_type": "error",
     "traceback": [
      "\u001b[1;31m------------------------------------------------------------------------\u001b[0m",
      "\u001b[1;31mTypeError\u001b[0m                              Traceback (most recent call last)",
      "Cell \u001b[1;32mIn[12], line 12\u001b[0m\n\u001b[0;32m     10\u001b[0m \u001b[38;5;28mprint\u001b[39m(\u001b[38;5;124m\"\u001b[39m\u001b[38;5;124m########################\u001b[39m\u001b[38;5;124m\"\u001b[39m)\n\u001b[0;32m     11\u001b[0m \u001b[38;5;28mprint\u001b[39m(\u001b[38;5;124m\"\u001b[39m\u001b[38;5;124mError while indexing set\u001b[39m\u001b[38;5;124m\"\u001b[39m)\n\u001b[1;32m---> 12\u001b[0m set_x[\u001b[38;5;241m0\u001b[39m]\n",
      "\u001b[1;31mTypeError\u001b[0m: 'set' object is not subscriptable"
     ]
    }
   ],
   "source": [
    "set_x = {1, 2, 3}\n",
    "print(\"Integer set_x: \", set_x)\n",
    "\n",
    "set_x = {\"a\", \"b\", \"d\", \"c\", 1, 3, 2, 4}\n",
    "print(\"Unordered set_x: \", set_x)\n",
    "\n",
    "set_x = {\"a\", \"b\", \"a\", \"a\", \"c\", 1, 1, 2, 3, 4}\n",
    "print(\"Unique set_x: \", set_x)\n",
    "\n",
    "print(\"########################\")\n",
    "print(\"Error while indexing set\")\n",
    "set_x[0]"
   ]
  },
  {
   "cell_type": "markdown",
   "id": "0444edee",
   "metadata": {},
   "source": [
    "##### Constructors and methods that can be applied in a set\n",
    "- `union()`\n",
    "- `update()`\n",
    "- `intersection()`\n",
    "- `difference()`\n",
    "- `sum()`"
   ]
  },
  {
   "cell_type": "markdown",
   "id": "dfb20305",
   "metadata": {},
   "source": [
    "#### Examples"
   ]
  },
  {
   "cell_type": "code",
   "execution_count": 13,
   "id": "eefed7f8",
   "metadata": {},
   "outputs": [
    {
     "name": "stdout",
     "output_type": "stream",
     "text": [
      "Union of two sets option 1:  {1, 2, 3, 4, 5}\n",
      "Union of two sets option 2:  {1, 2, 3, 4, 5}\n",
      "Intersection of two sets option 1:  {1, 2}\n",
      "Intersection of two sets option 2:  {1, 2}\n",
      "Update a set returns:  None\n",
      "Updated set_x {1, 2, 3, 4, 5}\n"
     ]
    }
   ],
   "source": [
    "set_x = {1, 2, 3}\n",
    "set_y = {1, 2, 4, 5}\n",
    "\n",
    "print(\"Union of two sets option 1: \", set_x.union(set_y))\n",
    "print(\"Union of two sets option 2: \", set_y.union(set_x))\n",
    "\n",
    "print(\"Intersection of two sets option 1: \", set_x.intersection(set_y))\n",
    "print(\"Intersection of two sets option 2: \", set_y.intersection(set_x))\n",
    "\n",
    "print(\"Update a set returns: \", set_x.update(set_y))\n",
    "print(\"Updated set_x\", set_x)"
   ]
  },
  {
   "cell_type": "markdown",
   "id": "4ee180f3",
   "metadata": {},
   "source": [
    "#### 8. Tuple <a id=\"tuple\"><a/>\n",
    "A tuple is also similar to a list and ordered collection of values put inside parentheses or sometimes no parentheses at all.\n",
    "- A tuple is ordered\n",
    "- A tuple is assessible by index\n",
    "- A tuple is immutable"
   ]
  },
  {
   "cell_type": "markdown",
   "id": "6fb8f401",
   "metadata": {},
   "source": [
    "#### Examples"
   ]
  },
  {
   "cell_type": "code",
   "execution_count": 14,
   "id": "e46d0e47",
   "metadata": {},
   "outputs": [
    {
     "name": "stdout",
     "output_type": "stream",
     "text": [
      "tuple_x:  (1, 2, 3, 5, 4)\n",
      "Indexing a tuple 1\n",
      "Slicing a tuple (1, 2, 3)\n",
      "###############################\n",
      "Immutable error while editing a tuple: \n"
     ]
    },
    {
     "ename": "TypeError",
     "evalue": "'tuple' object does not support item assignment",
     "output_type": "error",
     "traceback": [
      "\u001b[1;31m------------------------------------------------------------------------\u001b[0m",
      "\u001b[1;31mTypeError\u001b[0m                              Traceback (most recent call last)",
      "Cell \u001b[1;32mIn[14], line 9\u001b[0m\n\u001b[0;32m      7\u001b[0m \u001b[38;5;28mprint\u001b[39m(\u001b[38;5;124m\"\u001b[39m\u001b[38;5;124m###############################\u001b[39m\u001b[38;5;124m\"\u001b[39m)\n\u001b[0;32m      8\u001b[0m \u001b[38;5;28mprint\u001b[39m(\u001b[38;5;124m\"\u001b[39m\u001b[38;5;124mImmutable error while editing a tuple: \u001b[39m\u001b[38;5;124m\"\u001b[39m)\n\u001b[1;32m----> 9\u001b[0m tuple_x[\u001b[38;5;241m0\u001b[39m] \u001b[38;5;241m=\u001b[39m \u001b[38;5;241m100\u001b[39m\n",
      "\u001b[1;31mTypeError\u001b[0m: 'tuple' object does not support item assignment"
     ]
    }
   ],
   "source": [
    "tuple_x = (1, 2, 3, 5, 4)\n",
    "print(\"tuple_x: \", tuple_x)\n",
    "\n",
    "print(\"Indexing a tuple\", tuple_x[0])\n",
    "print(\"Slicing a tuple\", tuple_x[0:3])\n",
    "\n",
    "print(\"###############################\")\n",
    "print(\"Immutable error while editing a tuple: \")\n",
    "tuple_x[0] = 100"
   ]
  },
  {
   "cell_type": "markdown",
   "id": "1dc25e2c",
   "metadata": {},
   "source": [
    "##### Constructors and methods that can be applied in a tuple\n",
    "- sorted()\n",
    "- sum()\n",
    "- min()\n",
    "- max()\n",
    "\n",
    "An iterable can be converted to a list or set or tuple and vice versa.\n",
    "\n",
    "`tuple(list)` << convert from list to tuple \\\n",
    "`list(tuple)` << convert from tuple to list \\\n",
    "`set(list)` << make a set from a list \\\n",
    "`set(tuple)` << make a set from a tuple"
   ]
  },
  {
   "cell_type": "markdown",
   "id": "3786f45b",
   "metadata": {},
   "source": [
    "#### Examples"
   ]
  },
  {
   "cell_type": "code",
   "execution_count": 15,
   "id": "893504b6",
   "metadata": {},
   "outputs": [
    {
     "name": "stdout",
     "output_type": "stream",
     "text": [
      "From list to set <class 'set'>\n",
      "From tuple to set <class 'set'>\n",
      "From set to list <class 'list'>\n",
      "From tuple to list <class 'list'>\n",
      "From list to tuple <class 'tuple'>\n",
      "From set to tuple <class 'tuple'>\n"
     ]
    }
   ],
   "source": [
    "list_x = ['a', 'b', 'c', 'e', 'd', 'd']\n",
    "tuple_x = ('a', 'b', 'c', 'e', 'd', 'd')\n",
    "set_x = {'a', 'b', 'c', 'e', 'd', 'd'}\n",
    "\n",
    "print(\"From list to set\", type(set(list_x)))\n",
    "print(\"From tuple to set\", type(set(tuple_x)))\n",
    "\n",
    "print(\"From set to list\", type(list(set_x)))\n",
    "print(\"From tuple to list\", type(list(tuple_x)))\n",
    "\n",
    "print(\"From list to tuple\", type(tuple(list_x)))\n",
    "print(\"From set to tuple\", type(tuple(set_x)))"
   ]
  },
  {
   "cell_type": "markdown",
   "id": "65c0b907",
   "metadata": {},
   "source": [
    "#### 9. Dictionary <a id=\"dictionary\"><a/>\n",
    "\n",
    "A dictionary in Python refers to key:value pairs or items. This type of data structure is generally called associative arrays, hashes or hashmaps.\n",
    "\n",
    "    \n",
    "<img src=\"img/dictionary.png\" alt=\"Dictionary\" width=\"400px\" style=\"float: center\" />\n",
    "<br clear=\"left\" />\n",
    "    \n",
    "The syntax of a dictionary consists of a comma-separated list of `key:value` pairs in curly braces `{}`. A single `key:value` pair is also called an item.\n",
    "    \n",
    "`d = {\"name\": \"David\",\n",
    "\"age\": 25,\n",
    "\"nationality\": \"English\",\n",
    "\"mobile\": \"0912345678\",\n",
    "\"is_student\": True,\n",
    "\"courses\": [\"mathematics\", \"DLCV\", \"statistics\"],\n",
    "\"started_year\": 2023}`\n",
    "    \n",
    "We can created a dictionary by different ways:  \n",
    "    1. simply assigning the `key:value` pairs  \n",
    "    2. `key:value` pairs as two-item lists in a tuple  \n",
    "    3. `key:value` pairs as two-item tuples in a list  \n",
    "    4. zipping keys/values lists  \n",
    "    5. and so on  \n",
    "    \n",
    "Important properties of a dictionary:  \n",
    "    1. Keys are unique  \n",
    "    2. Keys are immutable type  \n",
    "    3. Value can be of any type  "
   ]
  },
  {
   "cell_type": "markdown",
   "id": "6af59f67",
   "metadata": {},
   "source": [
    "#### Examples"
   ]
  },
  {
   "cell_type": "code",
   "execution_count": 16,
   "id": "45a16582",
   "metadata": {},
   "outputs": [
    {
     "name": "stdout",
     "output_type": "stream",
     "text": [
      "Dictionary d:  {'name': 'David', 'age': 25, 'nationality': 'English', 'mobile': '0912345678', 'is_student': True, 'courses': ['mathematics', 'DLCV', 'statistics'], 'started_year': 2024}\n",
      "Dictionary from two-item tuples list {'key_1': 'value_1', 'key_2': 'value_2', 'key_3': 'value_3', 'key_4': 'value_4'}\n",
      "Dictionary from two-item lists tuple {'key_1': 'value_1', 'key_2': 'value_2', 'key_3': 'value_3', 'key_4': 'value_4'}\n"
     ]
    }
   ],
   "source": [
    "d = {\"name\": \"David\",\n",
    "      \"age\": 25,\n",
    "      \"nationality\": \"English\",\n",
    "      \"mobile\": \"0912345678\",\n",
    "      \"is_student\": True,\n",
    "      \"courses\": [\"mathematics\", \"DLCV\", \"statistics\"],\n",
    "      \"started_year\": 2024}\n",
    "\n",
    "print(\"Dictionary d: \", d)\n",
    "\n",
    "tuple_1 = (\"key_1\", \"value_1\")\n",
    "tuple_2 = (\"key_2\", \"value_2\")\n",
    "tuple_3 = (\"key_3\", \"value_3\")\n",
    "tuple_4 = (\"key_4\", \"value_4\")\n",
    "dict_1 = dict([tuple_1, tuple_2, tuple_3, tuple_4])\n",
    "print(\"Dictionary from two-item tuples list\", dict_1)\n",
    "\n",
    "list_1 = [\"key_1\", \"value_1\"]\n",
    "list_2 = [\"key_2\", \"value_2\"]\n",
    "list_3 = [\"key_3\", \"value_3\"]\n",
    "list_4 = [\"key_4\", \"value_4\"]\n",
    "dict_2 = dict([list_1, list_2, list_3, list_4])\n",
    "print(\"Dictionary from two-item lists tuple\", dict_2)"
   ]
  },
  {
   "cell_type": "markdown",
   "id": "31f99faa",
   "metadata": {},
   "source": [
    "##### Accessing the dictionary\n",
    "\n",
    "`d = {\"name\": \"David\",\n",
    "\"age\": 25,\n",
    "\"nationality\": \"English\",\n",
    "\"mobile\": \"0912345678\",\n",
    "\"is_student\": True,\n",
    "\"courses\": [\"mathematics\", \"DLCV\", \"statistics\"],\n",
    "\"started_year\": 2024}`\n",
    "\n",
    "`d['name']` << returns 'David'  \n",
    "`d['age']` << returns 25  \n",
    "`d['mobile']` << returns 0912345678  \n",
    "`d['program']` << returns KeyError\n",
    "\n",
    "`d.get('courses')` << returns [\"mathematics\", \"DLCV\", \"statistics\"]  \n",
    "`d.get('program')` << returns None  "
   ]
  },
  {
   "cell_type": "markdown",
   "id": "58e30489",
   "metadata": {},
   "source": [
    "#### Examples"
   ]
  },
  {
   "cell_type": "code",
   "execution_count": 17,
   "id": "9526a9d0",
   "metadata": {},
   "outputs": [
    {
     "name": "stdout",
     "output_type": "stream",
     "text": [
      "Dictionary d:  {'name': 'David', 'age': 25, 'nationality': 'English', 'mobile': '0912345678', 'is_student': True, 'courses': ['mathematics', 'DLCV', 'statistics'], 'started_year': 2024}\n",
      "['mathematics', 'DLCV', 'statistics']\n",
      "None\n",
      "David\n",
      "25\n",
      "0912345678\n",
      "###############################\n",
      "Error no key name program\n"
     ]
    },
    {
     "ename": "KeyError",
     "evalue": "'program'",
     "output_type": "error",
     "traceback": [
      "\u001b[1;31m------------------------------------------------------------------------\u001b[0m",
      "\u001b[1;31mKeyError\u001b[0m                               Traceback (most recent call last)",
      "Cell \u001b[1;32mIn[17], line 19\u001b[0m\n\u001b[0;32m     17\u001b[0m \u001b[38;5;28mprint\u001b[39m(\u001b[38;5;124m\"\u001b[39m\u001b[38;5;124m###############################\u001b[39m\u001b[38;5;124m\"\u001b[39m)\n\u001b[0;32m     18\u001b[0m \u001b[38;5;28mprint\u001b[39m(\u001b[38;5;124m\"\u001b[39m\u001b[38;5;124mError no key name program\u001b[39m\u001b[38;5;124m\"\u001b[39m)\n\u001b[1;32m---> 19\u001b[0m \u001b[38;5;28mprint\u001b[39m(d[\u001b[38;5;124m'\u001b[39m\u001b[38;5;124mprogram\u001b[39m\u001b[38;5;124m'\u001b[39m])\n",
      "\u001b[1;31mKeyError\u001b[0m: 'program'"
     ]
    }
   ],
   "source": [
    "d = {\"name\": \"David\",\n",
    "      \"age\": 25,\n",
    "      \"nationality\": \"English\",\n",
    "      \"mobile\": \"0912345678\",\n",
    "      \"is_student\": True,\n",
    "      \"courses\": [\"mathematics\", \"DLCV\", \"statistics\"],\n",
    "      \"started_year\": 2024}\n",
    "print(\"Dictionary d: \", d)\n",
    "\n",
    "print(d.get('courses')) # returns [\"mathematics\", \"DLCV\", \"statistics\"]\n",
    "print(d.get('program')) # returns None\n",
    "\n",
    "print(d['name']) # returns 'David'\n",
    "print(d['age']) # returns 25\n",
    "print(d['mobile']) # returns 0912345678\n",
    "\n",
    "print(\"###############################\")\n",
    "print(\"Error no key name program\")\n",
    "print(d['program']) # returns KeyError"
   ]
  },
  {
   "cell_type": "markdown",
   "id": "b9993e92",
   "metadata": {},
   "source": [
    "##### Manipulating the dictionary\n",
    "\n",
    "`d = {\"name\": \"David\",\n",
    " \"age\": 25,\n",
    " \"nationality\": \"English\",\n",
    " \"mobile\": \"0912345678\",\n",
    " \"is_student\": True,\n",
    " \"courses\": [\"mathematics\", \"DLCV\", \"statistics\"],\n",
    " \"started_year\": 2023}`\n",
    "\n",
    "1. Update a value  \n",
    "`d['name'] = 'John'`  \n",
    "\n",
    "\n",
    "2. Add a key:value pair  \n",
    "`d['program'] = 'Mechatronic'`  \n",
    "\n",
    "\n",
    "3. Remove an item from the dictionary  \n",
    "`d.pop('is_student')` << this method will return a removed value  \n",
    "`removed = d.pop('is_student')` and `print(removed)` << this printing will return `True`  \n",
    "`del d['is_student']` << this will removed the item `'is_student': True`  \n",
    "\n",
    "\n",
    "4. Clear all items in the dictionary  \n",
    "`d.clear()`\n",
    "\n",
    "\n",
    "5. Get the keys or values from the dictionary  \n",
    "`d.keys()` << this will return all keys in the dictionary  \n",
    "`d.values` << this will return all values in the dictionary"
   ]
  },
  {
   "cell_type": "markdown",
   "id": "954ed974",
   "metadata": {},
   "source": [
    "#### Examples"
   ]
  },
  {
   "cell_type": "code",
   "execution_count": 18,
   "id": "1fd19b51",
   "metadata": {},
   "outputs": [
    {
     "name": "stdout",
     "output_type": "stream",
     "text": [
      "name before updating:  David\n",
      "name after updating:  John\n",
      "############################\n",
      "Added a new key 'program':\n",
      "Call the key 'program':  Mechatronic\n",
      "########################################\n",
      "pop removes a key:value pair and return the value\n",
      "The value returned from pop() True\n",
      "Dictionary after removed 'is_student':  {'name': 'David', 'age': 25, 'nationality': 'English', 'mobile': '0912345678', 'courses': ['mathematics', 'DLCV', 'statistics'], 'started_year': 2023}\n",
      "Dictionary after removing 'started_year':  {'name': 'David', 'age': 25, 'nationality': 'English', 'mobile': '0912345678', 'courses': ['mathematics', 'DLCV', 'statistics']}\n"
     ]
    }
   ],
   "source": [
    "d = {\"name\": \"David\",\n",
    "      \"age\": 25,\n",
    "      \"nationality\": \"English\",\n",
    "      \"mobile\": \"0912345678\",\n",
    "      \"is_student\": True,\n",
    "      \"courses\": [\"mathematics\", \"DLCV\", \"statistics\"],\n",
    "      \"started_year\": 2023}\n",
    "\n",
    "print(\"name before updating: \", d['name'])\n",
    "d['name'] = 'John'\n",
    "print(\"name after updating: \", d['name'])\n",
    "\n",
    "print(\"############################\")\n",
    "print(\"Added a new key 'program':\")\n",
    "d['program'] = \"Mechatronic\"\n",
    "print(\"Call the key 'program': \", d['program'])\n",
    "\n",
    "print(\"########################################\")\n",
    "print(\"pop removes a key:value pair and return the value\")\n",
    "d.pop('is_student') # this method will return a removed value\n",
    "\n",
    "d = {\"name\": \"David\",\n",
    "      \"age\": 25,\n",
    "      \"nationality\": \"English\",\n",
    "      \"mobile\": \"0912345678\",\n",
    "      \"is_student\": True,\n",
    "      \"courses\": [\"mathematics\", \"DLCV\", \"statistics\"],\n",
    "      \"started_year\": 2023}\n",
    "\n",
    "removed = d.pop('is_student') \n",
    "print(\"The value returned from pop()\", removed) # this printing will return True\n",
    "print(\"Dictionary after removed 'is_student': \", d)\n",
    "\n",
    "del d['started_year'] # this will removed the item 'started_year': 2023\n",
    "print(\"Dictionary after removing 'started_year': \", d)"
   ]
  },
  {
   "cell_type": "markdown",
   "id": "82552264",
   "metadata": {},
   "source": [
    "### Operators\n",
    "\n",
    "1. Arithmetic operators\n",
    "2. Assignment operators\n",
    "3. Comparison operators\n",
    "4. Logical operators\n",
    "\n",
    "<img src=\"img/arithmetic.png\" alt=\"Operators\" width=\"500px\" style=\"float: center\" />\n",
    "<br clear=\"left\" />\n",
    "\n",
    "<img src=\"img/assignment.png\" alt=\"Operators\" width=\"500px\" style=\"float: center\" />\n",
    "<br clear=\"left\" />\n",
    "\n",
    "<img src=\"img/comparison.png\" alt=\"Operators\" width=\"500px\" style=\"float: center\" />\n",
    "<br clear=\"left\" />\n",
    "\n",
    "<img src=\"img/logical.png\" alt=\"Operators\" width=\"500px\" style=\"float: center\" />\n",
    "<br clear=\"left\" />"
   ]
  },
  {
   "cell_type": "markdown",
   "id": "9ecbca4f",
   "metadata": {},
   "source": [
    "#### Examples"
   ]
  },
  {
   "cell_type": "code",
   "execution_count": 19,
   "id": "edac6824",
   "metadata": {},
   "outputs": [
    {
     "name": "stdout",
     "output_type": "stream",
     "text": [
      "########################################\n",
      "Addition:  2\n",
      "Subtraction:  0\n",
      "Multiplication:  1\n",
      "Division:  2.0\n",
      "Modulus:  1\n",
      "Exponentiation:  8\n",
      "Floor Division:  1\n",
      "########################################\n",
      "Before additional assignment: x = 1\n",
      "After additional assignment: x = 2\n",
      "########################################\n",
      "Compare two variables whether equal or not which return boolean:  False\n"
     ]
    }
   ],
   "source": [
    "print(\"########################################\")\n",
    "# Arithmetic Operators\n",
    "print(\"Addition: \", 1 + 1)\n",
    "print(\"Subtraction: \", 1 - 1)\n",
    "print(\"Multiplication: \", 1 * 1)\n",
    "print(\"Division: \",4 / 2)\n",
    "print(\"Modulus: \", 5 % 2)\n",
    "print(\"Exponentiation: \", 2**3)\n",
    "print(\"Floor Division: \", 5//3)\n",
    "\n",
    "print(\"########################################\")\n",
    "# Assignment Operators\n",
    "x = 1 # Assignment\n",
    "print(\"Before additional assignment: x =\", x)\n",
    "x+= 1\n",
    "print(\"After additional assignment: x =\", x)\n",
    "\n",
    "print(\"########################################\")\n",
    "# Comparison Operators\n",
    "x = 1\n",
    "y = 2\n",
    "print(\"Compare two variables whether equal or not which return boolean: \", x==y) # != represents not equal to"
   ]
  },
  {
   "cell_type": "code",
   "execution_count": 20,
   "id": "af5e1ea7",
   "metadata": {},
   "outputs": [
    {
     "name": "stdout",
     "output_type": "stream",
     "text": [
      "False\n",
      "True\n",
      "False\n",
      "False\n"
     ]
    }
   ],
   "source": [
    "x = 1\n",
    "y = 0\n",
    "\n",
    "print(x==0)\n",
    "print(x==1)\n",
    "\n",
    "print((x==1) and (y==1))\n",
    "print(((x==1) and (y==1)))\n",
    "# !\n",
    "# ~"
   ]
  },
  {
   "cell_type": "markdown",
   "id": "c7b3d6ba",
   "metadata": {},
   "source": [
    "### Conditional Statement  \n",
    "\n",
    "The conditional statement is a very useful for setting up the rules for specific action mapped with it's respective condition. The statement can be single condition or multiple conditions. Similarly, the action can be single or multiple.  \n",
    "Notice that the indentation in Python is important. You will get an error if the indentation is wrong.\n",
    "\n",
    "1. $\\textbf{if statement}$\n",
    "\n",
    "    if `condition`:\n",
    "        action\n",
    "\n",
    "2. $\\textbf{elif statement}$\n",
    "\n",
    "    if `condition 1`:\n",
    "        action 1\n",
    "    elif `condition 2`:\n",
    "        action 2\n",
    "    elif `condition 3`:\n",
    "        action 3\n",
    "\n",
    "3. $\\textbf{else  statement}$  \n",
    "\n",
    "    if `only one student`:\n",
    "        cancel class\n",
    "    elif `two students`:\n",
    "        wait\n",
    "    else :\n",
    "        continue class\n",
    "       "
   ]
  },
  {
   "cell_type": "markdown",
   "id": "241a4bd9",
   "metadata": {},
   "source": [
    "#### Examples"
   ]
  },
  {
   "cell_type": "markdown",
   "id": "3dc7764e",
   "metadata": {},
   "source": [
    "Let's set some rules as an example:\n",
    "1. If the weather is sunny and hot, we will bring umbrellas+water and go out for dinner.\n",
    "2. If the weather is cold, we will bring coats and go out for dinner.\n",
    "3. If the weather is rain or other than above two conditions, we will not go out and dinner at home."
   ]
  },
  {
   "cell_type": "code",
   "execution_count": 21,
   "id": "121187bf",
   "metadata": {},
   "outputs": [
    {
     "name": "stdout",
     "output_type": "stream",
     "text": [
      "Today is rain, and we are bringing None.\n",
      "Go out:  False\n"
     ]
    }
   ],
   "source": [
    "# First define variables\n",
    "weather_list = ['sunny and hot', 'cold', 'rain']\n",
    "bring_items = ['umbrellas and water', 'coats']\n",
    "go_out_status = [True, False]\n",
    "\n",
    "weather = 'rain' ### Modify any of the element from weather_list \n",
    "\n",
    "if weather == weather_list[0]:\n",
    "    bring = bring_items[0]\n",
    "    print(f\"Today is {weather}, and we are bringing {bring}.\")\n",
    "    print(\"Go out: \", go_out_status[0])\n",
    "elif weather == weather_list[1]:\n",
    "    bring = bring_items[1]\n",
    "    print(f\"Today is {weather}, and we are bringing {bring}.\")\n",
    "    print(\"Go out: \", go_out_status[0])\n",
    "elif weather == weather_list[2]:\n",
    "    bring = None\n",
    "    print(f\"Today is {weather}, and we are bringing {bring}.\")\n",
    "    print(\"Go out: \", go_out_status[1])"
   ]
  },
  {
   "cell_type": "markdown",
   "id": "e0fc83b9",
   "metadata": {},
   "source": [
    "### The loops\n",
    "\n",
    "The loops are used in iterating over the items from an iterable or a collection (list, tuple, dictionary, set or string).\n",
    "\n",
    "1. `while` loop\n",
    "\n",
    "    while `boolean`:\n",
    "        action  \n",
    "        optional: stopping criteria\n",
    "\n",
    "2. `for` loop\n",
    "    for item in iterable:\n",
    "        action"
   ]
  },
  {
   "cell_type": "markdown",
   "id": "26f5e9ff",
   "metadata": {},
   "source": [
    "#### Examples"
   ]
  },
  {
   "cell_type": "markdown",
   "id": "175e867a",
   "metadata": {},
   "source": [
    "Let's create some scenarios:\n",
    "While a person is alive, his age increase 1 year every year. However, when he died at an age, the age increasing process stops. Thus, one while loop is assumed to be 1 year."
   ]
  },
  {
   "cell_type": "code",
   "execution_count": 22,
   "id": "5e594c75",
   "metadata": {},
   "outputs": [
    {
     "name": "stdout",
     "output_type": "stream",
     "text": [
      "The age of a person is 13\n",
      "The age of a person is 14\n",
      "The age of a person is 15\n",
      "The age of a person is 16\n",
      "The age of a person is 17\n",
      "The age of a person is 18\n",
      "The age of a person is 19\n",
      "The age of a person is 20\n",
      "The age of a person is 21\n",
      "The age of a person is 22\n",
      "The age of a person is 23\n",
      "The age of a person is 24\n",
      "The age of a person is 25\n",
      "The age of a person is 26\n",
      "The age of a person is 27\n",
      "The age of a person is 28\n",
      "The age of a person is 29\n",
      "The age of a person is 30\n",
      "The age of a person is 31\n",
      "The age of a person is 32\n",
      "The age of a person is 33\n",
      "The age of a person is 34\n",
      "The age of a person is 35\n",
      "The age of a person is 37\n",
      "The age of a person is 38\n",
      "The age of a person is 39\n",
      "The age of a person is 40\n",
      "The age of a person is 41\n",
      "The age of a person is 42\n",
      "The age of a person is 43\n",
      "The age of a person is 44\n",
      "The age of a person is 45\n",
      "The age of a person is 46\n",
      "The age of a person is 47\n",
      "The age of a person is 48\n",
      "The age of a person is 49\n",
      "The age of a person is 50\n",
      "The age of a person is 51\n",
      "The age of a person is 52\n",
      "The age of a person is 53\n",
      "The age of a person is 54\n",
      "The age of a person is 55\n",
      "The age of a person is 56\n",
      "The age of a person is 57\n",
      "The age of a person is 58\n",
      "The age of a person is 59\n",
      "The age of a person is 60\n",
      "The age of a person is 61\n",
      "The age of a person is 62\n",
      "The age of a person is 63\n",
      "The age of a person is 64\n",
      "The age of a person is 65\n",
      "The age of a person is 66\n",
      "The age of a person is 67\n",
      "The age of a person is 68\n",
      "The age of a person is 69\n",
      "The age of a person is 70\n"
     ]
    }
   ],
   "source": [
    "### Define variables:\n",
    "alive = True\n",
    "age = 12\n",
    "age_of_death = 70\n",
    "\n",
    "while alive: ### infinit loop\n",
    "    age+=1\n",
    "    \n",
    "    if age == 36:\n",
    "        continue\n",
    "    print('The age of a person is {}'.format(age))\n",
    "    \n",
    "    if age == age_of_death:\n",
    "        alive=False"
   ]
  },
  {
   "cell_type": "markdown",
   "id": "2adb2a05-c040-4bb0-ad8c-52e33d574213",
   "metadata": {},
   "source": [
    "#### break\n",
    "`break` will prematurely terminates the loop.  "
   ]
  },
  {
   "cell_type": "code",
   "execution_count": 23,
   "id": "66ff8c1f-4658-45fd-a215-1cd4691ffff3",
   "metadata": {},
   "outputs": [
    {
     "name": "stdout",
     "output_type": "stream",
     "text": [
      "1\n"
     ]
    }
   ],
   "source": [
    "for item in [1,2,3]:\n",
    "    print(item)\n",
    "    break"
   ]
  },
  {
   "cell_type": "markdown",
   "id": "c5ffe2ed",
   "metadata": {},
   "source": [
    "#### continue\n",
    "`continue` will stop executing the current loop and advance into next iteration. The remaining lines of codes after `continue` will not execute for that loop.  "
   ]
  },
  {
   "cell_type": "code",
   "execution_count": 24,
   "id": "bde5b0ac-5138-46b2-8440-11e4604b4d54",
   "metadata": {},
   "outputs": [
    {
     "name": "stdout",
     "output_type": "stream",
     "text": [
      "i value:  0\n",
      "i value:  1\n",
      "i value:  2\n"
     ]
    }
   ],
   "source": [
    "for i, item in enumerate([1,2,3]):\n",
    "    print(\"i value: \", i)\n",
    "    continue\n",
    "    print(\"item value: \", item)  ###<< this action for current loop will be skipped    "
   ]
  },
  {
   "cell_type": "markdown",
   "id": "b3f42980-9683-48f8-80ea-977a446773d2",
   "metadata": {},
   "source": [
    "#### pass\n",
    "`pass` will do nothing and it is just acting as a placeholder."
   ]
  },
  {
   "cell_type": "code",
   "execution_count": 25,
   "id": "14478938",
   "metadata": {},
   "outputs": [],
   "source": [
    "def passing():\n",
    "    pass"
   ]
  },
  {
   "cell_type": "markdown",
   "id": "5c57beba",
   "metadata": {},
   "source": [
    "#### Examples"
   ]
  },
  {
   "cell_type": "markdown",
   "id": "2ba772b8",
   "metadata": {},
   "source": [
    "Let's use for loop to count 5 and each count again counts a-e strings."
   ]
  },
  {
   "cell_type": "code",
   "execution_count": 26,
   "id": "aaa18344",
   "metadata": {},
   "outputs": [
    {
     "name": "stdout",
     "output_type": "stream",
     "text": [
      "Number Count 0\n",
      "At Number Count 0 String Value is a\n",
      "At Number Count 0 String Value is b\n",
      "At Number Count 0 String Value is c\n",
      "At Number Count 0 String Value is d\n",
      "At Number Count 0 String Value is e\n",
      "Number Count 1\n",
      "At Number Count 1 String Value is a\n",
      "At Number Count 1 String Value is b\n",
      "At Number Count 1 String Value is c\n",
      "At Number Count 1 String Value is d\n",
      "At Number Count 1 String Value is e\n",
      "Number Count 2\n",
      "At Number Count 2 String Value is a\n",
      "At Number Count 2 String Value is b\n",
      "At Number Count 2 String Value is c\n",
      "At Number Count 2 String Value is d\n",
      "At Number Count 2 String Value is e\n",
      "Number Count 3\n",
      "At Number Count 3 String Value is a\n",
      "At Number Count 3 String Value is b\n",
      "At Number Count 3 String Value is c\n",
      "At Number Count 3 String Value is d\n",
      "At Number Count 3 String Value is e\n",
      "Number Count 4\n",
      "At Number Count 4 String Value is a\n",
      "At Number Count 4 String Value is b\n",
      "At Number Count 4 String Value is c\n",
      "At Number Count 4 String Value is d\n",
      "At Number Count 4 String Value is e\n"
     ]
    }
   ],
   "source": [
    "string_list = ['a', 'b', 'c', 'd', 'e']\n",
    "for i in range(5):\n",
    "    print(\"Number Count\", i)\n",
    "    for j in string_list:\n",
    "        print(\"At Number Count {} String Value is {}\".format(i, j))"
   ]
  },
  {
   "cell_type": "code",
   "execution_count": 27,
   "id": "715cf946",
   "metadata": {},
   "outputs": [
    {
     "name": "stdout",
     "output_type": "stream",
     "text": [
      "#####################\n",
      "Number Count 0\n",
      "#####################\n",
      "Number Count 1\n",
      "At Number Count 1 String Value is a\n",
      "At Number Count 1 String Value is b\n",
      "At Number Count 1 String Value is c\n",
      "#####################\n",
      "Number Count 2\n",
      "#####################\n",
      "Number Count 3\n",
      "At Number Count 3 String Value is a\n",
      "At Number Count 3 String Value is b\n",
      "At Number Count 3 String Value is c\n",
      "###########################\n"
     ]
    }
   ],
   "source": [
    "### pass, break, continue\n",
    "string_list = ['a', 'b', 'c', 'd', 'e']\n",
    "for i in range(5):\n",
    "    print(\"#####################\")\n",
    "    print(\"Number Count\", i)\n",
    "    if i % 2 == 0:\n",
    "        continue\n",
    "    for j in string_list:\n",
    "        print(\"At Number Count {} String Value is {}\".format(i, j))\n",
    "        if j == 'c':\n",
    "            break\n",
    "    if i == 3:\n",
    "        break\n",
    "\n",
    "print(\"###########################\")\n",
    "### Do nothing for pass statement\n",
    "for i in range(5):\n",
    "    pass"
   ]
  },
  {
   "cell_type": "markdown",
   "id": "5ba2472c",
   "metadata": {},
   "source": [
    "#### List Comprehension"
   ]
  },
  {
   "cell_type": "code",
   "execution_count": 28,
   "id": "6c6e3cc5",
   "metadata": {},
   "outputs": [
    {
     "name": "stdout",
     "output_type": "stream",
     "text": [
      "myEvenList:  [0, 2, 4, 6, 8, 10, 12]\n",
      "myOddList:  [1, 3, 5, 7, 9, 11]\n"
     ]
    }
   ],
   "source": [
    "myEvenList = [0, 2, 4, 6, 8, 10, 12]\n",
    "\n",
    "myOddList = [(number-1) for number in myEvenList if (number-1) > 0]\n",
    "# myOddList.pop(0)\n",
    "# abs(myOddList)\n",
    "print(\"myEvenList: \", myEvenList)\n",
    "print(\"myOddList: \", myOddList)"
   ]
  },
  {
   "cell_type": "markdown",
   "id": "5719b708",
   "metadata": {},
   "source": [
    "### Function"
   ]
  },
  {
   "cell_type": "markdown",
   "id": "715e40f2",
   "metadata": {},
   "source": [
    "A function is a block of statement that is reusable in a program. Normally, the codes inside a function have specific tasks to perform and return appropriate output(s).\n",
    "\n",
    "<img src=\"img/function.png\" alt=\"Functions\" width=\"500px\" style=\"float: center\" />\n",
    "<br clear=\"left\" />\n",
    "\n",
    "#### Built-in functions  \n",
    "1. `print()`\n",
    "2. `len()`\n",
    "3. `type()`"
   ]
  },
  {
   "cell_type": "code",
   "execution_count": 29,
   "id": "2c08db7c",
   "metadata": {},
   "outputs": [],
   "source": [
    "def myfunction(x, y, z, a, b):\n",
    "    pass\n",
    "\n",
    "def myFunction():\n",
    "    pass\n",
    "\n",
    "def my_function():\n",
    "    pass"
   ]
  },
  {
   "cell_type": "markdown",
   "id": "5f602c2f",
   "metadata": {},
   "source": [
    "#### Examples"
   ]
  },
  {
   "cell_type": "markdown",
   "id": "07549790",
   "metadata": {},
   "source": [
    "Notice: all the functions and loops consist of indentation. Python is indentation sensative and it will pop up errors if you use wrong indentation."
   ]
  },
  {
   "cell_type": "markdown",
   "id": "a5a29766",
   "metadata": {},
   "source": [
    "let's start with simple function that does some operation and return the result.\n",
    "\n",
    "x = 1  \n",
    "y = 2  \n",
    "\n",
    "get the sum, min and max values and return from a function"
   ]
  },
  {
   "cell_type": "code",
   "execution_count": 30,
   "id": "8ceab3be",
   "metadata": {},
   "outputs": [
    {
     "name": "stdout",
     "output_type": "stream",
     "text": [
      "sum_results:  3\n",
      "min_results:  1\n",
      "max_results:  2\n"
     ]
    }
   ],
   "source": [
    "a = 1 # Can change any value\n",
    "b = 2\n",
    "\n",
    "def operator(x, y):\n",
    "\n",
    "    sum_results = x+y\n",
    "    min_results = min(x, y)\n",
    "    max_results = max(x, y) # min() and max() functions are built-in functions of Python\n",
    "    \n",
    "    return sum_results, min_results, max_results # The results of operator() function returns a tuple\n",
    "\n",
    "sum_results, min_results, max_results = operator(y=b, x=a) # We can extract the tuple result by assigning into variables\n",
    "print('sum_results: ', sum_results)\n",
    "print('min_results: ', min_results)\n",
    "print('max_results: ', max_results)"
   ]
  },
  {
   "cell_type": "markdown",
   "id": "361c6b70",
   "metadata": {},
   "source": [
    "#### Python Keywords"
   ]
  },
  {
   "cell_type": "markdown",
   "id": "abbb0560",
   "metadata": {},
   "source": [
    "Python has a list of built-in keywords which are specific and ready to use in advance. You should avoid assigning these keywords as your variable names. You can look at the keywords by simply using the following function call `help('keywords')`."
   ]
  },
  {
   "cell_type": "code",
   "execution_count": 31,
   "id": "4d5a424a",
   "metadata": {},
   "outputs": [
    {
     "name": "stdout",
     "output_type": "stream",
     "text": [
      "\n",
      "Here is a list of the Python keywords.  Enter any keyword to get more help.\n",
      "\n",
      "False               class               from                or\n",
      "None                continue            global              pass\n",
      "True                def                 if                  raise\n",
      "and                 del                 import              return\n",
      "as                  elif                in                  try\n",
      "assert              else                is                  while\n",
      "async               except              lambda              with\n",
      "await               finally             nonlocal            yield\n",
      "break               for                 not                 \n",
      "\n"
     ]
    }
   ],
   "source": [
    "help('keywords')"
   ]
  },
  {
   "cell_type": "markdown",
   "id": "7917cddd",
   "metadata": {},
   "source": [
    "#### Variable Scope  \n",
    "\n",
    "Python has three different variable scopes:\n",
    "- Local\n",
    "- Global\n",
    "- Enclosing"
   ]
  },
  {
   "cell_type": "markdown",
   "id": "73edf4c9",
   "metadata": {},
   "source": [
    "##### Local Scope\n",
    "A variable inside a function possesses a local scope property or called local variable. It can only be accessed within the function that defines.\n",
    "\n",
    "```markdown\n",
    "def local_scope():\n",
    "    x = 11\n",
    "    print(x)\n",
    "\n",
    "```"
   ]
  },
  {
   "cell_type": "markdown",
   "id": "076d2871",
   "metadata": {},
   "source": [
    "#### Example"
   ]
  },
  {
   "cell_type": "code",
   "execution_count": 32,
   "id": "0ca7fa40",
   "metadata": {},
   "outputs": [
    {
     "name": "stdout",
     "output_type": "stream",
     "text": [
      "11\n"
     ]
    },
    {
     "ename": "NameError",
     "evalue": "name 'local_x' is not defined",
     "output_type": "error",
     "traceback": [
      "\u001b[1;31m------------------------------------------------------------------------\u001b[0m",
      "\u001b[1;31mNameError\u001b[0m                              Traceback (most recent call last)",
      "Cell \u001b[1;32mIn[32], line 6\u001b[0m\n\u001b[0;32m      3\u001b[0m     \u001b[38;5;28mprint\u001b[39m(local_x)\n\u001b[0;32m      5\u001b[0m local_scope()\n\u001b[1;32m----> 6\u001b[0m \u001b[38;5;28mprint\u001b[39m(local_x)\n",
      "\u001b[1;31mNameError\u001b[0m: name 'local_x' is not defined"
     ]
    }
   ],
   "source": [
    "def local_scope():\n",
    "    local_x = 11\n",
    "    print(local_x)\n",
    "\n",
    "local_scope()\n",
    "print(local_x)\n"
   ]
  },
  {
   "cell_type": "markdown",
   "id": "77689ca9",
   "metadata": {},
   "source": [
    "##### Global Scope\n",
    "A variable that is declared outside all functions possesses a global scope or global variable. It can be accessed from anywhere within or outside of the function.\n",
    "\n",
    "`global_x = 12\n",
    "def function_x():\n",
    "    print(global_x)`"
   ]
  },
  {
   "cell_type": "markdown",
   "id": "7076c44b",
   "metadata": {},
   "source": [
    "#### Example"
   ]
  },
  {
   "cell_type": "code",
   "execution_count": 33,
   "id": "fa05c3d2",
   "metadata": {},
   "outputs": [
    {
     "name": "stdout",
     "output_type": "stream",
     "text": [
      "12\n",
      "12\n"
     ]
    }
   ],
   "source": [
    "global_x = 12\n",
    "def function_x():\n",
    "    print(global_x)\n",
    "    \n",
    "function_x()\n",
    "print(global_x)"
   ]
  },
  {
   "cell_type": "markdown",
   "id": "aa724c1a",
   "metadata": {},
   "source": [
    "Let's look at the differences between following functions and variables. How will you comment them."
   ]
  },
  {
   "cell_type": "code",
   "execution_count": 34,
   "id": "1e82935a",
   "metadata": {},
   "outputs": [
    {
     "name": "stdout",
     "output_type": "stream",
     "text": [
      "27\n",
      "72\n",
      "27\n"
     ]
    }
   ],
   "source": [
    "global_var = 27\n",
    "\n",
    "def global_function():\n",
    "#     global global_var\n",
    "    global_var = 72\n",
    "    print(global_var)\n",
    "\n",
    "print(global_var)\n",
    "global_function()\n",
    "print(global_var)"
   ]
  },
  {
   "cell_type": "code",
   "execution_count": 35,
   "id": "d9ae7f46",
   "metadata": {},
   "outputs": [
    {
     "name": "stdout",
     "output_type": "stream",
     "text": [
      "27\n",
      "72\n",
      "72\n"
     ]
    }
   ],
   "source": [
    "global_var2 = 27\n",
    "\n",
    "def global_function2():\n",
    "    global global_var2\n",
    "    global_var2 = 72\n",
    "    print(global_var2)\n",
    "\n",
    "print(global_var2)\n",
    "global_function2()\n",
    "print(global_var2)"
   ]
  },
  {
   "cell_type": "code",
   "execution_count": 36,
   "id": "310cba20",
   "metadata": {},
   "outputs": [
    {
     "name": "stdout",
     "output_type": "stream",
     "text": [
      "27\n"
     ]
    },
    {
     "ename": "UnboundLocalError",
     "evalue": "cannot access local variable 'global_var' where it is not associated with a value",
     "output_type": "error",
     "traceback": [
      "\u001b[1;31m------------------------------------------------------------------------\u001b[0m",
      "\u001b[1;31mUnboundLocalError\u001b[0m                      Traceback (most recent call last)",
      "Cell \u001b[1;32mIn[36], line 10\u001b[0m\n\u001b[0;32m      7\u001b[0m     \u001b[38;5;28mprint\u001b[39m(global_var)\n\u001b[0;32m      9\u001b[0m \u001b[38;5;28mprint\u001b[39m(global_var)\n\u001b[1;32m---> 10\u001b[0m global_function()\n\u001b[0;32m     11\u001b[0m \u001b[38;5;28mprint\u001b[39m(global_var)\n",
      "Cell \u001b[1;32mIn[36], line 5\u001b[0m, in \u001b[0;36mglobal_function\u001b[1;34m()\u001b[0m\n\u001b[0;32m      3\u001b[0m \u001b[38;5;28;01mdef\u001b[39;00m \u001b[38;5;21mglobal_function\u001b[39m():\n\u001b[0;32m      4\u001b[0m \u001b[38;5;66;03m#     global global_var\u001b[39;00m\n\u001b[1;32m----> 5\u001b[0m     \u001b[38;5;28mprint\u001b[39m(\u001b[38;5;124m\"\u001b[39m\u001b[38;5;124mBefore modification: \u001b[39m\u001b[38;5;124m\"\u001b[39m, global_var)\n\u001b[0;32m      6\u001b[0m     global_var \u001b[38;5;241m=\u001b[39m \u001b[38;5;241m72\u001b[39m\n\u001b[0;32m      7\u001b[0m     \u001b[38;5;28mprint\u001b[39m(global_var)\n",
      "\u001b[1;31mUnboundLocalError\u001b[0m: cannot access local variable 'global_var' where it is not associated with a value"
     ]
    }
   ],
   "source": [
    "global_var = 27\n",
    "\n",
    "def global_function():\n",
    "#     global global_var\n",
    "    print(\"Before modification: \", global_var)\n",
    "    global_var = 72\n",
    "    print(global_var)\n",
    "\n",
    "print(global_var)\n",
    "global_function()\n",
    "print(global_var)"
   ]
  },
  {
   "cell_type": "code",
   "execution_count": 37,
   "id": "c88a67dd",
   "metadata": {},
   "outputs": [
    {
     "ename": "UnboundLocalError",
     "evalue": "cannot access local variable 'global_var4' where it is not associated with a value",
     "output_type": "error",
     "traceback": [
      "\u001b[1;31m------------------------------------------------------------------------\u001b[0m",
      "\u001b[1;31mUnboundLocalError\u001b[0m                      Traceback (most recent call last)",
      "Cell \u001b[1;32mIn[37], line 7\u001b[0m\n\u001b[0;32m      4\u001b[0m     global_var4 \u001b[38;5;241m=\u001b[39m global_var4 \u001b[38;5;241m+\u001b[39m \u001b[38;5;241m1\u001b[39m\n\u001b[0;32m      5\u001b[0m     \u001b[38;5;28mprint\u001b[39m(global_var4)\n\u001b[1;32m----> 7\u001b[0m global_function3()\n",
      "Cell \u001b[1;32mIn[37], line 4\u001b[0m, in \u001b[0;36mglobal_function3\u001b[1;34m()\u001b[0m\n\u001b[0;32m      3\u001b[0m \u001b[38;5;28;01mdef\u001b[39;00m \u001b[38;5;21mglobal_function3\u001b[39m():\n\u001b[1;32m----> 4\u001b[0m     global_var4 \u001b[38;5;241m=\u001b[39m global_var4 \u001b[38;5;241m+\u001b[39m \u001b[38;5;241m1\u001b[39m\n\u001b[0;32m      5\u001b[0m     \u001b[38;5;28mprint\u001b[39m(global_var4)\n",
      "\u001b[1;31mUnboundLocalError\u001b[0m: cannot access local variable 'global_var4' where it is not associated with a value"
     ]
    }
   ],
   "source": [
    "global_var4 = 30\n",
    "\n",
    "def global_function3():\n",
    "    global_var4 = global_var4 + 1\n",
    "    print(global_var4)\n",
    "    \n",
    "global_function3()"
   ]
  },
  {
   "cell_type": "code",
   "execution_count": 38,
   "id": "2441df15",
   "metadata": {},
   "outputs": [
    {
     "name": "stdout",
     "output_type": "stream",
     "text": [
      "31\n"
     ]
    }
   ],
   "source": [
    "global_var4 = 30\n",
    "\n",
    "def global_function3():\n",
    "    global global_var4\n",
    "    global_var4 = global_var4 + 1\n",
    "    print(global_var4)\n",
    "    \n",
    "global_function3()"
   ]
  },
  {
   "cell_type": "markdown",
   "id": "ba8c9100",
   "metadata": {},
   "source": [
    "#### Lambda Function  \n",
    "Lambda function does not use `def` keyword to define a function but simply uses `lambda` keyword. Here is a function how `lambda` defines.\n"
   ]
  },
  {
   "cell_type": "code",
   "execution_count": 39,
   "id": "44c6bbb9",
   "metadata": {},
   "outputs": [
    {
     "name": "stdout",
     "output_type": "stream",
     "text": [
      "4\n",
      "4\n"
     ]
    }
   ],
   "source": [
    "### Normal function\n",
    "def square(x):\n",
    "    return x**2\n",
    "\n",
    "print(square(2))\n",
    "\n",
    "### Lambda function\n",
    "square2 = lambda x: x**2 # lambda function is defined as >> lambda variable: expression/operation\n",
    "print(square2(2))"
   ]
  },
  {
   "cell_type": "markdown",
   "id": "a607e4cd",
   "metadata": {},
   "source": [
    "### Class and Object"
   ]
  },
  {
   "cell_type": "markdown",
   "id": "988e3a61",
   "metadata": {},
   "source": [
    "Python is an object-oriented programming language. Everything in Python is an object. \n",
    "\n",
    "In Python, a class is a blueprint for creating objects (instances) that share common attributes (data) and behaviors (methods). A class defines a new data type, allowing you to create multiple instances of that type with consistent properties and behaviors.\n",
    "\n",
    "A class contains attributes (variables) and methods (functions) that define the behavior of objects created from the class. The attributes store data related to the class, while the methods define the actions or operations that can be performed on the objects."
   ]
  },
  {
   "cell_type": "code",
   "execution_count": 40,
   "id": "c95efe2f",
   "metadata": {},
   "outputs": [
    {
     "name": "stdout",
     "output_type": "stream",
     "text": [
      "Buddy is 3 years old.\n",
      "Buddy is barking!\n",
      "Max is 5 years old.\n",
      "Max is barking!\n"
     ]
    }
   ],
   "source": [
    "class Dog:\n",
    "    def __init__(self, name, age):\n",
    "        self.name = name\n",
    "        self.age = age\n",
    "\n",
    "    def bark(self):\n",
    "        print(f\"{self.name} is barking!\")\n",
    "\n",
    "# Creating instances of the Dog class\n",
    "dog1 = Dog(\"Buddy\", 3)\n",
    "dog2 = Dog(\"Max\", 5)\n",
    "\n",
    "# Accessing attributes and calling methods\n",
    "print(f\"{dog1.name} is {dog1.age} years old.\")\n",
    "dog1.bark()\n",
    "\n",
    "print(f\"{dog2.name} is {dog2.age} years old.\")\n",
    "dog2.bark()"
   ]
  },
  {
   "cell_type": "code",
   "execution_count": 41,
   "id": "2090cda1",
   "metadata": {},
   "outputs": [
    {
     "name": "stdout",
     "output_type": "stream",
     "text": [
      "Alice 30\n",
      "Bob 25\n"
     ]
    }
   ],
   "source": [
    "class Person:\n",
    "    def __init__(self, name, age):\n",
    "        self.name = name\n",
    "        self.age = age\n",
    "\n",
    "# Creating instances of the Person class\n",
    "person1 = Person(\"Alice\", 30)\n",
    "person2 = Person(\"Bob\", 25)\n",
    "\n",
    "print(person1.name, person1.age)  # Output: Alice 30\n",
    "print(person2.name, person2.age)  # Output: Bob 25"
   ]
  },
  {
   "cell_type": "code",
   "execution_count": 42,
   "id": "c1b77600",
   "metadata": {},
   "outputs": [
    {
     "name": "stdout",
     "output_type": "stream",
     "text": [
      "This is init call.\n"
     ]
    }
   ],
   "source": [
    "class InitCall:\n",
    "    def __init__(self): ## dunder function or magic function\n",
    "        print(\"This is init call.\")\n",
    "        \n",
    "#     def yourName(self, name):\n",
    "#         return name\n",
    "\n",
    "initCall = InitCall()\n"
   ]
  },
  {
   "cell_type": "markdown",
   "id": "b8514908",
   "metadata": {},
   "source": [
    "#### Inheritance  \n"
   ]
  },
  {
   "cell_type": "markdown",
   "id": "bd315463",
   "metadata": {},
   "source": [
    "An inheritance is the ability of a class carrying all the properties of an old or existing class. The inheriting class is known as a child class, and the class being inherited is known as parent or base class."
   ]
  },
  {
   "cell_type": "markdown",
   "id": "f7ae5f9a",
   "metadata": {},
   "source": [
    "#### Example"
   ]
  },
  {
   "cell_type": "code",
   "execution_count": 43,
   "id": "51d55700",
   "metadata": {},
   "outputs": [
    {
     "name": "stdout",
     "output_type": "stream",
     "text": [
      "I'm a Vehicle!\n",
      "I'm a Vehicle!\n"
     ]
    }
   ],
   "source": [
    "# base class\n",
    "class Vehicle():\n",
    "    def description(self):\n",
    "        print(\"I'm a Vehicle!\")\n",
    "\n",
    "# subclass\n",
    "class Car(Vehicle):\n",
    "    pass\n",
    "\n",
    "# create an object from each class\n",
    "v = Vehicle()\n",
    "c = Car()\n",
    "\n",
    "v.description()\n",
    "# Prints I'm a Vehicle!\n",
    "c.description()\n",
    "# Prints I'm a Vehicle!"
   ]
  },
  {
   "cell_type": "markdown",
   "id": "b25ac572",
   "metadata": {},
   "source": [
    "We can overide a method from the parent class as well as we can add more methods inside the child class."
   ]
  },
  {
   "cell_type": "markdown",
   "id": "5dd04aef",
   "metadata": {},
   "source": [
    "#### Example"
   ]
  },
  {
   "cell_type": "code",
   "execution_count": 44,
   "id": "34530c8f",
   "metadata": {},
   "outputs": [
    {
     "name": "stdout",
     "output_type": "stream",
     "text": [
      "I'm a Vehicle!\n",
      "I'm a Car!\n"
     ]
    }
   ],
   "source": [
    "### Overiding\n",
    "# base class\n",
    "class Vehicle():\n",
    "    def description(self):\n",
    "        print(\"I'm a Vehicle!\")\n",
    "\n",
    "# subclass\n",
    "class Car(Vehicle):\n",
    "    def description(self):\n",
    "        print(\"I'm a Car!\")\n",
    "\n",
    "# create an object from each class\n",
    "v = Vehicle()\n",
    "c = Car()\n",
    "\n",
    "v.description()\n",
    "# Prints I'm a Vehicle!\n",
    "c.description()\n",
    "# Prints I'm a Car!"
   ]
  },
  {
   "cell_type": "code",
   "execution_count": 45,
   "id": "40b1733b",
   "metadata": {},
   "outputs": [
    {
     "name": "stdout",
     "output_type": "stream",
     "text": [
      "Now traveling at 25 miles per hour\n"
     ]
    },
    {
     "ename": "AttributeError",
     "evalue": "'Vehicle' object has no attribute 'setSpeed'",
     "output_type": "error",
     "traceback": [
      "\u001b[1;31m------------------------------------------------------------------------\u001b[0m",
      "\u001b[1;31mAttributeError\u001b[0m                         Traceback (most recent call last)",
      "Cell \u001b[1;32mIn[45], line 19\u001b[0m\n\u001b[0;32m     17\u001b[0m c\u001b[38;5;241m.\u001b[39msetSpeed(\u001b[38;5;241m25\u001b[39m)\n\u001b[0;32m     18\u001b[0m \u001b[38;5;66;03m# Prints Now traveling at 25 miles per hour\u001b[39;00m\n\u001b[1;32m---> 19\u001b[0m v\u001b[38;5;241m.\u001b[39msetSpeed(\u001b[38;5;241m25\u001b[39m)\n",
      "\u001b[1;31mAttributeError\u001b[0m: 'Vehicle' object has no attribute 'setSpeed'"
     ]
    }
   ],
   "source": [
    "# a parent class\n",
    "class Vehicle():\n",
    "    def description(self):\n",
    "        print(\"I'm a\", self.color, \"Vehicle\")\n",
    "\n",
    "# subclass\n",
    "class Car(Vehicle):\n",
    "    def description(self):\n",
    "        print(\"I'm a\", self.color, self.style)\n",
    "    def setSpeed(self, speed):\n",
    "        print(\"Now traveling at\", speed,\"miles per hour\")    \n",
    "\n",
    "# create an object from each class\n",
    "v = Vehicle()\n",
    "c = Car()\n",
    "\n",
    "c.setSpeed(25)\n",
    "# Prints Now traveling at 25 miles per hour\n",
    "v.setSpeed(25)\n",
    "# Triggers AttributeError: 'Vehicle' object has no attribute 'setSpeed'"
   ]
  },
  {
   "cell_type": "markdown",
   "id": "cee66a0b",
   "metadata": {},
   "source": [
    "`super()` function is used to add more parameter(s) inside the `__init__()` function of the child class. Those parameter(s) are not present inside the `__init__()` of the parent class."
   ]
  },
  {
   "cell_type": "code",
   "execution_count": 46,
   "id": "ee95f1e8",
   "metadata": {},
   "outputs": [
    {
     "name": "stdout",
     "output_type": "stream",
     "text": [
      "I'm a Red Vehicle\n",
      "I'm a Black SUV\n"
     ]
    }
   ],
   "source": [
    "# base class\n",
    "class Vehicle():\n",
    "    def __init__(self, color):\n",
    "        self.color = color\n",
    "    def description(self):\n",
    "        print(\"I'm a\", self.color, \"Vehicle\")\n",
    "\n",
    "# subclass\n",
    "class Car(Vehicle):\n",
    "    def __init__(self, color, style):\n",
    "        super().__init__(color)    # invoke Vehicle’s __init__() method\n",
    "        self.style = style\n",
    "    def description(self):\n",
    "        print(\"I'm a\", self.color, self.style)\n",
    "\n",
    "# create an object from each class\n",
    "v = Vehicle('Red')\n",
    "c = Car('Black', 'SUV')\n",
    "\n",
    "v.description()\n",
    "# Prints I'm a Red Vehicle\n",
    "c.description()\n",
    "# Prints I'm a Black SUV"
   ]
  },
  {
   "cell_type": "markdown",
   "id": "3982267b",
   "metadata": {},
   "source": [
    "### File Handling"
   ]
  },
  {
   "cell_type": "markdown",
   "id": "435705db",
   "metadata": {},
   "source": [
    "#### Read/Write `.txt` files\n",
    "\n",
    "\n",
    "\n",
    "<img src='img/filemode.png' alt=\"File Modes\" width=\"400px\" style=\"float: center\" />\n",
    "<br clear=\"left\" />"
   ]
  },
  {
   "cell_type": "code",
   "execution_count": 47,
   "id": "bd341233",
   "metadata": {},
   "outputs": [
    {
     "name": "stdout",
     "output_type": "stream",
     "text": [
      "This is the lab session of deep learning for computer vision course. This course is offering on Mondays and Fridays.\n",
      "We are now having a lab session for Python basics.\n",
      "\n"
     ]
    }
   ],
   "source": [
    "f = open('data/sample.txt')\n",
    "print(f.read())"
   ]
  },
  {
   "cell_type": "code",
   "execution_count": 48,
   "id": "df188e43",
   "metadata": {},
   "outputs": [
    {
     "name": "stdout",
     "output_type": "stream",
     "text": [
      "This is the lab session of deep learning for computer vision course. This course is offering on Mondays and Fridays.\n",
      "We are now having a lab session for Python basics.\n",
      "\n"
     ]
    }
   ],
   "source": [
    "with open('data/sample.txt', 'r') as f:\n",
    "    data = f.read()\n",
    "f.close()\n",
    "\n",
    "print(data)"
   ]
  },
  {
   "cell_type": "code",
   "execution_count": 49,
   "id": "07152ae3",
   "metadata": {},
   "outputs": [],
   "source": [
    "text = 'I am happy with Python.'\n",
    "with open('data/sample2.txt', 'a') as f: # if you want to append, you can use 'a'\n",
    "    f.write('\\n'+text) # you can skip with '\\n'\n",
    "f.close()"
   ]
  },
  {
   "cell_type": "markdown",
   "id": "abf1209e",
   "metadata": {
    "jp-MarkdownHeadingCollapsed": true
   },
   "source": [
    "### Other useful Python operations you can explore  \n",
    "1. Regular Expression\n",
    "2. Decorators\n",
    "3. @Property\n",
    "4. Exception Handling\n",
    "5. Read/write .csv and other binary files  \n",
    "and many more"
   ]
  },
  {
   "cell_type": "markdown",
   "id": "20a049c3",
   "metadata": {},
   "source": [
    "### Assignment\n",
    "Please use simple Python syntax for this assignment. Do not use any libraries for now. This is only accessing your basic Python understanding."
   ]
  },
  {
   "cell_type": "markdown",
   "id": "1ab50758",
   "metadata": {},
   "source": [
    "#### Exercise 1"
   ]
  },
  {
   "cell_type": "markdown",
   "id": "1fd30b17-2007-4c43-af00-0a9ea55864dc",
   "metadata": {},
   "source": [
    "A Mechatronic student enrolled five courses named `DLCV, Statistics, AINeuroFuzzy, ControlTheory and StochasticModels`. Assume that during the final exam, he has only 12 hours of study left. Furthermore, he must spend at least 2 hours of studying for each course in order to pass the exam. So, he sorts the courses alphabetically and assigns each hour to the course one by one until the total 12 hours is used up.  \n",
    "\n",
    "Implement the followings:\n",
    "- Write a class named `HourAssignment` that receives a parameter `totalhours` when initialized. Inside the class, there is a function named `assign` that receives another parameter called `coursename`.\n",
    "- When the `coursename` is passed into the function, an hour is assigned to that `course`. You have to loop the list infinitely to pass the `coursename` into the function. The hour assignment will proceed until all the `totalhours` is used up.\n",
    "- When the total hours is used up, the function returns a statement \"All the hours are assigned...\".\n",
    "- Write another function inside the same class named `show` which simply prints out all the assigned hours from each course you passed into the `assign` function. Call that function to print `COURSENAME is assigned x hours`.\n",
    "- Play around with different hours other than 12 hours. What is the result?\n",
    "\n",
    "hint: please use the dictionary to assign the hours."
   ]
  },
  {
   "cell_type": "code",
   "execution_count": 50,
   "id": "b84e2631-c943-4d27-bbfd-cbe5b33acef6",
   "metadata": {},
   "outputs": [],
   "source": [
    "# YOUR CODE HERE\n",
    "raise NotImplementedError()"
   ]
  },
  {
   "cell_type": "code",
   "execution_count": 51,
   "id": "4553ff1a-5351-4a01-8572-c2677d5d9041",
   "metadata": {},
   "outputs": [
    {
     "name": "stdout",
     "output_type": "stream",
     "text": [
      "All the hours are assigned...\n",
      "AINeuroFuzzy course is assigned 3 hours.\n",
      "ControlTheory course is assigned 3 hours.\n",
      "DLCV course is assigned 2 hours.\n",
      "Statistics course is assigned 2 hours.\n",
      "StochasticModels course is assigned 2 hours.\n"
     ]
    }
   ],
   "source": [
    "# YOUR CODE HERE\n",
    "raise NotImplementedError()"
   ]
  },
  {
   "cell_type": "markdown",
   "id": "7283007c-c860-4ee8-a88c-fd37cc224aa0",
   "metadata": {},
   "source": [
    "**Expected Results:**\n",
    "\n",
    "All the hours are assigned...  \n",
    "AINeuroFuzzy course is assigned 3 hours.  \n",
    "ControlTheory course is assigned 3 hours.  \n",
    "DLCV course is assigned 2 hours.  \n",
    "Statistics course is assigned 2 hours.  \n",
    "StochasticModels course is assigned 2 hours."
   ]
  },
  {
   "cell_type": "markdown",
   "id": "32059cb2",
   "metadata": {},
   "source": [
    "#### Exercise 2"
   ]
  },
  {
   "cell_type": "markdown",
   "id": "dbda91f5-fe0c-4aea-99d2-d6017bc0d29d",
   "metadata": {},
   "source": [
    "Below `paths` contains a list of paths containing images (do not remove any comma).\n",
    "- Write a code to extract only the image names excluding `.png` extension without blanks. Use list comprehension.\n",
    "- Print out the names.\n",
    "- Replace the `/home/user/dlcv/images/` with `/home/yourname/DLCV/imgs/` to change the directory and return the list. Hint: use replace() function.\n",
    "- Print out the modified list.\n",
    "- Write the modified list into a text file called images.txt (submit the code as well as the .txt file)"
   ]
  },
  {
   "cell_type": "code",
   "execution_count": 52,
   "id": "108e5614",
   "metadata": {},
   "outputs": [],
   "source": [
    "paths = ['/home/user/dlcv/images/img01.png', \n",
    "'/home/user/dlcv/images/img02.png',\n",
    "'/home/user/dlcv/images/img03.png',\n",
    "'/home/user/dlcv/images/img04.png',\n",
    "'/home/user/dlcv/images/img05.png',\n",
    "'/home/user/dlcv/images/img06.png',\n",
    "'/home/user/dlcv/images/img07.png',\n",
    "'/home/user/dlcv/images/img08.png',\n",
    "'/home/user/dlcv/images/img09.png',\n",
    "'/home/user/dlcv/images/img10.png',\n",
    "'']"
   ]
  },
  {
   "cell_type": "code",
   "execution_count": 53,
   "id": "69007d72-a9db-491b-a9bc-390395268346",
   "metadata": {},
   "outputs": [
    {
     "data": {
      "text/plain": [
       "['img01',\n",
       " 'img02',\n",
       " 'img03',\n",
       " 'img04',\n",
       " 'img05',\n",
       " 'img06',\n",
       " 'img07',\n",
       " 'img08',\n",
       " 'img09',\n",
       " 'img10']"
      ]
     },
     "execution_count": 53,
     "metadata": {},
     "output_type": "execute_result"
    }
   ],
   "source": [
    "# YOUR CODE HERE\n",
    "raise NotImplementedError()"
   ]
  },
  {
   "cell_type": "markdown",
   "id": "f75f2376",
   "metadata": {},
   "source": [
    "#### Exercise 3"
   ]
  },
  {
   "cell_type": "markdown",
   "id": "1c8dfb34-6cca-4647-8314-dcdc74831c16",
   "metadata": {},
   "source": [
    "Remove duplicates below using your python function `removeDuplicate`. Do not use any library.\n",
    "- remove all duplicated items and return\n",
    "- remove duplicated but leave one from each item and return"
   ]
  },
  {
   "cell_type": "code",
   "execution_count": 54,
   "id": "49a0579c",
   "metadata": {},
   "outputs": [],
   "source": [
    "array_1 = [1,2,0,3,3,4,5,2,5,6,7,4,5,7,7,8,3,9,0,0]\n",
    "array_2 = [1,11,3,4,5,6,6,11,11,15,14,15]"
   ]
  },
  {
   "cell_type": "code",
   "execution_count": 55,
   "id": "01009031",
   "metadata": {},
   "outputs": [],
   "source": [
    "# YOUR CODE HERE\n",
    "raise NotImplementedError()"
   ]
  },
  {
   "cell_type": "code",
   "execution_count": 56,
   "id": "024460d1-f634-4f3c-83d7-a292ff06ab3b",
   "metadata": {},
   "outputs": [
    {
     "data": {
      "text/plain": [
       "[1, 6, 8, 9]"
      ]
     },
     "execution_count": 56,
     "metadata": {},
     "output_type": "execute_result"
    }
   ],
   "source": [
    "# YOUR CODE HERE\n",
    "raise NotImplementedError()"
   ]
  },
  {
   "cell_type": "code",
   "execution_count": 57,
   "id": "78946e49-279c-48a0-81a4-f0d2ed4008b8",
   "metadata": {},
   "outputs": [
    {
     "data": {
      "text/plain": [
       "[1, 3, 4, 5, 14]"
      ]
     },
     "execution_count": 57,
     "metadata": {},
     "output_type": "execute_result"
    }
   ],
   "source": [
    "# YOUR CODE HERE\n",
    "raise NotImplementedError()"
   ]
  },
  {
   "cell_type": "code",
   "execution_count": 58,
   "id": "1bf62991-daf8-42ce-a176-37fe036a0019",
   "metadata": {},
   "outputs": [
    {
     "data": {
      "text/plain": [
       "[0, 1, 2, 3, 4, 5, 6, 7, 8, 9]"
      ]
     },
     "execution_count": 58,
     "metadata": {},
     "output_type": "execute_result"
    }
   ],
   "source": [
    "# YOUR CODE HERE\n",
    "raise NotImplementedError()"
   ]
  },
  {
   "cell_type": "code",
   "execution_count": 59,
   "id": "b937b373-f1ca-4f25-8160-201ccdf89d7b",
   "metadata": {},
   "outputs": [
    {
     "data": {
      "text/plain": [
       "[1, 3, 4, 5, 6, 11, 14, 15]"
      ]
     },
     "execution_count": 59,
     "metadata": {},
     "output_type": "execute_result"
    }
   ],
   "source": [
    "# YOUR CODE HERE\n",
    "raise NotImplementedError()"
   ]
  }
 ],
 "metadata": {
  "kernelspec": {
   "display_name": "Python 3 (ipykernel)",
   "language": "python",
   "name": "python3"
  },
  "language_info": {
   "codemirror_mode": {
    "name": "ipython",
    "version": 3
   },
   "file_extension": ".py",
   "mimetype": "text/x-python",
   "name": "python",
   "nbconvert_exporter": "python",
   "pygments_lexer": "ipython3",
   "version": "3.12.4"
  },
  "widgets": {
   "application/vnd.jupyter.widget-state+json": {
    "state": {},
    "version_major": 2,
    "version_minor": 0
   }
  }
 },
 "nbformat": 4,
 "nbformat_minor": 5
}
