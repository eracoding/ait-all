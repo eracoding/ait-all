{
 "cells": [
  {
   "cell_type": "code",
   "execution_count": 1,
   "id": "bf941ae5-3a73-4809-825e-fbbfbcb20e92",
   "metadata": {},
   "outputs": [],
   "source": [
    "import os\n",
    "\n",
    "os.environ['http_proxy'] = \"http://squid.cs.ait.ac.th:3128/\"\n",
    "os.environ['https_proxy'] = \"http://squid.cs.ait.ac.th:3128/\""
   ]
  },
  {
   "cell_type": "code",
   "execution_count": 4,
   "id": "0f5d832c-91f8-459b-9e0a-cb2ca4906800",
   "metadata": {},
   "outputs": [
    {
     "name": "stdout",
     "output_type": "stream",
     "text": [
      "Looking in indexes: https://pypi.org/simple, https://download.pytorch.org/whl/cu116\n",
      "Collecting torch==1.13.1+cu116\n",
      "  Downloading https://download.pytorch.org/whl/cu116/torch-1.13.1%2Bcu116-cp39-cp39-linux_x86_64.whl (1977.9 MB)\n",
      "     |████████████████████████████████| 1977.9 MB 672 bytes/s          ��█▉           | 1288.4 MB 77.0 MB/s eta 0:00:09\n",
      "\u001b[?25hCollecting torchvision==0.14.1+cu116\n",
      "  Downloading https://download.pytorch.org/whl/cu116/torchvision-0.14.1%2Bcu116-cp39-cp39-linux_x86_64.whl (24.2 MB)\n",
      "     |████████████████████████████████| 24.2 MB 15 kB/s              \n",
      "\u001b[?25hCollecting torchaudio==0.13.1\n",
      "  Downloading https://download.pytorch.org/whl/cu116/torchaudio-0.13.1%2Bcu116-cp39-cp39-linux_x86_64.whl (4.2 MB)\n",
      "     |████████████████████████████████| 4.2 MB 62.2 MB/s            \n",
      "\u001b[?25hRequirement already satisfied: typing-extensions in /opt/conda/lib/python3.9/site-packages (from torch==1.13.1+cu116) (4.12.2)\n",
      "Requirement already satisfied: requests in /opt/conda/lib/python3.9/site-packages (from torchvision==0.14.1+cu116) (2.27.1)\n",
      "Requirement already satisfied: pillow!=8.3.*,>=5.3.0 in /opt/conda/lib/python3.9/site-packages (from torchvision==0.14.1+cu116) (8.4.0)\n",
      "Requirement already satisfied: numpy in /opt/conda/lib/python3.9/site-packages (from torchvision==0.14.1+cu116) (1.21.5)\n",
      "Requirement already satisfied: urllib3<1.27,>=1.21.1 in /opt/conda/lib/python3.9/site-packages (from requests->torchvision==0.14.1+cu116) (1.26.8)\n",
      "Requirement already satisfied: certifi>=2017.4.17 in /opt/conda/lib/python3.9/site-packages (from requests->torchvision==0.14.1+cu116) (2021.10.8)\n",
      "Requirement already satisfied: idna<4,>=2.5 in /opt/conda/lib/python3.9/site-packages (from requests->torchvision==0.14.1+cu116) (3.3)\n",
      "Requirement already satisfied: charset-normalizer~=2.0.0 in /opt/conda/lib/python3.9/site-packages (from requests->torchvision==0.14.1+cu116) (2.0.10)\n",
      "Installing collected packages: torch, torchvision, torchaudio\n",
      "\u001b[33m  WARNING: The scripts convert-caffe2-to-onnx, convert-onnx-to-caffe2 and torchrun are installed in '/home/st125457/.local/bin' which is not on PATH.\n",
      "  Consider adding this directory to PATH or, if you prefer to suppress this warning, use --no-warn-script-location.\u001b[0m\n",
      "Successfully installed torch-1.13.1+cu116 torchaudio-0.13.1+cu116 torchvision-0.14.1+cu116\n"
     ]
    }
   ],
   "source": [
    "!pip install torch==1.13.1+cu116 torchvision==0.14.1+cu116 torchaudio==0.13.1 --extra-index-url https://download.pytorch.org/whl/cu116 --user"
   ]
  },
  {
   "cell_type": "code",
   "execution_count": 2,
   "id": "96b8f1ac-5ccb-473f-a7b7-2c1176838310",
   "metadata": {},
   "outputs": [],
   "source": [
    "import torch\n",
    "import torch.nn as nn\n",
    "import torch.nn.functional as F\n",
    "\n",
    "from torchvision import datasets, transforms\n",
    "from torch.utils.data import DataLoader"
   ]
  },
  {
   "cell_type": "code",
   "execution_count": 3,
   "id": "74e9d69e-47df-4c6a-9196-b25a65f97a77",
   "metadata": {},
   "outputs": [
    {
     "data": {
      "text/plain": [
       "True"
      ]
     },
     "execution_count": 3,
     "metadata": {},
     "output_type": "execute_result"
    }
   ],
   "source": [
    "torch.cuda.is_available()"
   ]
  },
  {
   "cell_type": "code",
   "execution_count": 5,
   "id": "20474759-b9fd-485c-b0cf-47fdbbf52add",
   "metadata": {},
   "outputs": [],
   "source": [
    "transform = transforms.Compose([\n",
    "    transforms.ToTensor(),\n",
    "    transforms.Normalize((0.5,), (0.5,))\n",
    "])\n",
    "\n",
    "mnist_train = datasets.MNIST(root='./data', train=True, download=True, transform=transform)\n",
    "mnist_test = datasets.MNIST(root='./data', train=False, download=True, transform=transform)\n",
    "\n",
    "mnist_train_loader = DataLoader(mnist_train, batch_size=64, shuffle=True)\n",
    "mnist_test_loader = DataLoader(mnist_test, batch_size=64, shuffle=False)\n",
    "\n",
    "fashion_train = datasets.FashionMNIST(root='./data', train=True, download=True, transform=transform)\n",
    "fashion_test = datasets.FashionMNIST(root='./data', train=False, download=True, transform=transform)\n",
    "\n",
    "fashion_train_loader = DataLoader(fashion_train, batch_size=64, shuffle=True)\n",
    "fashion_test_loader = DataLoader(fashion_test, batch_size=64, shuffle=False)"
   ]
  },
  {
   "cell_type": "code",
   "execution_count": 26,
   "id": "8ca9a35c-98d7-484e-a90f-8caae0a572d0",
   "metadata": {},
   "outputs": [],
   "source": [
    "class CNNModel(nn.Module):\n",
    "    def __init__(self, num_classes=10):\n",
    "        super(CNNModel, self).__init__()\n",
    "        \n",
    "        self.conv1 = nn.Conv2d(1, 32, kernel_size=3) # 28x28x1 -> 26x26x32 / 2 = 13x13x32\n",
    "        self.conv2 = nn.Conv2d(32, 64, kernel_size=3)# 11x11x64 -> 5x5x64\n",
    "        self.pool = nn.MaxPool2d(2)\n",
    "        self.fc1 = nn.Linear(64 * 5 * 5, 128)\n",
    "        self.dropout = nn.Dropout(0.5)\n",
    "        self.fc2 = nn.Linear(128, num_classes)\n",
    "        \n",
    "    def forward(self, x):\n",
    "        x = self.pool(F.relu(self.conv1(x)))\n",
    "        x = self.pool(F.relu(self.conv2(x)))\n",
    "        \n",
    "        x = x.view(-1, 64 * 5 * 5)\n",
    "        x = F.relu(self.fc1(x))\n",
    "        x = self.dropout(x)\n",
    "        x = self.fc2(x)\n",
    "        \n",
    "        return x"
   ]
  },
  {
   "cell_type": "code",
   "execution_count": 8,
   "id": "6aa01b37-b038-40ea-8860-e9a3fe2b6159",
   "metadata": {},
   "outputs": [],
   "source": [
    "def train(model, device, train_loader, optimizer, criterion, epoch):\n",
    "    model.train()\n",
    "    for batch_idx, (data, target) in enumerate(train_loader):\n",
    "        data, target = data.to(device), target.to(device)\n",
    "        optimizer.zero_grad()\n",
    "        output = model(data)\n",
    "        loss = criterion(output, target)\n",
    "        \n",
    "        loss.backward()\n",
    "        optimizer.step()\n",
    "        \n",
    "        if batch_idx % 100 == 0:\n",
    "            print(f'Train Epoch: {epoch} [{batch_idx * len(data)}/{len(train_loader.dataset)}] Loss: {loss.item():.6f}')\n",
    "\n",
    "def test(model, device, test_loader, criterion):\n",
    "    model.eval()\n",
    "    test_loss = 0\n",
    "    correct = 0\n",
    "    with torch.no_grad():\n",
    "        for data, target in test_loader:\n",
    "            data, target = data.to(device), target.to(device)\n",
    "            output = model(data)\n",
    "            test_loss += criterion(output, target).item()\n",
    "            pred = output.argmax(dim=1, keepdim=True)\n",
    "            correct += pred.eq(target.view_as(pred)).sum().item()\n",
    "    test_loss /= len(test_loader.dataset)\n",
    "    accuracy = 100. * correct / len(test_loader.dataset)\n",
    "    print(f'\\nTest set: Average loss: {test_loss:.4f}, Accuracy: {correct}/{len(test_loader.dataset)} ({accuracy:.2f}%)\\n')\n",
    "    return accuracy"
   ]
  },
  {
   "cell_type": "code",
   "execution_count": 27,
   "id": "e2dfb3c1-7997-46ad-82a9-f0ba3f909ac4",
   "metadata": {},
   "outputs": [],
   "source": [
    "device = torch.device(\"cuda\" if torch.cuda.is_available() else \"cpu\")\n",
    "\n",
    "base_model = CNNModel().to(device)\n",
    "optimizer = torch.optim.Adam(base_model.parameters(), lr=0.001)\n",
    "criterion = nn.CrossEntropyLoss()"
   ]
  },
  {
   "cell_type": "code",
   "execution_count": 28,
   "id": "bfe0a48e-9fa4-4f37-9af7-624bd649b81f",
   "metadata": {},
   "outputs": [
    {
     "name": "stdout",
     "output_type": "stream",
     "text": [
      "Train Epoch: 1 [0/60000] Loss: 2.298948\n",
      "Train Epoch: 1 [6400/60000] Loss: 0.356841\n",
      "Train Epoch: 1 [12800/60000] Loss: 0.360970\n",
      "Train Epoch: 1 [19200/60000] Loss: 0.138276\n",
      "Train Epoch: 1 [25600/60000] Loss: 0.225226\n",
      "Train Epoch: 1 [32000/60000] Loss: 0.147682\n",
      "Train Epoch: 1 [38400/60000] Loss: 0.069759\n",
      "Train Epoch: 1 [44800/60000] Loss: 0.169684\n",
      "Train Epoch: 1 [51200/60000] Loss: 0.045199\n",
      "Train Epoch: 1 [57600/60000] Loss: 0.116820\n",
      "\n",
      "Test set: Average loss: 0.0007, Accuracy: 9851/10000 (98.51%)\n",
      "\n",
      "Train Epoch: 2 [0/60000] Loss: 0.111176\n",
      "Train Epoch: 2 [6400/60000] Loss: 0.076573\n",
      "Train Epoch: 2 [12800/60000] Loss: 0.093073\n",
      "Train Epoch: 2 [19200/60000] Loss: 0.027703\n",
      "Train Epoch: 2 [25600/60000] Loss: 0.104041\n",
      "Train Epoch: 2 [32000/60000] Loss: 0.360858\n",
      "Train Epoch: 2 [38400/60000] Loss: 0.153771\n",
      "Train Epoch: 2 [44800/60000] Loss: 0.057919\n",
      "Train Epoch: 2 [51200/60000] Loss: 0.017944\n",
      "Train Epoch: 2 [57600/60000] Loss: 0.099698\n",
      "\n",
      "Test set: Average loss: 0.0006, Accuracy: 9881/10000 (98.81%)\n",
      "\n",
      "Train Epoch: 3 [0/60000] Loss: 0.028135\n",
      "Train Epoch: 3 [6400/60000] Loss: 0.016654\n",
      "Train Epoch: 3 [12800/60000] Loss: 0.035037\n",
      "Train Epoch: 3 [19200/60000] Loss: 0.069002\n",
      "Train Epoch: 3 [25600/60000] Loss: 0.038148\n",
      "Train Epoch: 3 [32000/60000] Loss: 0.059592\n",
      "Train Epoch: 3 [38400/60000] Loss: 0.055264\n",
      "Train Epoch: 3 [44800/60000] Loss: 0.173720\n",
      "Train Epoch: 3 [51200/60000] Loss: 0.018039\n",
      "Train Epoch: 3 [57600/60000] Loss: 0.034520\n",
      "\n",
      "Test set: Average loss: 0.0005, Accuracy: 9897/10000 (98.97%)\n",
      "\n",
      "Train Epoch: 4 [0/60000] Loss: 0.045303\n",
      "Train Epoch: 4 [6400/60000] Loss: 0.034586\n",
      "Train Epoch: 4 [12800/60000] Loss: 0.076844\n",
      "Train Epoch: 4 [19200/60000] Loss: 0.080042\n",
      "Train Epoch: 4 [25600/60000] Loss: 0.009379\n",
      "Train Epoch: 4 [32000/60000] Loss: 0.292314\n",
      "Train Epoch: 4 [38400/60000] Loss: 0.080148\n",
      "Train Epoch: 4 [44800/60000] Loss: 0.029393\n",
      "Train Epoch: 4 [51200/60000] Loss: 0.119722\n",
      "Train Epoch: 4 [57600/60000] Loss: 0.002480\n",
      "\n",
      "Test set: Average loss: 0.0004, Accuracy: 9905/10000 (99.05%)\n",
      "\n",
      "Train Epoch: 5 [0/60000] Loss: 0.046421\n",
      "Train Epoch: 5 [6400/60000] Loss: 0.017639\n",
      "Train Epoch: 5 [12800/60000] Loss: 0.014149\n",
      "Train Epoch: 5 [19200/60000] Loss: 0.070688\n",
      "Train Epoch: 5 [25600/60000] Loss: 0.037091\n",
      "Train Epoch: 5 [32000/60000] Loss: 0.104506\n",
      "Train Epoch: 5 [38400/60000] Loss: 0.099262\n",
      "Train Epoch: 5 [44800/60000] Loss: 0.061198\n",
      "Train Epoch: 5 [51200/60000] Loss: 0.008817\n",
      "Train Epoch: 5 [57600/60000] Loss: 0.010695\n",
      "\n",
      "Test set: Average loss: 0.0004, Accuracy: 9911/10000 (99.11%)\n",
      "\n"
     ]
    }
   ],
   "source": [
    "for epoch in range(1, 6):\n",
    "    train(base_model, device, mnist_train_loader, optimizer, criterion, epoch)\n",
    "    test(base_model, device, mnist_test_loader, criterion)"
   ]
  },
  {
   "cell_type": "code",
   "execution_count": 29,
   "id": "a978b0e1-ed0f-488c-87af-22382ebc4f8a",
   "metadata": {},
   "outputs": [
    {
     "data": {
      "text/plain": [
       "<All keys matched successfully>"
      ]
     },
     "execution_count": 29,
     "metadata": {},
     "output_type": "execute_result"
    }
   ],
   "source": [
    "transfer_model = CNNModel().to(device)\n",
    "transfer_model.load_state_dict(base_model.state_dict())"
   ]
  },
  {
   "cell_type": "code",
   "execution_count": 31,
   "id": "cda12e51-5464-4984-880d-8e842f9f6e54",
   "metadata": {},
   "outputs": [],
   "source": [
    "for param in transfer_model.parameters():\n",
    "    # print(param)\n",
    "    param.requires_grad = False"
   ]
  },
  {
   "cell_type": "code",
   "execution_count": 34,
   "id": "96e91d96-cfa5-4841-9c5e-49cb8380acf6",
   "metadata": {},
   "outputs": [],
   "source": [
    "transfer_model.fc2 = nn.Linear(128, 10, device=device)\n",
    "transfer_model.fc2.requires_grad = True"
   ]
  },
  {
   "cell_type": "code",
   "execution_count": null,
   "id": "d871196a-b584-499f-9357-2af59a1fb9a6",
   "metadata": {},
   "outputs": [
    {
     "name": "stdout",
     "output_type": "stream",
     "text": [
      "Train Epoch: 1 [0/60000] Loss: 2.631480\n",
      "Train Epoch: 1 [6400/60000] Loss: 1.386769\n",
      "Train Epoch: 1 [12800/60000] Loss: 1.131358\n",
      "Train Epoch: 1 [19200/60000] Loss: 1.324272\n",
      "Train Epoch: 1 [25600/60000] Loss: 0.970456\n",
      "Train Epoch: 1 [32000/60000] Loss: 1.211585\n",
      "Train Epoch: 1 [38400/60000] Loss: 1.112245\n",
      "Train Epoch: 1 [44800/60000] Loss: 1.074822\n",
      "Train Epoch: 1 [51200/60000] Loss: 1.256624\n",
      "Train Epoch: 1 [57600/60000] Loss: 1.088293\n",
      "\n",
      "Test set: Average loss: 0.0153, Accuracy: 6852/10000 (68.52%)\n",
      "\n",
      "Train Epoch: 2 [0/60000] Loss: 0.893758\n",
      "Train Epoch: 2 [6400/60000] Loss: 1.107784\n",
      "Train Epoch: 2 [12800/60000] Loss: 1.112038\n",
      "Train Epoch: 2 [19200/60000] Loss: 1.207096\n",
      "Train Epoch: 2 [25600/60000] Loss: 0.996716\n",
      "Train Epoch: 2 [32000/60000] Loss: 0.967878\n",
      "Train Epoch: 2 [38400/60000] Loss: 1.060265\n",
      "Train Epoch: 2 [44800/60000] Loss: 1.056669\n",
      "Train Epoch: 2 [51200/60000] Loss: 1.119566\n",
      "Train Epoch: 2 [57600/60000] Loss: 1.296211\n",
      "\n",
      "Test set: Average loss: 0.0145, Accuracy: 6984/10000 (69.84%)\n",
      "\n",
      "Train Epoch: 3 [0/60000] Loss: 0.989445\n",
      "Train Epoch: 3 [6400/60000] Loss: 0.921946\n",
      "Train Epoch: 3 [12800/60000] Loss: 0.917456\n",
      "Train Epoch: 3 [19200/60000] Loss: 1.124455\n",
      "Train Epoch: 3 [25600/60000] Loss: 1.412250\n",
      "Train Epoch: 3 [32000/60000] Loss: 1.195006\n",
      "Train Epoch: 3 [38400/60000] Loss: 0.932100\n",
      "Train Epoch: 3 [44800/60000] Loss: 1.069095\n",
      "Train Epoch: 3 [51200/60000] Loss: 0.989817\n",
      "Train Epoch: 3 [57600/60000] Loss: 1.105925\n",
      "\n",
      "Test set: Average loss: 0.0143, Accuracy: 6985/10000 (69.85%)\n",
      "\n",
      "Train Epoch: 4 [0/60000] Loss: 1.176192\n",
      "Train Epoch: 4 [6400/60000] Loss: 1.124177\n",
      "Train Epoch: 4 [12800/60000] Loss: 1.030968\n",
      "Train Epoch: 4 [19200/60000] Loss: 1.331551\n",
      "Train Epoch: 4 [25600/60000] Loss: 1.069659\n",
      "Train Epoch: 4 [32000/60000] Loss: 0.930640\n",
      "Train Epoch: 4 [38400/60000] Loss: 1.038912\n",
      "Train Epoch: 4 [44800/60000] Loss: 1.022467\n",
      "Train Epoch: 4 [51200/60000] Loss: 0.969537\n",
      "Train Epoch: 4 [57600/60000] Loss: 1.094155\n",
      "\n",
      "Test set: Average loss: 0.0142, Accuracy: 7021/10000 (70.21%)\n",
      "\n",
      "Train Epoch: 5 [0/60000] Loss: 1.046914\n",
      "Train Epoch: 5 [6400/60000] Loss: 1.237893\n",
      "Train Epoch: 5 [12800/60000] Loss: 1.291262\n",
      "Train Epoch: 5 [19200/60000] Loss: 1.210085\n",
      "Train Epoch: 5 [25600/60000] Loss: 1.310768\n",
      "Train Epoch: 5 [32000/60000] Loss: 1.247080\n",
      "Train Epoch: 5 [38400/60000] Loss: 0.831143\n",
      "Train Epoch: 5 [44800/60000] Loss: 0.880109\n",
      "Train Epoch: 5 [51200/60000] Loss: 1.120324\n",
      "Train Epoch: 5 [57600/60000] Loss: 1.163934\n"
     ]
    }
   ],
   "source": [
    "optimizer = torch.optim.Adam(transfer_model.fc2.parameters(), lr=0.001)\n",
    "\n",
    "for epoch in range(1, 6):\n",
    "    train(transfer_model, device, fashion_train_loader, optimizer, criterion, epoch)\n",
    "    test(transfer_model, device, fashion_test_loader, criterion)\n",
    "    \n",
    "test_accuracy = test(transfer_model, device, fashion_test_loader, criterion)\n",
    "print(f'Final Test Accuracy on Fashion MNIST: {test_accuracy:.2f}%')"
   ]
  },
  {
   "cell_type": "code",
   "execution_count": null,
   "id": "4f2e3b7b-b0da-4d76-82d2-f2c0997434ff",
   "metadata": {},
   "outputs": [],
   "source": []
  },
  {
   "cell_type": "code",
   "execution_count": null,
   "id": "c520f46e-7806-4bed-9946-e0100f3d516d",
   "metadata": {},
   "outputs": [],
   "source": []
  },
  {
   "cell_type": "code",
   "execution_count": null,
   "id": "51ccf6a4-410b-430e-b2b4-768331f3d736",
   "metadata": {},
   "outputs": [],
   "source": []
  }
 ],
 "metadata": {
  "kernelspec": {
   "display_name": "Python 3 (ipykernel)",
   "language": "python",
   "name": "python3"
  },
  "language_info": {
   "codemirror_mode": {
    "name": "ipython",
    "version": 3
   },
   "file_extension": ".py",
   "mimetype": "text/x-python",
   "name": "python",
   "nbconvert_exporter": "python",
   "pygments_lexer": "ipython3",
   "version": "3.9.19"
  }
 },
 "nbformat": 4,
 "nbformat_minor": 5
}
