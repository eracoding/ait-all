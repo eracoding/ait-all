{
 "cells": [
  {
   "cell_type": "code",
   "execution_count": 3,
   "metadata": {},
   "outputs": [],
   "source": [
    "from torchvision import datasets, transforms\n",
    "\n",
    "import torch\n",
    "import torch.nn as nn\n",
    "import torch.nn.functional as F\n",
    "from torch.autograd import Variable\n",
    "\n",
    "import numpy as np\n",
    "import matplotlib.pyplot as plt"
   ]
  },
  {
   "cell_type": "code",
   "execution_count": 5,
   "metadata": {},
   "outputs": [],
   "source": [
    "transform_train = transforms.Compose([\n",
    "    transforms.ToTensor(),\n",
    "    transforms.Normalize(0.0, 1.0)\n",
    "])\n",
    "\n",
    "mnist_train = datasets.FashionMNIST('./data', train=True, download=True, transform=transform_train)\n",
    "mnist_test = datasets.FashionMNIST('./data', train=False, download=True, transform=transform_train)"
   ]
  },
  {
   "cell_type": "code",
   "execution_count": 6,
   "metadata": {},
   "outputs": [
    {
     "name": "stdout",
     "output_type": "stream",
     "text": [
      "Label of image above: 5\n"
     ]
    },
    {
     "data": {
      "image/png": "[encoded data removed]",
      "text/plain": [
       "<Figure size 640x480 with 1 Axes>"
      ]
     },
     "metadata": {},
     "output_type": "display_data"
    },
    {
     "name": "stdout",
     "output_type": "stream",
     "text": [
      "Label of image above: 8\n"
     ]
    },
    {
     "data": {
      "image/png": "[encoded data removed]",
      "text/plain": [
       "<Figure size 640x480 with 1 Axes>"
      ]
     },
     "metadata": {},
     "output_type": "display_data"
    }
   ],
   "source": [
    "label = mnist_train[12][1]\n",
    "print('Label of image above:', label)\n",
    "img = mnist_train[12][0].numpy()\n",
    "plt.imshow(img.reshape(28, 28), cmap='gray')\n",
    "plt.show()\n",
    "\n",
    "label = mnist_train[100][1]\n",
    "print('Label of image above:', label)\n",
    "img = mnist_train[100][0].numpy()\n",
    "plt.imshow(img.reshape(28, 28), cmap='gray')\n",
    "plt.show()"
   ]
  },
  {
   "cell_type": "code",
   "execution_count": 12,
   "metadata": {},
   "outputs": [],
   "source": [
    "batch_size = 1024\n",
    "mnist_train_loader = torch.utils.data.DataLoader(mnist_train, batch_size=batch_size, shuffle=True, num_workers=1)\n",
    "mnist_valid_loader = torch.utils.data.DataLoader(mnist_test, batch_size=batch_size, shuffle=True, num_workers=1)"
   ]
  },
  {
   "cell_type": "code",
   "execution_count": 13,
   "metadata": {},
   "outputs": [
    {
     "name": "stdout",
     "output_type": "stream",
     "text": [
      "torch.Size([1024, 1, 28, 28])\n",
      "torch.Size([1024])\n"
     ]
    }
   ],
   "source": [
    "for data, label in mnist_train_loader:\n",
    "    print(data.shape)\n",
    "    print(label.shape)\n",
    "    break"
   ]
  },
  {
   "cell_type": "code",
   "execution_count": 55,
   "metadata": {},
   "outputs": [],
   "source": [
    "class MNIST_custom(nn.Module):\n",
    "    def __init__(self):\n",
    "        super().__init__()\n",
    "        # Input: 28x28x1\n",
    "        self.conv1 = nn.Conv2d(1, 12, kernel_size=5) # (28 - 5 + 0)/ 1 + 1 = 24\n",
    "        self.conv2 = nn.Conv2d(12, 24, kernel_size=5) # (22 - 5) + 1 = 20\n",
    "        \n",
    "        self.mxpool = nn.MaxPool2d(2) # 12x12x32\n",
    "\n",
    "        # Maxpooling 4x4x64\n",
    "\n",
    "        self.fc1 = nn.Linear(10 * 10 * 24, 512)\n",
    "        self.fc2 = nn.Linear(512, 10)\n",
    "\n",
    "    \n",
    "    def forward(self, x):\n",
    "        x = F.relu(self.conv1(x))\n",
    "        x = self.mxpool(F.relu(self.conv2(x)))\n",
    "\n",
    "        x = x.view(-1, 10 * 10 * 24)\n",
    "        x = F.relu(self.fc1(x))\n",
    "\n",
    "        x = self.fc2(x)\n",
    "\n",
    "        return x\n"
   ]
  },
  {
   "cell_type": "markdown",
   "metadata": {},
   "source": [
    "## Adam"
   ]
  },
  {
   "cell_type": "code",
   "execution_count": 56,
   "metadata": {},
   "outputs": [],
   "source": [
    "model = MNIST_custom()\n",
    "if torch.cuda.is_available():\n",
    "    model = model.cuda()\n",
    "\n",
    "criterion = nn.CrossEntropyLoss()\n",
    "\n",
    "learning_rate = 0.01\n",
    "optimizer = torch.optim.Adam(model.parameters(), lr=learning_rate)"
   ]
  },
  {
   "cell_type": "code",
   "execution_count": 57,
   "metadata": {},
   "outputs": [
    {
     "data": {
      "text/plain": [
       "MNIST_custom(\n",
       "  (conv1): Conv2d(1, 12, kernel_size=(5, 5), stride=(1, 1))\n",
       "  (conv2): Conv2d(12, 24, kernel_size=(5, 5), stride=(1, 1))\n",
       "  (mxpool): MaxPool2d(kernel_size=2, stride=2, padding=0, dilation=1, ceil_mode=False)\n",
       "  (fc1): Linear(in_features=2400, out_features=512, bias=True)\n",
       "  (fc2): Linear(in_features=512, out_features=10, bias=True)\n",
       ")"
      ]
     },
     "execution_count": 57,
     "metadata": {},
     "output_type": "execute_result"
    }
   ],
   "source": [
    "model"
   ]
  },
  {
   "cell_type": "code",
   "execution_count": 58,
   "metadata": {},
   "outputs": [
    {
     "name": "stdout",
     "output_type": "stream",
     "text": [
      "Epoch 1/20, Tr Loss: 0.7926, Tr Acc: 71.7983, Val Loss: 0.4162, Val Acc: 84.9500\n",
      "Epoch 2/20, Tr Loss: 0.3466, Tr Acc: 87.2117, Val Loss: 0.3394, Val Acc: 87.1800\n",
      "Epoch 3/20, Tr Loss: 0.2848, Tr Acc: 89.3433, Val Loss: 0.3177, Val Acc: 88.2300\n",
      "Epoch 4/20, Tr Loss: 0.2529, Tr Acc: 90.5850, Val Loss: 0.3027, Val Acc: 88.9700\n",
      "Epoch 5/20, Tr Loss: 0.2206, Tr Acc: 91.7767, Val Loss: 0.2759, Val Acc: 90.0500\n",
      "Epoch 6/20, Tr Loss: 0.1974, Tr Acc: 92.6717, Val Loss: 0.2859, Val Acc: 89.9000\n",
      "Epoch 7/20, Tr Loss: 0.1776, Tr Acc: 93.3717, Val Loss: 0.2873, Val Acc: 89.9300\n",
      "Epoch 8/20, Tr Loss: 0.1513, Tr Acc: 94.3717, Val Loss: 0.3094, Val Acc: 89.8600\n",
      "Epoch 9/20, Tr Loss: 0.1361, Tr Acc: 94.7983, Val Loss: 0.3197, Val Acc: 90.3400\n",
      "Epoch 10/20, Tr Loss: 0.1183, Tr Acc: 95.5933, Val Loss: 0.3339, Val Acc: 90.7400\n",
      "Epoch 11/20, Tr Loss: 0.1044, Tr Acc: 96.0833, Val Loss: 0.3341, Val Acc: 90.3900\n",
      "Epoch 12/20, Tr Loss: 0.0851, Tr Acc: 96.8283, Val Loss: 0.3831, Val Acc: 90.2700\n",
      "Epoch 13/20, Tr Loss: 0.0783, Tr Acc: 97.1217, Val Loss: 0.3799, Val Acc: 90.5400\n",
      "Epoch 14/20, Tr Loss: 0.0629, Tr Acc: 97.6767, Val Loss: 0.4122, Val Acc: 91.0000\n",
      "Epoch 15/20, Tr Loss: 0.0579, Tr Acc: 97.8083, Val Loss: 0.4405, Val Acc: 90.6800\n",
      "Epoch 16/20, Tr Loss: 0.0511, Tr Acc: 98.1750, Val Loss: 0.4898, Val Acc: 90.6900\n",
      "Epoch 17/20, Tr Loss: 0.0452, Tr Acc: 98.3367, Val Loss: 0.5122, Val Acc: 90.2800\n",
      "Epoch 18/20, Tr Loss: 0.0480, Tr Acc: 98.2417, Val Loss: 0.5158, Val Acc: 90.4800\n",
      "Epoch 19/20, Tr Loss: 0.0436, Tr Acc: 98.3350, Val Loss: 0.5513, Val Acc: 89.9100\n",
      "Epoch 20/20, Tr Loss: 0.0454, Tr Acc: 98.3600, Val Loss: 0.5804, Val Acc: 89.8600\n"
     ]
    }
   ],
   "source": [
    "num_epochs = 20\n",
    "\n",
    "train_loss = []\n",
    "valid_loss = []\n",
    "train_accuracy = []\n",
    "valid_accuracy = []\n",
    "\n",
    "for epoch in range(num_epochs):\n",
    "    \n",
    "    ############################\n",
    "    # Train\n",
    "    ############################\n",
    "    \n",
    "    iter_loss = 0.0\n",
    "    correct = 0\n",
    "    iterations = 0\n",
    "    \n",
    "    model.train()                   # Put the network into training mode\n",
    "    \n",
    "    for i, (items, classes) in enumerate(mnist_train_loader):\n",
    "        \n",
    "        # Convert torch tensor to Variable\n",
    "        items = Variable(items)\n",
    "        classes = Variable(classes)\n",
    "        \n",
    "        # If we have GPU, shift the data to GPU\n",
    "        if torch.cuda.is_available():\n",
    "            items = items.cuda()\n",
    "            classes = classes.cuda()\n",
    "        \n",
    "        optimizer.zero_grad()     # Clear off the gradients from any past operation\n",
    "        outputs = model(items)      # Do the forward pass\n",
    "        loss = criterion(outputs, classes) # Calculate the loss\n",
    "        iter_loss += loss.item() # Accumulate the loss\n",
    "        loss.backward()           # Calculate the gradients with help of back propagation\n",
    "        optimizer.step()          # Ask the optimizer to adjust the parameters based on the gradients\n",
    "        \n",
    "        # Record the correct predictions for training data \n",
    "        _, predicted = torch.max(outputs.data, 1)\n",
    "        correct += (predicted == classes.data).sum()\n",
    "        iterations += 1\n",
    "\n",
    "    # Record the training loss\n",
    "    train_loss.append(iter_loss/iterations)\n",
    "    # Record the training accuracy\n",
    "    train_accuracy.append(100 * correct.cpu() / float(len(mnist_train_loader.dataset)))\n",
    "   \n",
    "\n",
    "    ############################\n",
    "    # Validate - How did we do on the unseen dataset?\n",
    "    ############################\n",
    "    \n",
    "    loss = 0.0\n",
    "    correct = 0\n",
    "    iterations = 0\n",
    "\n",
    "    model.eval()                    # Put the network into evaluate mode\n",
    "    \n",
    "    for i, (items, classes) in enumerate(mnist_valid_loader):\n",
    "        \n",
    "        # Convert torch tensor to Variable\n",
    "        items = Variable(items)\n",
    "        classes = Variable(classes)\n",
    "        \n",
    "        # If we have GPU, shift the data to GPU\n",
    "        if torch.cuda.is_available():\n",
    "            items = items.cuda()\n",
    "            classes = classes.cuda()\n",
    "        \n",
    "        outputs = model(items)      # Do the forward pass\n",
    "        loss += criterion(outputs, classes).item() # Calculate the loss\n",
    "        \n",
    "        # Record the correct predictions for training data\n",
    "        _, predicted = torch.max(outputs.data, 1)\n",
    "        correct += (predicted == classes.data).sum()\n",
    "        \n",
    "        iterations += 1\n",
    "\n",
    "    # Record the validation loss\n",
    "    valid_loss.append(loss/iterations)\n",
    "    # Record the validation accuracy\n",
    "    correct_scalar = np.array([correct.clone().cpu()])[0]\n",
    "    valid_accuracy.append(correct_scalar / len(mnist_valid_loader.dataset) * 100.0)\n",
    "\n",
    "    print ('Epoch %d/%d, Tr Loss: %.4f, Tr Acc: %.4f, Val Loss: %.4f, Val Acc: %.4f'\n",
    "           %(epoch+1, num_epochs, train_loss[-1], train_accuracy[-1], \n",
    "             valid_loss[-1], valid_accuracy[-1]))"
   ]
  },
  {
   "cell_type": "markdown",
   "metadata": {},
   "source": [
    "## SGD"
   ]
  },
  {
   "cell_type": "code",
   "execution_count": 61,
   "metadata": {},
   "outputs": [],
   "source": [
    "model = MNIST_custom()\n",
    "if torch.cuda.is_available():\n",
    "    model = model.cuda()\n",
    "\n",
    "criterion = nn.CrossEntropyLoss()\n",
    "\n",
    "learning_rate = 0.01\n",
    "optimizer = torch.optim.SGD(model.parameters(), lr=learning_rate, momentum=0.9)"
   ]
  },
  {
   "cell_type": "code",
   "execution_count": 62,
   "metadata": {},
   "outputs": [
    {
     "name": "stdout",
     "output_type": "stream",
     "text": [
      "Epoch 1/20, Tr Loss: 1.9821, Tr Acc: 36.6967, Val Loss: 1.5405, Val Acc: 45.7200\n",
      "Epoch 2/20, Tr Loss: 0.8779, Tr Acc: 67.6633, Val Loss: 0.7150, Val Acc: 73.8500\n",
      "Epoch 3/20, Tr Loss: 0.6489, Tr Acc: 75.3800, Val Loss: 0.6254, Val Acc: 76.3500\n",
      "Epoch 4/20, Tr Loss: 0.5755, Tr Acc: 78.3417, Val Loss: 0.5673, Val Acc: 78.9800\n",
      "Epoch 5/20, Tr Loss: 0.5337, Tr Acc: 80.1683, Val Loss: 0.5380, Val Acc: 80.2500\n",
      "Epoch 6/20, Tr Loss: 0.4947, Tr Acc: 81.8167, Val Loss: 0.4991, Val Acc: 82.2000\n",
      "Epoch 7/20, Tr Loss: 0.4732, Tr Acc: 82.8050, Val Loss: 0.4830, Val Acc: 83.1700\n",
      "Epoch 8/20, Tr Loss: 0.4441, Tr Acc: 84.2350, Val Loss: 0.4635, Val Acc: 83.6600\n",
      "Epoch 9/20, Tr Loss: 0.4216, Tr Acc: 85.0367, Val Loss: 0.4395, Val Acc: 84.6100\n",
      "Epoch 10/20, Tr Loss: 0.4077, Tr Acc: 85.5000, Val Loss: 0.4317, Val Acc: 85.0000\n",
      "Epoch 11/20, Tr Loss: 0.3948, Tr Acc: 85.9367, Val Loss: 0.4419, Val Acc: 83.6900\n",
      "Epoch 12/20, Tr Loss: 0.3800, Tr Acc: 86.4350, Val Loss: 0.4095, Val Acc: 85.5100\n",
      "Epoch 13/20, Tr Loss: 0.3680, Tr Acc: 86.8183, Val Loss: 0.4047, Val Acc: 85.0300\n",
      "Epoch 14/20, Tr Loss: 0.3630, Tr Acc: 86.8583, Val Loss: 0.3981, Val Acc: 86.0400\n",
      "Epoch 15/20, Tr Loss: 0.3514, Tr Acc: 87.2983, Val Loss: 0.3788, Val Acc: 86.7900\n",
      "Epoch 16/20, Tr Loss: 0.3356, Tr Acc: 87.8417, Val Loss: 0.3785, Val Acc: 86.2000\n",
      "Epoch 17/20, Tr Loss: 0.3253, Tr Acc: 88.3400, Val Loss: 0.3590, Val Acc: 87.1600\n",
      "Epoch 18/20, Tr Loss: 0.3238, Tr Acc: 88.3900, Val Loss: 0.3706, Val Acc: 86.8400\n",
      "Epoch 19/20, Tr Loss: 0.3260, Tr Acc: 88.1300, Val Loss: 0.3623, Val Acc: 87.1700\n",
      "Epoch 20/20, Tr Loss: 0.3127, Tr Acc: 88.7067, Val Loss: 0.3586, Val Acc: 87.3400\n"
     ]
    }
   ],
   "source": [
    "num_epochs = 20\n",
    "\n",
    "train_loss = []\n",
    "valid_loss = []\n",
    "train_accuracy = []\n",
    "valid_accuracy = []\n",
    "\n",
    "for epoch in range(num_epochs):\n",
    "    \n",
    "    ############################\n",
    "    # Train\n",
    "    ############################\n",
    "    \n",
    "    iter_loss = 0.0\n",
    "    correct = 0\n",
    "    iterations = 0\n",
    "    \n",
    "    model.train()                   # Put the network into training mode\n",
    "    \n",
    "    for i, (items, classes) in enumerate(mnist_train_loader):\n",
    "        \n",
    "        # Convert torch tensor to Variable\n",
    "        items = Variable(items)\n",
    "        classes = Variable(classes)\n",
    "        \n",
    "        # If we have GPU, shift the data to GPU\n",
    "        if torch.cuda.is_available():\n",
    "            items = items.cuda()\n",
    "            classes = classes.cuda()\n",
    "        \n",
    "        optimizer.zero_grad()     # Clear off the gradients from any past operation\n",
    "        outputs = model(items)      # Do the forward pass\n",
    "        loss = criterion(outputs, classes) # Calculate the loss\n",
    "        iter_loss += loss.item() # Accumulate the loss\n",
    "        loss.backward()           # Calculate the gradients with help of back propagation\n",
    "        optimizer.step()          # Ask the optimizer to adjust the parameters based on the gradients\n",
    "        \n",
    "        # Record the correct predictions for training data \n",
    "        _, predicted = torch.max(outputs.data, 1)\n",
    "        correct += (predicted == classes.data).sum()\n",
    "        iterations += 1\n",
    "\n",
    "    # Record the training loss\n",
    "    train_loss.append(iter_loss/iterations)\n",
    "    # Record the training accuracy\n",
    "    train_accuracy.append(100 * correct.cpu() / float(len(mnist_train_loader.dataset)))\n",
    "   \n",
    "\n",
    "    ############################\n",
    "    # Validate - How did we do on the unseen dataset?\n",
    "    ############################\n",
    "    \n",
    "    loss = 0.0\n",
    "    correct = 0\n",
    "    iterations = 0\n",
    "\n",
    "    model.eval()                    # Put the network into evaluate mode\n",
    "    \n",
    "    for i, (items, classes) in enumerate(mnist_valid_loader):\n",
    "        \n",
    "        # Convert torch tensor to Variable\n",
    "        items = Variable(items)\n",
    "        classes = Variable(classes)\n",
    "        \n",
    "        # If we have GPU, shift the data to GPU\n",
    "        if torch.cuda.is_available():\n",
    "            items = items.cuda()\n",
    "            classes = classes.cuda()\n",
    "        \n",
    "        outputs = model(items)      # Do the forward pass\n",
    "        loss += criterion(outputs, classes).item() # Calculate the loss\n",
    "        \n",
    "        # Record the correct predictions for training data\n",
    "        _, predicted = torch.max(outputs.data, 1)\n",
    "        correct += (predicted == classes.data).sum()\n",
    "        \n",
    "        iterations += 1\n",
    "\n",
    "    # Record the validation loss\n",
    "    valid_loss.append(loss/iterations)\n",
    "    # Record the validation accuracy\n",
    "    correct_scalar = np.array([correct.clone().cpu()])[0]\n",
    "    valid_accuracy.append(correct_scalar / len(mnist_valid_loader.dataset) * 100.0)\n",
    "\n",
    "    print ('Epoch %d/%d, Tr Loss: %.4f, Tr Acc: %.4f, Val Loss: %.4f, Val Acc: %.4f'\n",
    "           %(epoch+1, num_epochs, train_loss[-1], train_accuracy[-1], \n",
    "             valid_loss[-1], valid_accuracy[-1]))"
   ]
  },
  {
   "cell_type": "markdown",
   "metadata": {},
   "source": [
    "## RMSprop"
   ]
  },
  {
   "cell_type": "code",
   "execution_count": 64,
   "metadata": {},
   "outputs": [],
   "source": [
    "model = MNIST_custom()\n",
    "if torch.cuda.is_available():\n",
    "    model = model.cuda()\n",
    "\n",
    "criterion = nn.CrossEntropyLoss()\n",
    "\n",
    "learning_rate = 0.01\n",
    "optimizer = torch.optim.RMSprop(model.parameters(), lr=learning_rate)"
   ]
  },
  {
   "cell_type": "code",
   "execution_count": 65,
   "metadata": {},
   "outputs": [
    {
     "name": "stdout",
     "output_type": "stream",
     "text": [
      "Epoch 1/20, Tr Loss: 91.2199, Tr Acc: 12.4567, Val Loss: 1.9677, Val Acc: 29.4300\n",
      "Epoch 2/20, Tr Loss: 1.3175, Tr Acc: 52.7917, Val Loss: 0.8371, Val Acc: 68.4800\n",
      "Epoch 3/20, Tr Loss: 0.7707, Tr Acc: 69.9850, Val Loss: 0.7374, Val Acc: 71.6200\n",
      "Epoch 4/20, Tr Loss: 0.6863, Tr Acc: 72.5900, Val Loss: 0.7115, Val Acc: 72.7200\n",
      "Epoch 5/20, Tr Loss: 0.6302, Tr Acc: 75.2233, Val Loss: 0.6588, Val Acc: 75.2300\n",
      "Epoch 6/20, Tr Loss: 0.5911, Tr Acc: 76.9583, Val Loss: 0.6747, Val Acc: 74.0500\n",
      "Epoch 7/20, Tr Loss: 0.6938, Tr Acc: 74.4333, Val Loss: 0.5876, Val Acc: 78.5500\n",
      "Epoch 8/20, Tr Loss: 0.5144, Tr Acc: 79.9533, Val Loss: 0.6008, Val Acc: 77.8600\n",
      "Epoch 9/20, Tr Loss: 0.5061, Tr Acc: 80.7350, Val Loss: 0.5942, Val Acc: 78.1200\n",
      "Epoch 10/20, Tr Loss: 0.4943, Tr Acc: 81.2533, Val Loss: 0.4995, Val Acc: 81.0900\n",
      "Epoch 11/20, Tr Loss: 0.4999, Tr Acc: 81.0900, Val Loss: 0.4704, Val Acc: 82.4100\n",
      "Epoch 12/20, Tr Loss: 0.4652, Tr Acc: 82.6783, Val Loss: 0.4886, Val Acc: 81.9800\n",
      "Epoch 13/20, Tr Loss: 1.1857, Tr Acc: 63.9500, Val Loss: 0.9649, Val Acc: 65.4100\n",
      "Epoch 14/20, Tr Loss: 0.7407, Tr Acc: 73.1950, Val Loss: 0.6489, Val Acc: 76.9000\n",
      "Epoch 15/20, Tr Loss: 0.5264, Tr Acc: 80.0667, Val Loss: 0.5375, Val Acc: 80.2400\n",
      "Epoch 16/20, Tr Loss: 0.4846, Tr Acc: 81.5933, Val Loss: 0.4964, Val Acc: 81.4100\n",
      "Epoch 17/20, Tr Loss: 0.4375, Tr Acc: 83.3717, Val Loss: 0.4770, Val Acc: 82.0900\n",
      "Epoch 18/20, Tr Loss: 0.4386, Tr Acc: 83.6567, Val Loss: 0.7177, Val Acc: 74.7500\n",
      "Epoch 19/20, Tr Loss: 0.6280, Tr Acc: 79.0550, Val Loss: 0.4417, Val Acc: 83.9500\n",
      "Epoch 20/20, Tr Loss: 0.3974, Tr Acc: 85.0583, Val Loss: 0.4263, Val Acc: 84.4200\n"
     ]
    }
   ],
   "source": [
    "num_epochs = 20\n",
    "\n",
    "train_loss = []\n",
    "valid_loss = []\n",
    "train_accuracy = []\n",
    "valid_accuracy = []\n",
    "\n",
    "for epoch in range(num_epochs):\n",
    "    \n",
    "    ############################\n",
    "    # Train\n",
    "    ############################\n",
    "    \n",
    "    iter_loss = 0.0\n",
    "    correct = 0\n",
    "    iterations = 0\n",
    "    \n",
    "    model.train()                   # Put the network into training mode\n",
    "    \n",
    "    for i, (items, classes) in enumerate(mnist_train_loader):\n",
    "        \n",
    "        # Convert torch tensor to Variable\n",
    "        items = Variable(items)\n",
    "        classes = Variable(classes)\n",
    "        \n",
    "        # If we have GPU, shift the data to GPU\n",
    "        if torch.cuda.is_available():\n",
    "            items = items.cuda()\n",
    "            classes = classes.cuda()\n",
    "        \n",
    "        optimizer.zero_grad()     # Clear off the gradients from any past operation\n",
    "        outputs = model(items)      # Do the forward pass\n",
    "        loss = criterion(outputs, classes) # Calculate the loss\n",
    "        iter_loss += loss.item() # Accumulate the loss\n",
    "        loss.backward()           # Calculate the gradients with help of back propagation\n",
    "        optimizer.step()          # Ask the optimizer to adjust the parameters based on the gradients\n",
    "        \n",
    "        # Record the correct predictions for training data \n",
    "        _, predicted = torch.max(outputs.data, 1)\n",
    "        correct += (predicted == classes.data).sum()\n",
    "        iterations += 1\n",
    "\n",
    "    # Record the training loss\n",
    "    train_loss.append(iter_loss/iterations)\n",
    "    # Record the training accuracy\n",
    "    train_accuracy.append(100 * correct.cpu() / float(len(mnist_train_loader.dataset)))\n",
    "   \n",
    "\n",
    "    ############################\n",
    "    # Validate - How did we do on the unseen dataset?\n",
    "    ############################\n",
    "    \n",
    "    loss = 0.0\n",
    "    correct = 0\n",
    "    iterations = 0\n",
    "\n",
    "    model.eval()                    # Put the network into evaluate mode\n",
    "    \n",
    "    for i, (items, classes) in enumerate(mnist_valid_loader):\n",
    "        \n",
    "        # Convert torch tensor to Variable\n",
    "        items = Variable(items)\n",
    "        classes = Variable(classes)\n",
    "        \n",
    "        # If we have GPU, shift the data to GPU\n",
    "        if torch.cuda.is_available():\n",
    "            items = items.cuda()\n",
    "            classes = classes.cuda()\n",
    "        \n",
    "        outputs = model(items)      # Do the forward pass\n",
    "        loss += criterion(outputs, classes).item() # Calculate the loss\n",
    "        \n",
    "        # Record the correct predictions for training data\n",
    "        _, predicted = torch.max(outputs.data, 1)\n",
    "        correct += (predicted == classes.data).sum()\n",
    "        \n",
    "        iterations += 1\n",
    "\n",
    "    # Record the validation loss\n",
    "    valid_loss.append(loss/iterations)\n",
    "    # Record the validation accuracy\n",
    "    correct_scalar = np.array([correct.clone().cpu()])[0]\n",
    "    valid_accuracy.append(correct_scalar / len(mnist_valid_loader.dataset) * 100.0)\n",
    "\n",
    "    print ('Epoch %d/%d, Tr Loss: %.4f, Tr Acc: %.4f, Val Loss: %.4f, Val Acc: %.4f'\n",
    "           %(epoch+1, num_epochs, train_loss[-1], train_accuracy[-1], \n",
    "             valid_loss[-1], valid_accuracy[-1]))"
   ]
  },
  {
   "cell_type": "markdown",
   "metadata": {},
   "source": [
    "### Conclusion:\n",
    "I tried to show the same architecture but with different optimization methods which clearly indicates the one that performing better - Adam.\n",
    "\n",
    "1. Adam accuracy - 98.3% training\n",
    "2. SGD accuracy - 87.8% training\n",
    "3. RMSprop accuracy - 85.1% training"
   ]
  }
 ],
 "metadata": {
  "kernelspec": {
   "display_name": "dl4cv",
   "language": "python",
   "name": "python3"
  },
  "language_info": {
   "codemirror_mode": {
    "name": "ipython",
    "version": 3
   },
   "file_extension": ".py",
   "mimetype": "text/x-python",
   "name": "python",
   "nbconvert_exporter": "python",
   "pygments_lexer": "ipython3",
   "version": "3.9.19"
  }
 },
 "nbformat": 4,
 "nbformat_minor": 2
}
