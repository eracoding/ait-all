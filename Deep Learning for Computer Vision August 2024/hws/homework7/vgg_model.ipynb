{
 "cells": [
  {
   "cell_type": "code",
   "execution_count": 13,
   "metadata": {},
   "outputs": [],
   "source": [
    "import torch\n",
    "import torch.nn as nn\n",
    "import torch.nn.functional as F\n",
    "from torch.autograd import Variable\n",
    "\n",
    "from torchvision import datasets, transforms\n",
    "\n",
    "import numpy as np\n",
    "import matplotlib.pyplot as plt"
   ]
  },
  {
   "cell_type": "code",
   "execution_count": 3,
   "metadata": {},
   "outputs": [
    {
     "name": "stdout",
     "output_type": "stream",
     "text": [
      "Downloading https://www.cs.toronto.edu/~kriz/cifar-10-python.tar.gz to ./data\\cifar-10-python.tar.gz\n"
     ]
    },
    {
     "name": "stderr",
     "output_type": "stream",
     "text": [
      "100%|██████████| 170498071/170498071 [00:41<00:00, 4074079.89it/s]\n"
     ]
    },
    {
     "name": "stdout",
     "output_type": "stream",
     "text": [
      "Extracting ./data\\cifar-10-python.tar.gz to ./data\n",
      "Files already downloaded and verified\n"
     ]
    }
   ],
   "source": [
    "transform_train = transforms.Compose([\n",
    "    transforms.RandomHorizontalFlip(),\n",
    "    transforms.RandomRotation(10),\n",
    "    transforms.ToTensor(),\n",
    "    transforms.Normalize((0.4914, 0.4822, 0.4465), (0.2023, 0.1994, 0.2010)),\n",
    "])\n",
    "\n",
    "transform_test = transforms.Compose([\n",
    "    transforms.ToTensor(),\n",
    "    transforms.Normalize((0.5, 0.5, 0.5), (0.5, 0.5, 0.5))\n",
    "])\n",
    "\n",
    "train_dataset = datasets.CIFAR10(root='./data', train=True, download=True, transform=transform_train)\n",
    "test_dataset = datasets.CIFAR10(root='./data', train=False, download=True, transform=transform_test)"
   ]
  },
  {
   "cell_type": "code",
   "execution_count": 4,
   "metadata": {},
   "outputs": [],
   "source": [
    "train, val = torch.utils.data.random_split(train_dataset, [40000, 10000])\n",
    "\n",
    "train_dataloader = torch.utils.data.DataLoader(train, batch_size=1024, shuffle=True, num_workers=2)\n",
    "val_dataloader = torch.utils.data.DataLoader(val, batch_size=1024, shuffle=False, num_workers=2)\n",
    "test_dataloader = torch.utils.data.DataLoader(test_dataset, batch_size=1024, shuffle=False, num_workers=2)"
   ]
  },
  {
   "cell_type": "code",
   "execution_count": 5,
   "metadata": {},
   "outputs": [
    {
     "name": "stdout",
     "output_type": "stream",
     "text": [
      "torch.Size([1024, 3, 32, 32])\n",
      "torch.Size([1024])\n",
      "tensor([9, 2, 5,  ..., 1, 5, 6])\n"
     ]
    }
   ],
   "source": [
    "for data, label in train_dataloader:\n",
    "    print(data.shape)\n",
    "    print(label.shape)\n",
    "    print(label)\n",
    "    break"
   ]
  },
  {
   "cell_type": "code",
   "execution_count": 15,
   "metadata": {},
   "outputs": [],
   "source": [
    "class VGG_custom(nn.Module): #VGG16\n",
    "    def __init__(self):\n",
    "        super(VGG_custom, self).__init__()\n",
    "        # 32x32x3\n",
    "        self.conv1 = nn.Conv2d(3, 64, kernel_size=3, padding=1) # 32 - 3\n",
    "        self.relu1 = nn.ReLU()\n",
    "        self.conv2 = nn.Conv2d(64, 64, kernel_size=3, padding=1)\n",
    "        self.relu2 = nn.ReLU()\n",
    "        self.max_pool1 = nn.MaxPool2d(2) # 16x16x64\n",
    "\n",
    "        self.conv3 = nn.Conv2d(64, 128, kernel_size=3, padding=1)\n",
    "        self.relu3 = nn.ReLU()\n",
    "        self.conv4 = nn.Conv2d(128, 128, kernel_size=3, padding=1)\n",
    "        self.relu4 = nn.ReLU()\n",
    "        self.max_pool2 = nn.MaxPool2d(2) # 8x8x128\n",
    "\n",
    "        self.conv5 = nn.Conv2d(128, 256, kernel_size=3, padding=1)\n",
    "        self.relu5 = nn.ReLU()\n",
    "        self.conv6 = nn.Conv2d(256, 256, kernel_size=3, padding=1)\n",
    "        self.relu6 = nn.ReLU()\n",
    "        self.max_pool3 = nn.MaxPool2d(2) # 4x4x256\n",
    "\n",
    "        self.conv7 = nn.Conv2d(256, 512, kernel_size=3, padding=1)\n",
    "        self.relu7 = nn.ReLU()\n",
    "        self.conv8 = nn.Conv2d(512, 512, kernel_size=3, padding=1)\n",
    "        self.relu8 = nn.ReLU()\n",
    "        self.conv9 = nn.Conv2d(512, 512, kernel_size=3, padding=1)\n",
    "        self.relu9 = nn.ReLU()\n",
    "        self.max_pool4 = nn.MaxPool2d(2) # 2x2x512\n",
    "\n",
    "        self.conv10 = nn.Conv2d(512, 512, kernel_size=3, padding=1)\n",
    "        self.relu10 = nn.ReLU()\n",
    "        self.conv11 = nn.Conv2d(512, 512, kernel_size=3, padding=1)\n",
    "        self.relu11 = nn.ReLU()\n",
    "        self.conv12 = nn.Conv2d(512, 512, kernel_size=3, padding=1)\n",
    "        self.relu12 = nn.ReLU()\n",
    "        self.max_pool5 = nn.MaxPool2d(2) # 1x1x512\n",
    "\n",
    "        self.fc1 = nn.Linear(512, 256)\n",
    "        self.fc2 = nn.Linear(256, 128)\n",
    "        self.fc3 = nn.Linear(128, 10)\n",
    "\n",
    "    def forward(self, x):\n",
    "        x = self.relu1(self.conv1(x))\n",
    "        x = self.max_pool1(self.relu2(self.conv2(x)))\n",
    "\n",
    "        x = self.relu3(self.conv3(x))\n",
    "        x = self.max_pool2(self.relu4(self.conv4(x)))\n",
    "\n",
    "        x = self.relu5(self.conv5(x))\n",
    "        x = self.max_pool3(self.relu6(self.conv6(x)))\n",
    "\n",
    "        x = self.relu7(self.conv7(x))\n",
    "        x = self.relu8(self.conv8(x))\n",
    "        x = self.max_pool4(self.relu9(self.conv9(x)))\n",
    "\n",
    "        x = self.relu10(self.conv10(x))\n",
    "        x = self.relu11(self.conv11(x))\n",
    "        x = self.max_pool5(self.relu12(self.conv12(x)))\n",
    "\n",
    "        x = x.view(-1, 512)\n",
    "\n",
    "        x = F.relu(self.fc1(x))\n",
    "        x = F.relu(self.fc2(x))\n",
    "        x = self.fc3(x)\n",
    "\n",
    "        return x\n",
    "\n"
   ]
  },
  {
   "cell_type": "code",
   "execution_count": 16,
   "metadata": {},
   "outputs": [],
   "source": [
    "model = VGG_custom()\n",
    "model = model.cuda()\n",
    "\n",
    "criterion = nn.CrossEntropyLoss()\n",
    "\n",
    "learning_rate = 0.01\n",
    "# optimizer = torch.optim.SGD(model.parameters(), lr=learning_rate, momentum=0.9)\n",
    "optimizer = torch.optim.Adam(model.parameters(), lr=0.001)"
   ]
  },
  {
   "cell_type": "code",
   "execution_count": 17,
   "metadata": {},
   "outputs": [
    {
     "data": {
      "text/plain": [
       "VGG_custom(\n",
       "  (conv1): Conv2d(3, 64, kernel_size=(3, 3), stride=(1, 1), padding=(1, 1))\n",
       "  (relu1): ReLU()\n",
       "  (conv2): Conv2d(64, 64, kernel_size=(3, 3), stride=(1, 1), padding=(1, 1))\n",
       "  (relu2): ReLU()\n",
       "  (max_pool1): MaxPool2d(kernel_size=2, stride=2, padding=0, dilation=1, ceil_mode=False)\n",
       "  (conv3): Conv2d(64, 128, kernel_size=(3, 3), stride=(1, 1), padding=(1, 1))\n",
       "  (relu3): ReLU()\n",
       "  (conv4): Conv2d(128, 128, kernel_size=(3, 3), stride=(1, 1), padding=(1, 1))\n",
       "  (relu4): ReLU()\n",
       "  (max_pool2): MaxPool2d(kernel_size=2, stride=2, padding=0, dilation=1, ceil_mode=False)\n",
       "  (conv5): Conv2d(128, 256, kernel_size=(3, 3), stride=(1, 1), padding=(1, 1))\n",
       "  (relu5): ReLU()\n",
       "  (conv6): Conv2d(256, 256, kernel_size=(3, 3), stride=(1, 1), padding=(1, 1))\n",
       "  (relu6): ReLU()\n",
       "  (max_pool3): MaxPool2d(kernel_size=2, stride=2, padding=0, dilation=1, ceil_mode=False)\n",
       "  (conv7): Conv2d(256, 512, kernel_size=(3, 3), stride=(1, 1), padding=(1, 1))\n",
       "  (relu7): ReLU()\n",
       "  (conv8): Conv2d(512, 512, kernel_size=(3, 3), stride=(1, 1), padding=(1, 1))\n",
       "  (relu8): ReLU()\n",
       "  (conv9): Conv2d(512, 512, kernel_size=(3, 3), stride=(1, 1), padding=(1, 1))\n",
       "  (relu9): ReLU()\n",
       "  (max_pool4): MaxPool2d(kernel_size=2, stride=2, padding=0, dilation=1, ceil_mode=False)\n",
       "  (conv10): Conv2d(512, 512, kernel_size=(3, 3), stride=(1, 1), padding=(1, 1))\n",
       "  (relu10): ReLU()\n",
       "  (conv11): Conv2d(512, 512, kernel_size=(3, 3), stride=(1, 1), padding=(1, 1))\n",
       "  (relu11): ReLU()\n",
       "  (conv12): Conv2d(512, 512, kernel_size=(3, 3), stride=(1, 1), padding=(1, 1))\n",
       "  (relu12): ReLU()\n",
       "  (max_pool5): MaxPool2d(kernel_size=2, stride=2, padding=0, dilation=1, ceil_mode=False)\n",
       "  (fc1): Linear(in_features=512, out_features=256, bias=True)\n",
       "  (fc2): Linear(in_features=256, out_features=128, bias=True)\n",
       "  (fc3): Linear(in_features=128, out_features=10, bias=True)\n",
       ")"
      ]
     },
     "execution_count": 17,
     "metadata": {},
     "output_type": "execute_result"
    }
   ],
   "source": [
    "model"
   ]
  },
  {
   "cell_type": "code",
   "execution_count": 18,
   "metadata": {},
   "outputs": [
    {
     "name": "stdout",
     "output_type": "stream",
     "text": [
      "Epoch 1/20, Tr Loss: 2.3057, Tr Acc: 9.7575, Val Loss: 2.3027, Val Acc: 10.0400\n",
      "Epoch 2/20, Tr Loss: 2.2418, Tr Acc: 13.6350, Val Loss: 2.1110, Val Acc: 17.7600\n",
      "Epoch 3/20, Tr Loss: 2.0445, Tr Acc: 19.1875, Val Loss: 1.9950, Val Acc: 22.1200\n",
      "Epoch 4/20, Tr Loss: 1.9182, Tr Acc: 22.3750, Val Loss: 1.8587, Val Acc: 23.9100\n",
      "Epoch 5/20, Tr Loss: 1.7975, Tr Acc: 27.4075, Val Loss: 1.7351, Val Acc: 30.3300\n",
      "Epoch 6/20, Tr Loss: 1.6934, Tr Acc: 33.6650, Val Loss: 1.7068, Val Acc: 34.5800\n",
      "Epoch 7/20, Tr Loss: 1.5842, Tr Acc: 39.3775, Val Loss: 1.4988, Val Acc: 41.2000\n",
      "Epoch 8/20, Tr Loss: 1.4466, Tr Acc: 44.5225, Val Loss: 1.5885, Val Acc: 42.0400\n",
      "Epoch 9/20, Tr Loss: 1.3864, Tr Acc: 47.8300, Val Loss: 1.3045, Val Acc: 51.8100\n",
      "Epoch 10/20, Tr Loss: 1.2582, Tr Acc: 52.9000, Val Loss: 1.3513, Val Acc: 51.9200\n",
      "Epoch 11/20, Tr Loss: 1.1960, Tr Acc: 56.1975, Val Loss: 1.2017, Val Acc: 56.7100\n",
      "Epoch 12/20, Tr Loss: 1.0990, Tr Acc: 59.6575, Val Loss: 1.2356, Val Acc: 56.2700\n",
      "Epoch 13/20, Tr Loss: 1.0382, Tr Acc: 62.1050, Val Loss: 1.0817, Val Acc: 61.4500\n",
      "Epoch 14/20, Tr Loss: 0.9414, Tr Acc: 66.2850, Val Loss: 1.0049, Val Acc: 64.7000\n",
      "Epoch 15/20, Tr Loss: 0.9130, Tr Acc: 67.5475, Val Loss: 1.1219, Val Acc: 63.2800\n",
      "Epoch 16/20, Tr Loss: 0.8626, Tr Acc: 69.4825, Val Loss: 1.0228, Val Acc: 65.0700\n",
      "Epoch 17/20, Tr Loss: 0.8121, Tr Acc: 71.3900, Val Loss: 1.0038, Val Acc: 65.8800\n",
      "Epoch 18/20, Tr Loss: 0.7776, Tr Acc: 72.4100, Val Loss: 0.8674, Val Acc: 70.0400\n",
      "Epoch 19/20, Tr Loss: 0.7390, Tr Acc: 73.9825, Val Loss: 0.9955, Val Acc: 66.4100\n",
      "Epoch 20/20, Tr Loss: 0.7252, Tr Acc: 74.7975, Val Loss: 0.8305, Val Acc: 71.3700\n"
     ]
    }
   ],
   "source": [
    "epochs = 20\n",
    "\n",
    "train_loss = []\n",
    "valid_loss = []\n",
    "train_accuracy = []\n",
    "valid_accuracy = []\n",
    "\n",
    "for epoch in range(epochs):\n",
    "    iter_loss = 0.0\n",
    "    correct = 0\n",
    "    iterations = 0\n",
    "\n",
    "    model.train()\n",
    "\n",
    "    for i, (items, classes) in enumerate(train_dataloader):\n",
    "        items = Variable(items)\n",
    "        classes = Variable(classes)\n",
    "\n",
    "        # \n",
    "        items = items.cuda()\n",
    "        classes = classes.cuda()\n",
    "\n",
    "        optimizer.zero_grad()\n",
    "        outputs = model(items)\n",
    "        loss = criterion(outputs, classes)\n",
    "        iter_loss += loss.item()\n",
    "        loss.backward()\n",
    "        optimizer.step()\n",
    "\n",
    "        _, predicted = torch.max(outputs.data, 1)\n",
    "        correct += (predicted == classes.data).sum()\n",
    "        iterations += 1\n",
    "    \n",
    "    train_loss.append(iter_loss/iterations)\n",
    "    # Record the training accuracy\n",
    "    train_accuracy.append(100 * correct.cpu() / float(len(train_dataloader.dataset)))\n",
    "\n",
    "    loss = 0.0\n",
    "    correct = 0\n",
    "    iterations = 0\n",
    "\n",
    "    model.eval()\n",
    "\n",
    "    for i, (items, classes) in enumerate(val_dataloader):\n",
    "        items = Variable(items)\n",
    "        classes = Variable(classes)\n",
    "\n",
    "        items = items.cuda()\n",
    "        classes = classes.cuda()\n",
    "\n",
    "        outputs = model(items)\n",
    "        loss += criterion(outputs, classes).item()\n",
    "\n",
    "        _, predicted = torch.max(outputs.data, 1)\n",
    "        correct += (predicted == classes.data).sum()\n",
    "\n",
    "        iterations += 1\n",
    "\n",
    "    valid_loss.append(loss/iterations)\n",
    "    correct_scalar = np.array([correct.clone().cpu()])[0]\n",
    "    valid_accuracy.append(correct_scalar / len(val_dataloader.dataset) * 100.0)\n",
    "\n",
    "    print ('Epoch %d/%d, Tr Loss: %.4f, Tr Acc: %.4f, Val Loss: %.4f, Val Acc: %.4f'\n",
    "           %(epoch+1, epochs, train_loss[-1], train_accuracy[-1], \n",
    "             valid_loss[-1], valid_accuracy[-1]))"
   ]
  },
  {
   "cell_type": "markdown",
   "metadata": {},
   "source": [
    "## Notes\n",
    "- We can see that it is still training, and we can proceed with more epochs (20 epoch is not enough, of course - the original VGG authors (Oxford group) were training this network for a week). I will stop here, since it is taking a lot of time - training is performed on my local laptop"
   ]
  },
  {
   "attachments": {
    "image.png": {
     "image/png": "[encoded data removed]"
    }
   },
   "cell_type": "markdown",
   "metadata": {},
   "source": [
    "![image.png](attachment:image.png)"
   ]
  }
 ],
 "metadata": {
  "kernelspec": {
   "display_name": "dl4cv",
   "language": "python",
   "name": "python3"
  },
  "language_info": {
   "codemirror_mode": {
    "name": "ipython",
    "version": 3
   },
   "file_extension": ".py",
   "mimetype": "text/x-python",
   "name": "python",
   "nbconvert_exporter": "python",
   "pygments_lexer": "ipython3",
   "version": "3.9.19"
  }
 },
 "nbformat": 4,
 "nbformat_minor": 2
}
