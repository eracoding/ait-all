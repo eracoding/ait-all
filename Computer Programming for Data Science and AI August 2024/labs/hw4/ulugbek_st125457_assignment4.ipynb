{
  "cells": [
    {
      "cell_type": "markdown",
      "metadata": {
        "id": "LkvmRV2RU-XJ"
      },
      "source": [
        "# Load the libraries (0.5 mark)"
      ]
    },
    {
      "cell_type": "code",
      "execution_count": 59,
      "metadata": {
        "id": "wFJl9G-eVDiI"
      },
      "outputs": [],
      "source": [
        "# Code here\n",
        "import pandas as pd\n",
        "import numpy as np\n",
        "import matplotlib.pyplot as plt\n",
        "\n",
        "import os"
      ]
    },
    {
      "cell_type": "markdown",
      "metadata": {
        "id": "dmEyu3kvVEnB"
      },
      "source": [
        "# Load the datasets (0.5 marks)"
      ]
    },
    {
      "cell_type": "code",
      "execution_count": 60,
      "metadata": {
        "id": "JV38u0IHVLio"
      },
      "outputs": [
        {
          "name": "stdout",
          "output_type": "stream",
          "text": [
            "customer_id                 0\n",
            "customer_unique_id          0\n",
            "customer_zip_code_prefix    0\n",
            "customer_city               0\n",
            "customer_state              0\n",
            "dtype: int64\n",
            "order_id                            0\n",
            "customer_id                         0\n",
            "order_status                        0\n",
            "order_purchase_timestamp            0\n",
            "order_approved_at                 160\n",
            "order_delivered_carrier_date     1783\n",
            "order_delivered_customer_date    2965\n",
            "order_estimated_delivery_date       0\n",
            "dtype: int64\n",
            "order_id               0\n",
            "order_item_id          0\n",
            "product_id             0\n",
            "seller_id              0\n",
            "shipping_limit_date    0\n",
            "price                  0\n",
            "freight_value          0\n",
            "dtype: int64\n",
            "review_id                      0\n",
            "order_id                       0\n",
            "review_score                   0\n",
            "review_comment_title       87656\n",
            "review_comment_message     58247\n",
            "review_creation_date           0\n",
            "review_answer_timestamp        0\n",
            "dtype: int64\n",
            "product_id                      0\n",
            "product_category_name         610\n",
            "product_name_lenght           610\n",
            "product_description_lenght    610\n",
            "product_photos_qty            610\n",
            "product_weight_g                2\n",
            "product_length_cm               2\n",
            "product_height_cm               2\n",
            "product_width_cm                2\n",
            "dtype: int64\n",
            "seller_id                 0\n",
            "seller_zip_code_prefix    0\n",
            "seller_city               0\n",
            "seller_state              0\n",
            "dtype: int64\n",
            "product_category_name            0\n",
            "product_category_name_english    0\n",
            "dtype: int64\n",
            "[(99441, 5), (99441, 8), (112650, 7), (99224, 7), (32951, 9), (3095, 4), (71, 2)]\n",
            "Index(['customer_id', 'customer_unique_id', 'customer_zip_code_prefix',\n",
            "       'customer_city', 'customer_state'],\n",
            "      dtype='object')\n",
            " Index(['order_id', 'customer_id', 'order_status', 'order_purchase_timestamp',\n",
            "       'order_approved_at', 'order_delivered_carrier_date',\n",
            "       'order_delivered_customer_date', 'order_estimated_delivery_date'],\n",
            "      dtype='object')\n",
            " Index(['order_id', 'order_item_id', 'product_id', 'seller_id',\n",
            "       'shipping_limit_date', 'price', 'freight_value'],\n",
            "      dtype='object')\n",
            " Index(['review_id', 'order_id', 'review_score', 'review_comment_title',\n",
            "       'review_comment_message', 'review_creation_date',\n",
            "       'review_answer_timestamp'],\n",
            "      dtype='object')\n",
            " Index(['product_id', 'product_category_name', 'product_name_lenght',\n",
            "       'product_description_lenght', 'product_photos_qty', 'product_weight_g',\n",
            "       'product_length_cm', 'product_height_cm', 'product_width_cm'],\n",
            "      dtype='object')\n",
            " Index(['seller_id', 'seller_zip_code_prefix', 'seller_city', 'seller_state'], dtype='object')\n",
            " Index(['product_category_name', 'product_category_name_english'], dtype='object')\n",
            "\n"
          ]
        }
      ],
      "source": [
        "# Code here\n",
        "all_data = []\n",
        "\n",
        "dir_path = '.\\datasets'\n",
        "# for file_name in [name for name in os.listdir(dir_path) if name.startswith('olist')]:\n",
        "for file_name in os.listdir(dir_path):\n",
        "    add = False\n",
        "    file = os.path.join(dir_path, file_name)\n",
        "\n",
        "    if 'product_category_name_translation' in file:\n",
        "        add = True\n",
        "\n",
        "    df = pd.read_csv(file)\n",
        "    # Testing Purposes\n",
        "    \n",
        "    # if 'olist_orders_dataset' in file:\n",
        "    #     df = df.drop(['order_delivered_customer_date', 'order_delivered_carrier_date', 'order_approved_at'], axis=1)\n",
        "    \n",
        "    # if 'reviews' in file:\n",
        "    #     df = df.drop(['review_comment_title', 'review_comment_message'], axis=1)\n",
        "\n",
        "    # if 'products' in file:\n",
        "    #     df = df.dropna(subset=['product_category_name'])\n",
        "\n",
        "    print(df.isna().sum())\n",
        "    all_data.append((add, df.copy()))\n",
        "\n",
        "\n",
        "print([data.shape for cond, data in all_data])\n",
        "print(*[f'{data.columns}\\n' for cond, data in all_data])"
      ]
    },
    {
      "cell_type": "markdown",
      "metadata": {
        "id": "mgqPuwfYVNfQ"
      },
      "source": [
        "## Merge the required datasets to get the dataset which will be used to get the requierd recommendation systems (1 marks)"
      ]
    },
    {
      "cell_type": "code",
      "execution_count": 61,
      "metadata": {
        "id": "6A_KESyLVYeP"
      },
      "outputs": [
        {
          "name": "stdout",
          "output_type": "stream",
          "text": [
            "(110750, 36)\n"
          ]
        },
        {
          "data": {
            "text/plain": [
              "Index(['customer_id', 'customer_unique_id', 'customer_zip_code_prefix',\n",
              "       'customer_city', 'customer_state', 'order_id', 'order_status',\n",
              "       'order_purchase_timestamp', 'order_approved_at',\n",
              "       'order_delivered_carrier_date', 'order_delivered_customer_date',\n",
              "       'order_estimated_delivery_date', 'order_item_id', 'product_id',\n",
              "       'seller_id', 'shipping_limit_date', 'price', 'freight_value',\n",
              "       'review_id', 'review_score', 'review_comment_title',\n",
              "       'review_comment_message', 'review_creation_date',\n",
              "       'review_answer_timestamp', 'product_category_name',\n",
              "       'product_name_lenght', 'product_description_lenght',\n",
              "       'product_photos_qty', 'product_weight_g', 'product_length_cm',\n",
              "       'product_height_cm', 'product_width_cm', 'seller_zip_code_prefix',\n",
              "       'seller_city', 'seller_state', 'product_category_name_english'],\n",
              "      dtype='object')"
            ]
          },
          "execution_count": 61,
          "metadata": {},
          "output_type": "execute_result"
        }
      ],
      "source": [
        "# Code here\n",
        "# hint: make use of appropriate key columns\n",
        "_, df_all = all_data.pop(0)\n",
        "for cond, df in all_data:\n",
        "    try:\n",
        "        if not cond:\n",
        "            df_all = pd.merge(df_all, df)\n",
        "        else:\n",
        "            df_all = pd.merge(df_all, df)# , how='left', on='product_category_name')\n",
        "    except Exception as ex:\n",
        "        pass\n",
        "\n",
        "print(df_all.shape)\n",
        "df_all.columns"
      ]
    },
    {
      "cell_type": "code",
      "execution_count": 62,
      "metadata": {},
      "outputs": [
        {
          "name": "stdout",
          "output_type": "stream",
          "text": [
            "<class 'pandas.core.frame.DataFrame'>\n",
            "RangeIndex: 110750 entries, 0 to 110749\n",
            "Data columns (total 36 columns):\n",
            " #   Column                         Non-Null Count   Dtype  \n",
            "---  ------                         --------------   -----  \n",
            " 0   customer_id                    110750 non-null  object \n",
            " 1   customer_unique_id             110750 non-null  object \n",
            " 2   customer_zip_code_prefix       110750 non-null  int64  \n",
            " 3   customer_city                  110750 non-null  object \n",
            " 4   customer_state                 110750 non-null  object \n",
            " 5   order_id                       110750 non-null  object \n",
            " 6   order_status                   110750 non-null  object \n",
            " 7   order_purchase_timestamp       110750 non-null  object \n",
            " 8   order_approved_at              110736 non-null  object \n",
            " 9   order_delivered_carrier_date   109605 non-null  object \n",
            " 10  order_delivered_customer_date  108457 non-null  object \n",
            " 11  order_estimated_delivery_date  110750 non-null  object \n",
            " 12  order_item_id                  110750 non-null  int64  \n",
            " 13  product_id                     110750 non-null  object \n",
            " 14  seller_id                      110750 non-null  object \n",
            " 15  shipping_limit_date            110750 non-null  object \n",
            " 16  price                          110750 non-null  float64\n",
            " 17  freight_value                  110750 non-null  float64\n",
            " 18  review_id                      110750 non-null  object \n",
            " 19  review_score                   110750 non-null  int64  \n",
            " 20  review_comment_title           13347 non-null   object \n",
            " 21  review_comment_message         46923 non-null   object \n",
            " 22  review_creation_date           110750 non-null  object \n",
            " 23  review_answer_timestamp        110750 non-null  object \n",
            " 24  product_category_name          110750 non-null  object \n",
            " 25  product_name_lenght            110750 non-null  float64\n",
            " 26  product_description_lenght     110750 non-null  float64\n",
            " 27  product_photos_qty             110750 non-null  float64\n",
            " 28  product_weight_g               110749 non-null  float64\n",
            " 29  product_length_cm              110749 non-null  float64\n",
            " 30  product_height_cm              110749 non-null  float64\n",
            " 31  product_width_cm               110749 non-null  float64\n",
            " 32  seller_zip_code_prefix         110750 non-null  int64  \n",
            " 33  seller_city                    110750 non-null  object \n",
            " 34  seller_state                   110750 non-null  object \n",
            " 35  product_category_name_english  110750 non-null  object \n",
            "dtypes: float64(9), int64(4), object(23)\n",
            "memory usage: 30.4+ MB\n"
          ]
        }
      ],
      "source": [
        "df_all.info()"
      ]
    },
    {
      "cell_type": "code",
      "execution_count": 63,
      "metadata": {},
      "outputs": [
        {
          "data": {
            "text/plain": [
              "review_comment_title             97403\n",
              "review_comment_message           63827\n",
              "order_delivered_customer_date     2293\n",
              "order_delivered_carrier_date      1145\n",
              "order_approved_at                   14\n",
              "product_width_cm                     1\n",
              "product_height_cm                    1\n",
              "product_length_cm                    1\n",
              "product_weight_g                     1\n",
              "seller_zip_code_prefix               0\n",
              "seller_city                          0\n",
              "seller_state                         0\n",
              "product_photos_qty                   0\n",
              "product_description_lenght           0\n",
              "product_name_lenght                  0\n",
              "product_category_name                0\n",
              "review_answer_timestamp              0\n",
              "review_creation_date                 0\n",
              "customer_id                          0\n",
              "review_id                            0\n",
              "review_score                         0\n",
              "customer_unique_id                   0\n",
              "freight_value                        0\n",
              "price                                0\n",
              "shipping_limit_date                  0\n",
              "seller_id                            0\n",
              "product_id                           0\n",
              "order_item_id                        0\n",
              "order_estimated_delivery_date        0\n",
              "order_purchase_timestamp             0\n",
              "order_status                         0\n",
              "order_id                             0\n",
              "customer_state                       0\n",
              "customer_city                        0\n",
              "customer_zip_code_prefix             0\n",
              "product_category_name_english        0\n",
              "dtype: int64"
            ]
          },
          "execution_count": 63,
          "metadata": {},
          "output_type": "execute_result"
        }
      ],
      "source": [
        "df_all.isna().sum().sort_values(ascending=False)"
      ]
    },
    {
      "cell_type": "code",
      "execution_count": 64,
      "metadata": {},
      "outputs": [],
      "source": [
        "# Data Cleaning - I am going to drop entire column of review_comment_title & review_comment_message - no need for those details in our recommendation system - we only need score\n",
        "# Same for order_delivered_customer_date, order_delivered_carrier_date, order_approved_at - no need the information regarding deliverance date and approved at\n",
        "# And we can simply dropna for left columns  \n",
        "df_all = df_all.drop(['review_comment_title', 'review_comment_message', 'order_delivered_customer_date', 'order_delivered_carrier_date', 'order_approved_at'], axis=1)\n",
        "# df = df.drop([], axis=1)\n",
        "\n",
        "df_all = df_all.dropna(subset=['product_category_name_english'])\n"
      ]
    },
    {
      "cell_type": "code",
      "execution_count": 65,
      "metadata": {},
      "outputs": [
        {
          "data": {
            "text/plain": [
              "product_width_cm                 1\n",
              "product_height_cm                1\n",
              "product_length_cm                1\n",
              "product_weight_g                 1\n",
              "customer_id                      0\n",
              "review_score                     0\n",
              "seller_state                     0\n",
              "seller_city                      0\n",
              "seller_zip_code_prefix           0\n",
              "product_photos_qty               0\n",
              "product_description_lenght       0\n",
              "product_name_lenght              0\n",
              "product_category_name            0\n",
              "review_answer_timestamp          0\n",
              "review_creation_date             0\n",
              "review_id                        0\n",
              "customer_unique_id               0\n",
              "freight_value                    0\n",
              "price                            0\n",
              "shipping_limit_date              0\n",
              "seller_id                        0\n",
              "product_id                       0\n",
              "order_item_id                    0\n",
              "order_estimated_delivery_date    0\n",
              "order_purchase_timestamp         0\n",
              "order_status                     0\n",
              "order_id                         0\n",
              "customer_state                   0\n",
              "customer_city                    0\n",
              "customer_zip_code_prefix         0\n",
              "product_category_name_english    0\n",
              "dtype: int64"
            ]
          },
          "execution_count": 65,
          "metadata": {},
          "output_type": "execute_result"
        }
      ],
      "source": [
        "df_all.isna().sum().sort_values(ascending=False)"
      ]
    },
    {
      "cell_type": "code",
      "execution_count": 66,
      "metadata": {},
      "outputs": [
        {
          "data": {
            "text/plain": [
              "(110750, 31)"
            ]
          },
          "execution_count": 66,
          "metadata": {},
          "output_type": "execute_result"
        }
      ],
      "source": [
        "df_all.shape"
      ]
    },
    {
      "cell_type": "markdown",
      "metadata": {
        "id": "p0kLyQXNVcX_"
      },
      "source": [
        "# Location Recommendation System\n",
        "### For the location Sao Paolo find the top 5 product category sold (in English name) by total order price and by order count - 5 marks"
      ]
    },
    {
      "cell_type": "markdown",
      "metadata": {
        "id": "i95d88HPWn8k"
      },
      "source": [
        "#### Top catgory with most order price for \"Sao Paolo\" -- 2.5 marks"
      ]
    },
    {
      "cell_type": "markdown",
      "metadata": {},
      "source": [
        "### Note: So the thing is, I think, ordering based on seller_city is more accurate if we are considering top products sold by city (where seller is actually located), but the customer_city might be also considered - which creates a bias. Therefore, I will have shown for both cases to meet requirements, at least."
      ]
    },
    {
      "cell_type": "code",
      "execution_count": 67,
      "metadata": {
        "id": "s21JLvUqV03s"
      },
      "outputs": [
        {
          "data": {
            "text/html": [
              "<div>\n",
              "<style scoped>\n",
              "    .dataframe tbody tr th:only-of-type {\n",
              "        vertical-align: middle;\n",
              "    }\n",
              "\n",
              "    .dataframe tbody tr th {\n",
              "        vertical-align: top;\n",
              "    }\n",
              "\n",
              "    .dataframe thead th {\n",
              "        text-align: right;\n",
              "    }\n",
              "</style>\n",
              "<table border=\"1\" class=\"dataframe\">\n",
              "  <thead>\n",
              "    <tr style=\"text-align: right;\">\n",
              "      <th></th>\n",
              "      <th>product_category_name_english</th>\n",
              "      <th>price</th>\n",
              "    </tr>\n",
              "  </thead>\n",
              "  <tbody>\n",
              "    <tr>\n",
              "      <th>43</th>\n",
              "      <td>health_beauty</td>\n",
              "      <td>188264.85</td>\n",
              "    </tr>\n",
              "    <tr>\n",
              "      <th>7</th>\n",
              "      <td>bed_bath_table</td>\n",
              "      <td>171760.02</td>\n",
              "    </tr>\n",
              "    <tr>\n",
              "      <th>69</th>\n",
              "      <td>watches_gifts</td>\n",
              "      <td>166317.45</td>\n",
              "    </tr>\n",
              "    <tr>\n",
              "      <th>15</th>\n",
              "      <td>computers_accessories</td>\n",
              "      <td>145324.36</td>\n",
              "    </tr>\n",
              "    <tr>\n",
              "      <th>64</th>\n",
              "      <td>sports_leisure</td>\n",
              "      <td>145295.92</td>\n",
              "    </tr>\n",
              "  </tbody>\n",
              "</table>\n",
              "</div>"
            ],
            "text/plain": [
              "   product_category_name_english      price\n",
              "43                 health_beauty  188264.85\n",
              "7                 bed_bath_table  171760.02\n",
              "69                 watches_gifts  166317.45\n",
              "15         computers_accessories  145324.36\n",
              "64                sports_leisure  145295.92"
            ]
          },
          "execution_count": 67,
          "metadata": {},
          "output_type": "execute_result"
        }
      ],
      "source": [
        "# # Variant 1\n",
        "# df = df_all[['seller_city', 'price', 'product_category_name_english']]\n",
        "# mask = df['seller_city'] == 'sao paulo'\n",
        "\n",
        "# df[mask].groupby('product_category_name_english').price.sum().reset_index().sort_values(by='price', ascending=False).head()\n",
        "\n",
        "# Variant 2\n",
        "df = df_all[['customer_city', 'price', 'product_category_name_english']]\n",
        "mask = df['customer_city'] == 'sao paulo'\n",
        "\n",
        "df[mask].groupby('product_category_name_english').price.sum().reset_index().sort_values(by='price', ascending=False).head()"
      ]
    },
    {
      "cell_type": "markdown",
      "metadata": {
        "id": "k50XdayRWwNr"
      },
      "source": [
        "#### Top catgory with most order number for \"Sao Paolo\" -- 2.5 marks"
      ]
    },
    {
      "cell_type": "code",
      "execution_count": 68,
      "metadata": {
        "id": "YgLqcQAbWwWq"
      },
      "outputs": [
        {
          "data": {
            "text/html": [
              "<div>\n",
              "<style scoped>\n",
              "    .dataframe tbody tr th:only-of-type {\n",
              "        vertical-align: middle;\n",
              "    }\n",
              "\n",
              "    .dataframe tbody tr th {\n",
              "        vertical-align: top;\n",
              "    }\n",
              "\n",
              "    .dataframe thead th {\n",
              "        text-align: right;\n",
              "    }\n",
              "</style>\n",
              "<table border=\"1\" class=\"dataframe\">\n",
              "  <thead>\n",
              "    <tr style=\"text-align: right;\">\n",
              "      <th></th>\n",
              "      <th>product_category_name_english</th>\n",
              "      <th>order_count</th>\n",
              "    </tr>\n",
              "  </thead>\n",
              "  <tbody>\n",
              "    <tr>\n",
              "      <th>7</th>\n",
              "      <td>bed_bath_table</td>\n",
              "      <td>2005</td>\n",
              "    </tr>\n",
              "    <tr>\n",
              "      <th>43</th>\n",
              "      <td>health_beauty</td>\n",
              "      <td>1740</td>\n",
              "    </tr>\n",
              "    <tr>\n",
              "      <th>64</th>\n",
              "      <td>sports_leisure</td>\n",
              "      <td>1404</td>\n",
              "    </tr>\n",
              "    <tr>\n",
              "      <th>49</th>\n",
              "      <td>housewares</td>\n",
              "      <td>1313</td>\n",
              "    </tr>\n",
              "    <tr>\n",
              "      <th>39</th>\n",
              "      <td>furniture_decor</td>\n",
              "      <td>1259</td>\n",
              "    </tr>\n",
              "  </tbody>\n",
              "</table>\n",
              "</div>"
            ],
            "text/plain": [
              "   product_category_name_english  order_count\n",
              "7                 bed_bath_table         2005\n",
              "43                 health_beauty         1740\n",
              "64                sports_leisure         1404\n",
              "49                    housewares         1313\n",
              "39               furniture_decor         1259"
            ]
          },
          "execution_count": 68,
          "metadata": {},
          "output_type": "execute_result"
        }
      ],
      "source": [
        "# # Variant 1\n",
        "# df = df_all[['order_id', 'seller_city', 'product_category_name_english']]\n",
        "# mask = df['seller_city'] == 'sao paulo'\n",
        "\n",
        "# df[mask].groupby('product_category_name_english').order_id.count().reset_index(name='order_count').sort_values(by='order_count', ascending=False).head()\n",
        "\n",
        "# Variant 2\n",
        "df = df_all[['order_id', 'customer_city', 'product_category_name_english']]\n",
        "mask = df['customer_city'] == 'sao paulo'\n",
        "\n",
        "df[mask].groupby('product_category_name_english').size().reset_index(name='order_count').sort_values(by='order_count', ascending=False).head()"
      ]
    },
    {
      "cell_type": "markdown",
      "metadata": {
        "id": "6340Xoq7V2D7"
      },
      "source": [
        "# Product Category Recommendation System\n",
        "### For the category \"Electronics\" find the top 5 city where the product is most sold based on price and orde count - 5 marks"
      ]
    },
    {
      "cell_type": "markdown",
      "metadata": {
        "id": "U1ExCcSVW0nr"
      },
      "source": [
        "#### Top city by order count -- 2.5 marks"
      ]
    },
    {
      "cell_type": "code",
      "execution_count": 69,
      "metadata": {
        "id": "xoPn-La5WL20"
      },
      "outputs": [
        {
          "data": {
            "text/html": [
              "<div>\n",
              "<style scoped>\n",
              "    .dataframe tbody tr th:only-of-type {\n",
              "        vertical-align: middle;\n",
              "    }\n",
              "\n",
              "    .dataframe tbody tr th {\n",
              "        vertical-align: top;\n",
              "    }\n",
              "\n",
              "    .dataframe thead th {\n",
              "        text-align: right;\n",
              "    }\n",
              "</style>\n",
              "<table border=\"1\" class=\"dataframe\">\n",
              "  <thead>\n",
              "    <tr style=\"text-align: right;\">\n",
              "      <th></th>\n",
              "      <th>customer_city</th>\n",
              "      <th>order_count</th>\n",
              "    </tr>\n",
              "  </thead>\n",
              "  <tbody>\n",
              "    <tr>\n",
              "      <th>651</th>\n",
              "      <td>sao paulo</td>\n",
              "      <td>355</td>\n",
              "    </tr>\n",
              "    <tr>\n",
              "      <th>576</th>\n",
              "      <td>rio de janeiro</td>\n",
              "      <td>241</td>\n",
              "    </tr>\n",
              "    <tr>\n",
              "      <th>67</th>\n",
              "      <td>belo horizonte</td>\n",
              "      <td>66</td>\n",
              "    </tr>\n",
              "    <tr>\n",
              "      <th>87</th>\n",
              "      <td>brasilia</td>\n",
              "      <td>51</td>\n",
              "    </tr>\n",
              "    <tr>\n",
              "      <th>590</th>\n",
              "      <td>salvador</td>\n",
              "      <td>50</td>\n",
              "    </tr>\n",
              "  </tbody>\n",
              "</table>\n",
              "</div>"
            ],
            "text/plain": [
              "      customer_city  order_count\n",
              "651       sao paulo          355\n",
              "576  rio de janeiro          241\n",
              "67   belo horizonte           66\n",
              "87         brasilia           51\n",
              "590        salvador           50"
            ]
          },
          "execution_count": 69,
          "metadata": {},
          "output_type": "execute_result"
        }
      ],
      "source": [
        "# # Variant 1\n",
        "# df = df_all[['order_id', 'seller_city', 'product_category_name_english']]\n",
        "# mask = df['product_category_name_english'] == 'electronics'\n",
        "\n",
        "# df[mask].groupby('seller_city').order_id.count().reset_index(name='order_count').sort_values(by='order_count', ascending=False).head()\n",
        "\n",
        "# Variant 2\n",
        "df = df_all[['order_id', 'customer_city', 'product_category_name_english']]\n",
        "mask = df['product_category_name_english'] == 'electronics'\n",
        "\n",
        "df[mask].groupby('customer_city').order_id.count().reset_index(name='order_count').sort_values(by='order_count', ascending=False).head()"
      ]
    },
    {
      "cell_type": "markdown",
      "metadata": {
        "id": "I07ECkQNW-UN"
      },
      "source": [
        "#### Top city by order price -- 2.5 marks"
      ]
    },
    {
      "cell_type": "code",
      "execution_count": 70,
      "metadata": {
        "id": "QLKkvcaBW-hU"
      },
      "outputs": [
        {
          "data": {
            "text/html": [
              "<div>\n",
              "<style scoped>\n",
              "    .dataframe tbody tr th:only-of-type {\n",
              "        vertical-align: middle;\n",
              "    }\n",
              "\n",
              "    .dataframe tbody tr th {\n",
              "        vertical-align: top;\n",
              "    }\n",
              "\n",
              "    .dataframe thead th {\n",
              "        text-align: right;\n",
              "    }\n",
              "</style>\n",
              "<table border=\"1\" class=\"dataframe\">\n",
              "  <thead>\n",
              "    <tr style=\"text-align: right;\">\n",
              "      <th></th>\n",
              "      <th>customer_city</th>\n",
              "      <th>price</th>\n",
              "    </tr>\n",
              "  </thead>\n",
              "  <tbody>\n",
              "    <tr>\n",
              "      <th>651</th>\n",
              "      <td>sao paulo</td>\n",
              "      <td>18628.92</td>\n",
              "    </tr>\n",
              "    <tr>\n",
              "      <th>576</th>\n",
              "      <td>rio de janeiro</td>\n",
              "      <td>14612.11</td>\n",
              "    </tr>\n",
              "    <tr>\n",
              "      <th>67</th>\n",
              "      <td>belo horizonte</td>\n",
              "      <td>3874.00</td>\n",
              "    </tr>\n",
              "    <tr>\n",
              "      <th>597</th>\n",
              "      <td>santa luzia</td>\n",
              "      <td>2638.38</td>\n",
              "    </tr>\n",
              "    <tr>\n",
              "      <th>613</th>\n",
              "      <td>santo antonio de posse</td>\n",
              "      <td>2484.15</td>\n",
              "    </tr>\n",
              "  </tbody>\n",
              "</table>\n",
              "</div>"
            ],
            "text/plain": [
              "              customer_city     price\n",
              "651               sao paulo  18628.92\n",
              "576          rio de janeiro  14612.11\n",
              "67           belo horizonte   3874.00\n",
              "597             santa luzia   2638.38\n",
              "613  santo antonio de posse   2484.15"
            ]
          },
          "execution_count": 70,
          "metadata": {},
          "output_type": "execute_result"
        }
      ],
      "source": [
        "# Variant 1\n",
        "# df = df_all[['seller_city', 'price', 'product_category_name_english']]\n",
        "# mask = df['product_category_name_english'] == 'electronics'\n",
        "\n",
        "# df[mask].groupby('seller_city').price.sum().reset_index().sort_values(by='price', ascending=False).head()\n",
        "\n",
        "# Variant 2\n",
        "df = df_all[['customer_city', 'price', 'product_category_name_english']]\n",
        "mask = df['product_category_name_english'] == 'electronics'\n",
        "\n",
        "df[mask].groupby('customer_city').price.sum().reset_index().sort_values(by='price', ascending=False).head()"
      ]
    },
    {
      "cell_type": "markdown",
      "metadata": {
        "id": "zmRa6LOhWLBb"
      },
      "source": [
        "# Review Monitoring System -- 8 marks\n",
        "### Find the top reviewed categories -- 4 marks"
      ]
    },
    {
      "cell_type": "code",
      "execution_count": 71,
      "metadata": {
        "id": "0TPmGIFrWamb"
      },
      "outputs": [
        {
          "data": {
            "text/html": [
              "<div>\n",
              "<style scoped>\n",
              "    .dataframe tbody tr th:only-of-type {\n",
              "        vertical-align: middle;\n",
              "    }\n",
              "\n",
              "    .dataframe tbody tr th {\n",
              "        vertical-align: top;\n",
              "    }\n",
              "\n",
              "    .dataframe thead th {\n",
              "        text-align: right;\n",
              "    }\n",
              "</style>\n",
              "<table border=\"1\" class=\"dataframe\">\n",
              "  <thead>\n",
              "    <tr style=\"text-align: right;\">\n",
              "      <th></th>\n",
              "      <th>product_category_name_english</th>\n",
              "      <th>top_reviews</th>\n",
              "    </tr>\n",
              "  </thead>\n",
              "  <tbody>\n",
              "    <tr>\n",
              "      <th>11</th>\n",
              "      <td>cds_dvds_musicals</td>\n",
              "      <td>4.642857</td>\n",
              "    </tr>\n",
              "    <tr>\n",
              "      <th>29</th>\n",
              "      <td>fashion_childrens_clothes</td>\n",
              "      <td>4.500000</td>\n",
              "    </tr>\n",
              "    <tr>\n",
              "      <th>8</th>\n",
              "      <td>books_general_interest</td>\n",
              "      <td>4.446266</td>\n",
              "    </tr>\n",
              "    <tr>\n",
              "      <th>22</th>\n",
              "      <td>costruction_tools_tools</td>\n",
              "      <td>4.444444</td>\n",
              "    </tr>\n",
              "    <tr>\n",
              "      <th>35</th>\n",
              "      <td>flowers</td>\n",
              "      <td>4.419355</td>\n",
              "    </tr>\n",
              "  </tbody>\n",
              "</table>\n",
              "</div>"
            ],
            "text/plain": [
              "   product_category_name_english  top_reviews\n",
              "11             cds_dvds_musicals     4.642857\n",
              "29     fashion_childrens_clothes     4.500000\n",
              "8         books_general_interest     4.446266\n",
              "22       costruction_tools_tools     4.444444\n",
              "35                       flowers     4.419355"
            ]
          },
          "execution_count": 71,
          "metadata": {},
          "output_type": "execute_result"
        }
      ],
      "source": [
        "# Code here\n",
        "# hint: use mean\n",
        "df_review = df_all[['product_category_name_english', 'review_score']]\n",
        "\n",
        "df_review.groupby('product_category_name_english').review_score.mean().reset_index(name='top_reviews').sort_values(by='top_reviews', ascending=False).head()"
      ]
    },
    {
      "cell_type": "markdown",
      "metadata": {
        "id": "o4FiU5mtWbGC"
      },
      "source": [
        "### Find the customers who has given the most and least number of reviews -- 4 marks"
      ]
    },
    {
      "cell_type": "code",
      "execution_count": 72,
      "metadata": {
        "id": "TBSfyxS8Win6"
      },
      "outputs": [
        {
          "name": "stdout",
          "output_type": "stream",
          "text": [
            "The most reviews:  c8460e4251689ba205045f3ea17884a1 24 \n",
            "The least reviews:  a1a0841d89f84138975671f3d0c5842e 1\n"
          ]
        }
      ],
      "source": [
        "# Code here\n",
        "df = df_all[['customer_unique_id', 'review_id']]\n",
        "\n",
        "review_counts = df.groupby('customer_unique_id').review_id.count().reset_index(name='review_count').sort_values(by='review_count', ascending=False)\n",
        "\n",
        "print(\"The most reviews: \", *review_counts.loc[review_counts.review_count.idxmax()], \"\\nThe least reviews: \", *review_counts.loc[review_counts.review_count.idxmin()])"
      ]
    }
  ],
  "metadata": {
    "colab": {
      "provenance": []
    },
    "kernelspec": {
      "display_name": "Python 3",
      "name": "python3"
    },
    "language_info": {
      "codemirror_mode": {
        "name": "ipython",
        "version": 3
      },
      "file_extension": ".py",
      "mimetype": "text/x-python",
      "name": "python",
      "nbconvert_exporter": "python",
      "pygments_lexer": "ipython3",
      "version": "3.9.19"
    }
  },
  "nbformat": 4,
  "nbformat_minor": 0
}
