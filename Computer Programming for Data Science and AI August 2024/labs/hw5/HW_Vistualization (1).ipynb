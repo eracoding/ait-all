{
  "cells": [
    {
      "cell_type": "markdown",
      "metadata": {
        "id": "SfsCsy-h3ViX"
      },
      "source": [
        "##### Data Source: https://www.kaggle.com/datasets/manchunhui/world-development-indicators"
      ]
    },
    {
      "cell_type": "markdown",
      "metadata": {
        "id": "RtMHNtPO3ViY"
      },
      "source": [
        "<h1 style=\"font-size:2em;color:blue\">Visualization Assignement</h1>"
      ]
    },
    {
      "cell_type": "markdown",
      "metadata": {
        "id": "GfnBbUH33ViZ"
      },
      "source": [
        "<center><h1 style=\"font-size:2em;color:#2467C0\">World Development Indicators</h1></center>\n",
        "<table>\n",
        "<col width=\"550\">\n",
        "<col width=\"450\">\n",
        "<tr>\n",
        "<td><img src=\"https://upload.wikimedia.org/wikipedia/commons/6/6d/Global_North_and_Global_South.svg\" align=\"middle\" style=\"width:550px;height:360px;\"/></td>\n",
        "<td>\n",
        "This week, we will be using an open dataset from <a href=\"https://www.kaggle.com\">Kaggle</a>. It is  <a href=\"https://www.kaggle.com/datasets/manchunhui/world-development-indicators\">The World Development Indicators</a> dataset obtained from the World Bank containing over a thousand annual indicators of economic development from hundreds of countries around the world.\n",
        "<br>\n",
        "<br>\n",
        "This is a slightly modified version of the original dataset from <a href=\"http://data.worldbank.org/data-catalog/world-development-indicators\">The World Bank</a>\n",
        "<br>\n",
        "<br>\n",
        "List of the <a href=\"https://www.kaggle.com/benhamner/d/worldbank/world-development-indicators/indicators-in-data\">available indicators</a> and a <a href=\"https://www.kaggle.com/benhamner/d/worldbank/world-development-indicators/countries-in-the-wdi-data\">list of the available countries</a>.\n",
        "</td>\n",
        "</tr>\n",
        "</table>"
      ]
    },
    {
      "cell_type": "code",
      "execution_count": null,
      "metadata": {
        "id": "7iJ0wLxrfA2o"
      },
      "outputs": [],
      "source": [
        "# The dataset is very large.\n",
        "#We need to save the dataset in the google drive and mount to google drive to our notebook.\n"
      ]
    },
    {
      "cell_type": "markdown",
      "metadata": {
        "id": "gnQ99Sgegb53"
      },
      "source": [
        "The dataset shown in the below figure."
      ]
    },
    {
      "cell_type": "markdown",
      "metadata": {
        "id": "tl1hIuhg3Via"
      },
      "source": [
        "## Q0 Initial exploration of the Dataset"
      ]
    },
    {
      "cell_type": "code",
      "execution_count": 1,
      "metadata": {
        "id": "YqTog9JH3Vib"
      },
      "outputs": [],
      "source": [
        "%matplotlib inline\n",
        "import pandas as pd\n",
        "import numpy as np\n",
        "import matplotlib.pyplot as plt\n",
        "import matplotlib"
      ]
    },
    {
      "cell_type": "code",
      "execution_count": 2,
      "metadata": {
        "id": "9976RQrEkCdh"
      },
      "outputs": [
        {
          "name": "stdout",
          "output_type": "stream",
          "text": [
            "matplotlib version : 3.9.2\n",
            "pandas version : 2.2.2\n",
            "numpy version : 1.23.3\n"
          ]
        }
      ],
      "source": [
        "#version of libs\n",
        "print(\"matplotlib version : {0}\".format(matplotlib.__version__))\n",
        "print(\"pandas version : {0}\".format(pd.__version__))\n",
        "print(\"numpy version : {0}\".format(np.__version__))"
      ]
    },
    {
      "cell_type": "markdown",
      "metadata": {
        "id": "Buhn8yivbvXj"
      },
      "source": []
    },
    {
      "cell_type": "code",
      "execution_count": null,
      "metadata": {
        "id": "Z1MQpk9c3Vii"
      },
      "outputs": [],
      "source": [
        "#Show a number of rows and columns for WDIData_T.csv dataset\n",
        "#---------------------------------------------\n"
      ]
    },
    {
      "cell_type": "markdown",
      "metadata": {
        "id": "TzBdtv3w3Vim"
      },
      "source": [
        "This is a really large dataset, at least in terms of the number of rows. Explain the meaning of data for each column."
      ]
    },
    {
      "cell_type": "code",
      "execution_count": null,
      "metadata": {
        "id": "iUH0cEeSaxup"
      },
      "outputs": [],
      "source": [
        "#Explain\n",
        "#-----------------------------------------------\n"
      ]
    },
    {
      "cell_type": "markdown",
      "metadata": {
        "id": "ZcqAJaQB3Viq"
      },
      "source": [
        "Looks like it has different indicators for different countries with the year and value of the indicator."
      ]
    },
    {
      "cell_type": "markdown",
      "metadata": {
        "id": "f5BAEpaf3Vir"
      },
      "source": [
        "### Q1 How many UNIQUE country names are there ?"
      ]
    },
    {
      "cell_type": "code",
      "execution_count": null,
      "metadata": {
        "id": "DwYDrEm23Vis"
      },
      "outputs": [],
      "source": [
        "#----Write your code here-------------------------\n",
        "\n"
      ]
    },
    {
      "cell_type": "markdown",
      "metadata": {
        "id": "bVEXir6V3Vix"
      },
      "source": [
        "### Q2 How many UNIQUE country codes are there ?"
      ]
    },
    {
      "cell_type": "code",
      "execution_count": null,
      "metadata": {
        "id": "oE8Z_hiu3Viy"
      },
      "outputs": [],
      "source": [
        "# How many unique country codes are there ? (should be the same #)\n",
        "#Write your code here----------------------\n"
      ]
    },
    {
      "cell_type": "markdown",
      "metadata": {
        "id": "26a3TAiV3Vi2"
      },
      "source": [
        "### Q3 How many unique indicators are there ?"
      ]
    },
    {
      "cell_type": "code",
      "execution_count": null,
      "metadata": {
        "id": "jr7tx45o3Vi2"
      },
      "outputs": [],
      "source": [
        "# How many unique indicators are there ? (should be the same #)\n",
        "#Write your code here---------------------\n",
        "\n"
      ]
    },
    {
      "cell_type": "markdown",
      "metadata": {
        "id": "Q6is_OUI3Vi7"
      },
      "source": [
        "### Q4 How many years of data do we have ?"
      ]
    },
    {
      "cell_type": "code",
      "execution_count": null,
      "metadata": {
        "id": "AHbBuwBE3Vi7"
      },
      "outputs": [],
      "source": [
        "# How many years of data do we have ?\n",
        "#------------\n"
      ]
    },
    {
      "cell_type": "markdown",
      "metadata": {
        "id": "478SsnvI3Vi-"
      },
      "source": [
        "### Q5 What's the range of years?\n"
      ]
    },
    {
      "cell_type": "code",
      "execution_count": null,
      "metadata": {
        "id": "bT3sSePI3Vi-"
      },
      "outputs": [],
      "source": [
        "#Write your code here------------\n",
        "\n"
      ]
    },
    {
      "cell_type": "markdown",
      "metadata": {
        "id": "8C4Q6-Zc3VjB"
      },
      "source": [
        "### Q6. Lets pick a country and an indicator to explore: CO2 Emissions per capita and the USA. Write a code to show CO2 emissions per capita from USA (Show only 5 records)"
      ]
    },
    {
      "cell_type": "code",
      "execution_count": null,
      "metadata": {
        "id": "oEBX363L3VjB"
      },
      "outputs": [],
      "source": [
        "#Write a code to show CO2 emissions per capita from USA (Show only 5 records)\n",
        "#-----------------------------------\n"
      ]
    },
    {
      "cell_type": "markdown",
      "metadata": {
        "id": "uokbtzTN3VjJ"
      },
      "source": [
        "### Q7 Let's see how emissions have changed over time using MatplotLib. Use visualization to show how CO2 Emission in USA have changed over time.\n"
      ]
    },
    {
      "cell_type": "code",
      "execution_count": null,
      "metadata": {
        "id": "6IphVJXB3VjJ"
      },
      "outputs": [],
      "source": [
        "#Use visualization to show how CO2 Emission in USA have changed over time.\n",
        "#----------------------------------\n"
      ]
    },
    {
      "cell_type": "markdown",
      "metadata": {
        "id": "YDDod36v3VjW"
      },
      "source": [
        "Expected Output:<br/>\n",
        "![hw3_pic1.png](data:image/png;base64,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)"
      ]
    },
    {
      "cell_type": "markdown",
      "metadata": {
        "id": "oRsIFw6w3VjX"
      },
      "source": [
        "### Q8. Turns out emissions per capita have dropped a bit over time, but let's make this graphic a bit more appealing before we continue to explore it. Show the CO2 emissions in USA using line plot."
      ]
    },
    {
      "cell_type": "code",
      "execution_count": null,
      "metadata": {
        "id": "Bmpnz5JW3VjX"
      },
      "outputs": [],
      "source": [
        "#Show the CO2 emissions in USA using line plot\n",
        "#---------------------------------\n"
      ]
    },
    {
      "cell_type": "markdown",
      "metadata": {
        "id": "9Wo_Bm1l3Vja"
      },
      "source": [
        "Guideline:<br/>\n",
        "![hw3_pic2.png](data:image/png;base64,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)"
      ]
    },
    {
      "cell_type": "markdown",
      "metadata": {
        "id": "PdcHRvcW3Vjb"
      },
      "source": [
        "### Q9 Use Histograms to explore the distribution of values\n",
        "We could also visualize this data as a histogram to better explore the ranges of values in CO2 production per year. Write code to show the histogram of CO2 emission from USA"
      ]
    },
    {
      "cell_type": "code",
      "execution_count": null,
      "metadata": {
        "id": "t8cJ62qg3Vjc"
      },
      "outputs": [],
      "source": [
        "#Write code to show the histogram of CO2 emission from USA\n",
        "#-------------------------------------------\n"
      ]
    },
    {
      "cell_type": "markdown",
      "metadata": {
        "id": "12rmbaDE3Vjk"
      },
      "source": [
        "Expected Result:<br/>\n",
        "![hw3_pic3.png](data:image/png;base64,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)"
      ]
    },
    {
      "cell_type": "markdown",
      "metadata": {
        "id": "sQA2TW9j3Vjk"
      },
      "source": [
        "So the USA has many years where it produced between 19-20 metric tons per capita with outliers on either side."
      ]
    },
    {
      "cell_type": "markdown",
      "metadata": {
        "id": "uN-W6M043Vjl"
      },
      "source": [
        "### Q10. Use visualization to compare the USA's CO2 emission  to those from other countries in 2011?"
      ]
    },
    {
      "cell_type": "code",
      "execution_count": null,
      "metadata": {
        "id": "JWBLH4Mm3Vjm"
      },
      "outputs": [],
      "source": [
        "#Write your code here\n",
        "#---------------------------------------\n"
      ]
    },
    {
      "cell_type": "markdown",
      "metadata": {
        "id": "6a337zvX3Vjo"
      },
      "source": [
        "For how many countries do we have CO2 per capita emissions data in 2011"
      ]
    },
    {
      "cell_type": "code",
      "execution_count": null,
      "metadata": {
        "id": "ZbUWl_ywmI9O"
      },
      "outputs": [],
      "source": [
        "#Write your code here---"
      ]
    },
    {
      "cell_type": "code",
      "execution_count": null,
      "metadata": {
        "id": "4auhhTO-3Vjs"
      },
      "outputs": [],
      "source": [
        "# let's plot a histogram of the emissions per capita by country\n",
        "\n"
      ]
    },
    {
      "cell_type": "markdown",
      "metadata": {
        "id": "GcjnCAyt3Vjv"
      },
      "source": [
        "Expected Result:<br/>\n",
        "![hw3_pic4.png](data:image/png;base64,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)"
      ]
    },
    {
      "cell_type": "markdown",
      "metadata": {
        "id": "iFbY0yOK3Vjw"
      },
      "source": [
        "So the USA, at ~18 CO2 emissions (metric tons per capital) is quite high among all countries.\n",
        "\n",
        "An interesting next step, which we'll save for you, would be to explore how this relates to other industrialized nations and to look at the outliers with those values in the 40s!"
      ]
    },
    {
      "cell_type": "markdown",
      "metadata": {
        "id": "LfCU5slT3Vjw"
      },
      "source": [
        "### Q11. Show a plot of GDP per capita of USA over time"
      ]
    },
    {
      "cell_type": "code",
      "execution_count": null,
      "metadata": {
        "id": "Xx3SgBgB3Vjx"
      },
      "outputs": [],
      "source": [
        "#Write your code here: hist_indicator = 'GDP per capita \\(constant 2010'\n",
        "#------------------------------------------\n"
      ]
    },
    {
      "cell_type": "markdown",
      "metadata": {
        "id": "wlBHpPHl3VkB"
      },
      "source": [
        "Expected Result:<br/>\n",
        "![hw3_pic5.png](data:image/png;base64,iVBORw0KGgoAAAANSUhEUgAAAZQAAAEWCAYAAABBvWFzAAAAAXNSR0IArs4c6QAAAARnQU1BAACxjwv8YQUAAAAJcEhZcwAACxMAAAsTAQCanBgAADUcSURBVHhe7Z0HmFTl2f73SzSfKSa2xJi/WRWjUbAj9m6MiRpNLIl8IUZjYhKIMVgiiNhRESGKoGAXG0WNSllgaVKWDkvvHaQt0nt5//f9nvPi2ePs7Axzdvec2ft3Xfc177wzzM7ZWZ573vY8BUIIIYQQQgghhBBCCCGEEEIIIYQQQgghhBBCCCGESBLToEu8phBCiDA3Q6OhzdAqv90Y+h+IvAntgDb6mgo9BX0PctwK7YY2QRugUugaKBXZPHdfOAJ6DVoO8f3OhB6Fvg1FySPQO15zn6jo3xvoJ16zoB7UH1oLrYPGQ1dBQfg5zYem23tCCFFD3AOthG6EDoQYnE6H3oX+FyI0lCe8ZsEBUANoMERjcUGaJjHcaxZ8DboT2gIdwo4Q2Tw3Hfv5t0H4Gguh96Cj2QF+DD0PnWLvRUd1GAqN4j7oG77Ohy6AglwM0Zy3QfxshBCi2uEIg6OSG+y9igkaioPmwxHAP+y98iZBaDQMjGfae+VJ91ya2LPQYohG1wn6JkQ41bQUuh9aAb0NheH7nALRqCqC5rIE4uiI3/gvhBwM8h9A3SCObiZAp0IOmtXPoF9AHLXthBjMJ0HkNmgGxH9LM/grVBGVGcphfvsgKB2vQ/wC8BHUgR1CCFHdMCjuglJ90w+SylBIF4iBlwRNgq93F8SgGpwWc6R77nPQpxBHGjStnhCn1wgNhe+3NUTjcUYTZBTE6a10NIIOhfizOUKjOXHkRRjkaRIcse0P3Qst8NvEGQpJZQhXQ8dCHOlx5MCR1xlQKiozFL7GHKgX9GvocCjMtyAaI6fB+MWgDOJIRgghqhUGVgbTICUQ5+q3QhexA1RkKE9DxV7TmgSDPf8tgxoDuwu8YSp6LgMoR0wMyI5zIQZ0QkPhqMAF/1QwAP/Na2YM1yfcKIRBnu/HwZEOR2JuFFOZoYT5GKJhpqIyQyFHQhx1zIP2QEOh4yAHP8PVEM2RJsvf6W8gIYSoVn4JVTRC4dSS281UkaFwyinVCKUyKnruDyAGUwZFp/UQp5QI388yr1khmYxQOCrhtBRfmz+DgfpyiDDI9/CaexkL/c5rVmoo/J3yPXwB8bVpgI9DqXgQcr8/B0dC/B0cZe+Vh2tBRdBIe8+Dht7Ra1o4/UUTE0KIaoVz8xWtoVRmKN+B0q2hpKOi53I0wCmi/2fvfRW+H76vdPB9ToYqWkPhSIM72U6G3HM4QgmaRKYjlIehoKFwhMD376bLCIN7KjMmt0DcURfkeCjdNCR3w3F6kHD0wt1yNEaONClOf9HEuP4ihBDVyr8ht8uLJsEAehrEIJvKUBg060MDIG5TTbXLqzLSPZcL5t0hjlYIzeVKr5mRobhdXhw9uW/5fI12EHd5ca3hc+iHENcaHoIYlIOGwjWU6yEG9bshvl6qNRROrfE6nDFxzYevxbUTTt9xtEKDqchQeI0cxfwB4uvzvXNDQFeIHAxxtMXpL/4MmgQX3t00Y3OIIy1eS1DcDMCdc0IIUe38HhoDMfhxPp7fmu+A3OIuDcWdQ+GIhof7uDAe3H0UlaFwfeRJiEGR37YZMP8JkUwMhfwI4tQPv7HzPfMcCkcTXMD+OsQzKnxtjjxoqOFprOAur4lQcFE9+Fwu7PM6aL7cDUaaQDRoGgVNjeZQkaGQ8yD3GjQ6vjcaCaFZvwXxZ3Laj9fzPuRGcLyuVMbBaxrnNYUQQtQUqdZFhBBCiKyRoQghhIgEGYoQQgghhBBCCCHCHHrooaZ+/fqSJElSFkL45A5LEYS/GCGEENmB8Kmt3mFkKEIIkT0InzKUMDIUIYTIHoRPGUoYGYoQQmQPwqcMJYwMRQghsgfhU4YSRoYihBDZg/ApQwkjQxFCiOxB+JShhJGhCCFE9iB8ylDCyFCEELWNnbt2myd6TTPL1m7xe7IH4VOGEkaGIoSoTezavcfc9f4Ec9T9vcw7oxb6vdmD8FnjhsLCO1OgUsi9GWZLZd1t9lGsUOdghbe50CzIVcEjrMDH1+Fj7SFWmyOszsdCQ+xn0aWjobTIUIQQtQWaSdNuE62ZdBg0x+/dNxA+Y2Eo4drRNJR7vWY56kKTIJrEMdA8iNXrCKv1nQvRSIogli4ljaFOXrPgZojmkhYZihCiNrAbZnJfj1JrJs8PmO337jsIn4kyFI5OKEc/iCZyBMRSoo6GUGevufc5hPW1yyA3ekmJDEUIke/QTJp9ONmaSdv+s/ze3ED4rHFDWQCxlvV4iDXACQ2FRjMZYl1tV5+6A9TIa1pYu/pG6ExoADt8LoR6ec2CqdCRXtPCUU3YwAh/Nn8Z4woLC/1fjxBC5B979uwxD/53ijWTZ/rOsPejwI+hNcqP/NsfQJzOugg6HOJU1tegVhBNhXSEwoZyA9QAChtKT69ZMA0KG8qhXjM1GqEIIfKZFwfPtWbyZO/pkZkJQfiscUMJkmqqi4voHGUQTXkJIUQOjJiz2hzTrJdp8u74SM2EIHzWqKF8GzrQa9p2CfQLiAbhaAp19ZoF9aDgovx8yC3Kj4XOgdyivNsZ1gQKLsp395oVI0MRQuQjn6/bYs54rL+5vO0Qs2nbTr83OhA+a9RQ6kA0CIpTUy0g8jbELcBcQ/kUChoMn8NpK24bdju5CNdROJLhY1xrcaOQA6AeELcNcycYf2ZaZChCiHxj285d5roOw03dlkVmzsqNfm+0IHzGasorFshQhBD5hluE7zP5c78nehA+IzEULp6fDl0NXQZxUT2xyFCEEPnEh+OXWDNp1Xu631M1IHzmZCjHQi9DXMvg4vc70AcQp6pGQbdBNJtEIUMRQuQLExZ9YX76YB/zu84lNl9XVYLwmZOhvA9xm2+qXVPcBvwv6I/2XoKQoQgh8oFPSpeZ41v0MRe0HmhWbdjm91YdCJ9aQwkjQxFCJBmegm/bb6ad5rrppRJTtrHqzYQgfEZuKOdD3Pqb9qxHnJGhCCGSyubtO83f3h5nzYR5urbvrNppriAInzkbSheI50PI36CJUG/InW5PHDIUIUQSWbB6k7nq+aH24OIrQ+dFfnCxMhA+czKUo6DpUKHfpplcAPF0u+v/LpQoZChCiKRA0xg1r8z85a2x5mgYSb2H+ppBM1b6j1YvCJ85GQoX3Fm3hIkV74SY6PEWiP08eMj2KVCikKEIIeIOp7I+mrDEXN1+qJ3eOvXRfjbR44r1W/1nVD8InzlPeTGtSTHE1Cf3swMwjcpQr5k8ZChCiDjDtCk89U4juezZwbbK4pbtu/xHaw6Ez5wNhedMmALlcnvPg1NdZ3vN5CFDEULEFY5MGr06ytRp3tuOULijKy4gfOZsKEH2h3hinmdQEosMRQgRR2gezBLMkUn3sYv93viA8JmToXC6y+3w+h7EhXgmdeS6ClPIJxIZihAibnDxveXHXj6uTkPm+r3xAuEzJ0NhhmAHT8V/7DULfghxx1cikaEIIeLGc8WzrZlUdT6uXED4zMlQgqbBsye3ek2LDEUIISKgS8kCayZ3dyut9rMl2YDwmZOhDIaugbhusg7iyISwMmKwgmKikKEIIeIAzaNd/1nWTG5/c0yVJ3fMFYTPnAzleKgvVAoFRydXQm29ZvKQoQghahoWxGradaI1k3u6V28KlX0F4TMnQ4mChRAX8mlK7s0cAvFsyxz/9mDIwZryrL7Ig5M0Lkd9iK/Dx9pDLpcYywV3g9g/GuIp/rTIUIQQNcnazdvNbzuVWDN5YeDsWE9zBUH4zMlQXoAYvJ2eh1pCTL+SKTSUw7zmXp6BmnlNe9vaaxbUhYI15Vnu19WUZ3nfcyFXU96VB24MBWvK01zSIkMRQtQUC8s2mUufHWyOe6CP+XjiUr83GSB85mQoTLESVlNoJMRdX5mQylA4+nB15HnL+4SjE8rBol40ET4nuGbDLcudvebe5xCu7ZRBaTMhy1CEENUN10e6jFxoU6hQo+ev8R9JDgifVTLl9U0o011ezP81ARoPMScY4QJ/kLX+bQeokde0vAbdCJ0JDWCHz4VQL69ZMBU60mtaOKoJG1g5ZChC1F54eHDMgjXVUpDKMXT2KnNFuyF2iotTXfNXb/IfSRYIn1W2hpKpofzIv+Xpek5nsQJkRYbSEQobyg1QAyhsKD29pj0rEzaUQ71mOWhm/GWMKyws9H89QojawtYdu8zbGCFc0mawDewnPFhki1Rt2LrDf0b0zFu10e7e4s+7sPUgUzRleWLWS1Lhx9BI4bQSa8m7gJ4Nj0D3QpryEkJUC6xmyK25pz/W3wb2X70wzHQbu3hvihP2vz58fqS7rDgKevmzeeYnD/S26eZfGjLX7upKOgifORnKRmhDSCuh7pAbeaSDWYkP9Jq2XQKx2mMbKLgoz0V6wjQvwUX5+ZBblGe243Mgtyh/FUSaQMFFeb63tMhQhKgdFE9bYUciNA6OFFhXJDhCmLRkrWn48kj7OOuyj5i72n9k31mzabu57Q1vVMIaJtU5tVbVIHxW2ZRXJtSBaBAUp6ZaQIRTUgMhbhvmLbcRO/gcTltx1OJ2chGuo3C9hI9xrcWNQg6AekDcNsydYPyZaZGhCJH/cBTCjL0ckcxZucHv/So0mCGzVtmpsPqP9zfrtuz7FBgX2s9uNcDu4HpzxIJET2+lAuGzRg0llshQhMhfGMQ5xcQRwu9fGWU2btvpP5KeKUvX2YqIj3w61e/JnB27dtvzJCzNe/Ezg+xr5SMInzKUMDIUIfITrl083nOaNROukWS7LtLiv5PtqGbG8vV+T3oWr9ls2vSdaRo8UWx/5j/fn5CxgSURhE8ZShgZihD5B0cJ//JTmTz08ZR9KkzFE+ynPdrP3NSppMLpKp4n6Tt1ubnltdF2RMNRyZ/eGGPrvOfbFFcYhM9IDOVw6AyISSLZTjQyFCHyjwc+mmzNpP2A3FKZvDd6kX2dVKfYueDuUqZwrYS7x5au3eI/mv8gfOZkKKdBo6AZEM+BUNy+yz4aTCKRoQiRX/AEOoP8U31m+D37zi6MbLiQf1ar4nLTV5wGO//pgea4Fn1M1zGLYp8ZuCpA+MzJUJjQMVXteG7f5c6tRCJDESJ/4FbfY5v3tlt1aQZRMGHRF9agnvSLXfWbutzUbVlk10omLl5r+2ojCJ85GQq39VYEt+kmEhmKEPnBorLNds3j8rZDIj/x/u8ek6xRPfzJVGsu12LUsmL9Vv/R2gnCZ06GwgzDrNT4O+g8X2yzj2dBEokMRYjkw+mon7f7zJzySD+zoApyY/GE/ckP97Vmwt1bTN1S20H4zHlRnocLeRKdqVaYkJFtd0o9kchQhEg23MH157fG2i2+w2bnfrq9IvjaXC/J991bmYLwmbOh5B0yFCGSzX+KvbK5zMElqg+EzyozlJf928QhQxEiuTAVPM9/NO02USOHagbhMydDYY6tVGIurqVQIpGhCJFMlq/bas54rL+tLbJ5e/6eSI8rCJ85GcpuiBl/WSTLyd3fASUSGYoQyYMn4W94cYQ5sWWRmbNyo98rqhOEz5wMhduGC73mV1ji3yYOGYoQyaNV7+l23SRpddjzCYTPnAyFtUZO9Zpf4U7/NnHIUIRIFjxYSDNh8kZRcyB8VtmifGKRoQiRHJjRl+dBrmk/LC+qHiYZhM+cDeV7EA8z3g019dsHQYlFhiJEMpi/epOtxX4SDIWn4kXNgvCZk6HcArFC4kvQg754sJF9fCyRyFCEiD+li9faHV1MrcLcWqLmQfjMyVBYhjfVaORgaLbXzAjWhZ8I8aQ9eQRaBjH5JBU8ed8cYp4w/uwr2eFTH5oC8TGmhHElgFl/vhvE/tHQ0VBaZChCxJvBM1fa3VzM7jtvlXZ0xQWEz5wMhabBKa8w7EuXODIMp8veg4KGcq/XLEddiFmMaRLHQBwJ0YwI68WfC9FIiiBXb74xxFETuRmiuaRFhiJEfPlw/BKblPGXzw01K2t5Msa4gfCZk6H8EXJTXg/4clNet0KZcCQ0ELoMqsxQODqhHP0gmsgREOuwOBpCnb3m3ueQ/aAyyI1eUiJDESJ+LCzbtHdrcMOXR0aePVjkDsJnzovynN7iN/97IJoA2+zLlA8gTlddAgUNZSE0GXodcq/HDMaNvKblNehG6EyIxb0cF0LutaZCNC0Hze4wr5kaGYoQ8YAVELuULDC/6TjcGglTqtzdrVS7uWIKwmfOhpIL10Aves1yhsIywpzK+hrUCqKpkI5Q2FBugBpAYUNh9mMyDQobClPDhLkD4i9jXGFhof/rEUJUNeu27LDp33/XucSKJXQpmgintmgkTEP/0pC5ZlktKqebRPwYus/8GOoKDYM43bU/5PjYv03HUxBzfnE0sgLaAr0DBeEiOkcZRFNeQuQRTN74l7fGWuO46aUScxOMhHKm8kSvaWbasvVK8pgQED5zMpRi6G8Qa8u/AJVA7ts/d21lQ3CEQoNw8GwLTYvUg4KL8swb5hblx0IsPewW5d3OMJ7mDy7Kd/eaFSNDEaJ66IRRB0cgrwyd5/eIJIPwmZOhcEtvEE5HcYrpWGgCO7IgaChvQ9wCzDWUT6GgwbSAOG3FbcNuJxfhOgpHMnyMay1uFHIA1APitmHuBKsDpUWGIkTVM2pemS2A9fd3xmkEkicgfOZkKDQPBuwgP4MYvJfbewlEhiJE1cLtvmc+UWwubTNYu7XyCITPnAyF01EXe81ynA5xOiyRyFCEqDp27tpt10l++mAfM2P5er9X5AMInzkZSl4iQxGi6njSP0vCA4oiv0D4lKGEkaEIUTUwZQrNpPlHSjOfjyB8ylDCyFCEiB6eNzm71QDzs7ZDzNYdOpiYjyB8RmIo3MIbJlVfIpChCBE99/UoNcc062WzBIv8BOEzEkNJtUV4vH+bOGQoQkTLIH+q6+miGX6PyEcQPnMylBMgpj7h2Y/rA2JiSG4pTiQyFCGiIzjVpRxc+Q3CZ06Gch30BrTGv3ViPZLzoEQiQxEiOjTVVXtA+IxkysvlysoLZChCRIOmumoXCJ+RGMr3ISaHfBliZmCnRCJDESJ31m/VVFdtA+EzEkNhUsjW0G8hrqk4JRIZihC5wdxc/3hvgs3Vpamu2gPCZySGEk4SmWhkKELkxrujFtmprg6D5vg9ojaA8BmJoTwBuXTxiUeGIsS+w/olx7XoYxq9Osrs3q0swrUJhM9IDGUjtAfaCm3w7/M2kchQhNg3Nm7baS5pM9ic1arYrN64ze8VtQWEz0gMJa+QoQiRPVw3ufO9CXaLMGudiNoHwmdkhnIwdBZ0UUCJRIYiRPa8N9pbN3lh4Gy/R9Q2ED4jMZQ/Q6ywuBYaDHHqaxCUSGQoQmSH1k0EQfiMxFBoJqzc6HZ7MSVLN6+ZEawLzxr0rgTwIRALdM3xbzn6cTSHWBGSJYCvZIdPfYjvg4/xpL4rAcz683wv7B8NHQ2lRYYiROas27zDXPTMINPgiWKzaoPWTWozCJ+RGMpY/5aGwgBOstlKfDf0HuQM5Rmomde0tzzjQupCkyD+DGYzZg4xmhFhvXie2KeRFEGu3nxjqJPXLLgZqtToZChCZAZHI7e+Ptoc27y3Gbtgjd8raisIn5EYyn+hg6BHoKHQJ1AfKBOOhAZCl0HOUDj6OMJr2lveJxydUI5+EE2Ez5nJDp+GUGevufc5ZD+oDHKjl5TIUITIjHb9Z9l1k7dKFvg9ojaD8BnZoryDNeavhfa39yrnA4jTVZdAzlDW+bcOrs2QDlAjr2l5DboROhMawA6fCyH3WlMhmpaDo5rDvGZqZChCVE7xtBXWTO7uVmp3eAmB8BmJobzt3wZJ1RfmGuhFr5mRoXSEwobCFC8NoLCh9PSaNo1+2FAO9ZrluAPiL2NcYWGh/+sRQqRi/upN5qSH+pqr2w9V9UWxFz+G5ky4wBbXNaZ7zbQ8BS2FFkIroC3QO5CmvISIKZu27TRXtBtiTnu0n1nyxWa/V4jcDYXBnafid0E8Ge9OybM+Cs0iG4IjlDZQcFGei/SkHhRclJ8PuUV5bgw4B3KL8i4VTBMouCjf3WtWjAxFiNTs2LXb/Pmtsfbw4rDZq/1eITwQPiMZoWRrHqkIGgqnpLhQz23DvOU2YkcLiNNWHLW4nVyE6yhcL+FjXGtxoxBuZ+4Bcdswd4LVgdIiQxHiq2zfudvc0WWsXTd5c4QW4cVXQfiMxFDOh77tNe0aRzvoKHsvgchQhCgPzYQjE5rJ68Pn+71ClAfhMxJDmQxxRHCq374L+gxKJDIUIb6ExbFuf3OMRiaiUhA+I12Ufwi63Wt+ZaE+MchQhPCgmfzpDc9MdNZEVAbCZySGwtEIF+hnQz+EuFDONCiJRIYihLc1uOHLI62ZdBm50O8VomIQPiMxFJoI06fw/AcphG7xmslDhiJqM19s2m4e/mSqTadyYssi023MYv8RIdKD8BmJoeQVMhRRG+H01itD55mTH+5rtwU3+3CSWblhq/+oEJWD8BmJoVwPcYvvekgVG4VIGIvXbDaXthlsp7dueW20mbl8g/+IEJmD8BmJofCMx4leM/nIUERtYunaLeb8pwfakcngmSv9XiGyB+EzEkMZ4d/mBTIUUVtYvm6rrWXCvFyTlqz1e4XYNxA+IzGU5yHWGWEOLU5/OSUSGYqoDaxcv9VOc9WDmYxf9IXfK8S+g/AZiaG8kUKvQ4lEhiLyndUbt5nL2w6xu7jGqDCWiAiEz0gMJa+QoYh8hvXff97uM/PTB/uYkfPK/F4hcgfhMxJDYb0RVm1cBa2EPvT7EokMReQjs1dsMH9/Z5zdycUF+OFzlC1YRAvCZySGUgzdBrHeCHWr35dIZCgin+CJ97ven2CObtbL1G1ZZNr2m2nWbdnhPypEdCB8RmIopf5tkFR9iUCGIvKBXbv32JrvdZr3ttNbT/aZbtZs2u4/KkT0IHxGYigsv8u09czhRbHNOiaJRIYi4goPIL43epFp8u54c1+PUrMAo49U8IT7zZ29PFxNu07UiXdRLSB8RmIozN31KbQa4jrKx5DqoQgRAaPmlZnmH02250VoENRZrYrNCQ8W2dHH/R9MMsvWbvGfbWwlxfqP97ejku5jlYdLVB8In5EYSl4hQxFxoRsMgXm1eFaENUneGD7fzFm5wezZs8eOOpjE8bgH+lix3abvTLtWwi3Bs1YofYqoXhA+IzGUt6CDvKblYCiTcygsz8uyvKwTPw16FCKPQMsgrsNQrj48YZp8pnphCeAr2eFTH2LKfD7WHnIlgFl/nocu2T8aOhpKiwxFxAGaB0cjjV4dZTZv3+n3fhWmTuEohaMVPv/ubqVpny9EVYHwGYmhTPRvg6TqC8Og/x2vWbA/xIB/DkRDuRcKUxei+dAkjoFYP55rNoTGdC7E1yyCXL35xlAnr1lwM0RzSYsMRdQkHH10GDTHmsNf3hprswBnAtdTPpu1yr8nRPWD8BmJoTDIc1TiOATKtsDWtyBWeTwbqshQODqhHP0gmsgR0Ex2+DAFTGevufc5hFuayyA3ekmJDEXUFDSTp/rMsGbyr64Tzc5du/1HhIg/CJ+RGAqLac2AHocegxjc/wBlAkcYnNbaBLVmB6ChLIRYn55TZ86sOkDcQeZ4DboROhPiTjMHC3318poFU6HgIUuOag7zmuW4A+IvY1xhYaH/6xGi+qCZtPx4ijWTBz6abHbv3uM/IkQy8GNoJHA66h/QnX47W7gGMxg6CTocotF8DWoFufWYjlDYUG6AGkBhQ+npNe3aTNhQDvWaqdEIRdQEbmTSqvd0ay5CJA2Ez5wMxa1/pCOT5zgehsJTXVxE5yiDaMpL5CWslOhGJjITkVQQPnMyFB5ebAtdBH2bHT51oNshBnNOSVXE9yG3O+yb0DDoGogG4WgKdfWaBfWg4KL8fMgtyo+FuKDvFuXdzrAmUHBRvrvXrBgZiqhOPpqwxJoJ82zxdLsQSQXhM+cpLwbudyGuebDs7xqoBGoB/RBKxykQd4NxrYSjkIcg8jbERX3288Bk0GD4upy24rZht5OLcB2Fr8HHuNbiRiHcmtwD4rZh7gSj2aVFhiKqi0EzV5pjm/e2p9oz3c0lRFxB+IxsDSVvkKGI6mDCoi/safernh9qNmxVskaRfBA+ZShhZCiiqmGFxFMf7WfTqazasM3vFSLZIHzKUMLIUERV8vHEpea4Fn3Mha0HmUVlm/1eIZIPwqcMJYwMRVQFPFfCWiRcgL+pU4n5QqnkRZ6B8BmpofwAYuZhp0QiQxFRs2X7LtP43fHWTO7tXmq279QJeJF/IHxGYijXQnOgzdACaA/EA4WJRIYiomTF+q3m2heG2SzAnYbM1TkTkbcgfEZiKDwbwtPnLiHkpdDLXjN5yFBEVHAnV4Mnis2JLYtMv6nL/V4h8hOEz0gMxb0IjYXpUgjPfCQSGYqIAtYyYZ2SC1oPNDOWr/d7hchfED4jMRTm0WKKlReg96HnIR5uTCQyFJELzBD8yKdT7XrJ/70yUovvotaA8BmJoTDtCkcmzJX1R+ifEFPYJxIZithX1m7ebhq+7NVyf6znNKWfF7UKhM9IDMWlnQ+Sqi8RyFDEvsCRyC+eG2rPmPQYt8TvFaL2gPAZiaGwMFYY5uFKJDIUkS3rNu+wKVRoJqqaKGorCJ85GcrfISZx5HZhGogTtw6/AyUSGYrIhnVbdphfvTDMLsAz2aMQtRWEz5wM5XsQ65VwIf6ogBK7fkJkKCJTmNTxug7DzU8e6G0GTF/h9wpRO0H4zMlQvuvf0kBSKZHIUEQmbNy201z/4gibfl5nTITI3VBc3XZOcbHYFW+deD+RyFBEJjR5d7ypAzPpM/lzv0eI2g3CZySL8nmFDEVUBk/Ac2twu/6z/B4hBMJnZIZyPdQOYkngX7MjqchQRDqYi+u3nUrMGY/1t9NeQggPhM9IDOVFqD90m6++UEeoMlielylamLKFySQfhQjXX4ohJpzk7cGQoznEcr4sAXwlO3zqQ9xxxsfaQ64EMOvPd4PYPxriJoK0yFBEOriTi6OTN0cs8HuEEAThMxJDoRm4AE54aj6TbMP8N0zZQvaHGPDPgZ6BmkGEt+6QZF2I5kOTOAZi/fivQ4TGdC7E1yyCXL35xlAnr1lwM0RzSYsMRVQEa5pc+Z/PbHEspaAXojwIn5EYykcQtws72OZW4mz4FsQDkmdDHH0cARHe8j7h6IRy9INoInzOTHb4NIQ6e829zyFMDVMGBc3vK8hQREV8NGGJHZ18UrrM7xFCOBA+IzGUz6At0BBfPOjIhJGf+koHRxil0CbIjUTW+beOtf5tB6iR17S8Bt0InQnx5zkuhNwOtKnQkV7TwlHNYV6zHHdA/GWMKyws9H89QnzJtp27zHlPDbQn4jlSEUKUx4+hOXNxJcqEg6DB0ElQRYbCdZmwodwANYDChtLTa9qpt7ChsHZLhWiEIlLx6rD5dnQydLZSqwiRCoTPSAwlKh6G7oU05SVixfqtO8xpj/Yzv39llN8jhAiD8BmJoXAhfSzEaasd0G5oA1QZ34c4MiHfhIZB10BtoOCiPBfpST0ouCjPw5NuUZ4/n+/DLcpfBZEmUHBRvrvXrBgZigjTumiGHZ1MXrLO7xFChEH4jMRQ+CI/gVgCmAGeW4efhCrjFIj/hgkludbxEEQ4JTUQ4rZh3gbTuLSAOG3FUYvbyUW4jsLX4GNca3GjEG5N7gFx2zB3gtWB0iJDqR2wVsno+WvM1h27/J7UMBU968E37TrR7xFCpALhMzJDIcGU9arYKKqdLdt3mf8UzzI3vVRiOgyaYxav2ew/8iWcvnpl6Dy7wM5RBzMFL1u7xX+0PNzNdQzMhFNdlRmPELUdhM9IDGUo9A2oC8TpqaYQp6YSiQwlefD0+qcI/uc+OcCaxM/aDrG31G86DreHEKcsXWdL89Z7qK/tv6lTiXlpyFx7n6feS+aW+a/mUTTlc5uri8+jUQkh0oPwGYmh8NwJp5aYfZgL60zBwimwRCJDSRY0Co5IaBK/fG6oncYiS77YbDoOnmMPIjpzYWbgf3WdWG4tZM7KjebSZwdb83h9+HxrTkxFz5T0NCOlVxEiMxA+IzEUV1PewXUUHlRMJDKU5EDD4PrG6RhhvDd6kdlVwfmQGcvX28dXrN/q95SHdU1uf3OsNZ3b3hhji2VxKozTY0KIzED4jMRQRkEuhQphW2sookrhFBcNoPE7423VxFzhYcXnimfb1+SoZu3m7f4jQohMQPiMxFB40j1Mqr5EIEOJP5OWrDXHt+hjC1zxBHuUcDTDEYsQIjsQPiMxlBHQGV7Twsy/I71m8pChxJuV67eas1sNsLu0Vm3Y5vcKIWoahM9IDIWpT3j+gwcTKZ75oKkkEhlKfOHW3Ws7DDcnPFhkpi1b7/cKIeIAwmckhkKYfp55uE7224lFhhJPuPvqrvcn2DWOoimq4S5E3ED4jMxQ8gYZSjx5foC3YP7CwNl+jxAiTiB8ylDCyFDiBUcmbfvNtGbCMyS8L4SIHwifORsKc2b92GvmBzKU+MCtvDzdTjO5r0dphedMhBA1D8JnJCOU8f5tXiBDiQc0D5oIzYSmoqJWQsQbhM9IDIWFr7jTKy+QodQ8rNfOA4s0k7b9Z2maS4gEgPAZiaFMh1gDhVuHmXF4in+bSGQoNQvNhOlPaCYvfzbP7xVCxB2Ez0gMhckhUymRyFBqDk5rceGdZtJl5EK/VwiRBBA+IzEUcgHEwlqElRhZUTGRyFByZ/m6rTY1/JyVG/yezGjVe7o1k/YDtDVYiKSB8BmJoTBlfU9otr1XUPAjiOlYEokMJTeYqPGKdl/WI7muw3DzNkYb6zanz4/Fold8fsuPp2jNRIgEgvAZiaEwESS3D7OcryOTNRRuNx4MzYCmQXdB5BFoGcTXpVx9eNIcYmoXlgC+kh0+TPXCtRs+1h5yJYBZf74bxP7R0NFQWmQo+w7XPxq+PNLWHek16XNrEj9v59UjOa5FH9P43fGm56RlX0m++PHEpfY5f39nnLYGC5FQED4jMRTWaicT/FvWR8nEUI6AXFLJAyGOcOpCNJR7oTB8jJUgaRKcUuMmANZeIXwP50I0kiLI1ZtvDHXymgU3QzSXtMhQ9g2OKu7p7m3zZR12B/tZBOvhT6bauiV8nMWrWFb3jeHzrZnw/m87lajMrhAJBuEzEkNh8O8MzYf+AjHT8J1QtnwCXQFVZCgcnVCOfhBNhMY0kx0+DSG+H+KeQ/aDyiA3ekmJDGXfcLVEWNO9Ijj6GLNgjXmyz3Rz2bOD7fMp1h9RMSshkg3CZ2SL8jSCNr7YzhZORS2GWEaYhrIQ4ijndehgiHSAGnlNy2vQjdCZ0AB2+FwI9fKaBVOhI72mhaOaw7xmOe6A+MsYV1hY6P96RKZ8gBEJjeHubqVZrX8sWL3JvDtqkdLQC5EH+DE0En4IXQv9ym9nAys88rT99fZeQcHhEKeyWFa4FURTITxAGTaUGyAeqgwbCjcJEK7NhA3lUK+ZGo1QsmP4nNV2yoprJ1xDEULUThA+IzGUP0McXbwJvQVxdPEnKBOY6p7TUnfbe1+FIxeOMoimvGLGsNmrzU8f7GMX3qMowyuESC4In5EYCndcBb/1s82+ymBg7wI9Z+99CQ3C0RTq6jUL6kHBRXmu2bhF+bHQOZBblHc7w5pAwUX57l6zYmQomTFk1ipbhpfrH2UbNWUlRG0H4TMSQxkIfcNrWtgOTkFVBA9D8k1wrSS4RfhtyKVv+RQKGkwLiNNWNCy3k4twHYUjGT7GtRY3CjkA6gFx2zB3gtWB0iJDqZxBM1babcC/fG6oWbNpu98rhKjNIHxGYigcZfAMChfTeciR24c5KuA0VkVTWbFFhpKe4mkrzHEP9DFXtx9q1m6WmQghPBA+IzEUmkg6JQoZSmp27tptuo1ZbBfgr31hWKUn34UQtQuEz0gMJa+oTYbCg4RMwsh1kNvfHGs+LV1mtmwvf7jQPqdkgbmg9UC7NfiGF0doAV4I8RUQPmUoYWqDodA0Xh0235zVqtiaxDXth+1tn9iyyPzz/Qmm/7QVNknjGf7p9l93HG76Tl2uQldCiJQgfMpQwuSzoezYtdt0GjJ3r0n8rnOJGTFntT2MyFPsJXPLTLMPJ5tTHulnH6dufX20GTWvTAkbhRBpQfiMxFBSnTxPLPlqKFzzYP4smsQfXhttU6BUBA8ofjZrlZm5PLv080KI2gvCZ06GwlPxq6Hl0FLoPCjx5KOhzF+9yVz67GC7oN597GK/VwghogPhMydD4TmRE7xmwdnQZ14z2eSboXAai1NYpz3az4yeX/GoRAghcgHhMydDcenqHeH7iSSfDKXrmEW2NsnlbYeYRWWb/V4hhIgehM+cDIXTXO7wIhW+n0iSbCjcgTV+0Rfm6aIZ5mcwEa6XNHp1lFLDCyGqHITPnAwl1SHGoBJJEg1lYdkmc/8Hk0z9x72tv3UwKmH2X54f4YFEIYSoahA+czKUvCRphvL5ui3m3CcH2PMjTd4dbysg6hS7EKK6QfjM2VAuhT6EWHeE+gC6BEosSTIUGscV7YaYeg/1tWV2hRCipkD4zMlQroYWQLdBp0KnQayDwrTyLn184kiKoTAlCtOgMFEjDycKIURNgvCZk6EMgWgkYU6BEruFOAmGwnUR5t46ulkv03PSMr9XCCFqDoTPnAwlWCUxTLrHYk3cDYUpULgAz8X3N0cs8HuFEKJmQfjMyVBYB74i0j0Wa+JsKDST1kUzrJm06TvT7xVCiJoH4TMnQ1kHsaJiWD2htVAiibOhtO0/y5oJEzgqWaMQIk4gfOZkKBdXosr4MTQYmgFxh9hdEDkEKobm+LcHQ47mEMv5sgTwlezwqQ+xbDAfaw+5EsCsP98NYv9o6GgoLXE1lOeKZ1szua9HqVLICyFiB8JnToaSK6wVf4bXLDgQmg3VhZ6BmkGEt629pn1sEkSTOAZi/fivQ4T14s+FaCRFkKs33xhiOWJyM0RzSUscDeWFgZ6Z3N1NZiKEiCcInzkZynVQE69p4QiAW4apG9mRJZ9AV0AcfdBsCG95n3B0Qjn6QTQRPie4CaAh1Nlr7n0O2Q8qg9zoJSVxM5SOg+dYM2nadaKtWSKEEHEE4TMnQxkBcdrKUQodChVCA9mRBZyKWgx9F+LaTBC3HtMBauQ1La9BNK4zoQHs8LkQ6uU1C6ZCR3pNC0c1qeq33AHxlzGusLDQ//XULFwjcWbCCooyEyFEnPFj6D4z1r91MOA7Rvm3mfAdiLvCrrf3KjaUjlDYUG6AGkBhQ+HGAMK1mbCh0PQqJA4jFBa4+ncPb2vwne9NUD4uIUTsQfjMyVC40F0RDNyZsD/EaalgduJaPeVVtnGbuemlEmsmbfvN1JqJECIRIHzmZCjvQn/xmuX4K/S+10wLA3sX6Dl770vaQMFFeS7Sk3pQcFGeazVuUZ6jpXMgtyjvUr9wjSe4KN/da1ZMTRrKjOXrzXlPDTTHt+hjPinVCXghRHJA+MzJUH4AlUDc+tvWF9OxjIQOhyrjAohvgpUfuf5C0Qg4JcU1GG4b5i23ETtaQBz9cNTidnIRrqNwvYSPcerNjUIOgHpAHE1xJ1gdKC01ZSh9py43dVsWmQZPFJvSxWv9XiGESAYInzkZiuMy6E5fbCea6jaU6Z+vN398fbSd4rqm/TCzfN1W/xEhhEgOCJ+RGEpeUV2GsuSLzaZpt4k2wePJD/c1nYbMtRmEhRAiiSB8ylDCVLWh0DRa9Z5u084f16KPebLPdBXEEkIkHoRPGUqYqjSUpWu3mKvbD7XTW/d0LzXLcF8IIfIBhE8ZSpiqMpQRc1eb0x/rb056qK8pnrbC7xVCiPwA4VOGEiZqQ+GJ91eGzjN1mvc2l7cdYuau2ug/IoQQ+QPCpwwlTK6GQgNZs2m7mbpsnRkwfYX5x3sT7BTXX7uMMxu37fSfJYQQ+QXCpwwlzL4aStcxi8xFzwyyC+00EKdjmvUyHQbNUf0SIUReg/ApQwmzr4bCdREmceSurTeGzzdFU5bbA4pMpSKEEPkOwqcMJUxVLcoLIUQ+g/ApQwkjQxFCiOxB+JShhJGhCCFE9iB8ylDCyFCEECJ7ED5lKGFkKEIIkT0InzKUMDIUIYTIHoRPGUoYGYoQQmQPwqcMJYwMRQghsgfhU4YSRoYihBDZg/ApQ0nBaoi/mH3RwhR9SVY+XY8+m3hLf2vxVabXw9gpIoS/1Hwin65Hn0280d9afMm360kM+kOKL/ps4o3+1uJLvl1PYtAfUnzRZxNv9LcWX/LtehLDHf5tvpBP16PPJt7oby2+5Nv1CCGEEEIIIYQQQgghouN1aBU01d7zOBUaCU2BekLfhRynQHxsGsTHD4BIfYj350Ltof+BqptsruX3UGlAe6DTIBKHayHZXM/+0FsQ+2dAzSFH0j6bb0BvQOyfBF0COeLy2fwYGgzxd83/C3dB5BCoGJrj3x4MOfiZ8H3Pgq5kh09NX1O213IoxOdvgjqwI0AcPp9sr+cKaDzE983byyBHXP7eEsNF0BlQ8D/6WOhir1nwJ+hxr1mwHzQZYiAg/MP6utcsGAOdC/EXXgT9EqpusrmWICdD872mJQ7XQrK5nv+DunrNgm9BPKx1tL2XvM+mCURDIT+A+J/8a/ZefD6bIyBeDzkQmg3VhZ6BmkGEt629pn2M5vi/0DHQPCgu/3eyvZZvQxdAf4PChhKHzyfb6zkd+pHXLDgJWuY1LXH5e0sUDDzB/+gbIP4CCd1+utcsuAp6x2uWgx/gTK9paQh19prVTqbXEuRJqJXXjNW1kEyvh++T3/Jp+jR6/ifiN7IkfjYdoUZe0zIQOguK22cT5BOI33Q5+uD7JLzlfcLRSXDU2A9ioIrjNVV2LY5boaChxPFaSKbXQ/j3uAai8cf1emJP+D96CXSd1yy4G9roNQv+Bb0N8T/DBOjfEDkTGuA1LRdCvbxmtZPptQTht0V+MyFxuhaS6fVwyosjFKaH2Ay5rZBJ/Gz43ntANEd+m18H3QDF7bNx8LoWQ5yy43sNsta/ZeANmuRr0I1QHP/eKrsWR9hQ4vj5ZHM9hJ+Ju4a4/r3FnvB/9BOg/hCnGh6G6NjkXmgBdBjEaRXOf18ONYDCv3h+W64JMr0Wx9kQ50gdcboWkun1nA+9C9FYOE3Eb191oCR+NjSS/0Bc2+K3yz4QjSdunw35DsT3f729V3HQCo+6aCg0yThdU6bX4ggbStw+n2yvpx7EL5fH2nvx/HtLBOH/6EGOhziPSG6G3vSalpbQfVCchoaZXouDgesBr2mJ2zA30+thwPqD17RwEfy3UJI/GwdHMpwDj9tnQ/PmaJ2jK0dF0ypxn/LK5loccZ7yyvZ6joQ4TcwvZo44XU+iCP9H5zdcwoXQLhAXTAl3RXCqi6MTfouke18NES6wngNxDpKLV1xvqQkyvRbCvqUQv8kHicu1kEyv536IC9l8z1w05XoEd+SRpH02/PviNRDOfQ/1mpa4XAt/Pt/zc/bel7SBggu/XAgm/PYbXJTnJhC3KF/T15TttTjChkLi8Plkez0HQfxsOGIME6dYkAjeh5ZDOyEG19shbrOjW1NPQ/xlOjhs51Y8BobgHxjnG9nHISP/yIL/prrI9lq4HXWU1yxHHK6FZHM9HN5z3YGfDc2EI0dH0j4bGg+/PXLbJ7+0HAU54vLZcJcTa2Rw16Pbes5gww0R3ETAram85cYIRwuI75vXFtwtVNPXtC/Xwl2EX0DcOszPkyNIEofPJ9vreRDiuqN7LuW+7MTl700IIYQQQgghhBBCCCGEEEIIIYQQQgghhBAiAXCr5XAouFWWhy77ek0hhBAic5grjedKWO6AhxZ5FsCluMgWdyBQCCFELYUHYZmzy90yPQxPIk+EXJJIHmocBjEjA3UeRHgIlTUu3oNSZYwWQghRi+DIhKfEmYzzKcglS2TqC56W5+NMu+KKth0HjfOa1lB4mplpS4QQQoiCxyCWPaBRMKWFS3XBFOMnQt+DWCKBpsP+LRBxIxQhhBDC8gjEMghMK/5TdoTg489CTBjJBKS7IEJDUS0KIYQQe3GGwiqZwWR7LMNKWE7gHq9ZcBvEJH9EhiKEEKIczlC+CbG2BKe2OPXlzILrJswSyyzQXGdhNlsiQxFCCCGEEEIIIYQQQgghhBBCCCGEEEIIIYQQQgghhBBC5AEFBf8f6K6MuP1Td8IAAAAASUVORK5CYII=)"
      ]
    },
    {
      "cell_type": "markdown",
      "metadata": {
        "id": "T1PUK2pi3VkB"
      },
      "source": [
        "So although we've seen a decline in the CO2 emissions per capita, it does not seem to translate to a decline in GDP per capita"
      ]
    },
    {
      "cell_type": "markdown",
      "metadata": {
        "id": "rn5kqfM33VkC"
      },
      "source": [
        "### Q12. Use ScatterPlot for comparing GDP against CO2 emissions (per capita) for USA. Determine their correlation coefficient and justify results.\n",
        "\n",
        "**Hint**: make sure that GDP and CO2 emissions are in the same time frames."
      ]
    },
    {
      "cell_type": "code",
      "execution_count": null,
      "metadata": {
        "id": "6qy5_X-k3VkC"
      },
      "outputs": [],
      "source": [
        "#Write your code her---"
      ]
    },
    {
      "cell_type": "markdown",
      "metadata": {
        "id": "qUbwQg7L3VkO"
      },
      "source": [
        "Expected Result:<br/>\n",
        "![hw3_pic6.png](data:image/png;base64,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)"
      ]
    },
    {
      "cell_type": "markdown",
      "metadata": {
        "id": "sudiMbGY3VkP"
      },
      "source": [
        "This graph looks like a light negative relationship. Determine the correlation coefficient between the GDP and CO2 emission. Justify results."
      ]
    },
    {
      "cell_type": "code",
      "execution_count": null,
      "metadata": {
        "id": "Sky9Ae-e3VkQ"
      },
      "outputs": [],
      "source": [
        "#--Write your code here--------------\n",
        "\n"
      ]
    },
    {
      "cell_type": "markdown",
      "metadata": {
        "id": "9SX8T7RMlAT0"
      },
      "source": [
        "### Q13. Pick one developing country from the dataset and try Q12. Compare results with those from Q12 and justify."
      ]
    },
    {
      "cell_type": "code",
      "execution_count": null,
      "metadata": {
        "id": "FK9rGiqiN1Uz"
      },
      "outputs": [],
      "source": [
        "#Write your code ehre"
      ]
    }
  ],
  "metadata": {
    "colab": {
      "provenance": []
    },
    "kernelspec": {
      "display_name": "Python 3",
      "language": "python",
      "name": "python3"
    },
    "language_info": {
      "codemirror_mode": {
        "name": "ipython",
        "version": 3
      },
      "file_extension": ".py",
      "mimetype": "text/x-python",
      "name": "python",
      "nbconvert_exporter": "python",
      "pygments_lexer": "ipython3",
      "version": "3.9.19"
    }
  },
  "nbformat": 4,
  "nbformat_minor": 0
}
