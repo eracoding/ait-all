{
  "cells": [
    {
      "cell_type": "markdown",
      "metadata": {
        "heading_collapsed": true,
        "id": "xlTMsace7QFy"
      },
      "source": [
        "# Activity Instructions"
      ]
    },
    {
      "cell_type": "markdown",
      "metadata": {
        "hidden": true,
        "id": "VuPLYD0m7QFy"
      },
      "source": [
        "Form a group of 2 people. Complete both problems. Take turns and help each other the different tasks!\n",
        "\n",
        "This should take you no more than **15 minutes** (likely less than that!)\n",
        "\n",
        "Remember you can ask for advice/help!"
      ]
    },
    {
      "cell_type": "markdown",
      "metadata": {
        "heading_collapsed": true,
        "hidden": true,
        "id": "sLCsC4LG7QFz"
      },
      "source": [
        "## Tasks"
      ]
    },
    {
      "cell_type": "markdown",
      "metadata": {
        "heading_collapsed": true,
        "hidden": true,
        "id": "NK9ce4Kj7QF1"
      },
      "source": [
        "###1. Create a 3D array where the values represent the number of days in the month and each row represents the following months of year 1000 AD.\n",
        "\n",
        "* 1st row: Jan-Apr\n",
        "* 2nd row: May-Aug\n",
        "* 3rd row: Sept-Dec"
      ]
    },
    {
      "cell_type": "code",
      "execution_count": 5,
      "metadata": {
        "hidden": true,
        "id": "rPJU76lo7QF1",
        "colab": {
          "base_uri": "https://localhost:8080/"
        },
        "outputId": "c7948094-03ef-4cc1-84c4-ec95032fbb35"
      },
      "outputs": [
        {
          "output_type": "stream",
          "name": "stdout",
          "text": [
            "[[[31]\n",
            "  [28]\n",
            "  [31]\n",
            "  [30]]\n",
            "\n",
            " [[31]\n",
            "  [30]\n",
            "  [31]\n",
            "  [31]]\n",
            "\n",
            " [[30]\n",
            "  [31]\n",
            "  [30]\n",
            "  [31]]]\n"
          ]
        }
      ],
      "source": [
        "#TODO\n",
        "import numpy as np\n",
        "array = np.array([31, 28, 31, 30, 31, 30, 31, 31, 30, 31, 30, 31])\n",
        "\n",
        "month_array = array.reshape(3, 4, 1)\n",
        "print(month_array)"
      ]
    },
    {
      "cell_type": "markdown",
      "source": [
        "###2. Use Leibniz’s formula to calculate $\\pi$. The formula is\n",
        "$\\pi = 4 \\cdot \\left(1 - \\frac{1}{3} + \\frac{1}{5} - \\frac{1}{7} + \\frac{1}{9} - \\frac{1}{11} + \\dots\\right)$\n",
        "\n",
        "Though some math is needed to establish this, we can use arrays to convince ourselves that the formula works. Let’s calculate the first 5000 terms of Leibniz’s infinite sum and see if it is close to $\\pi$.\n",
        "\n",
        "$\\pi = 4 \\cdot \\left(1 - \\frac{1}{3} + \\frac{1}{5} - \\frac{1}{7} + \\frac{1}{9} - \\frac{1}{11} + \\dots - \\frac{1}{9999} \\right)$\n",
        "\n",
        "Hint: Use arange.\n"
      ],
      "metadata": {
        "id": "IILXcfj474VO"
      }
    },
    {
      "cell_type": "code",
      "source": [
        "#Todo\n",
        "rng = np.arange(1, 10000, 2)\n",
        "\n",
        "min_range = (-1) ** np.arange(5000)\n",
        "\n",
        "leibniz = min_range / rng\n",
        "\n",
        "pi = 4 * np.sum(leibniz)\n",
        "pi"
      ],
      "metadata": {
        "id": "_mdaViqa9gZS",
        "colab": {
          "base_uri": "https://localhost:8080/"
        },
        "outputId": "ba9a72db-90f6-4077-84d3-82f3d2404afc"
      },
      "execution_count": 14,
      "outputs": [
        {
          "output_type": "execute_result",
          "data": {
            "text/plain": [
              "3.1413926535917924"
            ]
          },
          "metadata": {},
          "execution_count": 14
        }
      ]
    },
    {
      "cell_type": "markdown",
      "metadata": {
        "heading_collapsed": true,
        "id": "H5Fz9Um27QF1"
      },
      "source": [
        "# Resources"
      ]
    },
    {
      "cell_type": "markdown",
      "metadata": {
        "hidden": true,
        "id": "cJmi7PYg7QF1"
      },
      "source": [
        "* https://jakevdp.github.io/PythonDataScienceHandbook\n",
        "    + Introduction to NumPy\n",
        "* Google 😄"
      ]
    }
  ],
  "metadata": {
    "kernelspec": {
      "display_name": "Python 3",
      "language": "python",
      "name": "python3"
    },
    "language_info": {
      "codemirror_mode": {
        "name": "ipython",
        "version": 3
      },
      "file_extension": ".py",
      "mimetype": "text/x-python",
      "name": "python",
      "nbconvert_exporter": "python",
      "pygments_lexer": "ipython3",
      "version": "3.8.5"
    },
    "toc": {
      "base_numbering": 1,
      "nav_menu": {},
      "number_sections": true,
      "sideBar": false,
      "skip_h1_title": false,
      "title_cell": "Table of Contents",
      "title_sidebar": "Contents",
      "toc_cell": true,
      "toc_position": {},
      "toc_section_display": false,
      "toc_window_display": false
    },
    "varInspector": {
      "cols": {
        "lenName": 16,
        "lenType": 16,
        "lenVar": 40
      },
      "kernels_config": {
        "python": {
          "delete_cmd_postfix": "",
          "delete_cmd_prefix": "del ",
          "library": "var_list.py",
          "varRefreshCmd": "print(var_dic_list())"
        },
        "r": {
          "delete_cmd_postfix": ") ",
          "delete_cmd_prefix": "rm(",
          "library": "var_list.r",
          "varRefreshCmd": "cat(var_dic_list()) "
        }
      },
      "types_to_exclude": [
        "module",
        "function",
        "builtin_function_or_method",
        "instance",
        "_Feature"
      ],
      "window_display": false
    },
    "colab": {
      "provenance": []
    }
  },
  "nbformat": 4,
  "nbformat_minor": 0
}