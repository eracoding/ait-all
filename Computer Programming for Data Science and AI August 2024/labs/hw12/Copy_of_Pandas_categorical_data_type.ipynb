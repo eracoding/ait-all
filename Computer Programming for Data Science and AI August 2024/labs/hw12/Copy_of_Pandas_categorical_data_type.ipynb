{
  "nbformat": 4,
  "nbformat_minor": 0,
  "metadata": {
    "colab": {
      "provenance": []
    },
    "kernelspec": {
      "name": "python3",
      "display_name": "Python 3"
    },
    "language_info": {
      "name": "python"
    }
  },
  "cells": [
    {
      "cell_type": "markdown",
      "source": [
        "#Benefits of Pandas' categorical data type. (ref: https://safjan.com/)"
      ],
      "metadata": {
        "id": "OVltMg0EW_Ic"
      }
    },
    {
      "cell_type": "markdown",
      "source": [
        "## 1. Memory efficiency"
      ],
      "metadata": {
        "id": "ZfxqQNj1W0jo"
      }
    },
    {
      "cell_type": "code",
      "execution_count": null,
      "metadata": {
        "id": "ZPLTPmW4V96n"
      },
      "outputs": [],
      "source": [
        "import pandas as pd\n",
        "import numpy as np"
      ]
    },
    {
      "cell_type": "code",
      "source": [
        "# Create a large DataFrame with repeated values\n",
        "df = pd.DataFrame({'status': np.random.choice(['active', 'inactive', 'pending'], 1000000)})\n",
        "\n",
        "# Compare memory usage\n",
        "print(f\"String dtype: {df['status'].memory_usage(deep=True) / 1e6:.2f} MB\")\n",
        "print(f\"Categorical dtype: {df['status'].astype('category').memory_usage(deep=True) / 1e6:.2f} MB\")"
      ],
      "metadata": {
        "colab": {
          "base_uri": "https://localhost:8080/"
        },
        "id": "RQmKC5znWFyH",
        "outputId": "a9120e74-e194-4094-a692-987c78583565"
      },
      "execution_count": null,
      "outputs": [
        {
          "output_type": "stream",
          "name": "stdout",
          "text": [
            "String dtype: 64.00 MB\n",
            "Categorical dtype: 1.00 MB\n"
          ]
        }
      ]
    },
    {
      "cell_type": "markdown",
      "source": [
        "##2. Improved performance"
      ],
      "metadata": {
        "id": "whRqzpXzXM9H"
      }
    },
    {
      "cell_type": "code",
      "source": [
        "import time\n",
        "\n",
        "# Create a large DataFrame with repeated values\n",
        "df = pd.DataFrame({'color': np.random.choice(['red', 'green', 'blue', 'yellow'], 1000000)})\n",
        "\n",
        "# Compare performance for value_counts()\n",
        "start = time.time()\n",
        "df['color'].value_counts()\n",
        "print(f\"String dtype: {time.time() - start:.4f} seconds\")\n",
        "\n",
        "df['color'] = df['color'].astype('category')\n",
        "start = time.time()\n",
        "df['color'].value_counts()\n",
        "print(f\"Categorical dtype: {time.time() - start:.4f} seconds\")"
      ],
      "metadata": {
        "colab": {
          "base_uri": "https://localhost:8080/"
        },
        "id": "XRtmEjmPW-T8",
        "outputId": "c59c928b-6512-400d-fc49-d158cb6aacaf"
      },
      "execution_count": null,
      "outputs": [
        {
          "output_type": "stream",
          "name": "stdout",
          "text": [
            "String dtype: 0.1056 seconds\n",
            "Categorical dtype: 0.0045 seconds\n"
          ]
        }
      ]
    },
    {
      "cell_type": "markdown",
      "source": [
        "###3. Can create a meaningful order."
      ],
      "metadata": {
        "id": "K4n3R1D-Yf3H"
      }
    },
    {
      "cell_type": "markdown",
      "source": [],
      "metadata": {
        "id": "REPY84ZAW8uU"
      }
    },
    {
      "cell_type": "code",
      "source": [
        "import matplotlib.pyplot as plt\n",
        "df = pd.DataFrame({'size': ['small', 'medium', 'large', 'small', 'large', 'medium']})\n",
        "print(df.sort_values)\n",
        "# Create an ordered categorical column\n",
        "df['size_cat'] = pd.Categorical(df['size'], categories=['small', 'medium', 'large'], ordered=True)\n",
        "\n",
        "# Sort by the categorical column\n",
        "#print(df.sort_values('size_cat'))\n",
        "\n",
        "# Plot with a meaningful order\n",
        "df['size_cat'].value_counts().plot(kind='bar')\n",
        "plt.show()"
      ],
      "metadata": {
        "colab": {
          "base_uri": "https://localhost:8080/",
          "height": 615
        },
        "id": "CX9iFHIoWYLN",
        "outputId": "50890e2f-fa74-4619-ee4f-66d3d92b1bee"
      },
      "execution_count": null,
      "outputs": [
        {
          "output_type": "stream",
          "name": "stdout",
          "text": [
            "<bound method DataFrame.sort_values of      size\n",
            "0   small\n",
            "1  medium\n",
            "2   large\n",
            "3   small\n",
            "4   large\n",
            "5  medium>\n"
          ]
        },
        {
          "output_type": "display_data",
          "data": {
            "text/plain": [
              "<Figure size 640x480 with 1 Axes>"
            ],
            "image/png": "[encoded data removed]"
          },
          "metadata": {}
        }
      ]
    },
    {
      "cell_type": "markdown",
      "source": [
        "##4. **Type safety**: Categorical data ensures that only predefined categories can be assigned, preventing data entry errors."
      ],
      "metadata": {
        "id": "OTPg5JBkYsU7"
      }
    },
    {
      "cell_type": "code",
      "source": [
        "df = pd.DataFrame({'fruit': ['apple', 'banana', 'cherry']})\n",
        "#df['fruit'] = pd.Categorical(df['fruit'], categories=['apple', 'banana', 'cherry'])\n",
        "\n",
        "df.loc[3,'fruit'] = 'orange'\n",
        "print(df)\n"
      ],
      "metadata": {
        "colab": {
          "base_uri": "https://localhost:8080/"
        },
        "id": "Hdix80UOX2VS",
        "outputId": "b6b0f06c-ccf3-4a5e-bfc1-fd5c621eca8f"
      },
      "execution_count": null,
      "outputs": [
        {
          "output_type": "stream",
          "name": "stdout",
          "text": [
            "    fruit\n",
            "0   apple\n",
            "1  banana\n",
            "2  cherry\n",
            "3  orange\n"
          ]
        }
      ]
    },
    {
      "cell_type": "markdown",
      "source": [
        "##5. Improved groupby operations"
      ],
      "metadata": {
        "id": "Yq3xgqKHZzZG"
      }
    },
    {
      "cell_type": "code",
      "source": [
        "# Create a large DataFrame with repeated values\n",
        "df = pd.DataFrame({\n",
        "    'group': np.random.choice(['A', 'B', 'C', 'D', 'E'], 1000000),\n",
        "    'value': np.random.randn(1000000)\n",
        "})\n",
        "\n",
        "# Compare performance for groupby operation\n",
        "start = time.time()\n",
        "df.groupby('group')['value'].mean()\n",
        "print(f\"String dtype: {time.time() - start:.4f} seconds\")\n",
        "\n",
        "df['group'] = df['group'].astype('category')\n",
        "start = time.time()\n",
        "df.groupby('group')['value'].mean()\n",
        "print(f\"Categorical dtype: {time.time() - start:.4f} seconds\")"
      ],
      "metadata": {
        "colab": {
          "base_uri": "https://localhost:8080/"
        },
        "id": "UcZP7Qu6Y-VQ",
        "outputId": "09cc4332-fa93-4068-ce0f-87dd8bd62ee5"
      },
      "execution_count": null,
      "outputs": [
        {
          "output_type": "stream",
          "name": "stdout",
          "text": [
            "String dtype: 0.0811 seconds\n",
            "Categorical dtype: 0.0118 seconds\n"
          ]
        },
        {
          "output_type": "stream",
          "name": "stderr",
          "text": [
            "<ipython-input-7-fae6984682f0>:14: FutureWarning: The default of observed=False is deprecated and will be changed to True in a future version of pandas. Pass observed=False to retain current behavior or observed=True to adopt the future default and silence this warning.\n",
            "  df.groupby('group')['value'].mean()\n"
          ]
        }
      ]
    },
    {
      "cell_type": "code",
      "source": [
        "df = pd.DataFrame({'A': [1, 2], 'B': [3.1, 4.2]})\n",
        "df.attrs = {\"A\": \"Integer\", \"B\":\"Float\"}\n",
        "df.attrs"
      ],
      "metadata": {
        "colab": {
          "base_uri": "https://localhost:8080/"
        },
        "id": "JmgjLmpzZ498",
        "outputId": "6dd7e6b4-28ea-4f31-c3b0-209f8539d37f"
      },
      "execution_count": null,
      "outputs": [
        {
          "output_type": "execute_result",
          "data": {
            "text/plain": [
              "{'A': 'Integer', 'B': 'Float'}"
            ]
          },
          "metadata": {},
          "execution_count": 26
        }
      ]
    },
    {
      "cell_type": "code",
      "source": [],
      "metadata": {
        "id": "nVhtRi5EcIjN"
      },
      "execution_count": null,
      "outputs": []
    }
  ]
}