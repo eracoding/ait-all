{
  "cells": [
    {
      "cell_type": "code",
      "execution_count": 2,
      "metadata": {
        "id": "15KNBJmUujkQ"
      },
      "outputs": [],
      "source": [
        "import numpy as np\n",
        "import pandas as pd"
      ]
    },
    {
      "cell_type": "code",
      "execution_count": 30,
      "metadata": {
        "id": "D88Zmsnsuyxq"
      },
      "outputs": [],
      "source": [
        "NN = 5000 #Number of trials\n",
        "Lambda = 1 #Average number of failed equipment (per hour), the arrival time is exponentially distributed\n",
        "\n",
        "R_interval =np.zeros(NN)\n",
        "I_interval =np.zeros(NN)\n",
        "A_interval =np.zeros(NN)\n",
        "X_inverval =np.zeros(NN)\n",
        "count = 0\n",
        "sx = 0"
      ]
    },
    {
      "cell_type": "code",
      "execution_count": 40,
      "metadata": {
        "colab": {
          "base_uri": "https://localhost:8080/"
        },
        "id": "aiFQd2uzvkzy",
        "outputId": "5645d11b-fe93-4fbc-9833-4e1bf1fa0133"
      },
      "outputs": [
        {
          "name": "stdout",
          "output_type": "stream",
          "text": [
            "Average waiting time (R)= 33.86 mins\n",
            "Average interval time (I)= 66.79 mins\n",
            "Average age (A)= 32.93 mins\n",
            "Average duration (X)= 12.87 mins\n"
          ]
        }
      ],
      "source": [
        "for i in range(NN):\n",
        "  ss = 0\n",
        "  TT = -1000*np.log(1-np.random.rand(1))\n",
        "\n",
        "  while (ss<TT):\n",
        "    # x = np.random.exponential(1/Lambda) #Exponential RV\n",
        "    U=np.random.rand(1)\n",
        "    x = 40 if U < 0.5 else 80\n",
        "    ss = ss + x\n",
        "    count += 1\n",
        "\n",
        "  R_interval[i] = ss - TT[0]\n",
        "  I_interval[i] = x\n",
        "  A_interval[i] = TT[0] - (ss - x)\n",
        "  X_inverval[i] = ss\n",
        "\n",
        "print('Average waiting time (R)= %.2f mins' % R_interval.mean())\n",
        "print('Average interval time (I)= %.2f mins' %I_interval.mean())\n",
        "print('Average age (A)= %.2f mins' %A_interval.mean())\n",
        "print('Average duration (X)= %.2f mins' %(X_inverval.sum()/count))"
      ]
    }
  ],
  "metadata": {
    "colab": {
      "provenance": []
    },
    "kernelspec": {
      "display_name": "Python 3",
      "name": "python3"
    },
    "language_info": {
      "codemirror_mode": {
        "name": "ipython",
        "version": 3
      },
      "file_extension": ".py",
      "mimetype": "text/x-python",
      "name": "python",
      "nbconvert_exporter": "python",
      "pygments_lexer": "ipython3",
      "version": "3.9.19"
    }
  },
  "nbformat": 4,
  "nbformat_minor": 0
}
