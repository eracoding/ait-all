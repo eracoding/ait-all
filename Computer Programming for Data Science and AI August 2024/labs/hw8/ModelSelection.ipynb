{
  "cells": [
    {
      "cell_type": "code",
      "execution_count": null,
      "metadata": {
        "id": "k805NnEtlByj"
      },
      "outputs": [],
      "source": [
        "from sklearn.datasets import load_breast_cancer\n",
        "from sklearn.preprocessing import scale\n",
        "from sklearn.model_selection import train_test_split\n",
        "import numpy as np\n",
        "import pandas as pd\n",
        "from sklearn.metrics import euclidean_distances\n",
        "from sklearn.neighbors import KNeighborsClassifier"
      ]
    },
    {
      "cell_type": "code",
      "execution_count": null,
      "metadata": {
        "id": "sb_r7bUJrHGq"
      },
      "outputs": [],
      "source": [
        "data = load_breast_cancer()\n",
        "X, y = data.data, data.target\n",
        "X = scale(X)\n",
        "\n",
        "X_train, X_test, y_train, y_test = train_test_split(X, y)"
      ]
    },
    {
      "cell_type": "markdown",
      "metadata": {
        "id": "dVXXneP9q53e"
      },
      "source": [
        "Threefold split for Hyper-Parameters"
      ]
    },
    {
      "cell_type": "code",
      "execution_count": null,
      "metadata": {
        "id": "vchOSsBJrRYh"
      },
      "outputs": [],
      "source": [
        "data = load_breast_cancer()\n",
        "X, y = data.data, data.target\n",
        "X = scale(X)\n",
        "\n",
        "X_trainval, X_test, y_trainval, y_test = train_test_split(X, y)\n",
        "X_train, X_val, y_train, y_val = train_test_split(X_trainval, y_trainval)"
      ]
    },
    {
      "cell_type": "code",
      "execution_count": null,
      "metadata": {
        "colab": {
          "base_uri": "https://localhost:8080/"
        },
        "id": "N_EUkvkfqyE6",
        "outputId": "a4111850-2e69-4c22-d407-a4dcd7483736"
      },
      "outputs": [
        {
          "output_type": "stream",
          "name": "stdout",
          "text": [
            "best validation score: 0.981\n",
            "best n_neighbors: 11\n",
            "test-set score: 0.965\n"
          ]
        }
      ],
      "source": [
        "val_scores = []\n",
        "neighbors = np.arange(1, 15, 2)\n",
        "for i in neighbors:\n",
        "    knn = KNeighborsClassifier(n_neighbors=i)\n",
        "    knn.fit(X_train, y_train)\n",
        "    val_scores.append(knn.score(X_val, y_val))\n",
        "print(\"best validation score: {:.3f}\".format(np.max(val_scores)))\n",
        "best_n_neighbors = neighbors[np.argmax(val_scores)]\n",
        "print(\"best n_neighbors: {}\".format(best_n_neighbors))\n",
        "\n",
        "knn = KNeighborsClassifier(n_neighbors=best_n_neighbors)\n",
        "knn.fit(X_trainval, y_trainval)\n",
        "print(\"test-set score: {:.3f}\".format(knn.score(X_test, y_test)))"
      ]
    },
    {
      "cell_type": "code",
      "execution_count": null,
      "metadata": {
        "colab": {
          "base_uri": "https://localhost:8080/",
          "height": 467
        },
        "id": "39NLBxlwrsJF",
        "outputId": "7c187ed9-1987-44ef-ce87-20203c70b3fc"
      },
      "outputs": [
        {
          "output_type": "execute_result",
          "data": {
            "text/plain": [
              "Text(0, 0.5, 'validation accuracy')"
            ]
          },
          "metadata": {},
          "execution_count": 7
        },
        {
          "output_type": "display_data",
          "data": {
            "text/plain": [
              "<Figure size 640x480 with 1 Axes>"
            ],
            "image/png": "[encoded data removed]"
          },
          "metadata": {}
        }
      ],
      "source": [
        "import matplotlib.pyplot as plt\n",
        "plt.plot(neighbors, val_scores)\n",
        "plt.xlabel(\"n_neighbors\")\n",
        "plt.ylabel(\"validation accuracy\")"
      ]
    },
    {
      "cell_type": "markdown",
      "metadata": {
        "id": "Y8FM45jO1gq-"
      },
      "source": [
        "Grid-Search with Cross-Validation"
      ]
    },
    {
      "cell_type": "code",
      "execution_count": null,
      "metadata": {
        "colab": {
          "base_uri": "https://localhost:8080/"
        },
        "id": "Vg6lVEs61ft8",
        "outputId": "458d87a2-ba07-447f-c517-d07da0b51805"
      },
      "outputs": [
        {
          "output_type": "stream",
          "name": "stdout",
          "text": [
            "best cross-validation score: 0.953\n",
            "best n_neighbors: 3\n",
            "test-set score: 0.979\n"
          ]
        }
      ],
      "source": [
        "from sklearn.model_selection import cross_val_score\n",
        "\n",
        "X_train, X_test, y_train, y_test = train_test_split(X, y)\n",
        "\n",
        "cross_val_scores = []\n",
        "neighbors = np.arange(1, 5, 2)\n",
        "\n",
        "for i in neighbors:\n",
        "    knn = KNeighborsClassifier(n_neighbors=i)\n",
        "    scores = cross_val_score(knn, X_train, y_train, cv=10)\n",
        "    cross_val_scores.append(np.mean(scores))\n",
        "\n",
        "print(\"best cross-validation score: {:.3f}\".format(np.max(cross_val_scores)))\n",
        "best_n_neighbors = neighbors[np.argmax(cross_val_scores)]\n",
        "print(\"best n_neighbors: {}\".format(best_n_neighbors))\n",
        "\n",
        "knn = KNeighborsClassifier(n_neighbors=best_n_neighbors)\n",
        "knn.fit(X_train, y_train)\n",
        "print(\"test-set score: {:.3f}\".format(knn.score(X_test, y_test)))"
      ]
    },
    {
      "cell_type": "markdown",
      "metadata": {
        "id": "IsWBRVmcne13"
      },
      "source": [
        "GridSearchCV"
      ]
    },
    {
      "cell_type": "code",
      "execution_count": null,
      "metadata": {
        "id": "PYvWTBXTlCy5"
      },
      "outputs": [],
      "source": [
        "from sklearn.datasets import load_breast_cancer\n",
        "from sklearn.preprocessing import scale\n",
        "from sklearn.model_selection import train_test_split\n",
        "import numpy as np\n",
        "import pandas as pd\n",
        "from sklearn.metrics import euclidean_distances\n",
        "from sklearn.neighbors import KNeighborsClassifier"
      ]
    },
    {
      "cell_type": "code",
      "execution_count": null,
      "metadata": {
        "colab": {
          "base_uri": "https://localhost:8080/"
        },
        "id": "ctAKfGf6k5oU",
        "outputId": "b9256fdd-d9e9-46b9-fb94-c9e84ebc4071"
      },
      "outputs": [
        {
          "output_type": "stream",
          "name": "stdout",
          "text": [
            "best mean cross-validation score: 0.972\n",
            "best parameters: {'n_neighbors': 7}\n",
            "test-set score: 0.965\n"
          ]
        },
        {
          "output_type": "stream",
          "name": "stderr",
          "text": [
            "/usr/local/lib/python3.10/dist-packages/numpy/ma/core.py:2820: RuntimeWarning: invalid value encountered in cast\n",
            "  _data = np.array(data, dtype=dtype, copy=copy,\n"
          ]
        }
      ],
      "source": [
        "from sklearn.model_selection import GridSearchCV\n",
        "\n",
        "data = load_breast_cancer()\n",
        "X, y = data.data, data.target\n",
        "X = scale(X)\n",
        "\n",
        "X_train, X_test, y_train, y_test = train_test_split(X, y)\n",
        "\n",
        "\n",
        "param_grid = {'n_neighbors':  np.arange(1, 30, 2)}\n",
        "grid = GridSearchCV(KNeighborsClassifier(), param_grid=param_grid, cv=10, return_train_score=True)\n",
        "grid.fit(X_train, y_train)\n",
        "\n",
        "print(\"best mean cross-validation score: {:.3f}\".format(grid.best_score_))\n",
        "print(\"best parameters: {}\".format(grid.best_params_))\n",
        "\n",
        "print(\"test-set score: {:.3f}\".format(grid.score(X_test, y_test)))\n"
      ]
    },
    {
      "cell_type": "code",
      "execution_count": null,
      "metadata": {
        "colab": {
          "base_uri": "https://localhost:8080/"
        },
        "id": "WIpX0RY1l0Yx",
        "outputId": "dd49af07-07b8-4a98-a362-556873293b75"
      },
      "outputs": [
        {
          "output_type": "stream",
          "name": "stdout",
          "text": [
            "(15, 31)\n"
          ]
        }
      ],
      "source": [
        "import pandas as pd\n",
        "results = pd.DataFrame(grid.cv_results_)\n",
        "print(results.shape)"
      ]
    },
    {
      "cell_type": "code",
      "execution_count": null,
      "metadata": {
        "colab": {
          "base_uri": "https://localhost:8080/"
        },
        "id": "BLJ5kk_XxpLP",
        "outputId": "51728f33-bbd0-4df7-daf0-356a5b272d1e"
      },
      "outputs": [
        {
          "output_type": "execute_result",
          "data": {
            "text/plain": [
              "Index(['mean_fit_time', 'std_fit_time', 'mean_score_time', 'std_score_time',\n",
              "       'param_n_neighbors', 'params', 'split0_test_score', 'split1_test_score',\n",
              "       'split2_test_score', 'split3_test_score', 'split4_test_score',\n",
              "       'split5_test_score', 'split6_test_score', 'split7_test_score',\n",
              "       'split8_test_score', 'split9_test_score', 'mean_test_score',\n",
              "       'std_test_score', 'rank_test_score', 'split0_train_score',\n",
              "       'split1_train_score', 'split2_train_score', 'split3_train_score',\n",
              "       'split4_train_score', 'split5_train_score', 'split6_train_score',\n",
              "       'split7_train_score', 'split8_train_score', 'split9_train_score',\n",
              "       'mean_train_score', 'std_train_score'],\n",
              "      dtype='object')"
            ]
          },
          "metadata": {},
          "execution_count": 13
        }
      ],
      "source": [
        "results.columns"
      ]
    },
    {
      "cell_type": "code",
      "execution_count": null,
      "metadata": {
        "colab": {
          "base_uri": "https://localhost:8080/",
          "height": 554
        },
        "id": "al8GQRVbwWsb",
        "outputId": "ea0547eb-d2c4-4001-f78e-b448dfdfa66e"
      },
      "outputs": [
        {
          "output_type": "execute_result",
          "data": {
            "text/plain": [
              "0     0.930233\n",
              "1     0.930233\n",
              "2     0.953488\n",
              "3     0.930233\n",
              "4     0.930233\n",
              "5     0.930233\n",
              "6     0.906977\n",
              "7     0.930233\n",
              "8     0.906977\n",
              "9     0.930233\n",
              "10    0.930233\n",
              "11    0.930233\n",
              "12    0.930233\n",
              "13    0.930233\n",
              "14    0.930233\n",
              "Name: split0_test_score, dtype: float64"
            ],
            "text/html": [
              "<div>\n",
              "<style scoped>\n",
              "    .dataframe tbody tr th:only-of-type {\n",
              "        vertical-align: middle;\n",
              "    }\n",
              "\n",
              "    .dataframe tbody tr th {\n",
              "        vertical-align: top;\n",
              "    }\n",
              "\n",
              "    .dataframe thead th {\n",
              "        text-align: right;\n",
              "    }\n",
              "</style>\n",
              "<table border=\"1\" class=\"dataframe\">\n",
              "  <thead>\n",
              "    <tr style=\"text-align: right;\">\n",
              "      <th></th>\n",
              "      <th>split0_test_score</th>\n",
              "    </tr>\n",
              "  </thead>\n",
              "  <tbody>\n",
              "    <tr>\n",
              "      <th>0</th>\n",
              "      <td>0.930233</td>\n",
              "    </tr>\n",
              "    <tr>\n",
              "      <th>1</th>\n",
              "      <td>0.930233</td>\n",
              "    </tr>\n",
              "    <tr>\n",
              "      <th>2</th>\n",
              "      <td>0.953488</td>\n",
              "    </tr>\n",
              "    <tr>\n",
              "      <th>3</th>\n",
              "      <td>0.930233</td>\n",
              "    </tr>\n",
              "    <tr>\n",
              "      <th>4</th>\n",
              "      <td>0.930233</td>\n",
              "    </tr>\n",
              "    <tr>\n",
              "      <th>5</th>\n",
              "      <td>0.930233</td>\n",
              "    </tr>\n",
              "    <tr>\n",
              "      <th>6</th>\n",
              "      <td>0.906977</td>\n",
              "    </tr>\n",
              "    <tr>\n",
              "      <th>7</th>\n",
              "      <td>0.930233</td>\n",
              "    </tr>\n",
              "    <tr>\n",
              "      <th>8</th>\n",
              "      <td>0.906977</td>\n",
              "    </tr>\n",
              "    <tr>\n",
              "      <th>9</th>\n",
              "      <td>0.930233</td>\n",
              "    </tr>\n",
              "    <tr>\n",
              "      <th>10</th>\n",
              "      <td>0.930233</td>\n",
              "    </tr>\n",
              "    <tr>\n",
              "      <th>11</th>\n",
              "      <td>0.930233</td>\n",
              "    </tr>\n",
              "    <tr>\n",
              "      <th>12</th>\n",
              "      <td>0.930233</td>\n",
              "    </tr>\n",
              "    <tr>\n",
              "      <th>13</th>\n",
              "      <td>0.930233</td>\n",
              "    </tr>\n",
              "    <tr>\n",
              "      <th>14</th>\n",
              "      <td>0.930233</td>\n",
              "    </tr>\n",
              "  </tbody>\n",
              "</table>\n",
              "</div><br><label><b>dtype:</b> float64</label>"
            ]
          },
          "metadata": {},
          "execution_count": 11
        }
      ],
      "source": [
        "results['split0_test_score']"
      ]
    },
    {
      "cell_type": "code",
      "execution_count": null,
      "metadata": {
        "id": "xec5ASlKn9C3"
      },
      "outputs": [],
      "source": [
        "import matplotlib.pyplot as plt\n",
        "from matplotlib import colors\n",
        "\n",
        "%matplotlib inline\n",
        "#plt.rcParams['image.cmap'] = \"bwr\"\n",
        "#plt.rcParams['figure.dpi'] = \"300\"\n",
        "\n"
      ]
    },
    {
      "cell_type": "code",
      "execution_count": null,
      "metadata": {
        "colab": {
          "base_uri": "https://localhost:8080/",
          "height": 485
        },
        "id": "dT0ueA7Gl1H6",
        "outputId": "54c2987b-b7d0-4c40-db76-4b36f6552742"
      },
      "outputs": [
        {
          "output_type": "execute_result",
          "data": {
            "text/plain": [
              "<matplotlib.legend.Legend at 0x789e03d68490>"
            ]
          },
          "metadata": {},
          "execution_count": 15
        },
        {
          "output_type": "display_data",
          "data": {
            "text/plain": [
              "<Figure size 800x200 with 0 Axes>"
            ]
          },
          "metadata": {}
        },
        {
          "output_type": "display_data",
          "data": {
            "text/plain": [
              "<Figure size 640x480 with 1 Axes>"
            ],
            "image/png": "[encoded data removed]"
          },
          "metadata": {}
        }
      ],
      "source": [
        "plt.figure(figsize=(8, 2))\n",
        "\n",
        "results.plot('param_n_neighbors', 'mean_train_score')\n",
        "results.plot('param_n_neighbors', 'mean_test_score', ax=plt.gca())\n",
        "plt.fill_between(results.param_n_neighbors.astype(int),\n",
        "                 results['mean_train_score'] + results['std_train_score'],\n",
        "                 results['mean_train_score'] - results['std_train_score'], alpha=0.2)\n",
        "plt.fill_between(results.param_n_neighbors.astype(int),\n",
        "                 results['mean_test_score'] + results['std_test_score'],\n",
        "                 results['mean_test_score'] - results['std_test_score'], alpha=0.2)\n",
        "plt.legend()\n",
        "#plt.savefig(\"grid_search_n_neighbors.png\", bbox_inches='tight')\n"
      ]
    },
    {
      "cell_type": "code",
      "execution_count": null,
      "metadata": {
        "id": "NTJqtmmWopSD"
      },
      "outputs": [],
      "source": []
    }
  ],
  "metadata": {
    "colab": {
      "provenance": []
    },
    "kernelspec": {
      "display_name": "Python 3",
      "name": "python3"
    },
    "language_info": {
      "name": "python"
    }
  },
  "nbformat": 4,
  "nbformat_minor": 0
}